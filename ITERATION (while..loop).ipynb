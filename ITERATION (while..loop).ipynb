{
  "nbformat": 4,
  "nbformat_minor": 0,
  "metadata": {
    "colab": {
      "provenance": [],
      "authorship_tag": "ABX9TyNtEfOWiV6xAe4+I1Dn5JMk",
      "include_colab_link": true
    },
    "kernelspec": {
      "name": "python3",
      "display_name": "Python 3"
    },
    "language_info": {
      "name": "python"
    }
  },
  "cells": [
    {
      "cell_type": "markdown",
      "metadata": {
        "id": "view-in-github",
        "colab_type": "text"
      },
      "source": [
        "<a href=\"https://colab.research.google.com/github/Prasad3617/Python_Practice/blob/main/ITERATION%20(while..loop).ipynb\" target=\"_parent\"><img src=\"https://colab.research.google.com/assets/colab-badge.svg\" alt=\"Open In Colab\"/></a>"
      ]
    },
    {
      "cell_type": "markdown",
      "source": [
        "# ITERATIVE STATEMENTS"
      ],
      "metadata": {
        "id": "T-qOQLWJ0LWY"
      }
    },
    {
      "cell_type": "markdown",
      "source": [
        "## * While loop"
      ],
      "metadata": {
        "id": "QPZPm7PZ9iqU"
      }
    },
    {
      "cell_type": "code",
      "source": [
        "#print a message '5' times\n",
        "\n",
        "count = 0\n",
        "while count<5:\n",
        "  print(\"Hi! \\n\")\n",
        "  count+=1\n",
        "\n",
        "print(\"Outside the while loop\")"
      ],
      "metadata": {
        "colab": {
          "base_uri": "https://localhost:8080/"
        },
        "id": "oT6q7A5c0UWF",
        "outputId": "912805cc-b319-43bd-e885-9f391307ce93"
      },
      "execution_count": 5,
      "outputs": [
        {
          "output_type": "stream",
          "name": "stdout",
          "text": [
            "Hi! \n",
            "\n",
            "Hi! \n",
            "\n",
            "Hi! \n",
            "\n",
            "Hi! \n",
            "\n",
            "Hi! \n",
            "\n"
          ]
        }
      ]
    },
    {
      "cell_type": "markdown",
      "source": [
        "Printing a set of numbers from '0' to 'n', 'n' being taken as input from the user."
      ],
      "metadata": {
        "id": "1AAsiEC01aHM"
      }
    },
    {
      "cell_type": "code",
      "source": [
        "n=int(input(\"Enter a value of 'n' : \"))\n",
        "\n",
        "count1=0\n",
        "while count1<n:\n",
        "  print(count1,\"\\n\")\n",
        "  count1+=1\n",
        "\n",
        "print(\"The set of numbers are printed.\")"
      ],
      "metadata": {
        "colab": {
          "base_uri": "https://localhost:8080/"
        },
        "id": "GPZ098LK1mUN",
        "outputId": "305a8c3c-e5e0-46af-8e9f-a29db707126f"
      },
      "execution_count": 7,
      "outputs": [
        {
          "output_type": "stream",
          "name": "stdout",
          "text": [
            "Enter a value of 'n' : 5\n",
            "0 \n",
            "\n",
            "1 \n",
            "\n",
            "2 \n",
            "\n",
            "3 \n",
            "\n",
            "4 \n",
            "\n",
            "The set of numbers are printed.\n"
          ]
        }
      ]
    },
    {
      "cell_type": "markdown",
      "source": [
        "Printing the numbers in reverse order."
      ],
      "metadata": {
        "id": "Anzil8rh2eMm"
      }
    },
    {
      "cell_type": "code",
      "source": [
        "m=int(input(\"Enter the value of 'n' : \"))\n",
        "\n",
        "count2=m\n",
        "\n",
        "while count2>-1:\n",
        "  print(count2,\"\\n\")\n",
        "  count2-=1\n",
        "\n",
        "print(\"The numbers are arranged in reverse order.\")"
      ],
      "metadata": {
        "colab": {
          "base_uri": "https://localhost:8080/"
        },
        "id": "r3XuIK-12jBf",
        "outputId": "f32786b6-01a0-40f5-bb01-93ae7c6ad9c7"
      },
      "execution_count": 9,
      "outputs": [
        {
          "output_type": "stream",
          "name": "stdout",
          "text": [
            "Enter the value of 'n' : 9\n",
            "9 \n",
            "\n",
            "8 \n",
            "\n",
            "7 \n",
            "\n",
            "6 \n",
            "\n",
            "5 \n",
            "\n",
            "4 \n",
            "\n",
            "3 \n",
            "\n",
            "2 \n",
            "\n",
            "1 \n",
            "\n",
            "0 \n",
            "\n",
            "The numbers are arranged in reverse order.\n"
          ]
        }
      ]
    },
    {
      "cell_type": "markdown",
      "source": [
        "Calculating average of the numbers from '0' to 'n', 'n' being given as input from user."
      ],
      "metadata": {
        "id": "Eps7kE9y3T81"
      }
    },
    {
      "cell_type": "code",
      "source": [
        "print(\"Enter 'n' positive integers to calculate their average\")\n",
        "print(\"\\n\")\n",
        "n=int(input(\"Enter a value of 'n' : \"))\n",
        "print(\"\\n\")\n",
        "count = 0\n",
        "sum =0\n",
        "\n",
        "while count<n:\n",
        "  num=int(input(\"Enter a value: \"))\n",
        "  sum+=num\n",
        "  count+=1\n",
        "\n",
        "avg=sum/n\n",
        "print(\"\\n\")\n",
        "print(\"The average of the numbers ranging from '0' to the number you entered is:\", int(avg))"
      ],
      "metadata": {
        "colab": {
          "base_uri": "https://localhost:8080/"
        },
        "id": "FAfTY77g3f_P",
        "outputId": "182eaeba-81e6-4933-c234-629213678e9f"
      },
      "execution_count": 17,
      "outputs": [
        {
          "output_type": "stream",
          "name": "stdout",
          "text": [
            "Enter 'n' positive integers to calculate their average\n",
            "\n",
            "\n",
            "Enter a value of 'n' : 3\n",
            "\n",
            "\n",
            "Enter a value: 1\n",
            "Enter a value: 2\n",
            "Enter a value: 3\n",
            "\n",
            "\n",
            "The average of the numbers ranging from '0' to the number you entered is: 2\n"
          ]
        }
      ]
    }
  ]
}