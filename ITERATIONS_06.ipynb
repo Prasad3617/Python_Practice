{
  "nbformat": 4,
  "nbformat_minor": 0,
  "metadata": {
    "colab": {
      "provenance": [],
      "authorship_tag": "ABX9TyP40YlDIX2eR1E3mK4laqMx",
      "include_colab_link": true
    },
    "kernelspec": {
      "name": "python3",
      "display_name": "Python 3"
    },
    "language_info": {
      "name": "python"
    }
  },
  "cells": [
    {
      "cell_type": "markdown",
      "metadata": {
        "id": "view-in-github",
        "colab_type": "text"
      },
      "source": [
        "<a href=\"https://colab.research.google.com/github/Prasad3617/Python_Practice/blob/main/ITERATIONS_06.ipynb\" target=\"_parent\"><img src=\"https://colab.research.google.com/assets/colab-badge.svg\" alt=\"Open In Colab\"/></a>"
      ]
    },
    {
      "cell_type": "markdown",
      "source": [
        "# ITERATION\n",
        "### PALINDROME SEQUENCE"
      ],
      "metadata": {
        "id": "SJXvy0OQky_z"
      }
    },
    {
      "cell_type": "code",
      "source": [
        "# WRITE A PROGRAM TO CHECK WHETHER A SENTENCE, TAKEN INPUT FROM USER IS A MULTI-WORD PALINDROME OR NOT...\n",
        "\n",
        "print(\"'Multi-Word Palindromes' are the sentences which repeat the words involved.\\n\")       #describing what a multi-word palindrome is for the user.                           \n",
        "print(\"Examples include: 'go dog'\\n\")\n",
        "print(\"Take note 'spaces'  and any other 'punctuation marks' in the sentence aren't considered as in the example above.\\n\")\n",
        "\n",
        "sentence=input(\"Enter a sentence: \")           #taking input from the user for the sentence to check whether it is a \"multi-word\" palindrome or not.     \n",
        "print(\"\\n\")\n",
        "sentence1=sentence.replace(\" \", \"\")            #replacing the spaces involved in the input sentence for \"multi-word palindrome comparision.\"\n",
        "\n",
        "rev=sentence1[::-1]\n",
        "\n",
        "for i in range(len(sentence1)):                #The range of the 'for' loop is set to \"len(sentence)\" so that the loop runs across the sentence.\n",
        "  if rev!=sentence1:\n",
        "    print(\"The sentence: \"+str(sentence1)+\" isn't a multi-word palindroe!\")\n",
        "    break\n",
        "  else:\n",
        "    print(\"The sentence: \"+str(sentence1)+\" is a multi-word palindrome!\")\n",
        "    break"
      ],
      "metadata": {
        "colab": {
          "base_uri": "https://localhost:8080/"
        },
        "id": "FI940PpIuOc1",
        "outputId": "7e746a6b-d321-43c0-fc7a-d8eaa4b795c5"
      },
      "execution_count": 16,
      "outputs": [
        {
          "output_type": "stream",
          "name": "stdout",
          "text": [
            "'Multi-Word Palindromes' are the sentences which repeat the words involved.\n",
            "\n",
            "Examples include: 'go dog'\n",
            "\n",
            "Take note 'spaces'  and any other 'punctuation marks' in the sentence aren't considered as in the example above.\n",
            "\n",
            "Enter a sentence: go cats\n",
            "\n",
            "\n",
            "The sentence: gocats isn't a multi-word palindroe!\n"
          ]
        }
      ]
    },
    {
      "cell_type": "markdown",
      "source": [
        "### Binary Equivalent Calculator"
      ],
      "metadata": {
        "id": "5zrqWVtpthkq"
      }
    },
    {
      "cell_type": "code",
      "source": [
        "#A Programme to take input of a floating type integer and return its binary equivalent.\n",
        "\n",
        "print(\"Some of the examples of decimal or integer and their corresponding binary number are as follows: \\n\")\n",
        "print(\"For example: the binary form of the integer '5' is '101\")\n",
        "print(\"\\n\")\n",
        "\n",
        "r=int(input(\"Enter a positive (+ve) decimal number: \"))\n",
        "print(\"\\n\")\n",
        "\n",
        "r1=r                          #declaring a variable to perform iterations\n",
        "result = ''                   #declaring a variale for the result as the 'binary equivalent'\n",
        "                              #steps to calculate the binary equivalent of an integer.\n",
        "while r1!=0:\n",
        "  p=r1%2                       #collecting the 'remainder' for the 'binary equivalent' calculation\n",
        "  result+=str(p)              #adding the remainder to the result\n",
        "  r1//=2                       #finally again deviding by '2'\n",
        "\n",
        "result=result[::-1]           #taking the string in reverse order as the result, as is done while binary equivalent calculaion.\n",
        "print(\"The binary equivalent of \" +str(r)+\" is:\",result)"
      ],
      "metadata": {
        "colab": {
          "base_uri": "https://localhost:8080/"
        },
        "id": "s2oIDEQwl5Yx",
        "outputId": "e4f0465e-87ef-4717-d99a-5a6ddf2734fd"
      },
      "execution_count": 15,
      "outputs": [
        {
          "output_type": "stream",
          "name": "stdout",
          "text": [
            "Some of the examples of decimal or integer and their corresponding binary number are as follows: \n",
            "\n",
            "For example: the binary form of the integer '5' is '101\n",
            "\n",
            "\n",
            "Enter a positive (+ve) decimal number: 55\n",
            "\n",
            "\n",
            "The binary equivalent of 55 is: 110111\n"
          ]
        }
      ]
    }
  ]
}