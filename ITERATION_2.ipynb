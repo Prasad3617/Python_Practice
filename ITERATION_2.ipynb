{
  "nbformat": 4,
  "nbformat_minor": 0,
  "metadata": {
    "colab": {
      "provenance": [],
      "authorship_tag": "ABX9TyNNXamMJwozWYD2L6/0haha",
      "include_colab_link": true
    },
    "kernelspec": {
      "name": "python3",
      "display_name": "Python 3"
    },
    "language_info": {
      "name": "python"
    }
  },
  "cells": [
    {
      "cell_type": "markdown",
      "metadata": {
        "id": "view-in-github",
        "colab_type": "text"
      },
      "source": [
        "<a href=\"https://colab.research.google.com/github/Prasad3617/Python_Practice/blob/main/ITERATION_2.ipynb\" target=\"_parent\"><img src=\"https://colab.research.google.com/assets/colab-badge.svg\" alt=\"Open In Colab\"/></a>"
      ]
    },
    {
      "cell_type": "markdown",
      "source": [
        "# ITERATION USING FOR LOOP\n",
        "\n",
        " \n",
        "*   *for loop in python doesn't require increment or decrement statements for general operation(s)*\n",
        "\n",
        "*   *like (i+=1) or (j-=1) etc. isn't required in a for loop*\n"
      ],
      "metadata": {
        "id": "DDDJdeo9HKwe"
      }
    },
    {
      "cell_type": "markdown",
      "source": [
        "### PRINT A STATEMENT '5' TIMES, "
      ],
      "metadata": {
        "id": "itIayNDxHQZO"
      }
    },
    {
      "cell_type": "code",
      "source": [
        "for i in range(0,5):\n",
        "  print(\" Hello! \\n\")\n",
        "  "
      ],
      "metadata": {
        "colab": {
          "base_uri": "https://localhost:8080/"
        },
        "id": "P_YGrBoKHWfx",
        "outputId": "16f90a64-6d4d-4e70-ca9e-e6e9b945b87f"
      },
      "execution_count": 1,
      "outputs": [
        {
          "output_type": "stream",
          "name": "stdout",
          "text": [
            " Hello! \n",
            "\n",
            " Hello! \n",
            "\n",
            " Hello! \n",
            "\n",
            " Hello! \n",
            "\n",
            " Hello! \n",
            "\n"
          ]
        }
      ]
    },
    {
      "cell_type": "markdown",
      "source": [
        "### Print a series of whole numbers, till a particular number 'n', being given input by the user. "
      ],
      "metadata": {
        "id": "YinnnRQFIBY6"
      }
    },
    {
      "cell_type": "code",
      "source": [
        "j=int(input(\"Enter a whole number: \"))              #taking inpt for the range-limiting number \n",
        "print(\"\\n\")\n",
        "print(str(j) + \" will mark the endpoint for the range of wole numbers to print.\")\n",
        "print(\"\\n\")\n",
        "\n",
        "for k in range(0,(j+1)):\n",
        "  print(k)"
      ],
      "metadata": {
        "colab": {
          "base_uri": "https://localhost:8080/"
        },
        "id": "3TdQr4cvIXR9",
        "outputId": "f43ae082-46da-42cc-ea57-06fe9fe666fd"
      },
      "execution_count": 2,
      "outputs": [
        {
          "output_type": "stream",
          "name": "stdout",
          "text": [
            "Enter a whole number: 10\n",
            "\n",
            "\n",
            "10 will mark the endpoint for the range of wole numbers to print.\n",
            "\n",
            "\n",
            "0\n",
            "1\n",
            "2\n",
            "3\n",
            "4\n",
            "5\n",
            "6\n",
            "7\n",
            "8\n",
            "9\n",
            "10\n"
          ]
        }
      ]
    },
    {
      "cell_type": "markdown",
      "source": [
        "Write a for loop to print a series of numbers from '0' to '10'"
      ],
      "metadata": {
        "id": "kIi3Gd8_KjtZ"
      }
    },
    {
      "cell_type": "code",
      "source": [
        "for m in range(0,11):             # '11' or '(10+1)' is writen as the 2nd element because we are required to print numbers from 0-10, so '(10+1)' is given as endpoint.\n",
        "  print(m)"
      ],
      "metadata": {
        "colab": {
          "base_uri": "https://localhost:8080/"
        },
        "id": "w5qQ4q75Kq_j",
        "outputId": "a8659f85-2974-4258-cb00-41fbbced61c1"
      },
      "execution_count": 3,
      "outputs": [
        {
          "output_type": "stream",
          "name": "stdout",
          "text": [
            "0\n",
            "1\n",
            "2\n",
            "3\n",
            "4\n",
            "5\n",
            "6\n",
            "7\n",
            "8\n",
            "9\n",
            "10\n"
          ]
        }
      ]
    },
    {
      "cell_type": "markdown",
      "source": [
        "## 'for' loop with increment operation(s) other than (increment by 1)"
      ],
      "metadata": {
        "id": "PANCBAS2LU42"
      }
    },
    {
      "cell_type": "markdown",
      "source": [
        "**Syntax:**\n",
        "\n",
        "*for i in range(starting limit, (ending limit+1), increment value)*"
      ],
      "metadata": {
        "id": "giKpzZ1rLhOf"
      }
    },
    {
      "cell_type": "markdown",
      "source": [
        "Print a set of even numbers from '0' to '20'"
      ],
      "metadata": {
        "id": "bReTN63uL52B"
      }
    },
    {
      "cell_type": "code",
      "source": [
        "print(\"The set of even numbers till '20' are: \")\n",
        "print(\"\\n\")\n",
        "for n in range(0,21,2):         #ending limit is set to '(20+1)'\n",
        "  print(n)\n",
        "\n"
      ],
      "metadata": {
        "colab": {
          "base_uri": "https://localhost:8080/"
        },
        "id": "kWAbQ4E1LwZg",
        "outputId": "5573323f-da7f-4781-c6dc-664ef70cc2de"
      },
      "execution_count": 4,
      "outputs": [
        {
          "output_type": "stream",
          "name": "stdout",
          "text": [
            "The set of even numbers till '20' are: \n",
            "\n",
            "\n",
            "0\n",
            "2\n",
            "4\n",
            "6\n",
            "8\n",
            "10\n",
            "12\n",
            "14\n",
            "16\n",
            "18\n",
            "20\n"
          ]
        }
      ]
    },
    {
      "cell_type": "markdown",
      "source": [
        "Flow of execution of the above programme:\n",
        "\n",
        "\n",
        "1.   Initialization, 'n = 0' (done only once)\n",
        "2.   Condition check\n",
        "3.   Execution\n",
        "4.   Increment/Decrement\n",
        "5.   Repeating/Looping through steps-2 to step-4\n",
        "\n",
        "\n"
      ],
      "metadata": {
        "id": "nk32Ry9cMyTg"
      }
    },
    {
      "cell_type": "markdown",
      "source": [
        "### Printing numbers in Reverse Order\n",
        "\n",
        "\n"
      ],
      "metadata": {
        "id": "SaP_qLsVNdUd"
      }
    },
    {
      "cell_type": "code",
      "source": [
        "a=int(input(\"Enter a starting number to begin looping: \"))     # taking input from user for beginning looping.\n",
        "print(\"\\n\")\n",
        "b=int(input(\"Enter a value to limit the range:\" ))             # taking input from the user to limit the. loop.\n",
        "print(\"\\n\")\n",
        "c=int(input(\"Enter the increment/decrement value for the range: \"))      # taking input from the user for the increment/decrement value to perform looping.\n",
        "print(\"\\n\")\n",
        "\n",
        "for p in range(a,(b - abs(c)),c):                              # 'abs(c)' is made use of to work on the absolute value of 'c' i.e. |c| & 'b - abs(c)' is used in order to ensure that the number taken as 'b' is printed in the output\n",
        "  print(p)"
      ],
      "metadata": {
        "colab": {
          "base_uri": "https://localhost:8080/"
        },
        "id": "7SuHXpTPNj9t",
        "outputId": "87436952-3cfd-4ad3-f8b3-30520fb4584e"
      },
      "execution_count": 5,
      "outputs": [
        {
          "output_type": "stream",
          "name": "stdout",
          "text": [
            "Enter a starting number to begin looping: 1\n",
            "\n",
            "\n",
            "Enter a value to limit the range:10\n",
            "\n",
            "\n",
            "Enter the decrement value for the range: 1\n",
            "\n",
            "\n",
            "1\n",
            "2\n",
            "3\n",
            "4\n",
            "5\n",
            "6\n",
            "7\n",
            "8\n"
          ]
        }
      ]
    },
    {
      "cell_type": "markdown",
      "source": [
        "### Calculating average of numbers taken input from user using \"for\" loop"
      ],
      "metadata": {
        "id": "L7ZkD5qEPxhV"
      }
    },
    {
      "cell_type": "code",
      "source": [
        "q=int(input(\"Enter the number of integers for average calculation: \"))    # Taking input from user for the number of iterations, number of integers to perfrom average.\n",
        "print(\"\\n\")\n",
        "\n",
        "sum = 0                                                                   # Initailising a variable 'sum' = 0, required for average calculation.\n",
        "\n",
        "for r in range(0,q):                                                      # Loop for taking in input of numbers for average calculation.\n",
        "  e=int(input(\"Enter a value: \"))\n",
        "  sum+=e                                                                  # Incrementing the sum for average calculation.\n",
        "\n",
        "average=sum/q                                                             # Mathematical expression for average calculation.\n",
        "                                                                       \n",
        "print(\"The average of the numbers you entered is: \", average)             "
      ],
      "metadata": {
        "colab": {
          "base_uri": "https://localhost:8080/"
        },
        "id": "Lp5R2t7iP6l8",
        "outputId": "df18852c-4c97-4d8a-c1de-3caf30d75deb"
      },
      "execution_count": 6,
      "outputs": [
        {
          "output_type": "stream",
          "name": "stdout",
          "text": [
            "Enter the number of integers for average calculation: 5\n",
            "\n",
            "\n",
            "Enter a value: 10\n",
            "Enter a value: 15\n",
            "Enter a value: 20\n",
            "Enter a value: 25\n",
            "Enter a value: 30\n",
            "The average of the numbers you entered is:  20.0\n"
          ]
        }
      ]
    },
    {
      "cell_type": "markdown",
      "source": [
        "In the above code if:\n",
        "\n",
        " *an **integer** is demanded as the output of average and not a **float** value, then simply replace '**average**' by '**int(average)**'*"
      ],
      "metadata": {
        "id": "gQSZhMYzUs3L"
      }
    },
    {
      "cell_type": "code",
      "source": [],
      "metadata": {
        "id": "DG4MPmT4U3tM"
      },
      "execution_count": 6,
      "outputs": []
    }
  ]
}