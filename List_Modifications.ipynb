{
  "nbformat": 4,
  "nbformat_minor": 0,
  "metadata": {
    "colab": {
      "provenance": [],
      "authorship_tag": "ABX9TyMTDlMSulzZX6zuXVAfNzKt",
      "include_colab_link": true
    },
    "kernelspec": {
      "name": "python3",
      "display_name": "Python 3"
    },
    "language_info": {
      "name": "python"
    }
  },
  "cells": [
    {
      "cell_type": "markdown",
      "metadata": {
        "id": "view-in-github",
        "colab_type": "text"
      },
      "source": [
        "<a href=\"https://colab.research.google.com/github/Prasad3617/Python_Practice/blob/main/List_Modifications.ipynb\" target=\"_parent\"><img src=\"https://colab.research.google.com/assets/colab-badge.svg\" alt=\"Open In Colab\"/></a>"
      ]
    },
    {
      "cell_type": "markdown",
      "source": [
        "# List Modification(s)"
      ],
      "metadata": {
        "id": "w_mqNA_bHBE8"
      }
    },
    {
      "cell_type": "markdown",
      "source": [
        "## Ading and removing elements from a list."
      ],
      "metadata": {
        "id": "FMUO3DrFM196"
      }
    },
    {
      "cell_type": "code",
      "source": [
        "l1=[\"a\",\"b\",\"c\",1,2,3,[10,20]]                                        #printing the initial list."
      ],
      "metadata": {
        "id": "6_O4vbCoM5bk"
      },
      "execution_count": 1,
      "outputs": []
    },
    {
      "cell_type": "code",
      "source": [
        "x1=input(\"Enter something: \")                                            #taking input from the user.\n",
        "l1.append(x1)                                                            #adding the same element into the same list.        \n",
        "print(\"The list 'l1' after adding elements to the list is: \",l1)         #printing the modified list."
      ],
      "metadata": {
        "colab": {
          "base_uri": "https://localhost:8080/"
        },
        "id": "RhlY6phZNGVV",
        "outputId": "6f69a8d6-5e7d-4d15-c5a0-0354dbf66dc6"
      },
      "execution_count": 2,
      "outputs": [
        {
          "output_type": "stream",
          "name": "stdout",
          "text": [
            "Enter something: 4\n",
            "The list 'l1' after adding elements to the list is:  ['a', 'b', 'c', 1, 2, 3, [10, 20], '4']\n"
          ]
        }
      ]
    },
    {
      "cell_type": "code",
      "source": [
        "l1.insert(0,\"a0\")                                                                 #insering an element at a particular index in the list.\n",
        "print(\"The list after inserting an element at index '1' is: \",l1)                 #printing the modified list. "
      ],
      "metadata": {
        "colab": {
          "base_uri": "https://localhost:8080/"
        },
        "id": "95rjUGXxPnP9",
        "outputId": "165fd4f0-ea1f-4bc6-9362-d1ae07aec26c"
      },
      "execution_count": 3,
      "outputs": [
        {
          "output_type": "stream",
          "name": "stdout",
          "text": [
            "The list after inserting an element at index '1' is:  ['a0', 'a', 'b', 'c', 1, 2, 3, [10, 20], '4']\n"
          ]
        }
      ]
    },
    {
      "cell_type": "code",
      "source": [
        "l1.remove([10,20])                                                                #removing the selected element from the same list\n",
        "print(\"The list after removing an element from the same list is: \",l1)            #printing the modified list"
      ],
      "metadata": {
        "colab": {
          "base_uri": "https://localhost:8080/"
        },
        "id": "eQk8HnUGQ11l",
        "outputId": "13da4056-399b-4bce-d1d6-8f7437b8a03e"
      },
      "execution_count": 4,
      "outputs": [
        {
          "output_type": "stream",
          "name": "stdout",
          "text": [
            "The list after removing an element from the same list is:  ['a0', 'a', 'b', 'c', 1, 2, 3, '4']\n"
          ]
        }
      ]
    },
    {
      "cell_type": "code",
      "source": [
        "l1.pop(2)                                                                      #removing element from the specifiic index\n",
        "print(\"The list after removing an element from the index '2' is:\",l1)          #printing the modified list"
      ],
      "metadata": {
        "colab": {
          "base_uri": "https://localhost:8080/"
        },
        "id": "KZvlgfd7RZDl",
        "outputId": "da45b3f1-2b76-45bc-a14e-6a33a13d9748"
      },
      "execution_count": 5,
      "outputs": [
        {
          "output_type": "stream",
          "name": "stdout",
          "text": [
            "The list after removing an element from the index '2' is: ['a0', 'a', 'c', 1, 2, 3, '4']\n"
          ]
        }
      ]
    },
    {
      "cell_type": "code",
      "source": [
        "l1.pop()                                                                          #popping the last element from the list\n",
        "print(\"The modified list is:\",l1)                                                  #printing the modified list"
      ],
      "metadata": {
        "colab": {
          "base_uri": "https://localhost:8080/"
        },
        "id": "-HtfOEghR7Up",
        "outputId": "dc28873c-c01e-40a2-d4f9-3e032bc949ee"
      },
      "execution_count": 6,
      "outputs": [
        {
          "output_type": "stream",
          "name": "stdout",
          "text": [
            "The modified list is: ['a0', 'a', 'c', 1, 2, 3]\n"
          ]
        }
      ]
    },
    {
      "cell_type": "code",
      "source": [
        "del l1[2:4]                                                                        #deleing a range of elements from the list\n",
        "print(\"The list after deleting a range of elements is:\",l1)                        #printing the modified list"
      ],
      "metadata": {
        "colab": {
          "base_uri": "https://localhost:8080/"
        },
        "id": "e--6p7-JSdJH",
        "outputId": "af9c7b68-ec29-4b20-8981-885a74fb176d"
      },
      "execution_count": 7,
      "outputs": [
        {
          "output_type": "stream",
          "name": "stdout",
          "text": [
            "The list after deleting a range of elements is: ['a0', 'a', 2, 3]\n"
          ]
        }
      ]
    },
    {
      "cell_type": "markdown",
      "source": [
        "## Other list methods"
      ],
      "metadata": {
        "id": "g64KggJeTIPn"
      }
    },
    {
      "cell_type": "markdown",
      "source": [
        "'copy()' method"
      ],
      "metadata": {
        "id": "9pspS9dKVR2v"
      }
    },
    {
      "cell_type": "code",
      "source": [
        "l2=l1.copy()                                                          #creating a copy of list 'l1' and storing it in 'l2'\n",
        "print(\"The list 'l2' created as a copy of list 'l1' is:\",l2)          #printing list 'l2'"
      ],
      "metadata": {
        "colab": {
          "base_uri": "https://localhost:8080/"
        },
        "id": "UFG5GgUoTKd9",
        "outputId": "16fb72a7-efbf-42cd-e5e5-d3ff957f81a2"
      },
      "execution_count": 8,
      "outputs": [
        {
          "output_type": "stream",
          "name": "stdout",
          "text": [
            "The list 'l2' created as a copy of list 'l1' is: ['a0', 'a', 2, 3]\n"
          ]
        }
      ]
    },
    {
      "cell_type": "markdown",
      "source": [
        "'clear()' method"
      ],
      "metadata": {
        "id": "_c1uvpbfVV7k"
      }
    },
    {
      "cell_type": "code",
      "source": [
        "l1.clear()                                                            #clearing all elements in list 'l1'\n",
        "print(\"The list after removing all elements from the list is:\",l1)    #printing the cleared list 'l1'    "
      ],
      "metadata": {
        "colab": {
          "base_uri": "https://localhost:8080/"
        },
        "id": "7a3TtImMVVQP",
        "outputId": "7d44abaf-bcb1-4402-efce-2eede562ee83"
      },
      "execution_count": 9,
      "outputs": [
        {
          "output_type": "stream",
          "name": "stdout",
          "text": [
            "The list after removing all elements from the list is: []\n"
          ]
        }
      ]
    },
    {
      "cell_type": "markdown",
      "source": [
        "'count' method"
      ],
      "metadata": {
        "id": "rKOGLPYTVcwC"
      }
    },
    {
      "cell_type": "code",
      "source": [
        "x=l2.count(\"a0\")                                                      #cunting the elements in a list\n",
        "print(\"The number of times, \"+\"a0\"+\" repeats in the list is:\",x)        #printing the count as output."
      ],
      "metadata": {
        "colab": {
          "base_uri": "https://localhost:8080/"
        },
        "id": "sexwcaZqVedE",
        "outputId": "26ebd653-c2d4-496d-adfe-319c9507c200"
      },
      "execution_count": 11,
      "outputs": [
        {
          "output_type": "stream",
          "name": "stdout",
          "text": [
            "The number of times, a0 repeats in the list is: 1\n"
          ]
        }
      ]
    },
    {
      "cell_type": "markdown",
      "source": [
        "'extend() method"
      ],
      "metadata": {
        "id": "WxP-J7fiVkgj"
      }
    },
    {
      "cell_type": "code",
      "source": [
        "l3=[1,2,3,4,5]                                           #declaring a list 'l3'\n",
        "l2.extend(l3)                                            #extending the list 'l2' by adding the elements of the list 'l3'\n",
        "print(\"The list after extending the list 'l2' is:\",l2)   #printing the modified list 'l2'"
      ],
      "metadata": {
        "colab": {
          "base_uri": "https://localhost:8080/"
        },
        "id": "SsHSrPN-Vnv0",
        "outputId": "957af254-ec4d-40a1-e06f-96758e8526e2"
      },
      "execution_count": 12,
      "outputs": [
        {
          "output_type": "stream",
          "name": "stdout",
          "text": [
            "The list after extending the list 'l2' is: ['a0', 'a', 2, 3, 1, 2, 3, 4, 5]\n"
          ]
        }
      ]
    },
    {
      "cell_type": "markdown",
      "source": [
        "'index()' method"
      ],
      "metadata": {
        "id": "cKtqFFNNWD3D"
      }
    },
    {
      "cell_type": "code",
      "source": [
        "print(\"The index of '2' in list 'l2' is:\",l2.index(2))   #returning the index of a particular element in list 'l2'"
      ],
      "metadata": {
        "colab": {
          "base_uri": "https://localhost:8080/"
        },
        "id": "iD2u3TLZWHhD",
        "outputId": "1e6c81db-f7bf-439e-a9a2-2e9d8cb00ccd"
      },
      "execution_count": 15,
      "outputs": [
        {
          "output_type": "stream",
          "name": "stdout",
          "text": [
            "The index of '2' in list 'l2' is: 3\n"
          ]
        }
      ]
    },
    {
      "cell_type": "markdown",
      "source": [
        "'reverse()' method"
      ],
      "metadata": {
        "id": "0Sb9oxG3Wqc9"
      }
    },
    {
      "cell_type": "code",
      "source": [
        "l4=l2.reverse                                                           #reversing the list 'l2' and storing it in another list 'l4'\n",
        "print(\"The new list after reversing the list 'l2' is:\",l4)              #printing the newly reversed list"
      ],
      "metadata": {
        "colab": {
          "base_uri": "https://localhost:8080/"
        },
        "id": "hp0QwXmlWt92",
        "outputId": "76580880-8566-4d2b-e484-da02db4eb04e"
      },
      "execution_count": 16,
      "outputs": [
        {
          "output_type": "stream",
          "name": "stdout",
          "text": [
            "The new list after reversing the list 'l2' is: <built-in method reverse of list object at 0x7f5573591280>\n"
          ]
        }
      ]
    },
    {
      "cell_type": "markdown",
      "source": [
        "'sort()' method"
      ],
      "metadata": {
        "id": "9Y1NljpLXQus"
      }
    },
    {
      "cell_type": "code",
      "source": [
        "l5=[1,100,89,67,59,98,101]                                                            #declaring the list\n",
        "print(\"The list 'l5' is\",l5)                                                          #printing the sorted list\n",
        "\n",
        "l5.sort()                                                                             #sorting the elements in the list\n",
        "print(\"The sorted list 'l5' is:\",l5)                                                  #printing the sorted list                     "
      ],
      "metadata": {
        "colab": {
          "base_uri": "https://localhost:8080/"
        },
        "id": "m2Xw-5G9XT6U",
        "outputId": "5f8c95d9-b492-4507-9b85-bd37a4deaa15"
      },
      "execution_count": 20,
      "outputs": [
        {
          "output_type": "stream",
          "name": "stdout",
          "text": [
            "The list 'l5' is [1, 100, 89, 67, 59, 98, 101]\n",
            "The sorted list 'l5' is: [1, 59, 67, 89, 98, 100, 101]\n"
          ]
        }
      ]
    },
    {
      "cell_type": "markdown",
      "source": [
        "## Iterating over a list"
      ],
      "metadata": {
        "id": "KEC2ae7PaGQH"
      }
    },
    {
      "cell_type": "code",
      "source": [
        "names=[\"Suresh\",\"Ramesh\",\"Mukesh\"]                           #declaring a list 'names'\n",
        "print(\"The list of 'names' is:\",names)\n",
        "\n",
        "for i in names:                                              #iterating to print som erequired message\n",
        "  print(\"\\nHello \"+i)                   "
      ],
      "metadata": {
        "colab": {
          "base_uri": "https://localhost:8080/"
        },
        "id": "3dRFqohjaIvm",
        "outputId": "757176cd-0154-4630-e88b-ac609b855556"
      },
      "execution_count": 25,
      "outputs": [
        {
          "output_type": "stream",
          "name": "stdout",
          "text": [
            "The list of 'names' is: ['Suresh', 'Ramesh', 'Mukesh']\n",
            "\n",
            "Hello Suresh\n",
            "\n",
            "Hello Ramesh\n",
            "\n",
            "Hello Mukesh\n"
          ]
        }
      ]
    },
    {
      "cell_type": "code",
      "source": [
        "check=input(\"Enter a name in 'CamelCase' to search in the directory: \")\n",
        "\n",
        "if check in names:\n",
        "  print(\"\\nYes, Mr.\",check,\" is our employee.\")\n",
        "else:\n",
        "  print(\"\\nNo, Mr.\",check,\"doesn't happen to be our employee.\")  "
      ],
      "metadata": {
        "colab": {
          "base_uri": "https://localhost:8080/"
        },
        "id": "wxe0oJJ2aoDW",
        "outputId": "78ff70df-48af-41cf-f20f-f4e84b9ae6d1"
      },
      "execution_count": 35,
      "outputs": [
        {
          "output_type": "stream",
          "name": "stdout",
          "text": [
            "Enter a name in 'CamelCase' to search in the directory: Ramesh\n",
            "\n",
            "Yes, Mr. Ramesh  is our employee.\n"
          ]
        }
      ]
    }
  ]
}