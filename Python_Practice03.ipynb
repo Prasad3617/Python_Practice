{
  "nbformat": 4,
  "nbformat_minor": 0,
  "metadata": {
    "colab": {
      "provenance": [],
      "authorship_tag": "ABX9TyPQmqRbaa5viZmmqp+EauqQ",
      "include_colab_link": true
    },
    "kernelspec": {
      "name": "python3",
      "display_name": "Python 3"
    },
    "language_info": {
      "name": "python"
    }
  },
  "cells": [
    {
      "cell_type": "markdown",
      "metadata": {
        "id": "view-in-github",
        "colab_type": "text"
      },
      "source": [
        "<a href=\"https://colab.research.google.com/github/Prasad3617/Python_Practice/blob/main/Python_Practice03.ipynb\" target=\"_parent\"><img src=\"https://colab.research.google.com/assets/colab-badge.svg\" alt=\"Open In Colab\"/></a>"
      ]
    },
    {
      "cell_type": "markdown",
      "source": [
        "1. What are the advantages of using a for loop in Python?"
      ],
      "metadata": {
        "id": "hHTwN_hwqrXd"
      }
    },
    {
      "cell_type": "code",
      "source": [
        "#A \"for\" loop allows us to perform iterations and print an output of a long and repeatative task with a fewer line of code.\n",
        "#for eg: Calculating factorial of a number in few and easy steps.\n",
        "n=int(input(\"1) Enter a  positive intger to calculate its factorial: \"))  #taking input from user       \n",
        "print(\"\\n\")\n",
        "\n",
        "i=r=1\n",
        "for i in range(1,(n+1)):\n",
        "  r*=i\n",
        "  i+=1\n",
        "\n",
        "print(\"The factorial of\",n,\"is: \",r)\n",
        "  \n",
        "\n",
        "\n",
        "#################################################################################################\n",
        "\n",
        "# another advantage of a \"for\" loop is: performing python's ooperation over a known and limited range is simpler.\n",
        "#for eg: Calculating the average of  \"n\" natural numbers, \"n\" being given input by the user.\n",
        "print(\"\\n\")\n",
        "n=int(input(\"2) Enter the quantity of integer(s) for calculating average: \"))       #taking an input from the user.\n",
        "print(\"\\n\")\n",
        "\n",
        "sum=0\n",
        "for j in range(n):\n",
        "  k=int(input(\"Enter an ineteger: \"))\n",
        "  sum+=k\n",
        "  j+=1\n",
        "\n",
        "average=sum/n\n",
        "print(\" The average is: \", average)"
      ],
      "metadata": {
        "id": "FTRgNWL7rhvG",
        "colab": {
          "base_uri": "https://localhost:8080/"
        },
        "outputId": "94f0e777-ccbb-4d92-90ce-2f0aec478dcd"
      },
      "execution_count": 8,
      "outputs": [
        {
          "output_type": "stream",
          "name": "stdout",
          "text": [
            "1) Enter a  positive intger to calculate its factorial: 5\n",
            "\n",
            "\n",
            "The factorial of 5 is:  120\n",
            "\n",
            "\n",
            "2) Enter the quantity of integer(s) for calculating average: 5\n",
            "\n",
            "\n",
            "Enter an ineteger: 10\n",
            "Enter an ineteger: 10\n",
            "Enter an ineteger: 10\n",
            "Enter an ineteger: 10\n",
            "Enter an ineteger: 10\n",
            " The average is:  10.0\n"
          ]
        }
      ]
    },
    {
      "cell_type": "markdown",
      "source": [
        "2. Write a program to determine how many of the numbers between 1 and 10000 contain the digit 3."
      ],
      "metadata": {
        "id": "ieRSz1vfrdb2"
      }
    },
    {
      "cell_type": "code",
      "source": [
        "#we will make use of the decision-control statements within a loop as follows:-\n",
        "\n",
        "count1=0 #initialising a variable to contain the result of counting\n",
        "\n",
        "for i in range(1,10001):         #condition for the loop \n",
        "  if \"3\" in str(i):              #next operational condition for the loop\n",
        "    count1+=1                    #incrementing the loop\n",
        "  else:\n",
        "    continue                     #using the 'continue' statement to skip not required values.\n",
        "\n",
        "print(\"The required quantity of integers according to the condition is: \",count1)"
      ],
      "metadata": {
        "id": "agucQWClsO5-",
        "colab": {
          "base_uri": "https://localhost:8080/"
        },
        "outputId": "26eb4454-6cad-4a15-9b06-24cdbdfea9b5"
      },
      "execution_count": 2,
      "outputs": [
        {
          "output_type": "stream",
          "name": "stdout",
          "text": [
            "The required quantity of integers according to the condition is:  3439\n"
          ]
        }
      ]
    },
    {
      "cell_type": "markdown",
      "source": [
        "3. Ask the user for a number and then print the following, where the pattern ends at the number that the user enters.\n",
        "1\n",
        "2\n",
        "3\n",
        "4"
      ],
      "metadata": {
        "id": "p8ZFO74ErgY5"
      }
    },
    {
      "cell_type": "code",
      "source": [
        "x=int(input(\"Enter a positive integrer: \"))                   #taking in input from the user\n",
        "\n",
        "for i in range(1,x+1):                                        #performing iteration(S)\n",
        "  print(i,\"\\t\")"
      ],
      "metadata": {
        "id": "GrOW2SzfsPfQ",
        "colab": {
          "base_uri": "https://localhost:8080/"
        },
        "outputId": "6a115243-3eeb-4d6e-f9e6-483f910b9c03"
      },
      "execution_count": 12,
      "outputs": [
        {
          "output_type": "stream",
          "name": "stdout",
          "text": [
            "Enter a positive integrer: 3\n",
            "1 \t\n",
            "2 \t\n",
            "3 \t\n"
          ]
        }
      ]
    },
    {
      "cell_type": "markdown",
      "source": [
        "\n",
        "4. Differentiate between break and continue statements using examples."
      ],
      "metadata": {
        "id": "RM2of_qornym"
      }
    },
    {
      "cell_type": "code",
      "source": [
        "#\"break statement\" is used to terminate the entire \"iteration\" or \"loop\" on encountering \n",
        "#a particular situation\n",
        "print(\"Use of 'break' statement:\")\n",
        "i=0\n",
        "while i<10:                             #condition for the loop\n",
        "  i+=1                                  #incrementing the loop\n",
        "  if i!=7:\n",
        "    print(i,\"\\t\")\n",
        "  else:\n",
        "    break                               #making use of the 'break' statement\n",
        "print(\"\\nPlease take note of the ouput, numbers 'after 7' aren't printed.\")\n",
        "#\"continue statement\" is used to skip a particular iteration in a loop on encountering a \n",
        "#particular condition, without terminating the entire loop. \n",
        "\n",
        "print(\"\\n\")\n",
        "print(\"Use of 'continue' statement:\")              \n",
        "l=0\n",
        "while l<10:                             #condition for the loop\n",
        "  l+=1                                  #incrementing the loop\n",
        "  if l!=7:\n",
        "    print(l,\"\\t\")\n",
        "  else:\n",
        "    continue                            #making use of the 'continue' statement to perform the operation accordingly\n",
        "print(\"\\nPlease take note of the ouput, numbers 'other than 7' are printed.\")"
      ],
      "metadata": {
        "id": "65IEDsBdsQK_",
        "colab": {
          "base_uri": "https://localhost:8080/"
        },
        "outputId": "a795a779-2284-4f70-af7f-2e798bd7690e"
      },
      "execution_count": 19,
      "outputs": [
        {
          "output_type": "stream",
          "name": "stdout",
          "text": [
            "Use of 'break' statement:\n",
            "1 \t\n",
            "2 \t\n",
            "3 \t\n",
            "4 \t\n",
            "5 \t\n",
            "6 \t\n",
            "\n",
            "Please take note of the ouput, numbers 'after 7' aren't printed.\n",
            "\n",
            "\n",
            "Use of 'continue' statement:\n",
            "1 \t\n",
            "2 \t\n",
            "3 \t\n",
            "4 \t\n",
            "5 \t\n",
            "6 \t\n",
            "8 \t\n",
            "9 \t\n",
            "10 \t\n",
            "\n",
            "Please take note of the ouput, numbers 'other than 7' are printed.\n"
          ]
        }
      ]
    },
    {
      "cell_type": "markdown",
      "source": [
        "5. Write a program to display all the numbers which are divisible by 2 but not by 8 between 600 and 1600."
      ],
      "metadata": {
        "id": "D89N39Rsrrn6"
      }
    },
    {
      "cell_type": "code",
      "source": [
        "print(\"The numbers which satisfy the condition are:\\n\")         #taking in input from the user.\n",
        "for d in range(600,1601):                                       #condition of the 'loop'\n",
        "  if d%2==0 and d%8!=0:                                         #next condition for looping\n",
        "    print(d,\"\\t\")"
      ],
      "metadata": {
        "id": "uuaOaP7NsQ0p",
        "colab": {
          "base_uri": "https://localhost:8080/"
        },
        "outputId": "a786e5a2-dbc2-45ab-dc5f-e52096fbdc5d"
      },
      "execution_count": 21,
      "outputs": [
        {
          "output_type": "stream",
          "name": "stdout",
          "text": [
            "The numbers which satisfy the condition are:\n",
            "\n",
            "602 \t\n",
            "604 \t\n",
            "606 \t\n",
            "610 \t\n",
            "612 \t\n",
            "614 \t\n",
            "618 \t\n",
            "620 \t\n",
            "622 \t\n",
            "626 \t\n",
            "628 \t\n",
            "630 \t\n",
            "634 \t\n",
            "636 \t\n",
            "638 \t\n",
            "642 \t\n",
            "644 \t\n",
            "646 \t\n",
            "650 \t\n",
            "652 \t\n",
            "654 \t\n",
            "658 \t\n",
            "660 \t\n",
            "662 \t\n",
            "666 \t\n",
            "668 \t\n",
            "670 \t\n",
            "674 \t\n",
            "676 \t\n",
            "678 \t\n",
            "682 \t\n",
            "684 \t\n",
            "686 \t\n",
            "690 \t\n",
            "692 \t\n",
            "694 \t\n",
            "698 \t\n",
            "700 \t\n",
            "702 \t\n",
            "706 \t\n",
            "708 \t\n",
            "710 \t\n",
            "714 \t\n",
            "716 \t\n",
            "718 \t\n",
            "722 \t\n",
            "724 \t\n",
            "726 \t\n",
            "730 \t\n",
            "732 \t\n",
            "734 \t\n",
            "738 \t\n",
            "740 \t\n",
            "742 \t\n",
            "746 \t\n",
            "748 \t\n",
            "750 \t\n",
            "754 \t\n",
            "756 \t\n",
            "758 \t\n",
            "762 \t\n",
            "764 \t\n",
            "766 \t\n",
            "770 \t\n",
            "772 \t\n",
            "774 \t\n",
            "778 \t\n",
            "780 \t\n",
            "782 \t\n",
            "786 \t\n",
            "788 \t\n",
            "790 \t\n",
            "794 \t\n",
            "796 \t\n",
            "798 \t\n",
            "802 \t\n",
            "804 \t\n",
            "806 \t\n",
            "810 \t\n",
            "812 \t\n",
            "814 \t\n",
            "818 \t\n",
            "820 \t\n",
            "822 \t\n",
            "826 \t\n",
            "828 \t\n",
            "830 \t\n",
            "834 \t\n",
            "836 \t\n",
            "838 \t\n",
            "842 \t\n",
            "844 \t\n",
            "846 \t\n",
            "850 \t\n",
            "852 \t\n",
            "854 \t\n",
            "858 \t\n",
            "860 \t\n",
            "862 \t\n",
            "866 \t\n",
            "868 \t\n",
            "870 \t\n",
            "874 \t\n",
            "876 \t\n",
            "878 \t\n",
            "882 \t\n",
            "884 \t\n",
            "886 \t\n",
            "890 \t\n",
            "892 \t\n",
            "894 \t\n",
            "898 \t\n",
            "900 \t\n",
            "902 \t\n",
            "906 \t\n",
            "908 \t\n",
            "910 \t\n",
            "914 \t\n",
            "916 \t\n",
            "918 \t\n",
            "922 \t\n",
            "924 \t\n",
            "926 \t\n",
            "930 \t\n",
            "932 \t\n",
            "934 \t\n",
            "938 \t\n",
            "940 \t\n",
            "942 \t\n",
            "946 \t\n",
            "948 \t\n",
            "950 \t\n",
            "954 \t\n",
            "956 \t\n",
            "958 \t\n",
            "962 \t\n",
            "964 \t\n",
            "966 \t\n",
            "970 \t\n",
            "972 \t\n",
            "974 \t\n",
            "978 \t\n",
            "980 \t\n",
            "982 \t\n",
            "986 \t\n",
            "988 \t\n",
            "990 \t\n",
            "994 \t\n",
            "996 \t\n",
            "998 \t\n",
            "1002 \t\n",
            "1004 \t\n",
            "1006 \t\n",
            "1010 \t\n",
            "1012 \t\n",
            "1014 \t\n",
            "1018 \t\n",
            "1020 \t\n",
            "1022 \t\n",
            "1026 \t\n",
            "1028 \t\n",
            "1030 \t\n",
            "1034 \t\n",
            "1036 \t\n",
            "1038 \t\n",
            "1042 \t\n",
            "1044 \t\n",
            "1046 \t\n",
            "1050 \t\n",
            "1052 \t\n",
            "1054 \t\n",
            "1058 \t\n",
            "1060 \t\n",
            "1062 \t\n",
            "1066 \t\n",
            "1068 \t\n",
            "1070 \t\n",
            "1074 \t\n",
            "1076 \t\n",
            "1078 \t\n",
            "1082 \t\n",
            "1084 \t\n",
            "1086 \t\n",
            "1090 \t\n",
            "1092 \t\n",
            "1094 \t\n",
            "1098 \t\n",
            "1100 \t\n",
            "1102 \t\n",
            "1106 \t\n",
            "1108 \t\n",
            "1110 \t\n",
            "1114 \t\n",
            "1116 \t\n",
            "1118 \t\n",
            "1122 \t\n",
            "1124 \t\n",
            "1126 \t\n",
            "1130 \t\n",
            "1132 \t\n",
            "1134 \t\n",
            "1138 \t\n",
            "1140 \t\n",
            "1142 \t\n",
            "1146 \t\n",
            "1148 \t\n",
            "1150 \t\n",
            "1154 \t\n",
            "1156 \t\n",
            "1158 \t\n",
            "1162 \t\n",
            "1164 \t\n",
            "1166 \t\n",
            "1170 \t\n",
            "1172 \t\n",
            "1174 \t\n",
            "1178 \t\n",
            "1180 \t\n",
            "1182 \t\n",
            "1186 \t\n",
            "1188 \t\n",
            "1190 \t\n",
            "1194 \t\n",
            "1196 \t\n",
            "1198 \t\n",
            "1202 \t\n",
            "1204 \t\n",
            "1206 \t\n",
            "1210 \t\n",
            "1212 \t\n",
            "1214 \t\n",
            "1218 \t\n",
            "1220 \t\n",
            "1222 \t\n",
            "1226 \t\n",
            "1228 \t\n",
            "1230 \t\n",
            "1234 \t\n",
            "1236 \t\n",
            "1238 \t\n",
            "1242 \t\n",
            "1244 \t\n",
            "1246 \t\n",
            "1250 \t\n",
            "1252 \t\n",
            "1254 \t\n",
            "1258 \t\n",
            "1260 \t\n",
            "1262 \t\n",
            "1266 \t\n",
            "1268 \t\n",
            "1270 \t\n",
            "1274 \t\n",
            "1276 \t\n",
            "1278 \t\n",
            "1282 \t\n",
            "1284 \t\n",
            "1286 \t\n",
            "1290 \t\n",
            "1292 \t\n",
            "1294 \t\n",
            "1298 \t\n",
            "1300 \t\n",
            "1302 \t\n",
            "1306 \t\n",
            "1308 \t\n",
            "1310 \t\n",
            "1314 \t\n",
            "1316 \t\n",
            "1318 \t\n",
            "1322 \t\n",
            "1324 \t\n",
            "1326 \t\n",
            "1330 \t\n",
            "1332 \t\n",
            "1334 \t\n",
            "1338 \t\n",
            "1340 \t\n",
            "1342 \t\n",
            "1346 \t\n",
            "1348 \t\n",
            "1350 \t\n",
            "1354 \t\n",
            "1356 \t\n",
            "1358 \t\n",
            "1362 \t\n",
            "1364 \t\n",
            "1366 \t\n",
            "1370 \t\n",
            "1372 \t\n",
            "1374 \t\n",
            "1378 \t\n",
            "1380 \t\n",
            "1382 \t\n",
            "1386 \t\n",
            "1388 \t\n",
            "1390 \t\n",
            "1394 \t\n",
            "1396 \t\n",
            "1398 \t\n",
            "1402 \t\n",
            "1404 \t\n",
            "1406 \t\n",
            "1410 \t\n",
            "1412 \t\n",
            "1414 \t\n",
            "1418 \t\n",
            "1420 \t\n",
            "1422 \t\n",
            "1426 \t\n",
            "1428 \t\n",
            "1430 \t\n",
            "1434 \t\n",
            "1436 \t\n",
            "1438 \t\n",
            "1442 \t\n",
            "1444 \t\n",
            "1446 \t\n",
            "1450 \t\n",
            "1452 \t\n",
            "1454 \t\n",
            "1458 \t\n",
            "1460 \t\n",
            "1462 \t\n",
            "1466 \t\n",
            "1468 \t\n",
            "1470 \t\n",
            "1474 \t\n",
            "1476 \t\n",
            "1478 \t\n",
            "1482 \t\n",
            "1484 \t\n",
            "1486 \t\n",
            "1490 \t\n",
            "1492 \t\n",
            "1494 \t\n",
            "1498 \t\n",
            "1500 \t\n",
            "1502 \t\n",
            "1506 \t\n",
            "1508 \t\n",
            "1510 \t\n",
            "1514 \t\n",
            "1516 \t\n",
            "1518 \t\n",
            "1522 \t\n",
            "1524 \t\n",
            "1526 \t\n",
            "1530 \t\n",
            "1532 \t\n",
            "1534 \t\n",
            "1538 \t\n",
            "1540 \t\n",
            "1542 \t\n",
            "1546 \t\n",
            "1548 \t\n",
            "1550 \t\n",
            "1554 \t\n",
            "1556 \t\n",
            "1558 \t\n",
            "1562 \t\n",
            "1564 \t\n",
            "1566 \t\n",
            "1570 \t\n",
            "1572 \t\n",
            "1574 \t\n",
            "1578 \t\n",
            "1580 \t\n",
            "1582 \t\n",
            "1586 \t\n",
            "1588 \t\n",
            "1590 \t\n",
            "1594 \t\n",
            "1596 \t\n",
            "1598 \t\n"
          ]
        }
      ]
    },
    {
      "cell_type": "markdown",
      "source": [
        "6. Write a program to print the following pattern.\n",
        "\n",
        "A A A A\n",
        "\n",
        "A A A A\n",
        "\n",
        "A A A A\n",
        "\n",
        "A A A A"
      ],
      "metadata": {
        "id": "l3bOhmynrvos"
      }
    },
    {
      "cell_type": "code",
      "source": [
        "i=0                               #initialising a variable\n",
        "while i<4:                        #looping according to the condition\n",
        "  for j in range(4):              #             \"\"\n",
        "    print(\"A\",sep=\" \",end=\" \")\n",
        "  i+=1                            #incrementing for iteration\n",
        "  print(\"\\n\")"
      ],
      "metadata": {
        "id": "oBYozVTRsRaK",
        "colab": {
          "base_uri": "https://localhost:8080/"
        },
        "outputId": "92b150b8-b297-475a-ff0c-a28ebaf762ab"
      },
      "execution_count": 35,
      "outputs": [
        {
          "output_type": "stream",
          "name": "stdout",
          "text": [
            "A A A A \n",
            "\n",
            "A A A A \n",
            "\n",
            "A A A A \n",
            "\n",
            "A A A A \n",
            "\n"
          ]
        }
      ]
    },
    {
      "cell_type": "markdown",
      "source": [
        "7. Write a program to print to find the sum of series .1 + 2 + 6 + 24 +120 … n terms."
      ],
      "metadata": {
        "id": "9z3u5LJ_rzoK"
      }
    },
    {
      "cell_type": "code",
      "source": [
        "print(\"There's a series as follows: 1,2,6,24,120.....\")                        #explaining the series to the user.\n",
        "n=int(input(\"\\nEnter the number of integers to add in the above series: \"))    #taking input from the user for the number of iterations to peform\n",
        "print(\"\\n\")\n",
        "\n",
        "sum=0                                                                          #initialising a variable to calculate sum\n",
        "product=1                                                                      #initialising a variable to calculate and iterate in product\n",
        "\n",
        "for i in range(1,n+1):\n",
        "  sum+=i\n",
        "  i*=product\n",
        "  product+=1\n",
        "print(\"\\nThe sum of the series is: \", sum)"
      ],
      "metadata": {
        "id": "ETuPuyT6sR-W",
        "colab": {
          "base_uri": "https://localhost:8080/"
        },
        "outputId": "e97be0e8-19b2-4cc5-f81d-58f7c90aafa5"
      },
      "execution_count": 43,
      "outputs": [
        {
          "output_type": "stream",
          "name": "stdout",
          "text": [
            "There's a series as follows: 1,2,6,24,120.....\n",
            "\n",
            "Enter the number of integers to add in the above series: 4\n",
            "\n",
            "\n",
            "\n",
            "The sum of the series is:  10\n"
          ]
        }
      ]
    },
    {
      "cell_type": "markdown",
      "source": [
        "8. Write a program to print the sum of their cube of each digit."
      ],
      "metadata": {
        "id": "UdT3mPuvr2Gf"
      }
    },
    {
      "cell_type": "code",
      "source": [
        "g=int(input(\"\\nEnter a positive integer to calculate the sum of the cube of the digits: \"))     #taking input from the user\n",
        "print(\"\\n\")\n",
        "sum=0\n",
        "r=i\n",
        "for i in range(g+1):                                                            #condition for the loop\n",
        "  r=i*i*i                                                                       #performing mathematical operations within the oop\n",
        "  sum+=r\n",
        "print(\"\\nThe required sum is: \", sum)  \n"
      ],
      "metadata": {
        "id": "g0i3-32ksSpU",
        "colab": {
          "base_uri": "https://localhost:8080/"
        },
        "outputId": "4bc64da8-a2e4-4dbe-acb7-ab1913180081"
      },
      "execution_count": 45,
      "outputs": [
        {
          "output_type": "stream",
          "name": "stdout",
          "text": [
            "\n",
            "Enter a positive integer to calculate the sum of the cube of the digits: 2\n",
            "\n",
            "\n",
            "\n",
            "The required sum is:  9\n"
          ]
        }
      ]
    },
    {
      "cell_type": "markdown",
      "source": [
        "9. Write a program to print a table that displays the growth of investment, Suppose he invests 3,000 every month, rate of growth is 5.7 and calculated for 5 years."
      ],
      "metadata": {
        "id": "TDi6g5y-r5zf"
      }
    },
    {
      "cell_type": "code",
      "source": [
        "P,R,T=input(\"Enter the value for: 'Principal', 'Interest' & the 'Duration' for the investment: \").split()\n",
        "\n",
        "p=int(P)                    #converting strings to integer\n",
        "r=int(R)\n",
        "t=int(T)\n",
        "t1=t/t                      #making sure that interest stays constant through a 'year'. \n",
        "\n",
        "p1=p                        #making sure that the principal amount renews every year\n",
        "for i in range(t):          #loop for printing the table\n",
        "  SI=p*r*t1/100\n",
        "  p1+=SI\n",
        "  print(\"P ={0:10.2f}\".format(p),\"\\tR =\",r,\"\\tT={0:10.2f}\".format(t1),\"\\tSI ={0:10.2f}\".format(SI),\"\\tP1 ={0:10.2f}\".format(p1))\n",
        "  p=p1"
      ],
      "metadata": {
        "id": "FtwZnMjdsTMO",
        "colab": {
          "base_uri": "https://localhost:8080/"
        },
        "outputId": "3543c1b6-166e-4d85-ff3c-a7f094eb2c56"
      },
      "execution_count": 68,
      "outputs": [
        {
          "output_type": "stream",
          "name": "stdout",
          "text": [
            "Enter the value for: 'Principal', 'Interest' & the 'Duration' for the investment: 5000 6 6\n",
            "P =   5000.00 \tR = 6 \tT=      1.00 \tSI =    300.00 \tP1 =   5300.00\n",
            "P =   5300.00 \tR = 6 \tT=      1.00 \tSI =    318.00 \tP1 =   5618.00\n",
            "P =   5618.00 \tR = 6 \tT=      1.00 \tSI =    337.08 \tP1 =   5955.08\n",
            "P =   5955.08 \tR = 6 \tT=      1.00 \tSI =    357.30 \tP1 =   6312.38\n",
            "P =   6312.38 \tR = 6 \tT=      1.00 \tSI =    378.74 \tP1 =   6691.13\n",
            "P =   6691.13 \tR = 6 \tT=      1.00 \tSI =    401.47 \tP1 =   7092.60\n"
          ]
        }
      ]
    },
    {
      "cell_type": "markdown",
      "source": [
        "10. Write a program to determine how many of the numbers between 1 and 10000 contain the digit 3.\n"
      ],
      "metadata": {
        "id": "jQ-zZ_hZr8M2"
      }
    },
    {
      "cell_type": "code",
      "source": [
        "count1=0 #initialising a variable to contain the result of counting\n",
        "i=1\n",
        "for i in range(1,10001):         #condition for the loop \n",
        "  if \"3\" in str(i):              #next operational condition for the loop\n",
        "    count1+=1                    #incrementing the loop\n",
        "  else:\n",
        "    continue                     #using the 'continue' statement to skip not required values.\n",
        "\n",
        "print(\"The required quantity of integers according to the condition is: \",count1)"
      ],
      "metadata": {
        "colab": {
          "base_uri": "https://localhost:8080/"
        },
        "id": "ossfEe2sMgHC",
        "outputId": "22effa9b-0891-47d6-8359-d9b6f993adb3"
      },
      "execution_count": 70,
      "outputs": [
        {
          "output_type": "stream",
          "name": "stdout",
          "text": [
            "The required quantity of integers according to the condition is:  3439\n"
          ]
        }
      ]
    },
    {
      "cell_type": "markdown",
      "source": [
        "11. Write a Python program to find the geometric mean of n numbers"
      ],
      "metadata": {
        "id": "yTc4N8hlr-Hx"
      }
    },
    {
      "cell_type": "code",
      "source": [
        "import math          #importing necessary libraries"
      ],
      "metadata": {
        "id": "eXlzJMulsUUG"
      },
      "execution_count": 74,
      "outputs": []
    },
    {
      "cell_type": "code",
      "source": [
        "n=int(input(\"Enter the number of integers to calculate their GM: \"))                   #taking in input from the user\n",
        "\n",
        "product=1                                                                              #initialising a variable to calculate its product\n",
        "for i in range(n):                                                                     #condition for looping\n",
        "  num=int(input(\"Enter a value: \"))                                                    #taking in input from the user\n",
        "  product*=num                                                                         #next condition for operation to be performed\n",
        "print(\"The geometric Mean of the numbers entered by you is:\",math.pow(product,(1/n)))  #conditions for the operations to be performed   "
      ],
      "metadata": {
        "colab": {
          "base_uri": "https://localhost:8080/"
        },
        "id": "wOWTcNH1Mryb",
        "outputId": "108953a7-8dfe-4421-d92c-837b5a603cc2"
      },
      "execution_count": 77,
      "outputs": [
        {
          "output_type": "stream",
          "name": "stdout",
          "text": [
            "Enter the number of integers to calculate their GM: 2\n",
            "Enter a value: 10\n",
            "Enter a value: 10\n",
            "The geometric Mean of the numbers entered by you is: 10.0\n"
          ]
        }
      ]
    },
    {
      "cell_type": "markdown",
      "source": [
        "12. Write a program by using user input sentences and calculate the number of uppercase letters and lower case letters using statement.\n"
      ],
      "metadata": {
        "id": "bO8Mfz0ysAx1"
      }
    },
    {
      "cell_type": "code",
      "source": [
        "str2=input(\"Enter a Sentence: \")                                  #taking in input from the user \n",
        "str1=str2.replace(\" \",\"\")                                         #removing spaces in the sentence for ease of operation\n",
        "\n",
        "countupper=0                                                      #initialising 1st variable\n",
        "countlower=0                                                      #initialising 2nd variable\n",
        "for i in range(len(str1)):                                        #condition for the loop\n",
        "  if str1[i].isupper():\n",
        "    countupper+=1                                                 #counting 'uppercase' charachters in the input sentence\n",
        "  elif str1[i].islower():\n",
        "    countlower+=1                                                 #counting 'lowercase' charachters in the input sentence\n",
        "  else:\n",
        "    print(\"Invalid Charachter!\")   \n",
        "#'break' statement can be used here for breaking the iteration for every 'invalid charachter' observed in the sentence\n",
        "print(\"\\nThe number of 'uppercase' and 'lowercase' letters in the sentence you typed are: \", countupper,\",\",countlower)    "
      ],
      "metadata": {
        "id": "u4cJv3KKsU5F",
        "colab": {
          "base_uri": "https://localhost:8080/"
        },
        "outputId": "d30218af-0689-427d-dbcf-432a243d30f6"
      },
      "execution_count": 84,
      "outputs": [
        {
          "output_type": "stream",
          "name": "stdout",
          "text": [
            "Enter a Sentence: Hello! What's your name?\n",
            "Invalid Charachter!\n",
            "Invalid Charachter!\n",
            "Invalid Charachter!\n",
            "\n",
            "The number of 'uppercase' and 'lowercase' letters in the sentence you typed are:  2 , 16\n"
          ]
        }
      ]
    },
    {
      "cell_type": "markdown",
      "source": [
        "13. Ask the user for a number and then print the following, where the pattern ends at the number that the user enters.\n",
        "1\n",
        "2\n",
        "3\n",
        "4\n"
      ],
      "metadata": {
        "id": "XfJj6jWasC0C"
      }
    },
    {
      "cell_type": "code",
      "source": [
        "a=int(input(\"Enter a value: \"))            #taking input from the user.\n",
        "\n",
        "i=1                                        #initialising a variable\n",
        "while i<(a+1):                                 #condition for the loop\n",
        "  print(i)                                 #printing the output\n",
        "  i+=1                                     #incrementing the value by '1'"
      ],
      "metadata": {
        "id": "c1tlQrY6sVgZ",
        "colab": {
          "base_uri": "https://localhost:8080/"
        },
        "outputId": "83c66648-2da8-400e-9f10-e448093033bf"
      },
      "execution_count": 88,
      "outputs": [
        {
          "output_type": "stream",
          "name": "stdout",
          "text": [
            "Enter a value: 5\n",
            "1\n",
            "2\n",
            "3\n",
            "4\n",
            "5\n"
          ]
        }
      ]
    },
    {
      "cell_type": "markdown",
      "source": [
        "14. Write a program that displays a temperature conversion table for degrees Celsius and degrees Fahrenheit. The table should include rows for all temperatures between 0 and 100 degrees Celsius that are multiples of 10 degrees Celsius. Include appropriate headings on your columns. The formula for converting between degrees Celsius and degrees Fahrenheit can be found on the internet.\n"
      ],
      "metadata": {
        "id": "OBC3DtjYsKKF"
      }
    },
    {
      "cell_type": "code",
      "source": [
        "degc=0                      #initialising variables for performing operations.\n",
        "degf=0\n",
        "\n",
        "\n",
        "while degc<101:             #condition for the loop.\n",
        "  degf = degc*(1.8)+32      #formula for conversation of 'scales'.\n",
        "  print(\"\\nTemperature in Celcius Scale: \",degc,\"\\tTemperature in Farenheit scale: \",int(degf))\n",
        "  degc+=10                  #incrementing the value within the variable.\n",
        " \n",
        "  "
      ],
      "metadata": {
        "id": "rhNJG_SJsWCQ",
        "colab": {
          "base_uri": "https://localhost:8080/"
        },
        "outputId": "08d2013c-c0ab-49c8-bb6b-d9d7bb9e2ced"
      },
      "execution_count": 94,
      "outputs": [
        {
          "output_type": "stream",
          "name": "stdout",
          "text": [
            "\n",
            "Temperature in Celcius Scale:  0 \tTemperature in Farenheit scale:  32\n",
            "\n",
            "Temperature in Celcius Scale:  10 \tTemperature in Farenheit scale:  50\n",
            "\n",
            "Temperature in Celcius Scale:  20 \tTemperature in Farenheit scale:  68\n",
            "\n",
            "Temperature in Celcius Scale:  30 \tTemperature in Farenheit scale:  86\n",
            "\n",
            "Temperature in Celcius Scale:  40 \tTemperature in Farenheit scale:  104\n",
            "\n",
            "Temperature in Celcius Scale:  50 \tTemperature in Farenheit scale:  122\n",
            "\n",
            "Temperature in Celcius Scale:  60 \tTemperature in Farenheit scale:  140\n",
            "\n",
            "Temperature in Celcius Scale:  70 \tTemperature in Farenheit scale:  158\n",
            "\n",
            "Temperature in Celcius Scale:  80 \tTemperature in Farenheit scale:  176\n",
            "\n",
            "Temperature in Celcius Scale:  90 \tTemperature in Farenheit scale:  194\n",
            "\n",
            "Temperature in Celcius Scale:  100 \tTemperature in Farenheit scale:  212\n"
          ]
        }
      ]
    },
    {
      "cell_type": "markdown",
      "source": [
        "15. Write a program that uses a loop to ask the user to enter 10 numbers. Print out how many numbers are positive and add up all the numbers."
      ],
      "metadata": {
        "id": "Z8J6se1vsMEx"
      }
    },
    {
      "cell_type": "code",
      "source": [
        "count1=0                                                              #initialising variables for performing operations.\n",
        "sum=0\n",
        "\n",
        "for i in range(10):                                                   #condition for iterating '10' times.\n",
        "  z=int(input(\"\\nEnter a value: \"))                                   #taking in input from the user.\n",
        "  if z>0:                                                             #conition for checking input.\n",
        "    count1+=1                                                         #incrementing the count.\n",
        "    sum+=z                                                            #summing the values.\n",
        "  else:\n",
        "    continue                                                          #skipping the 'negative' values.\n",
        "\n",
        "print(\"\\nThe number of positive integers are: \",count1)               #printing the number of 'possitive' integers on the sceen.\n",
        "\n",
        "print(\"\\nThe sum of the positive integers entered by you is: \",sum)   #printing the result of summation of all 'positive' integers."
      ],
      "metadata": {
        "id": "6P2WU4dasNpy",
        "colab": {
          "base_uri": "https://localhost:8080/"
        },
        "outputId": "44621375-8584-4b96-a777-c4a7c42c7d97"
      },
      "execution_count": 97,
      "outputs": [
        {
          "output_type": "stream",
          "name": "stdout",
          "text": [
            "\n",
            "Enter a value: 10\n",
            "\n",
            "Enter a value: -10\n",
            "\n",
            "Enter a value: 100\n",
            "\n",
            "Enter a value: -102\n",
            "\n",
            "Enter a value: 300\n",
            "\n",
            "Enter a value: -5\n",
            "\n",
            "Enter a value: -6\n",
            "\n",
            "Enter a value: -7\n",
            "\n",
            "Enter a value: 500\n",
            "\n",
            "Enter a value: -350\n",
            "\n",
            "The number of positive integers are:  4\n",
            "\n",
            "The sum of the positive integers entered by you is:  910\n"
          ]
        }
      ]
    }
  ]
}