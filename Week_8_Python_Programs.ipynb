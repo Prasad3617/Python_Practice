{
  "cells": [
    {
      "cell_type": "markdown",
      "metadata": {
        "id": "view-in-github",
        "colab_type": "text"
      },
      "source": [
        "<a href=\"https://colab.research.google.com/github/Prasad3617/Python_Practice/blob/main/Week_8_Python_Programs.ipynb\" target=\"_parent\"><img src=\"https://colab.research.google.com/assets/colab-badge.svg\" alt=\"Open In Colab\"/></a>"
      ]
    },
    {
      "cell_type": "markdown",
      "id": "0cf2ad27",
      "metadata": {
        "id": "0cf2ad27"
      },
      "source": [
        "# Program to return 'Even Numbers' upto a certain Limit."
      ]
    },
    {
      "cell_type": "code",
      "execution_count": null,
      "id": "3d8b01b3",
      "metadata": {
        "id": "3d8b01b3"
      },
      "outputs": [],
      "source": [
        "class Evens(object):\n",
        "    def __init__(self,l):\n",
        "        self._limit=l\n",
        "        self._val=0\n",
        "\n",
        "    #makes this class an iterable\n",
        "    def __iter__(self):\n",
        "        return self\n",
        "\n",
        "    #makes this class an iterator\n",
        "    def __next__(self):\n",
        "        if self._val>self._limit:\n",
        "            raise StopIteration\n",
        "        else:\n",
        "            return_val=self._val\n",
        "            self._val+=2\n",
        "            return return_val"
      ]
    },
    {
      "cell_type": "code",
      "execution_count": null,
      "id": "dd2c6965",
      "metadata": {
        "id": "dd2c6965",
        "outputId": "c59c8ce8-e2bd-4a9d-9e01-3c37cab1bbac"
      },
      "outputs": [
        {
          "name": "stdout",
          "output_type": "stream",
          "text": [
            "Enter the value of the limit: 5\n",
            "\n",
            "Even numbers from 0 to 5 are:-\n",
            "\n",
            " 0\n",
            "\n",
            " 2\n",
            "\n",
            " 4\n"
          ]
        }
      ],
      "source": [
        "i=int(input(\"Enter the value of the limit: \"))\n",
        "print(\"\\nEven numbers from 0 to\",i,\"are:-\")\n",
        "for j in Evens(i):\n",
        "    print(\"\\n\",j)"
      ]
    },
    {
      "cell_type": "markdown",
      "id": "c61a08e2",
      "metadata": {
        "id": "c61a08e2"
      },
      "source": [
        "# Program to return 'Factorial' of number(s) upto a certain Limit."
      ]
    },
    {
      "cell_type": "code",
      "execution_count": null,
      "id": "fc84942f",
      "metadata": {
        "id": "fc84942f"
      },
      "outputs": [],
      "source": [
        "class Fact(object):\n",
        "    def __init__(self,l):\n",
        "        self._limit=l\n",
        "        self._val=0\n",
        "\n",
        "    def __iter__(self):\n",
        "        return self\n",
        "\n",
        "    def fact(self,num):\n",
        "        product=1\n",
        "        for i in range(1,num+1):\n",
        "            product*=i\n",
        "        return product\n",
        "\n",
        "    def __next__(self):\n",
        "        if self._val>self._limit:\n",
        "            raise StopIteration\n",
        "\n",
        "        else:\n",
        "            return_val=self.fact(self._val)\n",
        "            self._val+=1\n",
        "            return return_val"
      ]
    },
    {
      "cell_type": "code",
      "execution_count": null,
      "id": "bebbb921",
      "metadata": {
        "id": "bebbb921",
        "outputId": "071a0d9e-b2b6-4c85-d02f-6593257f1588"
      },
      "outputs": [
        {
          "name": "stdout",
          "output_type": "stream",
          "text": [
            "Enter a Positive Value for the limit to calculate Factorials upto that limit: 5\n",
            "\n",
            "Factorials of numbers from 0 to 5 are:-\n",
            "\n",
            " 1\n",
            "\n",
            " 1\n",
            "\n",
            " 2\n",
            "\n",
            " 6\n",
            "\n",
            " 24\n",
            "\n",
            " 120\n"
          ]
        }
      ],
      "source": [
        "n=int(input(\"Enter a Positive Value for the limit to calculate Factorials upto that limit: \"))\n",
        "print(\"\\nFactorials of numbers from 0 to\",n,\"are:-\")\n",
        "for i in Fact(n):\n",
        "    print(\"\\n\",i)"
      ]
    },
    {
      "cell_type": "markdown",
      "id": "4ce54045",
      "metadata": {
        "id": "4ce54045"
      },
      "source": [
        "# Exception Handling: Application of \"try-except block\""
      ]
    },
    {
      "cell_type": "code",
      "execution_count": null,
      "id": "ac305e0f",
      "metadata": {
        "id": "ac305e0f",
        "outputId": "f2db3e82-378a-403f-96fc-29859b4efd17"
      },
      "outputs": [
        {
          "name": "stdout",
          "output_type": "stream",
          "text": [
            "\n",
            "An unknown error in 'runcalc function.'\n",
            "\n",
            "The Functional Block was run successfully.\n"
          ]
        }
      ],
      "source": [
        "def runcalc(x):\n",
        "    return x/0\n",
        "\n",
        "#'try' block\n",
        "try:\n",
        "    runcalc(6)\n",
        "\n",
        "#'Exception Handler(s)'\n",
        "except Exception as e:\n",
        "    print(\"\\nAn unknown error in 'runcalc function.'\")\n",
        "\n",
        "except IndexError as i:\n",
        "    print(\"\\nIndex Error in 'runcalc function.'\")\n",
        "\n",
        "except ZeroDivisionError as z:\n",
        "    print(\"\\nZero Division Error in 'runcalc function.'\")\n",
        "\n",
        "except FileNotFoundError as f:\n",
        "    print(\"\\nFile Not Found Error in 'runcalc function.'\")\n",
        "\n",
        "#'else' block\n",
        "else:\n",
        "    runcalc(6)\n",
        "\n",
        "#'finally' block\n",
        "finally:\n",
        "    print(\"\\nThe Functional Block was run successfully.\")"
      ]
    },
    {
      "cell_type": "code",
      "execution_count": null,
      "id": "2c5724d9",
      "metadata": {
        "id": "2c5724d9",
        "outputId": "6a2b84fa-8fe0-4443-ed77-4df23fe8f5eb"
      },
      "outputs": [
        {
          "name": "stdout",
          "output_type": "stream",
          "text": [
            "\n",
            "Enter the value of numerator: 5\n",
            "\n",
            "Enter the value of denominator: 5\n"
          ]
        }
      ],
      "source": [
        "def my_function(x,y):\n",
        "    return x/y\n",
        "\n",
        "x=int(input(\"\\nEnter the value of numerator: \"))\n",
        "y=int(input(\"\\nEnter the value of denominator: \"))"
      ]
    },
    {
      "cell_type": "code",
      "execution_count": null,
      "id": "d10a11a6",
      "metadata": {
        "id": "d10a11a6",
        "outputId": "490cbea6-b360-4d5f-8e22-c6347017afc0"
      },
      "outputs": [
        {
          "name": "stdout",
          "output_type": "stream",
          "text": [
            "\n",
            "Zero Division Error has occured in the function during the runtime.\n",
            "\n",
            "The Function was interpreted successfully.\n"
          ]
        }
      ],
      "source": [
        "try:\n",
        "    x/y\n",
        "\n",
        "except ZeroDivisionError as z:\n",
        "    print(\"\\nZero Division Error has occured in the function during the runtime.\")\n",
        "except Exception as e:\n",
        "    print(\"\\nAn Unknown Error has occured in the function during the runtime.\")\n",
        "\n",
        "else:\n",
        "    print(\"\\nNo Error Occured.\")\n",
        "\n",
        "finally:\n",
        "    print(\"\\nThe Function was interpreted successfully.\")"
      ]
    },
    {
      "cell_type": "markdown",
      "id": "71644b2e",
      "metadata": {
        "id": "71644b2e"
      },
      "source": [
        "# Catching an Exception"
      ]
    },
    {
      "cell_type": "code",
      "execution_count": null,
      "id": "159072b7",
      "metadata": {
        "id": "159072b7",
        "outputId": "61d5d68c-e3b7-464a-942a-b25ec229c843"
      },
      "outputs": [
        {
          "name": "stdout",
          "output_type": "stream",
          "text": [
            "\n",
            "Some Error has occured.\n"
          ]
        }
      ],
      "source": [
        "try:\n",
        "    x/y\n",
        "\n",
        "#Exception Handler(s)\n",
        "except IndexError as i:\n",
        "    print(\"\\n\",i,\"has occured.\")\n",
        "\n",
        "#a wild card for catching any type of error/exception encountered during the runtime.\n",
        "except:\n",
        "    print(\"\\nSome Error has occured.\")"
      ]
    },
    {
      "cell_type": "markdown",
      "id": "4afc65bf",
      "metadata": {
        "id": "4afc65bf"
      },
      "source": [
        "# Raising an Exception\n",
        "\n",
        "### An Error/Exception is raised using the keyword raise.\n",
        "### Its syntax is : raise<Exception/Error Type to raise>()"
      ]
    },
    {
      "cell_type": "code",
      "execution_count": null,
      "id": "b0eaa9b2",
      "metadata": {
        "id": "b0eaa9b2",
        "outputId": "44ca2a60-9e0e-4f32-bd83-235aded82b0e"
      },
      "outputs": [
        {
          "name": "stdout",
          "output_type": "stream",
          "text": [
            "\n",
            "Unacceptable value for 'y'.\n",
            "Division by 'Zero' isn't possible.\n",
            "Try changing the value of 'y'.\n"
          ]
        }
      ],
      "source": [
        "try:\n",
        "    if y==0:\n",
        "        raise ValueError(\"\\nUnacceptable value for 'y'.\\nDivision by 'Zero' isn't possible.\\nTry changing the value of 'y'.\")\n",
        "    print(my_function(x,y))\n",
        "\n",
        "except ValueError as e:\n",
        "    print(e)\n",
        "\n",
        "else:\n",
        "    print(\"\\nEverything was Fine. \\nCode ran successfully.\")"
      ]
    },
    {
      "cell_type": "markdown",
      "id": "14181121",
      "metadata": {
        "id": "14181121"
      },
      "source": [
        "# Assertions"
      ]
    },
    {
      "cell_type": "code",
      "execution_count": null,
      "id": "062c62d2",
      "metadata": {
        "id": "062c62d2",
        "outputId": "e228bac7-63c7-4bda-d145-e386279f6a40"
      },
      "outputs": [
        {
          "data": {
            "text/plain": [
              "3.0"
            ]
          },
          "execution_count": 5,
          "metadata": {},
          "output_type": "execute_result"
        }
      ],
      "source": [
        "x=6\n",
        "y=2\n",
        "\n",
        "assert y!=0, \"Denominator shouldn't be Zero.\"\n",
        "my_function(x,y)"
      ]
    },
    {
      "cell_type": "code",
      "execution_count": null,
      "id": "86a789fc",
      "metadata": {
        "id": "86a789fc"
      },
      "outputs": [],
      "source": [
        "#A programme to accept a positive value of 'n' from the user to return the squares from '1' to 'n'.\n",
        "#If a negative number is entered then appropriate error message and action needs to be taken."
      ]
    },
    {
      "cell_type": "code",
      "execution_count": null,
      "id": "09c7c515",
      "metadata": {
        "id": "09c7c515"
      },
      "outputs": [],
      "source": [
        "class Squares(object):\n",
        "\n",
        "    def __init__(self,l):\n",
        "        self._limit=l\n",
        "        self._val=0\n",
        "\n",
        "    def __iter__(self):\n",
        "        return self\n",
        "\n",
        "    def __next__(self):\n",
        "        if self._val>self._limit:\n",
        "            raise StopIteration\n",
        "\n",
        "        else:\n",
        "            return_val=self._val*self._val\n",
        "            self._val+=1\n",
        "            return return_val"
      ]
    },
    {
      "cell_type": "code",
      "execution_count": null,
      "id": "a34ee508",
      "metadata": {
        "id": "a34ee508",
        "outputId": "e4db9034-70fa-4265-ae61-cce81a826c9b"
      },
      "outputs": [
        {
          "name": "stdout",
          "output_type": "stream",
          "text": [
            "Enter a number: 100\n",
            "0,1,4,9,16,25,36,49,64,81,100,121,144,169,196,225,256,289,324,361,400,441,484,529,576,625,676,729,784,841,900,961,1024,1089,1156,1225,1296,1369,1444,1521,1600,1681,1764,1849,1936,2025,2116,2209,2304,2401,2500,2601,2704,2809,2916,3025,3136,3249,3364,3481,3600,3721,3844,3969,4096,4225,4356,4489,4624,4761,4900,5041,5184,5329,5476,5625,5776,5929,6084,6241,6400,6561,6724,6889,7056,7225,7396,7569,7744,7921,8100,8281,8464,8649,8836,9025,9216,9409,9604,9801,10000,"
          ]
        }
      ],
      "source": [
        "n=int(input(\"Enter a number: \"))\n",
        "\n",
        "try:\n",
        "    if n<0:\n",
        "        raise ValueError\n",
        "\n",
        "except ValueError:\n",
        "    print(\"\\nEnter a positive value for 'n'.\")\n",
        "\n",
        "for i in Squares(n):\n",
        "    print(i,end=\",\")"
      ]
    },
    {
      "cell_type": "markdown",
      "id": "7ff29b44",
      "metadata": {
        "id": "7ff29b44"
      },
      "source": [
        "# Decorators\n"
      ]
    },
    {
      "cell_type": "code",
      "execution_count": null,
      "id": "b7985588",
      "metadata": {
        "id": "b7985588"
      },
      "outputs": [],
      "source": [
        "def my_decorator(func):\n",
        "    def wrapper():\n",
        "        print(\"\\n\",\"*\"*25)\n",
        "        func()\n",
        "        print(\"\\n\",\"*\"*25)\n",
        "    return wrapper\n",
        "\n",
        "@my_decorator\n",
        "def display():\n",
        "    print(\"\\n\\tHello World!\")"
      ]
    },
    {
      "cell_type": "code",
      "execution_count": null,
      "id": "626ed2d7",
      "metadata": {
        "id": "626ed2d7",
        "outputId": "88c5077f-5325-42fb-e9b9-640dd2fc4c04"
      },
      "outputs": [
        {
          "name": "stdout",
          "output_type": "stream",
          "text": [
            "\n",
            " *************************\n",
            "\n",
            "\tHello World!\n",
            "\n",
            " *************************\n"
          ]
        }
      ],
      "source": [
        "display()"
      ]
    },
    {
      "cell_type": "markdown",
      "id": "4b44ed25",
      "metadata": {
        "id": "4b44ed25"
      },
      "source": [
        "## Multiple Decorators"
      ]
    },
    {
      "cell_type": "code",
      "execution_count": null,
      "id": "34039d80",
      "metadata": {
        "id": "34039d80"
      },
      "outputs": [],
      "source": [
        "def star(func):\n",
        "    def inner(*args,**kwargs):\n",
        "        print(\"\\n\",\"*\"*50)\n",
        "        func(*args,**kwargs)\n",
        "        print(\"\\n\",\"*\"*50)\n",
        "    return inner\n",
        "\n",
        "def hash1(func):\n",
        "    def outer(*args,**kwargs):\n",
        "        print(\"\\n\",\"#\"*50)\n",
        "        func(*args,**kwargs)\n",
        "        print(\"\\n\",\"#\"*50)\n",
        "    return outer\n",
        "\n",
        "@star\n",
        "@hash1\n",
        "def printer(msg):\n",
        "    print(msg)"
      ]
    },
    {
      "cell_type": "code",
      "execution_count": null,
      "id": "f0fb73b5",
      "metadata": {
        "id": "f0fb73b5",
        "outputId": "b3bfca2d-2950-439a-d35d-b4390637d498"
      },
      "outputs": [
        {
          "name": "stdout",
          "output_type": "stream",
          "text": [
            "\n",
            " **************************************************\n",
            "\n",
            " ##################################################\n",
            "\n",
            "\t\tMultiple Decorators!\n",
            "\n",
            " ##################################################\n",
            "\n",
            " **************************************************\n"
          ]
        }
      ],
      "source": [
        "printer(\"\\n\\t\\tMultiple Decorators!\")"
      ]
    },
    {
      "cell_type": "markdown",
      "id": "aa4c07b6",
      "metadata": {
        "id": "aa4c07b6"
      },
      "source": [
        "## Other Complex Problems with the use of Decorators"
      ]
    },
    {
      "cell_type": "code",
      "execution_count": null,
      "id": "66d246d0",
      "metadata": {
        "id": "66d246d0"
      },
      "outputs": [],
      "source": [
        "import time\n",
        "def timer(func):\n",
        "    def calculate(*args,**kwargs):\n",
        "        start_time=time.perf_counter()\n",
        "        value=func(*args,**kwargs)\n",
        "        end_time=time.perf_counter()\n",
        "        runtime=end_time-start_time\n",
        "        print(\"Execution_time:::{0:20.20f}secs\".format(runtime))\n",
        "        return value\n",
        "    return calculate"
      ]
    },
    {
      "cell_type": "code",
      "execution_count": null,
      "id": "2ce8de05",
      "metadata": {
        "id": "2ce8de05"
      },
      "outputs": [],
      "source": [
        "@timer\n",
        "def factorial(n):\n",
        "    fact=1\n",
        "    for i in range (n):\n",
        "        fact=fact*(i+1)\n",
        "    return fact"
      ]
    },
    {
      "cell_type": "code",
      "execution_count": null,
      "id": "75756cac",
      "metadata": {
        "id": "75756cac",
        "outputId": "e7bbbb25-d567-4549-b29c-1622bb1122f2"
      },
      "outputs": [
        {
          "name": "stdout",
          "output_type": "stream",
          "text": [
            "Execution_time:::0.00000329200020132703secs\n",
            "\n",
            "Factorial is: 120\n"
          ]
        }
      ],
      "source": [
        "print(\"\\nFactorial is:\",factorial(5))"
      ]
    },
    {
      "cell_type": "code",
      "execution_count": null,
      "id": "67dd4d60",
      "metadata": {
        "id": "67dd4d60"
      },
      "outputs": [],
      "source": []
    }
  ],
  "metadata": {
    "kernelspec": {
      "display_name": "Python 3 (ipykernel)",
      "language": "python",
      "name": "python3"
    },
    "language_info": {
      "codemirror_mode": {
        "name": "ipython",
        "version": 3
      },
      "file_extension": ".py",
      "mimetype": "text/x-python",
      "name": "python",
      "nbconvert_exporter": "python",
      "pygments_lexer": "ipython3",
      "version": "3.11.4"
    },
    "colab": {
      "provenance": [],
      "include_colab_link": true
    }
  },
  "nbformat": 4,
  "nbformat_minor": 5
}