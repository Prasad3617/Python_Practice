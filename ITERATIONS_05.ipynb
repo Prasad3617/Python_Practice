{
  "nbformat": 4,
  "nbformat_minor": 0,
  "metadata": {
    "colab": {
      "provenance": [],
      "authorship_tag": "ABX9TyPV33segSW6XX+zK9L1Sp1X",
      "include_colab_link": true
    },
    "kernelspec": {
      "name": "python3",
      "display_name": "Python 3"
    },
    "language_info": {
      "name": "python"
    },
    "accelerator": "GPU",
    "gpuClass": "standard"
  },
  "cells": [
    {
      "cell_type": "markdown",
      "metadata": {
        "id": "view-in-github",
        "colab_type": "text"
      },
      "source": [
        "<a href=\"https://colab.research.google.com/github/Prasad3617/Python_Practice/blob/main/ITERATIONS_05.ipynb\" target=\"_parent\"><img src=\"https://colab.research.google.com/assets/colab-badge.svg\" alt=\"Open In Colab\"/></a>"
      ]
    },
    {
      "cell_type": "markdown",
      "source": [
        "## Some examples for looping constructs."
      ],
      "metadata": {
        "id": "pTVMc5haoYAM"
      }
    },
    {
      "cell_type": "code",
      "source": [
        "#Write a programme to take input of an integer from user, which happens to be greater than 10\n",
        "#and hence print all even numbers from \"0\" to \"n\".\n",
        "\n",
        "k=int(input(\"Enter an integer greater than '10': \"))\n",
        "if k>10:\n",
        "  print(\"\\n\")\n",
        "  print(\"All even integers are: \")\n",
        "  print(\"\\n\")\n",
        "  for i in range(k+1):\n",
        "    if i%2==0:\n",
        "      print(i)\n",
        "else:\n",
        "  print(\"Enter a valid integer that is greater than '10'.\")      "
      ],
      "metadata": {
        "colab": {
          "base_uri": "https://localhost:8080/"
        },
        "id": "jz-w287SoZFK",
        "outputId": "e460e49c-a79b-4e84-9373-3bb9030c0f16"
      },
      "execution_count": 1,
      "outputs": [
        {
          "output_type": "stream",
          "name": "stdout",
          "text": [
            "Enter an integer greater than '10': 12\n",
            "\n",
            "\n",
            "All even integers are: \n",
            "\n",
            "\n",
            "0\n",
            "2\n",
            "4\n",
            "6\n",
            "8\n",
            "10\n",
            "12\n"
          ]
        }
      ]
    },
    {
      "cell_type": "code",
      "source": [
        "#Write a programme to accept an integer \"n\" from user and check whether it is prime or not.\n",
        "\n",
        "p=int(input(\"Enter an integer: \"))\n",
        "print(\"\\n\")\n",
        "\n",
        "for i in range(2,p):\n",
        "  if p%i==0:\n",
        "    print(\"The number\",p, \"is a 'COMPOSITE' number.\")\n",
        "    break\n",
        "  else:\n",
        "    print(\"The number\",p, \"is a 'PRIME' number.\") \n",
        "    break "
      ],
      "metadata": {
        "colab": {
          "base_uri": "https://localhost:8080/"
        },
        "id": "T6CCwkSzodfP",
        "outputId": "6015f2bb-8555-4488-ecf7-4565fdd86831"
      },
      "execution_count": 2,
      "outputs": [
        {
          "output_type": "stream",
          "name": "stdout",
          "text": [
            "Enter an integer: 17\n",
            "\n",
            "\n",
            "The number 17 is a 'PRIME' number.\n"
          ]
        }
      ]
    },
    {
      "cell_type": "code",
      "source": [
        "#Take input of a string from a user and check whether its a palindrome.\n",
        "#Examples of palindrome: \"CIVIC\", \"LOL\", \"MAM\", \"MOM\", \"WOW\", \"BOB\"\n",
        "\n",
        "word=input(\"ENTER A STRING: \")\n",
        "rev=word[::-1]\n",
        "print(\"\\n\")\n",
        "for i in range(len(word)):\n",
        "  if word[i] != rev[i):\n",
        "    print(\"Its  not a palindrome.\")\n",
        "    break\n",
        "\n",
        "  else:\n",
        "    print(\"Its a palindrome.\") \n",
        "    break \n",
        "print(\"Thanks for your attempt! Looping completed.\")"
      ],
      "metadata": {
        "colab": {
          "base_uri": "https://localhost:8080/"
        },
        "id": "rhMwrxMTshBY",
        "outputId": "08c672c4-2a64-4115-929b-132114227afc"
      },
      "execution_count": 12,
      "outputs": [
        {
          "output_type": "stream",
          "name": "stdout",
          "text": [
            "ENTER A STRING: bob\n",
            "\n",
            "\n",
            "Its a palindrome.\n",
            "Thanks for your attempt! Looping completed.\n"
          ]
        }
      ]
    },
    {
      "cell_type": "code",
      "source": [
        "#Write a programme to take in input from user.\n",
        "#Display a message if this length of a string is allowed for an application with a limit of \"400\" charachters.\n",
        "\n",
        "sentence=input(\"Enter a sentence: \")\n",
        "print(\"\\n\")\n",
        "count=0\n",
        "for i in sentence:\n",
        "  if i.isspace():\n",
        "    count+=1\n",
        "\n",
        "print(\"The number of charachters used in your application are: \", len(sentence)-count) \n",
        "print(\"\\n\")\n",
        "if len(sentence)-count < 401:\n",
        "  print(\"Your application is valid and hence is approved to proceed further.\")\n",
        "\n",
        "else:\n",
        "  print(\"Your application exceeds the given word limit. \\nKindly edit before we approve and proceed.\")"
      ],
      "metadata": {
        "colab": {
          "base_uri": "https://localhost:8080/"
        },
        "id": "5geT-UJ0t5bC",
        "outputId": "9317254e-637f-4ed9-ed19-13d3ff053a2d"
      },
      "execution_count": 9,
      "outputs": [
        {
          "output_type": "stream",
          "name": "stdout",
          "text": [
            "Enter a sentence: Hello! I am Prasad\n",
            "\n",
            "\n",
            "The number of charachters used in your application are:  15\n",
            "\n",
            "\n",
            "Your application is valid and hence is approved to proceed further.\n"
          ]
        }
      ]
    },
    {
      "cell_type": "code",
      "source": [
        "#Write a programme to take in input as a sentence from the user.\n",
        "#Determine the number of space, uppercase, lowercase letters, spaces and \n",
        "#number of digits in the sentence.\n",
        "\n",
        "str1=input(\"Enter a sentence with a mixture of 'words' and 'number':\")\n",
        "\n",
        "no_of_upper=0\n",
        "no_of_lower=0\n",
        "no_of_spaces=0\n",
        "no_of_digits=0\n",
        "misc=0\n",
        "\n",
        "for i in str1:\n",
        "  if i.isupper():\n",
        "    no_of_upper+=1\n",
        "  elif i.islower():\n",
        "    no_of_lower+=1\n",
        "  elif i.isspace():\n",
        "    no_of_spaces+=1\n",
        "  elif i.isdigit():\n",
        "    no_of_digits+=1\n",
        "  else:\n",
        "    misc+=1\n",
        "\n",
        "sum=no_of_spaces+no_of_upper+no_of_lower+no_of_digits+misc\n",
        "\n",
        "print(\"The sentence you entered has: \\n \"+ str(no_of_upper) + \": spaces,\\n \"+ str(no_of_upper) + \": uppercase letters,\\n \"+ str(no_of_lower) + \": lowercase letters,\\n \" + str(no_of_digits) +\": number of digits and \\n \"+ str(misc) + \": number of miscellaneous charachters.\")  \n",
        "print(\"\\n\")\n",
        "print(\"The number of charachters you entered are: \", sum)"
      ],
      "metadata": {
        "colab": {
          "base_uri": "https://localhost:8080/"
        },
        "id": "u5dRIdUvzAc5",
        "outputId": "f73e019d-0249-4a0e-db29-d5b634baca14"
      },
      "execution_count": 11,
      "outputs": [
        {
          "output_type": "stream",
          "name": "stdout",
          "text": [
            "Enter a sentence with a mixture of 'words' and 'number':Hey! Hi how are you?\n",
            "The sentence you entered has: \n",
            " 2: spaces,\n",
            " 2: uppercase letters,\n",
            " 12: lowercase letters,\n",
            " 0: number of digits and \n",
            " 2: number of miscellaneous charachters.\n",
            "\n",
            "\n",
            "The number of charachters you entered are:  20\n"
          ]
        }
      ]
    }
  ]
}