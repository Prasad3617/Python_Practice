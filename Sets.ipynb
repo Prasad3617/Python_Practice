{
  "nbformat": 4,
  "nbformat_minor": 0,
  "metadata": {
    "colab": {
      "provenance": [],
      "authorship_tag": "ABX9TyMkoOMP4p4mhiug33iUpP+h",
      "include_colab_link": true
    },
    "kernelspec": {
      "name": "python3",
      "display_name": "Python 3"
    },
    "language_info": {
      "name": "python"
    }
  },
  "cells": [
    {
      "cell_type": "markdown",
      "metadata": {
        "id": "view-in-github",
        "colab_type": "text"
      },
      "source": [
        "<a href=\"https://colab.research.google.com/github/Prasad3617/Python_Practice/blob/main/Sets.ipynb\" target=\"_parent\"><img src=\"https://colab.research.google.com/assets/colab-badge.svg\" alt=\"Open In Colab\"/></a>"
      ]
    },
    {
      "cell_type": "markdown",
      "source": [
        "# **Sets**"
      ],
      "metadata": {
        "id": "PrLLKlUuVOfZ"
      }
    },
    {
      "cell_type": "code",
      "source": [
        "s1={1,2,3,'abc'}                              #declaring a set.\n",
        "print(\"The set 's1' is: \",s1)\n",
        "\n",
        "s2=set()                                      #declaring an empty set.\n",
        "print(\"\\nThe set 's2' is: \",s2)"
      ],
      "metadata": {
        "colab": {
          "base_uri": "https://localhost:8080/"
        },
        "id": "LMsHI5DQVRvX",
        "outputId": "9e22d325-1bf1-4849-c386-8670460d9c2a"
      },
      "execution_count": 1,
      "outputs": [
        {
          "output_type": "stream",
          "name": "stdout",
          "text": [
            "The set 's1' is:  {1, 2, 3, 'abc'}\n",
            "\n",
            "The set 's2' is:  set()\n"
          ]
        }
      ]
    },
    {
      "cell_type": "markdown",
      "source": [
        "###Transforming a 'list' into a set"
      ],
      "metadata": {
        "id": "3Amg30SIWDT_"
      }
    },
    {
      "cell_type": "code",
      "source": [
        "l1=[1,2,3,4,5]                               #declaring a list.\n",
        "s3=set(l1)                                   #converting the declared list into a set.\n",
        "\n",
        "print(\"\\nThe set 's3' is: \",s3)"
      ],
      "metadata": {
        "colab": {
          "base_uri": "https://localhost:8080/"
        },
        "id": "FMO1EsPnWCfN",
        "outputId": "e7cb57ed-1efc-4d6d-90e5-d8b227135886"
      },
      "execution_count": 2,
      "outputs": [
        {
          "output_type": "stream",
          "name": "stdout",
          "text": [
            "\n",
            "The set 's3' is:  {1, 2, 3, 4, 5}\n"
          ]
        }
      ]
    },
    {
      "cell_type": "markdown",
      "source": [
        "###Printing elements of a set and iterating over a set\n",
        "\n",
        "\n"
      ],
      "metadata": {
        "id": "aB-j0NG6Ws9P"
      }
    },
    {
      "cell_type": "code",
      "source": [
        "s4=set()                                                    #declaring an empty set.\n",
        "for i in range(7):                                          #iterations to collect input, in a set, from an user.\n",
        "  j=input(\"Enter the name of your five friends: \")\n",
        "  s4.add(j)                                                \n",
        "\n",
        "print(\"\\nThe list of your friends is: \",s4)                 #printing the set 's4'.\n",
        "print(\"\\nThe number of friends you have is: \",len(s4))"
      ],
      "metadata": {
        "colab": {
          "base_uri": "https://localhost:8080/"
        },
        "id": "QzBN9UjcWzIz",
        "outputId": "e121b239-8f90-41e2-8581-c4b0bbc18b85"
      },
      "execution_count": 8,
      "outputs": [
        {
          "output_type": "stream",
          "name": "stdout",
          "text": [
            "Enter the name of your five friends: amstark\n",
            "Enter the name of your five friends: auntaa\n",
            "Enter the name of your five friends: blubeauty\n",
            "Enter the name of your five friends: rupanzel\n",
            "Enter the name of your five friends: sak\n",
            "Enter the name of your five friends: sam\n",
            "Enter the name of your five friends: sky\n",
            "\n",
            "The list of your friends is:  {'sky', 'sak', 'blubeauty', 'rupanzel', 'sam', 'auntaa', 'amstark'}\n",
            "\n",
            "The number of friends you have is:  7\n"
          ]
        }
      ]
    },
    {
      "cell_type": "markdown",
      "source": [
        "###\"Add\" and \"Update\" methods on a set"
      ],
      "metadata": {
        "id": "GPQMUsafaJVi"
      }
    },
    {
      "cell_type": "code",
      "source": [
        "s4.add(\"ashu\")                                                   #adding an element to the set.\n",
        "print(\"\\nThe set s4 is: \",s4)                                    #printing the new set 's4'\n",
        "\n",
        "s4.update(['arpit','chetan','dhawal','kaustubh','manish'])       #updating the set 's4' \n",
        "print(\"\\nThe updated set 's4' is: \",s4)                          #printing the updated set s4'"
      ],
      "metadata": {
        "colab": {
          "base_uri": "https://localhost:8080/"
        },
        "id": "CVGX4Po2aNg0",
        "outputId": "02ad01ea-9d09-4627-9534-e1749d8a7412"
      },
      "execution_count": 12,
      "outputs": [
        {
          "output_type": "stream",
          "name": "stdout",
          "text": [
            "\n",
            "The set s4 is:  {'c', 'sak', 'm', 'sam', 'auntaa', 'r', 'i', 'n', 'arpit', 'chetan', 't', 'p', 'k', 's', 'ashu', 'a', 'l', 'dhawal', 'rupanzel', 'u', 'manish', 'b', 'sky', 'e', 'kaustubh', 'blubeauty', 'h', 'w', 'd', 'amstark'}\n",
            "\n",
            "The updated set 's4' is:  {'c', 'sak', 'm', 'sam', 'auntaa', 'r', 'i', 'n', 'arpit', 'chetan', 't', 'p', 'k', 's', 'ashu', 'a', 'l', 'dhawal', 'rupanzel', 'u', 'manish', 'b', 'sky', 'e', 'kaustubh', 'blubeauty', 'h', 'w', 'd', 'amstark'}\n"
          ]
        }
      ]
    },
    {
      "cell_type": "markdown",
      "source": [
        "###Conditional Statement on sets"
      ],
      "metadata": {
        "id": "lrAZDpPOYkI-"
      }
    },
    {
      "cell_type": "code",
      "source": [
        "k=input(\"Enter a name to check in your friends' list: \")\n",
        "\n",
        "if k in s4:\n",
        "  print(\"Yes, \",k,\" is your friend.\")\n",
        "\n",
        "else:\n",
        "  print(\"No, \",k,\" isn't your friend.\")"
      ],
      "metadata": {
        "colab": {
          "base_uri": "https://localhost:8080/"
        },
        "id": "exA2erOwYoHD",
        "outputId": "92455d38-b646-4ebf-b27d-090297878b08"
      },
      "execution_count": 6,
      "outputs": [
        {
          "output_type": "stream",
          "name": "stdout",
          "text": [
            "Enter a name to check in your friends' list: sky\n",
            "Yes,  sky  is your friend.\n"
          ]
        }
      ]
    },
    {
      "cell_type": "markdown",
      "source": [
        "###Obtaining the maximum and minimum values within a set "
      ],
      "metadata": {
        "id": "cUao-fpxbuHb"
      }
    },
    {
      "cell_type": "code",
      "source": [
        "s5={1,12,123,1234,12345}                                         #declaring a set.\n",
        "print(\"The set 's5' is: \",s5)\n",
        "\n",
        "print(\"\\nThe minimum value within a set 's5' is: \", min(s5))     #printing the minimum value within a set.\n",
        "print(\"\\nThe maximum value within a set 's5' is:  \",max(s5))     #printing the maximum value within a set.      "
      ],
      "metadata": {
        "colab": {
          "base_uri": "https://localhost:8080/"
        },
        "id": "UqMCXVw7b2dm",
        "outputId": "599a26e8-5b25-4cac-e1b2-c6e7faf97cba"
      },
      "execution_count": 15,
      "outputs": [
        {
          "output_type": "stream",
          "name": "stdout",
          "text": [
            "The set 's5' is:  {1, 12, 1234, 12345, 123}\n",
            "\n",
            "The minimum value within a set 's5' is:  1\n",
            "\n",
            "The maximum value within a set 's5' is:   12345\n"
          ]
        }
      ]
    },
    {
      "cell_type": "markdown",
      "source": [
        "###Nesting elements as a tuple within a set"
      ],
      "metadata": {
        "id": "_YnZpRNLdAjM"
      }
    },
    {
      "cell_type": "code",
      "source": [
        "s6={(1,2,4,12,48,120),'abc'}                                      #declaring a nested tuple within a set 's6'.\n",
        "\n",
        "print(\"\\nThe nested tuple within a mother set is: \", s6)          #printing the set 's6' with a tuple nested within itself as an element.\n",
        "\n",
        "#uncomment and run the below code to prove that 'sets' though is an ordered datastructure but is an unindexed type of datasructure.\n",
        "#print(\"\\nThe nested element is: \",s6[0])"
      ],
      "metadata": {
        "colab": {
          "base_uri": "https://localhost:8080/"
        },
        "id": "UMKYBxI8dGps",
        "outputId": "b67e38a3-701b-43bd-8297-c1aa4dd15c68"
      },
      "execution_count": 21,
      "outputs": [
        {
          "output_type": "stream",
          "name": "stdout",
          "text": [
            "\n",
            "The nested tuple within a mother set is:  {(1, 2, 4, 12, 48, 120), 'abc'}\n"
          ]
        }
      ]
    },
    {
      "cell_type": "markdown",
      "source": [
        "###Mathematical Operation(s) on Sets"
      ],
      "metadata": {
        "id": "flgaPL6kec6Y"
      }
    },
    {
      "cell_type": "code",
      "source": [
        "s1={\"apple\",\"orange\",\"banana\"}                   #declaring th two sets.\n",
        "s2={\"grapefruit\",\"lime\",\"banana\"}                \n",
        "\n",
        "print(\"The set 's1' is: \",s1)                    #printing the two sets.\n",
        "print(\"\\nThe set 's2' is: \",s2)"
      ],
      "metadata": {
        "colab": {
          "base_uri": "https://localhost:8080/"
        },
        "id": "1k8b8z5KelVJ",
        "outputId": "705a2831-0448-4cfa-f4a1-9e440508f1e1"
      },
      "execution_count": 22,
      "outputs": [
        {
          "output_type": "stream",
          "name": "stdout",
          "text": [
            "The set 's1' is:  {'banana', 'orange', 'apple'}\n",
            "\n",
            "The set 's2' is:  {'lime', 'banana', 'grapefruit'}\n"
          ]
        }
      ]
    },
    {
      "cell_type": "markdown",
      "source": [
        "####'Union' operation"
      ],
      "metadata": {
        "id": "AjlQt2Nzlklg"
      }
    },
    {
      "cell_type": "code",
      "source": [
        "print(\"\\nThe union of the two sets 's1' and 's2' is: \",s1|s2)"
      ],
      "metadata": {
        "colab": {
          "base_uri": "https://localhost:8080/"
        },
        "id": "EQHZFFsjleeA",
        "outputId": "a60c1f29-c823-4bce-ae68-31b07a096775"
      },
      "execution_count": 23,
      "outputs": [
        {
          "output_type": "stream",
          "name": "stdout",
          "text": [
            "\n",
            "The union of the two sets 's1' and 's2' is:  {'banana', 'lime', 'orange', 'apple', 'grapefruit'}\n"
          ]
        }
      ]
    },
    {
      "cell_type": "markdown",
      "source": [
        "####'Intersection' operation"
      ],
      "metadata": {
        "id": "LiWXp6_zly_f"
      }
    },
    {
      "cell_type": "code",
      "source": [
        "print(\"\\nThe intersection of the two sets 's1' and s2' is: \",s1&s2)"
      ],
      "metadata": {
        "colab": {
          "base_uri": "https://localhost:8080/"
        },
        "id": "JgBGfNfYl7c3",
        "outputId": "52e72b44-0d78-40ec-8b51-e85e254d728e"
      },
      "execution_count": 24,
      "outputs": [
        {
          "output_type": "stream",
          "name": "stdout",
          "text": [
            "\n",
            "The intersection of the two sets 's1' and s2' is:  {'banana'}\n"
          ]
        }
      ]
    },
    {
      "cell_type": "markdown",
      "source": [
        "####Difference operation"
      ],
      "metadata": {
        "id": "Z2lu2ucvmEY9"
      }
    },
    {
      "cell_type": "code",
      "source": [
        "print(\"\\nThe difference between the two sets 's1' and 's2' is: \",s1-s2)"
      ],
      "metadata": {
        "colab": {
          "base_uri": "https://localhost:8080/"
        },
        "id": "IsKyeSTMmHIM",
        "outputId": "f458cb16-bad7-4211-dead-8ca56cc91f3a"
      },
      "execution_count": 25,
      "outputs": [
        {
          "output_type": "stream",
          "name": "stdout",
          "text": [
            "\n",
            "The difference between the two sets 's1' and 's2' is:  {'orange', 'apple'}\n"
          ]
        }
      ]
    },
    {
      "cell_type": "markdown",
      "source": [
        "####Symmetric difference"
      ],
      "metadata": {
        "id": "VOyQTXoYmSfH"
      }
    },
    {
      "cell_type": "code",
      "source": [
        "print(\"\\nThe symmetric difference between the two sets 's1' and 's2' is: \",s1^s2)"
      ],
      "metadata": {
        "colab": {
          "base_uri": "https://localhost:8080/"
        },
        "id": "hRdCG6T9mVgn",
        "outputId": "b1bdc1b4-63e7-4807-8ed6-828a868dbafe"
      },
      "execution_count": 26,
      "outputs": [
        {
          "output_type": "stream",
          "name": "stdout",
          "text": [
            "\n",
            "The symmetric difference between the two sets 's1' and 's2' is:  {'lime', 'orange', 'grapefruit', 'apple'}\n"
          ]
        }
      ]
    }
  ]
}