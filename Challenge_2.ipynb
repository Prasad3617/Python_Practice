{
  "nbformat": 4,
  "nbformat_minor": 0,
  "metadata": {
    "colab": {
      "provenance": [],
      "authorship_tag": "ABX9TyP+Kykm7L0ptBVBp6QF5yrX",
      "include_colab_link": true
    },
    "kernelspec": {
      "name": "python3",
      "display_name": "Python 3"
    },
    "language_info": {
      "name": "python"
    }
  },
  "cells": [
    {
      "cell_type": "markdown",
      "metadata": {
        "id": "view-in-github",
        "colab_type": "text"
      },
      "source": [
        "<a href=\"https://colab.research.google.com/github/Prasad3617/Python_Practice/blob/main/Challenge_2.ipynb\" target=\"_parent\"><img src=\"https://colab.research.google.com/assets/colab-badge.svg\" alt=\"Open In Colab\"/></a>"
      ]
    },
    {
      "cell_type": "markdown",
      "source": [
        "# Challenge_2\n"
      ],
      "metadata": {
        "id": "b5iPQsNkqFqK"
      }
    },
    {
      "cell_type": "markdown",
      "source": [
        "1. Demonstrate how to create simple and multi-line strings, and check whether a string can change after its creation."
      ],
      "metadata": {
        "id": "84Zm0DqjraDn"
      }
    },
    {
      "cell_type": "code",
      "source": [
        "str_1 = \"Hello!\"   # a simple, single line string\n",
        "str_2 = \"\"\"Hello,\n",
        "How \n",
        "are\n",
        "you?\n",
        "\"\"\"        # a multi-line string\n",
        "\n",
        "print(str_1)       # printing a single line string\n",
        "print(str_2)       # printing a multi-line string\n",
        "\n",
        "str_1[0] = \"y\"   # attempting to change a string\n",
        "print(str_1)     # the error justifies that the string as a datastructure is 'immutable'  "
      ],
      "metadata": {
        "colab": {
          "base_uri": "https://localhost:8080/",
          "height": 329
        },
        "id": "PvCMmCJAqaIm",
        "outputId": "f7056836-f040-4bf8-cdab-b2976b4830d8"
      },
      "execution_count": 37,
      "outputs": [
        {
          "output_type": "stream",
          "name": "stdout",
          "text": [
            "Hello!\n",
            "Hello,\n",
            "How \n",
            "are\n",
            "you?\n",
            "\n"
          ]
        },
        {
          "output_type": "error",
          "ename": "TypeError",
          "evalue": "ignored",
          "traceback": [
            "\u001b[0;31m---------------------------------------------------------------------------\u001b[0m",
            "\u001b[0;31mTypeError\u001b[0m                                 Traceback (most recent call last)",
            "\u001b[0;32m<ipython-input-37-21b68c15ba90>\u001b[0m in \u001b[0;36m<module>\u001b[0;34m\u001b[0m\n\u001b[1;32m      9\u001b[0m \u001b[0mprint\u001b[0m\u001b[0;34m(\u001b[0m\u001b[0mstr_2\u001b[0m\u001b[0;34m)\u001b[0m       \u001b[0;31m# printing a multi-line string\u001b[0m\u001b[0;34m\u001b[0m\u001b[0;34m\u001b[0m\u001b[0m\n\u001b[1;32m     10\u001b[0m \u001b[0;34m\u001b[0m\u001b[0m\n\u001b[0;32m---> 11\u001b[0;31m \u001b[0mstr_1\u001b[0m\u001b[0;34m[\u001b[0m\u001b[0;36m0\u001b[0m\u001b[0;34m]\u001b[0m \u001b[0;34m=\u001b[0m \u001b[0;34m\"y\"\u001b[0m   \u001b[0;31m# attempting to change a string\u001b[0m\u001b[0;34m\u001b[0m\u001b[0;34m\u001b[0m\u001b[0m\n\u001b[0m\u001b[1;32m     12\u001b[0m \u001b[0mprint\u001b[0m\u001b[0;34m(\u001b[0m\u001b[0mstr_1\u001b[0m\u001b[0;34m)\u001b[0m     \u001b[0;31m# the error justifies that the string as a datastructure is 'immutable'\u001b[0m\u001b[0;34m\u001b[0m\u001b[0;34m\u001b[0m\u001b[0m\n",
            "\u001b[0;31mTypeError\u001b[0m: 'str' object does not support item assignment"
          ]
        }
      ]
    },
    {
      "cell_type": "markdown",
      "source": [
        "2. For a given string ‘Hello World!’, extract the following:\n",
        "\n",
        "a) H W\n",
        "b) o o\n",
        "c) llorld\n",
        "d) !dlroW olleH\n",
        "e) World!\n",
        "f) Hello"
      ],
      "metadata": {
        "id": "nt-tMCDZqacW"
      }
    },
    {
      "cell_type": "code",
      "source": [
        "meri_string='Hello World!'\n",
        "\n",
        "print(meri_string[0:1] + ' ' + meri_string[6:7] )    # a)  #proper use of string concatenation and extraction using string indices\n",
        "print(meri_string[4:5]+ ' ' + meri_string[7:8])      # b)\n",
        "print(meri_string[2:4] + meri_string[7:11])          # c)\n",
        "print(meri_string[-1:-12])                           # d).  for printing the string in reverse order negative indices are intended to use\n",
        "print(meri_string[6:])                               # e) \n",
        "print(meri_string[:5])                               # f)  "
      ],
      "metadata": {
        "colab": {
          "base_uri": "https://localhost:8080/"
        },
        "id": "0xGVJUnMqpQA",
        "outputId": "443be72d-035d-4af9-8523-d377c649e38f"
      },
      "execution_count": 20,
      "outputs": [
        {
          "output_type": "stream",
          "name": "stdout",
          "text": [
            "H W\n",
            "o o\n",
            "llorld\n",
            "\n",
            "World!\n",
            "Hello\n"
          ]
        }
      ]
    },
    {
      "cell_type": "markdown",
      "source": [
        "3. For the following strings, determine which contain only alphabets, only digits, alphanumeric, which are in lowercase, and which are in uppercase. Also check whether str3 begins or ends with the word “Now”.\n",
        "\n",
        "Str1 = ‘Welcome’\n",
        "\n",
        "Str2 = ‘Hello World!’\n",
        "\n",
        "Str3 = ‘Now is the best time ever! ‘\n",
        "\n",
        "Str4 = ‘500017’\n",
        "\n",
        "Str5 = ‘IPhone 6’"
      ],
      "metadata": {
        "id": "ZT8qOdgyqq_H"
      }
    },
    {
      "cell_type": "code",
      "source": [
        "#Strings for performing check-operations\n",
        "\n",
        "Str1 = 'Welcome'\n",
        "Str2 = 'Hello World!'\n",
        "Str3 = 'Now is the best time ever!'\n",
        "Str4 = '500017'\n",
        "Str5 = 'IPhone 6'\n",
        "\n",
        "#Str1\n",
        "print('Str1 is alpha', Str1.isalpha)\n",
        "print('Str1 is digit',Str1.isdigit)\n",
        "print('Str1 is in lower case' , Str1.islower)\n",
        "print('Str1 is in uppercase', Str1.isupper)\n",
        "print('\\n')\n",
        "#Str2\n",
        "print('Str2 is alpha', Str2.isalpha)\n",
        "print('Str2 is digit',Str2.isdigit)\n",
        "print('Str2 is in lower case' , Str2.islower)\n",
        "print('Str2 is in uppercase', Str2.isupper)\n",
        "print('\\n')\n",
        "\n",
        "#Str3\n",
        "print('Str3 is alpha', Str3.isalpha)\n",
        "print('Str3 is digit',Str3.isdigit)\n",
        "print('Str3 is in lower case' , Str3.islower)\n",
        "print('Str3 is in uppercase', Str3.isupper)\n",
        "print('Str3 starts with \"Now\"', Str3.startswith('Now'))\n",
        "print('Str3 ends with \"Now\"', Str3.endswith('Now'))\n",
        "print('\\n')\n",
        "\n",
        "#Str4\n",
        "print('Str4 is alpha', Str4.isalpha)\n",
        "print('Str4 is digit',Str4.isdigit)\n",
        "print('Str4 is in lower case' , Str4.islower)\n",
        "print('Str4 is in uppercase', Str4.isupper)\n",
        "print('\\n')\n",
        "\n",
        "#Str5\n",
        "print('Str5 is alpha', Str5.isalpha)\n",
        "print('Str5 is digit',Str5.isdigit)\n",
        "print('Str5 is in lower case' , Str5.islower)\n",
        "print('Str5 is in uppercase', Str5.isupper)"
      ],
      "metadata": {
        "colab": {
          "base_uri": "https://localhost:8080/"
        },
        "id": "RwFOFq0fqsNT",
        "outputId": "a5ff1a06-128f-403e-f777-80face57b81c"
      },
      "execution_count": 22,
      "outputs": [
        {
          "output_type": "stream",
          "name": "stdout",
          "text": [
            "Str1 is alpha <built-in method isalpha of str object at 0x7f2a05d994f0>\n",
            "Str1 is digit <built-in method isdigit of str object at 0x7f2a05d994f0>\n",
            "Str1 is in lower case <built-in method islower of str object at 0x7f2a05d994f0>\n",
            "Str1 is in uppercase <built-in method isupper of str object at 0x7f2a05d994f0>\n",
            "\n",
            "\n",
            "Str2 is alpha <built-in method isalpha of str object at 0x7f2a05e6d4b0>\n",
            "Str2 is digit <built-in method isdigit of str object at 0x7f2a05e6d4b0>\n",
            "Str2 is in lower case <built-in method islower of str object at 0x7f2a05e6d4b0>\n",
            "Str2 is in uppercase <built-in method isupper of str object at 0x7f2a05e6d4b0>\n",
            "\n",
            "\n",
            "Str3 is alpha <built-in method isalpha of str object at 0x7f2a05cb1260>\n",
            "Str3 is digit <built-in method isdigit of str object at 0x7f2a05cb1260>\n",
            "Str3 is in lower case <built-in method islower of str object at 0x7f2a05cb1260>\n",
            "Str3 is in uppercase <built-in method isupper of str object at 0x7f2a05cb1260>\n",
            "Str3 starts with \"Now\" True\n",
            "Str3 ends with \"Now\" False\n",
            "\n",
            "\n",
            "Str4 is alpha <built-in method isalpha of str object at 0x7f2a05c8eef0>\n",
            "Str4 is digit <built-in method isdigit of str object at 0x7f2a05c8eef0>\n",
            "Str4 is in lower case <built-in method islower of str object at 0x7f2a05c8eef0>\n",
            "Str4 is in uppercase <built-in method isupper of str object at 0x7f2a05c8eef0>\n",
            "\n",
            "\n",
            "Str5 is alpha <built-in method isalpha of str object at 0x7f2a05e6def0>\n",
            "Str5 is digit <built-in method isdigit of str object at 0x7f2a05e6def0>\n",
            "Str5 is in lower case <built-in method islower of str object at 0x7f2a05e6def0>\n",
            "Str5 is in uppercase <built-in method isupper of str object at 0x7f2a05e6def0>\n"
          ]
        }
      ]
    },
    {
      "cell_type": "markdown",
      "source": [
        "4. Accept a sentence from the user. Convert the case of the input into title case."
      ],
      "metadata": {
        "id": "x2KgNX8cqsgf"
      }
    },
    {
      "cell_type": "code",
      "source": [
        "sentence = input(\"Enter a Sentence: \")     #taking a sentence as input from the user\n",
        "print(sentence.title())                    #returning the output in 'title case'"
      ],
      "metadata": {
        "colab": {
          "base_uri": "https://localhost:8080/"
        },
        "id": "QqdBBr6aqv34",
        "outputId": "c4d1fe30-e38f-48d2-efc3-3547fa1e5a2b"
      },
      "execution_count": 26,
      "outputs": [
        {
          "output_type": "stream",
          "name": "stdout",
          "text": [
            "Enter a Sentence: Hello what is your name?\n",
            "Hello What Is Your Name?\n"
          ]
        }
      ]
    },
    {
      "cell_type": "markdown",
      "source": [
        "5. Write a program that reads an integer from the user. Then your program should display a message indicating whether the integer is even or odd."
      ],
      "metadata": {
        "id": "TzQapi1-qwbO"
      }
    },
    {
      "cell_type": "code",
      "source": [
        "num = int(input(\"Enter a positive integer: \"))         #taking input from the user\n",
        "\n",
        "if num%2==0:                                           #condition to check if a number is even\n",
        "  print(\"The number you entered:\", num ,\", is even.\")\n",
        "\n",
        "else:                                                  # a number can either be odd or an even, hence 'elif' is not used\n",
        "  print(\"The number you entered:\" , num , \", is odd.\")"
      ],
      "metadata": {
        "colab": {
          "base_uri": "https://localhost:8080/"
        },
        "id": "9cRH4cnlqzes",
        "outputId": "eac65af6-0492-426a-fffc-a3cd72ede877"
      },
      "execution_count": 29,
      "outputs": [
        {
          "output_type": "stream",
          "name": "stdout",
          "text": [
            "Enter a positive integer: 5\n",
            "The number you entered: 5 , is odd.\n"
          ]
        }
      ]
    },
    {
      "cell_type": "markdown",
      "source": [
        "6. Create a program that reads a letter of the alphabet from the user. If the user enters a, e, i, o or u then your program should display a message indicating that the entered letter is a vowel. Otherwise, the program should display a message that the entered letter is a consonant"
      ],
      "metadata": {
        "id": "uPEiFkawqzy4"
      }
    },
    {
      "cell_type": "code",
      "source": [
        "alpha = input(\"Enter an Alphabet in 'Lowercase': \")             #taking in input from the user.\n",
        "\n",
        "if alpha in ['a','e','i','o','u']:                           #condition to check for equality in a set to find a vowel.\n",
        "  print(\"The alphabet you entered:\", alpha, \", is a vowel.\")\n",
        "\n",
        "else:                                                        # an alphabet can either be a vowel or a consonent and hence 'elif' is not used.\n",
        "  print(\"The alphabet you entered:\", alpha, \", is a consonent.\" )  "
      ],
      "metadata": {
        "colab": {
          "base_uri": "https://localhost:8080/"
        },
        "id": "MKBJ8z3Mq3ne",
        "outputId": "4ebe2320-f428-407b-ee00-0c89f9ea9e2e"
      },
      "execution_count": 35,
      "outputs": [
        {
          "output_type": "stream",
          "name": "stdout",
          "text": [
            "Enter an Alphabet in 'Lowercase': m\n",
            "The alphabet you entered: m , is a consonent.\n"
          ]
        }
      ]
    },
    {
      "cell_type": "markdown",
      "source": [
        "7. The length of a month varies from 28 to 31 days. Create a program that reads the name of a month from the user as a string. Then your program should display the number of days in that month. Display “28 or 29 days” for February so that leap years is addressed."
      ],
      "metadata": {
        "id": "xJeGZGpsq39o"
      }
    },
    {
      "cell_type": "code",
      "source": [
        "month = input(\"Enter name of a month in 'Lwercase' to calculate its number of days: \")                          #taking in input from the user.\n",
        "\n",
        "if month in ['january','march','may','july','august','october','december']:                                     #checking for months with '31' days\n",
        "  print(\"The number of days in the month that you entered: \",month,\", is 31.\")\n",
        "\n",
        "elif month in ['april','june','september','november']:                                                          #checking for months with '30' days\n",
        "  print(\"The number of days in the month that you entered: \",month,\", is 30.\")\n",
        "\n",
        "else:                                                                                                           #checking if the month entered is 'february'\n",
        "  print(\"The number of days in the month that you entered: \",month,\", is 28 or 29.\")"
      ],
      "metadata": {
        "colab": {
          "base_uri": "https://localhost:8080/"
        },
        "id": "mmjBtx5pq61i",
        "outputId": "b371fedc-86c0-4f5c-f60f-73c00c44a1f4"
      },
      "execution_count": 41,
      "outputs": [
        {
          "output_type": "stream",
          "name": "stdout",
          "text": [
            "Enter name of a month in 'Lwercase' to calculate its number of days: february\n",
            "The number of days in the month that you entered:  february , is 28 or 29.\n"
          ]
        }
      ]
    },
    {
      "cell_type": "markdown",
      "source": [
        "8. A triangle can be classified based on the lengths of its sides as equilateral, isosceles or scalene. All 3 sides of an equilateral triangle have the same length. An isosceles triangle has two sides that are the same length, and a third side that is a different length. If all of the sides have different lengths then the triangle is scalene. Write a program that reads the lengths of 3 sides of a triangle from the user. Display a message indicating the type of the triangle."
      ],
      "metadata": {
        "id": "XGZWXqipq7Ig"
      }
    },
    {
      "cell_type": "code",
      "source": [
        "side1 = int(input(\"Enter the length of 1st side of the triangle: \"))             #taking in input for the 3 sides of a triangle, from the user.\n",
        "side2 = int(input(\"Enter the length of 2nd side of the triangle: \"))\n",
        "side3 = int(input(\"Enter the length of 3rd side of the triangle: \"))\n",
        "\n",
        "print(\"\\n\")\n",
        "if side1+side2>side3 and side1+side3>side2 and side2+side3>side1:                #condition to check if a trianle can be constructed with the given set of values for the 3 sides.           \n",
        "  print(\"A triangle is possible.\")\n",
        "\n",
        "else:\n",
        "  print(\"A triangle isn't possible.\")  \n",
        "\n",
        "print(\"\\n\")\n",
        "\n",
        "if side1==side2 and side2==side3:                                                #conditions to check for the type of triangle\n",
        "  print(\"The type of triangle is: 'Equilateral'.\")\n",
        "\n",
        "elif side1==side2 or side2==side3 or side3==side1:\n",
        "  print(\"The type of triangle is: 'Isosceles'.\")\n",
        "\n",
        "else:\n",
        "  print(\"The type of triangle is: 'Scalene'.\")"
      ],
      "metadata": {
        "colab": {
          "base_uri": "https://localhost:8080/"
        },
        "id": "GHNChwJBq-U_",
        "outputId": "f443bb05-eaaa-47ba-e303-2224446af0a0"
      },
      "execution_count": 46,
      "outputs": [
        {
          "output_type": "stream",
          "name": "stdout",
          "text": [
            "Enter the length of 1st side of the triangle: 10\n",
            "Enter the length of 2nd side of the triangle: 11\n",
            "Enter the length of 3rd side of the triangle: 12\n",
            "\n",
            "\n",
            "A triangle is possible.\n",
            "\n",
            "\n",
            "The type of triangle is: 'Scalene'.\n"
          ]
        }
      ]
    },
    {
      "cell_type": "markdown",
      "source": [
        "9. The rules for determining whether or not a year is a leap year follow:\n",
        "\n",
        "* Any year that is divisible by 400 is a leap year.\n",
        "* Of the remaining years, any year that is divisible by 100 is not a leap year.\n",
        "* Of the remaining years, any year that is divisible by 4 is a leap year.\n",
        "* All other years are not leap years.\n",
        "\n",
        "Write a program that reads a year from the user and displays a message indicating whether or not it is a leap year."
      ],
      "metadata": {
        "id": "AJuBv6PrrIKy"
      }
    },
    {
      "cell_type": "code",
      "source": [
        "year=int(input(\"Enter a 'Year', to check if it's a leap year or not: \"))                 #taking in input from the user.\n",
        "\n",
        "if year%400==0:                                                                          #checking for conditions to satisfy for a year to bea leap year.\n",
        "  print(\"The year that you entered: \", year, \"is a leap year.\")\n",
        "\n",
        "elif year%100==0:\n",
        "  print(\"The year that you entered: \", year, \"isn't a leap year.\")  \n",
        "\n",
        "elif year%4==0:\n",
        "  print(\"The year that you entered: \", year, \"is a leap year.\")  \n",
        "\n",
        "else:\n",
        "  print(\"The year that you entered: \", year, \"isn't a leap year.\")"
      ],
      "metadata": {
        "colab": {
          "base_uri": "https://localhost:8080/"
        },
        "id": "Retg_bQJrRS2",
        "outputId": "bbe93ce2-2e95-4a3f-ef8b-c478372a02ad"
      },
      "execution_count": 50,
      "outputs": [
        {
          "output_type": "stream",
          "name": "stdout",
          "text": [
            "Enter a 'Year', to check if it's a leap year or not: 2024\n",
            "The year that you entered:  2024 is a leap year.\n"
          ]
        }
      ]
    },
    {
      "cell_type": "markdown",
      "source": [
        "10. Write a program that computes the real roots of a quadratic function. Your program should begin by prompting the user for the values of a, b and c. Then it should display a message indicating the number of real roots, along with the values of the real roots (if any)."
      ],
      "metadata": {
        "id": "B8tS_FiBrRzf"
      }
    },
    {
      "cell_type": "code",
      "source": [
        "import math                                                                        # importing a library to calculate square root operation\n",
        "\n",
        "print(\"A quadratic equation can be represented as: 'ax^2 + bx + c'\")               #a message for the user.\n",
        "\n",
        "a = int(input(\"Enter a value for 'a': \"))                                          #taking in input from the user.\n",
        "b = int(input(\"Enter a value for 'b': \"))\n",
        "c = int(input(\"Enter a value for 'c': \"))\n",
        "\n",
        "print(\"\\n\")\n",
        "print(\"The quadratic equation you entered is: \", a,\"x^2\",\"+\",b,\"x\",\"+\",c)          #displaying the quadratic equation\n",
        "print(\"\\n\")\n",
        "\n",
        "value = ((b*b) - (4*a*c))\n",
        "\n",
        "value1=math.sqrt(value)\n",
        "\n",
        "root1 = (-b + (value1))/2*a\n",
        "root2 = (-b - (value1))/2*a\n",
        "\n",
        "if value==0:\n",
        "  print(\"The quadratic equaion that you entered has both roots equal and they are: \", root1, root2)\n",
        "\n",
        "elif value>0:\n",
        "  print(\"The quadratic equaion that you entered has '2' unequal roots equal and they are: \", root1, root2)\n",
        "\n",
        "else:\n",
        "  print(\"The quadratic equaion that you entered has imaginery roots.\")"
      ],
      "metadata": {
        "colab": {
          "base_uri": "https://localhost:8080/"
        },
        "id": "qWeJLGXCrV57",
        "outputId": "73a0901e-c7d0-4e45-cba1-f214eae46301"
      },
      "execution_count": 53,
      "outputs": [
        {
          "output_type": "stream",
          "name": "stdout",
          "text": [
            "A quadratic equation can be represented as: 'ax^2 + bx + c'\n",
            "Enter a value for 'a': 1\n",
            "Enter a value for 'b': 8\n",
            "Enter a value for 'c': 16\n",
            "\n",
            "\n",
            "The quadratic equation you entered is:  1 x^2 + 8 x + 16\n",
            "\n",
            "\n",
            "The quadratic equaion that you entered has both roots equal and thy are:  -4.0 -4.0\n"
          ]
        }
      ]
    }
  ]
}