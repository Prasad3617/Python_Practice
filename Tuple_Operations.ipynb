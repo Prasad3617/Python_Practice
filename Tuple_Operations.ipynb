{
  "nbformat": 4,
  "nbformat_minor": 0,
  "metadata": {
    "colab": {
      "provenance": [],
      "authorship_tag": "ABX9TyPTgYeYX4NRF3tNn9vdRyAu",
      "include_colab_link": true
    },
    "kernelspec": {
      "name": "python3",
      "display_name": "Python 3"
    },
    "language_info": {
      "name": "python"
    }
  },
  "cells": [
    {
      "cell_type": "markdown",
      "metadata": {
        "id": "view-in-github",
        "colab_type": "text"
      },
      "source": [
        "<a href=\"https://colab.research.google.com/github/Prasad3617/Python_Practice/blob/main/Tuple_Operations.ipynb\" target=\"_parent\"><img src=\"https://colab.research.google.com/assets/colab-badge.svg\" alt=\"Open In Colab\"/></a>"
      ]
    },
    {
      "cell_type": "markdown",
      "source": [
        "# Tuple Operations"
      ],
      "metadata": {
        "id": "GGw_OOeyLZHg"
      }
    },
    {
      "cell_type": "code",
      "source": [
        "tup1=(1,\"John\", True, 25.5)                     #declaring a tuple.\n",
        "\n",
        "for i in tup1:\n",
        "  print(\"\\n\",i)"
      ],
      "metadata": {
        "id": "sKqQ0mEZLaP8"
      },
      "execution_count": null,
      "outputs": []
    },
    {
      "cell_type": "code",
      "source": [
        "j=input(\"What is the entity, that you want to check?: \")               #taking input from the user.\n",
        "\n",
        "#use of conditionals\n",
        "if j in str(tup1):                                                     #checing from the tuple. 'str(tup1)' makes sure that every sort of datatype is taken care of in a single statement. Ponder: \"tuples\" are heterogeneous type of data structure, which can store elements of all the datatypes.\n",
        "  print(\"\\nYes \",j,\" is present!\")\n",
        "else:\n",
        "  print(\"\\nNo, \",j,\" isn't present.\")  "
      ],
      "metadata": {
        "colab": {
          "base_uri": "https://localhost:8080/",
          "height": 0
        },
        "id": "m0d-9MFQJm-u",
        "outputId": "bafc4cfa-c447-492e-9f1d-ef0e38305892"
      },
      "execution_count": 6,
      "outputs": [
        {
          "output_type": "stream",
          "name": "stdout",
          "text": [
            "What is the entity, that you want to check?: true\n",
            "\n",
            "No,  true  isn't present.\n"
          ]
        }
      ]
    },
    {
      "cell_type": "markdown",
      "source": [
        "## Nested Tuples"
      ],
      "metadata": {
        "id": "zDK08eQ9LX3U"
      }
    },
    {
      "cell_type": "code",
      "source": [
        "tup2=(1,3,5,7,9)                                             #declaring a tuple. \n",
        "tup3=(\"Ramesh\",tup1,\"Suresh\",tup2,\"Dinesh\")                  #declaring another tuple which nests other tuples. \n",
        "\n",
        "print(\"\",tup1)\n",
        "print(\"\\n\",tup2)\n",
        "print(\"\\n\",tup3)                                                  #printing the nestd tuples within the mother tuple."
      ],
      "metadata": {
        "colab": {
          "base_uri": "https://localhost:8080/",
          "height": 0
        },
        "id": "vb76Nfa5Lj2C",
        "outputId": "f6db58fe-83f0-4ea6-b1a0-ce968ee7649e"
      },
      "execution_count": 12,
      "outputs": [
        {
          "output_type": "stream",
          "name": "stdout",
          "text": [
            " (1, 'John', True, 25.5)\n",
            "\n",
            " (1, 3, 5, 7, 9)\n",
            "\n",
            " ('Ramesh', (1, 'John', True, 25.5), 'Suresh', (1, 3, 5, 7, 9), 'Dinesh')\n"
          ]
        }
      ]
    },
    {
      "cell_type": "markdown",
      "source": [
        "## Accessing elements within a tuple"
      ],
      "metadata": {
        "id": "DGHZK5NcNBRB"
      }
    },
    {
      "cell_type": "code",
      "source": [
        "print(\"tup3[1]: \",tup3[1])                                       #we use index to access the elements within a tuple and another index to acess the elements within a nested tuple.\n",
        "print(\"\\ntup3[1][1]: \",tup3[1][1])"
      ],
      "metadata": {
        "colab": {
          "base_uri": "https://localhost:8080/",
          "height": 0
        },
        "id": "7hCes9rtNFgs",
        "outputId": "f6b098f8-a7a5-445a-d976-52f13f003ba5"
      },
      "execution_count": 14,
      "outputs": [
        {
          "output_type": "stream",
          "name": "stdout",
          "text": [
            "tup3[1]:  (1, 'John', True, 25.5)\n",
            "\n",
            "tup3[1][1]:  John\n"
          ]
        }
      ]
    },
    {
      "cell_type": "markdown",
      "source": [
        "##Comparision between tuples"
      ],
      "metadata": {
        "id": "RJ3f98wkONdG"
      }
    },
    {
      "cell_type": "code",
      "source": [
        "tup4=(0,1,2)                          #declaring tuples\n",
        "tup5=(0,2,1)\n",
        "print(\"\",tup4<tup5)                   #comparing the tuples"
      ],
      "metadata": {
        "colab": {
          "base_uri": "https://localhost:8080/",
          "height": 0
        },
        "id": "zjhUoib_OUbu",
        "outputId": "6485ed89-31ce-484e-8a2f-166d63931e99"
      },
      "execution_count": 16,
      "outputs": [
        {
          "output_type": "stream",
          "name": "stdout",
          "text": [
            " True\n"
          ]
        }
      ]
    }
  ]
}