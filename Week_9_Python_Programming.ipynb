{
  "cells": [
    {
      "cell_type": "markdown",
      "metadata": {
        "id": "view-in-github",
        "colab_type": "text"
      },
      "source": [
        "<a href=\"https://colab.research.google.com/github/Prasad3617/Python_Practice/blob/main/Week_9_Python_Programming.ipynb\" target=\"_parent\"><img src=\"https://colab.research.google.com/assets/colab-badge.svg\" alt=\"Open In Colab\"/></a>"
      ]
    },
    {
      "cell_type": "markdown",
      "id": "11633ff3",
      "metadata": {
        "id": "11633ff3"
      },
      "source": [
        "# Data Analysis using Pandas"
      ]
    },
    {
      "cell_type": "code",
      "execution_count": null,
      "id": "0f9facbf",
      "metadata": {
        "id": "0f9facbf"
      },
      "outputs": [],
      "source": [
        "import pandas as pd"
      ]
    },
    {
      "cell_type": "code",
      "execution_count": null,
      "id": "7386bc77",
      "metadata": {
        "id": "7386bc77"
      },
      "outputs": [],
      "source": [
        "df1=pd.DataFrame([['Ramesh',101,87.5],['Suresh',102,89.9],['Mukesh',103,91]])"
      ]
    },
    {
      "cell_type": "code",
      "execution_count": null,
      "id": "ed851f98",
      "metadata": {
        "id": "ed851f98",
        "outputId": "267339b7-fe1e-4265-f3f0-006d0b6e13fb"
      },
      "outputs": [
        {
          "data": {
            "text/html": [
              "<div>\n",
              "<style scoped>\n",
              "    .dataframe tbody tr th:only-of-type {\n",
              "        vertical-align: middle;\n",
              "    }\n",
              "\n",
              "    .dataframe tbody tr th {\n",
              "        vertical-align: top;\n",
              "    }\n",
              "\n",
              "    .dataframe thead th {\n",
              "        text-align: right;\n",
              "    }\n",
              "</style>\n",
              "<table border=\"1\" class=\"dataframe\">\n",
              "  <thead>\n",
              "    <tr style=\"text-align: right;\">\n",
              "      <th></th>\n",
              "      <th>0</th>\n",
              "      <th>1</th>\n",
              "      <th>2</th>\n",
              "    </tr>\n",
              "  </thead>\n",
              "  <tbody>\n",
              "    <tr>\n",
              "      <th>0</th>\n",
              "      <td>Ramesh</td>\n",
              "      <td>101</td>\n",
              "      <td>87.5</td>\n",
              "    </tr>\n",
              "    <tr>\n",
              "      <th>1</th>\n",
              "      <td>Suresh</td>\n",
              "      <td>102</td>\n",
              "      <td>89.9</td>\n",
              "    </tr>\n",
              "    <tr>\n",
              "      <th>2</th>\n",
              "      <td>Mukesh</td>\n",
              "      <td>103</td>\n",
              "      <td>91.0</td>\n",
              "    </tr>\n",
              "  </tbody>\n",
              "</table>\n",
              "</div>"
            ],
            "text/plain": [
              "        0    1     2\n",
              "0  Ramesh  101  87.5\n",
              "1  Suresh  102  89.9\n",
              "2  Mukesh  103  91.0"
            ]
          },
          "execution_count": 3,
          "metadata": {},
          "output_type": "execute_result"
        }
      ],
      "source": [
        "df1"
      ]
    },
    {
      "cell_type": "code",
      "execution_count": null,
      "id": "7b930596",
      "metadata": {
        "id": "7b930596"
      },
      "outputs": [],
      "source": [
        "df2=pd.DataFrame([[\"Ramesh\",101,87.5],[\"Suresh\",102,89.9],[\"Mukesh\",103,91]],\n",
        "                columns=[\"Name\",\"Roll_No.\",\"Percentage\"])    #adding column names to the data in dataframe df1"
      ]
    },
    {
      "cell_type": "code",
      "execution_count": null,
      "id": "28c96ab7",
      "metadata": {
        "id": "28c96ab7",
        "outputId": "10b1a462-2129-499d-cd69-05c10dc82200"
      },
      "outputs": [
        {
          "data": {
            "text/html": [
              "<div>\n",
              "<style scoped>\n",
              "    .dataframe tbody tr th:only-of-type {\n",
              "        vertical-align: middle;\n",
              "    }\n",
              "\n",
              "    .dataframe tbody tr th {\n",
              "        vertical-align: top;\n",
              "    }\n",
              "\n",
              "    .dataframe thead th {\n",
              "        text-align: right;\n",
              "    }\n",
              "</style>\n",
              "<table border=\"1\" class=\"dataframe\">\n",
              "  <thead>\n",
              "    <tr style=\"text-align: right;\">\n",
              "      <th></th>\n",
              "      <th>Name</th>\n",
              "      <th>Roll_No.</th>\n",
              "      <th>Percentage</th>\n",
              "    </tr>\n",
              "  </thead>\n",
              "  <tbody>\n",
              "    <tr>\n",
              "      <th>0</th>\n",
              "      <td>Ramesh</td>\n",
              "      <td>101</td>\n",
              "      <td>87.5</td>\n",
              "    </tr>\n",
              "    <tr>\n",
              "      <th>1</th>\n",
              "      <td>Suresh</td>\n",
              "      <td>102</td>\n",
              "      <td>89.9</td>\n",
              "    </tr>\n",
              "    <tr>\n",
              "      <th>2</th>\n",
              "      <td>Mukesh</td>\n",
              "      <td>103</td>\n",
              "      <td>91.0</td>\n",
              "    </tr>\n",
              "  </tbody>\n",
              "</table>\n",
              "</div>"
            ],
            "text/plain": [
              "     Name  Roll_No.  Percentage\n",
              "0  Ramesh       101        87.5\n",
              "1  Suresh       102        89.9\n",
              "2  Mukesh       103        91.0"
            ]
          },
          "execution_count": 5,
          "metadata": {},
          "output_type": "execute_result"
        }
      ],
      "source": [
        "df2"
      ]
    },
    {
      "cell_type": "code",
      "execution_count": null,
      "id": "fe14fd1c",
      "metadata": {
        "id": "fe14fd1c"
      },
      "outputs": [],
      "source": [
        "df3=pd.DataFrame([['Ramesh',101,87.5],['Suresh',102,89.9],['Mukesh',103,91]],\n",
        "                 columns=[\"Name\",\"Roll_No.\",\"Percentage\"],\n",
        "                 index=[\"Student1\",\"Student2\",\"Student3\"])  #adding column names  and row names as 'index' to the data in dataframe df1"
      ]
    },
    {
      "cell_type": "code",
      "execution_count": null,
      "id": "4283d8a4",
      "metadata": {
        "id": "4283d8a4",
        "outputId": "520f8478-b92e-49dd-8578-b278f6b4aa9f"
      },
      "outputs": [
        {
          "data": {
            "text/html": [
              "<div>\n",
              "<style scoped>\n",
              "    .dataframe tbody tr th:only-of-type {\n",
              "        vertical-align: middle;\n",
              "    }\n",
              "\n",
              "    .dataframe tbody tr th {\n",
              "        vertical-align: top;\n",
              "    }\n",
              "\n",
              "    .dataframe thead th {\n",
              "        text-align: right;\n",
              "    }\n",
              "</style>\n",
              "<table border=\"1\" class=\"dataframe\">\n",
              "  <thead>\n",
              "    <tr style=\"text-align: right;\">\n",
              "      <th></th>\n",
              "      <th>Name</th>\n",
              "      <th>Roll_No.</th>\n",
              "      <th>Percentage</th>\n",
              "    </tr>\n",
              "  </thead>\n",
              "  <tbody>\n",
              "    <tr>\n",
              "      <th>Student1</th>\n",
              "      <td>Ramesh</td>\n",
              "      <td>101</td>\n",
              "      <td>87.5</td>\n",
              "    </tr>\n",
              "    <tr>\n",
              "      <th>Student2</th>\n",
              "      <td>Suresh</td>\n",
              "      <td>102</td>\n",
              "      <td>89.9</td>\n",
              "    </tr>\n",
              "    <tr>\n",
              "      <th>Student3</th>\n",
              "      <td>Mukesh</td>\n",
              "      <td>103</td>\n",
              "      <td>91.0</td>\n",
              "    </tr>\n",
              "  </tbody>\n",
              "</table>\n",
              "</div>"
            ],
            "text/plain": [
              "            Name  Roll_No.  Percentage\n",
              "Student1  Ramesh       101        87.5\n",
              "Student2  Suresh       102        89.9\n",
              "Student3  Mukesh       103        91.0"
            ]
          },
          "execution_count": 7,
          "metadata": {},
          "output_type": "execute_result"
        }
      ],
      "source": [
        "df3"
      ]
    },
    {
      "cell_type": "code",
      "execution_count": null,
      "id": "2b86bc27",
      "metadata": {
        "id": "2b86bc27",
        "outputId": "dc5da0e8-b130-499c-948f-a15807f7db4c"
      },
      "outputs": [
        {
          "data": {
            "text/plain": [
              "['Name',\n",
              " 'Percentage',\n",
              " 'T',\n",
              " '_AXIS_LEN',\n",
              " '_AXIS_ORDERS',\n",
              " '_AXIS_TO_AXIS_NUMBER',\n",
              " '_HANDLED_TYPES',\n",
              " '__abs__',\n",
              " '__add__',\n",
              " '__and__',\n",
              " '__annotations__',\n",
              " '__array__',\n",
              " '__array_priority__',\n",
              " '__array_ufunc__',\n",
              " '__array_wrap__',\n",
              " '__bool__',\n",
              " '__class__',\n",
              " '__contains__',\n",
              " '__copy__',\n",
              " '__dataframe__',\n",
              " '__deepcopy__',\n",
              " '__delattr__',\n",
              " '__delitem__',\n",
              " '__dict__',\n",
              " '__dir__',\n",
              " '__divmod__',\n",
              " '__doc__',\n",
              " '__eq__',\n",
              " '__finalize__',\n",
              " '__floordiv__',\n",
              " '__format__',\n",
              " '__ge__',\n",
              " '__getattr__',\n",
              " '__getattribute__',\n",
              " '__getitem__',\n",
              " '__getstate__',\n",
              " '__gt__',\n",
              " '__hash__',\n",
              " '__iadd__',\n",
              " '__iand__',\n",
              " '__ifloordiv__',\n",
              " '__imod__',\n",
              " '__imul__',\n",
              " '__init__',\n",
              " '__init_subclass__',\n",
              " '__invert__',\n",
              " '__ior__',\n",
              " '__ipow__',\n",
              " '__isub__',\n",
              " '__iter__',\n",
              " '__itruediv__',\n",
              " '__ixor__',\n",
              " '__le__',\n",
              " '__len__',\n",
              " '__lt__',\n",
              " '__matmul__',\n",
              " '__mod__',\n",
              " '__module__',\n",
              " '__mul__',\n",
              " '__ne__',\n",
              " '__neg__',\n",
              " '__new__',\n",
              " '__nonzero__',\n",
              " '__or__',\n",
              " '__pos__',\n",
              " '__pow__',\n",
              " '__radd__',\n",
              " '__rand__',\n",
              " '__rdivmod__',\n",
              " '__reduce__',\n",
              " '__reduce_ex__',\n",
              " '__repr__',\n",
              " '__rfloordiv__',\n",
              " '__rmatmul__',\n",
              " '__rmod__',\n",
              " '__rmul__',\n",
              " '__ror__',\n",
              " '__round__',\n",
              " '__rpow__',\n",
              " '__rsub__',\n",
              " '__rtruediv__',\n",
              " '__rxor__',\n",
              " '__setattr__',\n",
              " '__setitem__',\n",
              " '__setstate__',\n",
              " '__sizeof__',\n",
              " '__str__',\n",
              " '__sub__',\n",
              " '__subclasshook__',\n",
              " '__truediv__',\n",
              " '__weakref__',\n",
              " '__xor__',\n",
              " '_accessors',\n",
              " '_accum_func',\n",
              " '_add_numeric_operations',\n",
              " '_agg_by_level',\n",
              " '_agg_examples_doc',\n",
              " '_agg_summary_and_see_also_doc',\n",
              " '_align_frame',\n",
              " '_align_series',\n",
              " '_append',\n",
              " '_arith_method',\n",
              " '_as_manager',\n",
              " '_attrs',\n",
              " '_box_col_values',\n",
              " '_can_fast_transpose',\n",
              " '_check_inplace_and_allows_duplicate_labels',\n",
              " '_check_inplace_setting',\n",
              " '_check_is_chained_assignment_possible',\n",
              " '_check_label_or_level_ambiguity',\n",
              " '_check_setitem_copy',\n",
              " '_clear_item_cache',\n",
              " '_clip_with_one_bound',\n",
              " '_clip_with_scalar',\n",
              " '_cmp_method',\n",
              " '_combine_frame',\n",
              " '_consolidate',\n",
              " '_consolidate_inplace',\n",
              " '_construct_axes_dict',\n",
              " '_construct_axes_from_arguments',\n",
              " '_construct_result',\n",
              " '_constructor',\n",
              " '_constructor_sliced',\n",
              " '_convert',\n",
              " '_count_level',\n",
              " '_data',\n",
              " '_dir_additions',\n",
              " '_dir_deletions',\n",
              " '_dispatch_frame_op',\n",
              " '_drop_axis',\n",
              " '_drop_labels_or_levels',\n",
              " '_ensure_valid_index',\n",
              " '_find_valid_index',\n",
              " '_flags',\n",
              " '_from_arrays',\n",
              " '_get_agg_axis',\n",
              " '_get_axis',\n",
              " '_get_axis_name',\n",
              " '_get_axis_number',\n",
              " '_get_axis_resolvers',\n",
              " '_get_block_manager_axis',\n",
              " '_get_bool_data',\n",
              " '_get_cleaned_column_resolvers',\n",
              " '_get_column_array',\n",
              " '_get_index_resolvers',\n",
              " '_get_item_cache',\n",
              " '_get_label_or_level_values',\n",
              " '_get_numeric_data',\n",
              " '_get_value',\n",
              " '_getitem_bool_array',\n",
              " '_getitem_multilevel',\n",
              " '_gotitem',\n",
              " '_hidden_attrs',\n",
              " '_indexed_same',\n",
              " '_info_axis',\n",
              " '_info_axis_name',\n",
              " '_info_axis_number',\n",
              " '_info_repr',\n",
              " '_init_mgr',\n",
              " '_inplace_method',\n",
              " '_internal_names',\n",
              " '_internal_names_set',\n",
              " '_is_copy',\n",
              " '_is_homogeneous_type',\n",
              " '_is_label_or_level_reference',\n",
              " '_is_label_reference',\n",
              " '_is_level_reference',\n",
              " '_is_mixed_type',\n",
              " '_is_view',\n",
              " '_iset_item',\n",
              " '_iset_item_mgr',\n",
              " '_iset_not_inplace',\n",
              " '_item_cache',\n",
              " '_iter_column_arrays',\n",
              " '_ixs',\n",
              " '_join_compat',\n",
              " '_logical_func',\n",
              " '_logical_method',\n",
              " '_maybe_cache_changed',\n",
              " '_maybe_update_cacher',\n",
              " '_metadata',\n",
              " '_mgr',\n",
              " '_min_count_stat_function',\n",
              " '_needs_reindex_multi',\n",
              " '_protect_consolidate',\n",
              " '_reduce',\n",
              " '_reduce_axis1',\n",
              " '_reindex_axes',\n",
              " '_reindex_columns',\n",
              " '_reindex_index',\n",
              " '_reindex_multi',\n",
              " '_reindex_with_indexers',\n",
              " '_rename',\n",
              " '_replace_columnwise',\n",
              " '_repr_data_resource_',\n",
              " '_repr_fits_horizontal_',\n",
              " '_repr_fits_vertical_',\n",
              " '_repr_html_',\n",
              " '_repr_latex_',\n",
              " '_reset_cache',\n",
              " '_reset_cacher',\n",
              " '_sanitize_column',\n",
              " '_series',\n",
              " '_set_axis',\n",
              " '_set_axis_name',\n",
              " '_set_axis_nocheck',\n",
              " '_set_is_copy',\n",
              " '_set_item',\n",
              " '_set_item_frame_value',\n",
              " '_set_item_mgr',\n",
              " '_set_value',\n",
              " '_setitem_array',\n",
              " '_setitem_frame',\n",
              " '_setitem_slice',\n",
              " '_slice',\n",
              " '_stat_axis',\n",
              " '_stat_axis_name',\n",
              " '_stat_axis_number',\n",
              " '_stat_function',\n",
              " '_stat_function_ddof',\n",
              " '_take',\n",
              " '_take_with_is_copy',\n",
              " '_to_dict_of_blocks',\n",
              " '_typ',\n",
              " '_update_inplace',\n",
              " '_validate_dtype',\n",
              " '_values',\n",
              " '_where',\n",
              " 'abs',\n",
              " 'add',\n",
              " 'add_prefix',\n",
              " 'add_suffix',\n",
              " 'agg',\n",
              " 'aggregate',\n",
              " 'align',\n",
              " 'all',\n",
              " 'any',\n",
              " 'append',\n",
              " 'apply',\n",
              " 'applymap',\n",
              " 'asfreq',\n",
              " 'asof',\n",
              " 'assign',\n",
              " 'astype',\n",
              " 'at',\n",
              " 'at_time',\n",
              " 'attrs',\n",
              " 'axes',\n",
              " 'backfill',\n",
              " 'between_time',\n",
              " 'bfill',\n",
              " 'bool',\n",
              " 'boxplot',\n",
              " 'clip',\n",
              " 'columns',\n",
              " 'combine',\n",
              " 'combine_first',\n",
              " 'compare',\n",
              " 'convert_dtypes',\n",
              " 'copy',\n",
              " 'corr',\n",
              " 'corrwith',\n",
              " 'count',\n",
              " 'cov',\n",
              " 'cummax',\n",
              " 'cummin',\n",
              " 'cumprod',\n",
              " 'cumsum',\n",
              " 'describe',\n",
              " 'diff',\n",
              " 'div',\n",
              " 'divide',\n",
              " 'dot',\n",
              " 'drop',\n",
              " 'drop_duplicates',\n",
              " 'droplevel',\n",
              " 'dropna',\n",
              " 'dtypes',\n",
              " 'duplicated',\n",
              " 'empty',\n",
              " 'eq',\n",
              " 'equals',\n",
              " 'eval',\n",
              " 'ewm',\n",
              " 'expanding',\n",
              " 'explode',\n",
              " 'ffill',\n",
              " 'fillna',\n",
              " 'filter',\n",
              " 'first',\n",
              " 'first_valid_index',\n",
              " 'flags',\n",
              " 'floordiv',\n",
              " 'from_dict',\n",
              " 'from_records',\n",
              " 'ge',\n",
              " 'get',\n",
              " 'groupby',\n",
              " 'gt',\n",
              " 'head',\n",
              " 'hist',\n",
              " 'iat',\n",
              " 'idxmax',\n",
              " 'idxmin',\n",
              " 'iloc',\n",
              " 'index',\n",
              " 'infer_objects',\n",
              " 'info',\n",
              " 'insert',\n",
              " 'interpolate',\n",
              " 'isetitem',\n",
              " 'isin',\n",
              " 'isna',\n",
              " 'isnull',\n",
              " 'items',\n",
              " 'iteritems',\n",
              " 'iterrows',\n",
              " 'itertuples',\n",
              " 'join',\n",
              " 'keys',\n",
              " 'kurt',\n",
              " 'kurtosis',\n",
              " 'last',\n",
              " 'last_valid_index',\n",
              " 'le',\n",
              " 'loc',\n",
              " 'lookup',\n",
              " 'lt',\n",
              " 'mad',\n",
              " 'mask',\n",
              " 'max',\n",
              " 'mean',\n",
              " 'median',\n",
              " 'melt',\n",
              " 'memory_usage',\n",
              " 'merge',\n",
              " 'min',\n",
              " 'mod',\n",
              " 'mode',\n",
              " 'mul',\n",
              " 'multiply',\n",
              " 'ndim',\n",
              " 'ne',\n",
              " 'nlargest',\n",
              " 'notna',\n",
              " 'notnull',\n",
              " 'nsmallest',\n",
              " 'nunique',\n",
              " 'pad',\n",
              " 'pct_change',\n",
              " 'pipe',\n",
              " 'pivot',\n",
              " 'pivot_table',\n",
              " 'plot',\n",
              " 'pop',\n",
              " 'pow',\n",
              " 'prod',\n",
              " 'product',\n",
              " 'quantile',\n",
              " 'query',\n",
              " 'radd',\n",
              " 'rank',\n",
              " 'rdiv',\n",
              " 'reindex',\n",
              " 'reindex_like',\n",
              " 'rename',\n",
              " 'rename_axis',\n",
              " 'reorder_levels',\n",
              " 'replace',\n",
              " 'resample',\n",
              " 'reset_index',\n",
              " 'rfloordiv',\n",
              " 'rmod',\n",
              " 'rmul',\n",
              " 'rolling',\n",
              " 'round',\n",
              " 'rpow',\n",
              " 'rsub',\n",
              " 'rtruediv',\n",
              " 'sample',\n",
              " 'select_dtypes',\n",
              " 'sem',\n",
              " 'set_axis',\n",
              " 'set_flags',\n",
              " 'set_index',\n",
              " 'shape',\n",
              " 'shift',\n",
              " 'size',\n",
              " 'skew',\n",
              " 'slice_shift',\n",
              " 'sort_index',\n",
              " 'sort_values',\n",
              " 'squeeze',\n",
              " 'stack',\n",
              " 'std',\n",
              " 'style',\n",
              " 'sub',\n",
              " 'subtract',\n",
              " 'sum',\n",
              " 'swapaxes',\n",
              " 'swaplevel',\n",
              " 'tail',\n",
              " 'take',\n",
              " 'to_clipboard',\n",
              " 'to_csv',\n",
              " 'to_dict',\n",
              " 'to_excel',\n",
              " 'to_feather',\n",
              " 'to_gbq',\n",
              " 'to_hdf',\n",
              " 'to_html',\n",
              " 'to_json',\n",
              " 'to_latex',\n",
              " 'to_markdown',\n",
              " 'to_numpy',\n",
              " 'to_orc',\n",
              " 'to_parquet',\n",
              " 'to_period',\n",
              " 'to_pickle',\n",
              " 'to_records',\n",
              " 'to_sql',\n",
              " 'to_stata',\n",
              " 'to_string',\n",
              " 'to_timestamp',\n",
              " 'to_xarray',\n",
              " 'to_xml',\n",
              " 'transform',\n",
              " 'transpose',\n",
              " 'truediv',\n",
              " 'truncate',\n",
              " 'tz_convert',\n",
              " 'tz_localize',\n",
              " 'unstack',\n",
              " 'update',\n",
              " 'value_counts',\n",
              " 'values',\n",
              " 'var',\n",
              " 'where',\n",
              " 'xs']"
            ]
          },
          "execution_count": 8,
          "metadata": {},
          "output_type": "execute_result"
        }
      ],
      "source": [
        "#Methods available for dataframe\n",
        "\n",
        "dir(df3)"
      ]
    },
    {
      "cell_type": "code",
      "execution_count": null,
      "id": "a292d652",
      "metadata": {
        "id": "a292d652",
        "outputId": "dec83302-6d60-4ced-97a8-11cc7c01fe57"
      },
      "outputs": [
        {
          "data": {
            "text/html": [
              "<div>\n",
              "<style scoped>\n",
              "    .dataframe tbody tr th:only-of-type {\n",
              "        vertical-align: middle;\n",
              "    }\n",
              "\n",
              "    .dataframe tbody tr th {\n",
              "        vertical-align: top;\n",
              "    }\n",
              "\n",
              "    .dataframe thead th {\n",
              "        text-align: right;\n",
              "    }\n",
              "</style>\n",
              "<table border=\"1\" class=\"dataframe\">\n",
              "  <thead>\n",
              "    <tr style=\"text-align: right;\">\n",
              "      <th></th>\n",
              "      <th>Name</th>\n",
              "      <th>Roll_No.</th>\n",
              "      <th>Percentage</th>\n",
              "    </tr>\n",
              "  </thead>\n",
              "  <tbody>\n",
              "    <tr>\n",
              "      <th>Student1</th>\n",
              "      <td>Ramesh</td>\n",
              "      <td>101</td>\n",
              "      <td>87.5</td>\n",
              "    </tr>\n",
              "    <tr>\n",
              "      <th>Student2</th>\n",
              "      <td>Suresh</td>\n",
              "      <td>102</td>\n",
              "      <td>89.9</td>\n",
              "    </tr>\n",
              "    <tr>\n",
              "      <th>Student3</th>\n",
              "      <td>Mukesh</td>\n",
              "      <td>103</td>\n",
              "      <td>91.0</td>\n",
              "    </tr>\n",
              "  </tbody>\n",
              "</table>\n",
              "</div>"
            ],
            "text/plain": [
              "            Name  Roll_No.  Percentage\n",
              "Student1  Ramesh       101        87.5\n",
              "Student2  Suresh       102        89.9\n",
              "Student3  Mukesh       103        91.0"
            ]
          },
          "execution_count": 9,
          "metadata": {},
          "output_type": "execute_result"
        }
      ],
      "source": [
        "#Applying methods on the dataframe\n",
        "df3"
      ]
    },
    {
      "cell_type": "code",
      "execution_count": null,
      "id": "6cff524d",
      "metadata": {
        "id": "6cff524d",
        "outputId": "1c131b8d-3622-430e-d61a-6b46b9eb5ba1"
      },
      "outputs": [
        {
          "name": "stderr",
          "output_type": "stream",
          "text": [
            "/var/folders/l4/6y_sy_9n1s7cbdl1qtp0sj240000gn/T/ipykernel_1903/3891983329.py:1: FutureWarning: The default value of numeric_only in DataFrame.mean is deprecated. In a future version, it will default to False. In addition, specifying 'numeric_only=None' is deprecated. Select only valid columns or specify the value of numeric_only to silence this warning.\n",
            "  df3.mean()\n"
          ]
        },
        {
          "data": {
            "text/plain": [
              "Roll_No.      102.000000\n",
              "Percentage     89.466667\n",
              "dtype: float64"
            ]
          },
          "execution_count": 10,
          "metadata": {},
          "output_type": "execute_result"
        }
      ],
      "source": [
        "df3.mean()"
      ]
    },
    {
      "cell_type": "code",
      "execution_count": null,
      "id": "42619b71",
      "metadata": {
        "id": "42619b71",
        "outputId": "f60f50d4-b86f-4d6f-8eb0-e96dde1f6121"
      },
      "outputs": [
        {
          "name": "stderr",
          "output_type": "stream",
          "text": [
            "/var/folders/l4/6y_sy_9n1s7cbdl1qtp0sj240000gn/T/ipykernel_1903/722282611.py:1: FutureWarning: The default value of numeric_only in DataFrame.mean is deprecated. In a future version, it will default to False. In addition, specifying 'numeric_only=None' is deprecated. Select only valid columns or specify the value of numeric_only to silence this warning.\n",
            "  df3.mean().mean()\n"
          ]
        },
        {
          "data": {
            "text/plain": [
              "95.73333333333332"
            ]
          },
          "execution_count": 11,
          "metadata": {},
          "output_type": "execute_result"
        }
      ],
      "source": [
        "df3.mean().mean()"
      ]
    },
    {
      "cell_type": "code",
      "execution_count": null,
      "id": "18f243d1",
      "metadata": {
        "id": "18f243d1",
        "outputId": "9d063322-1284-4d84-a0a4-f118d730c6fc"
      },
      "outputs": [
        {
          "data": {
            "text/plain": [
              "Student1    87.5\n",
              "Student2    89.9\n",
              "Student3    91.0\n",
              "Name: Percentage, dtype: float64"
            ]
          },
          "execution_count": 12,
          "metadata": {},
          "output_type": "execute_result"
        }
      ],
      "source": [
        "df3.Percentage"
      ]
    },
    {
      "cell_type": "code",
      "execution_count": null,
      "id": "802bb5bf",
      "metadata": {
        "id": "802bb5bf",
        "outputId": "5c53e327-ebb2-4ffb-d790-dcb4cab77c6a"
      },
      "outputs": [
        {
          "data": {
            "text/plain": [
              "Student1    87.5\n",
              "Student2    89.9\n",
              "Student3    91.0\n",
              "Name: Percentage, dtype: float64"
            ]
          },
          "execution_count": 13,
          "metadata": {},
          "output_type": "execute_result"
        }
      ],
      "source": [
        "df3[\"Percentage\"]"
      ]
    },
    {
      "cell_type": "code",
      "execution_count": null,
      "id": "ee7b0302",
      "metadata": {
        "id": "ee7b0302",
        "outputId": "58e52235-015d-462f-9c36-e90b94e68143"
      },
      "outputs": [
        {
          "data": {
            "text/plain": [
              "89.46666666666665"
            ]
          },
          "execution_count": 14,
          "metadata": {},
          "output_type": "execute_result"
        }
      ],
      "source": [
        "df3.Percentage.mean()"
      ]
    },
    {
      "cell_type": "markdown",
      "id": "05999c0c",
      "metadata": {
        "id": "05999c0c"
      },
      "source": [
        "### Creating DataFrames from \"Dictionaries\" and \"Lists\""
      ]
    },
    {
      "cell_type": "code",
      "execution_count": null,
      "id": "ebe3251e",
      "metadata": {
        "id": "ebe3251e"
      },
      "outputs": [],
      "source": [
        "dict1={\"First_Name\":(\"Avinash\",\"Prasad\"),\n",
        "      \"Last_Name\":(\"Bhonde\",\"Bhonde\")}\n",
        "df4=pd.DataFrame(dict1)"
      ]
    },
    {
      "cell_type": "code",
      "execution_count": null,
      "id": "8c901af7",
      "metadata": {
        "id": "8c901af7",
        "outputId": "ab250469-8f0c-4101-a056-46c68601fc86"
      },
      "outputs": [
        {
          "data": {
            "text/html": [
              "<div>\n",
              "<style scoped>\n",
              "    .dataframe tbody tr th:only-of-type {\n",
              "        vertical-align: middle;\n",
              "    }\n",
              "\n",
              "    .dataframe tbody tr th {\n",
              "        vertical-align: top;\n",
              "    }\n",
              "\n",
              "    .dataframe thead th {\n",
              "        text-align: right;\n",
              "    }\n",
              "</style>\n",
              "<table border=\"1\" class=\"dataframe\">\n",
              "  <thead>\n",
              "    <tr style=\"text-align: right;\">\n",
              "      <th></th>\n",
              "      <th>First_Name</th>\n",
              "      <th>Last_Name</th>\n",
              "    </tr>\n",
              "  </thead>\n",
              "  <tbody>\n",
              "    <tr>\n",
              "      <th>0</th>\n",
              "      <td>Avinash</td>\n",
              "      <td>Bhonde</td>\n",
              "    </tr>\n",
              "    <tr>\n",
              "      <th>1</th>\n",
              "      <td>Prasad</td>\n",
              "      <td>Bhonde</td>\n",
              "    </tr>\n",
              "  </tbody>\n",
              "</table>\n",
              "</div>"
            ],
            "text/plain": [
              "  First_Name Last_Name\n",
              "0    Avinash    Bhonde\n",
              "1     Prasad    Bhonde"
            ]
          },
          "execution_count": 16,
          "metadata": {},
          "output_type": "execute_result"
        }
      ],
      "source": [
        "df4"
      ]
    },
    {
      "cell_type": "code",
      "execution_count": null,
      "id": "fda783da",
      "metadata": {
        "id": "fda783da"
      },
      "outputs": [],
      "source": [
        "list1=[{\"First_Name\":\"Suresh\",\"Last_Name\":\"Kumar\", \"Age\":23},\n",
        "       {\"First_Name\":\"Mahesh\",\"Last_Name\":\"Babu\", \"Age\":25},\n",
        "       {\"First_Name\":\"Ramesh\",\"Last_Name\":\"Kumar\", \"Age\":27}]"
      ]
    },
    {
      "cell_type": "code",
      "execution_count": null,
      "id": "04fca5e2",
      "metadata": {
        "id": "04fca5e2"
      },
      "outputs": [],
      "source": [
        "df5=pd.DataFrame(list1)"
      ]
    },
    {
      "cell_type": "code",
      "execution_count": null,
      "id": "d402e20c",
      "metadata": {
        "id": "d402e20c",
        "outputId": "c69cb748-7244-434a-e355-cbc47be7236c"
      },
      "outputs": [
        {
          "data": {
            "text/html": [
              "<div>\n",
              "<style scoped>\n",
              "    .dataframe tbody tr th:only-of-type {\n",
              "        vertical-align: middle;\n",
              "    }\n",
              "\n",
              "    .dataframe tbody tr th {\n",
              "        vertical-align: top;\n",
              "    }\n",
              "\n",
              "    .dataframe thead th {\n",
              "        text-align: right;\n",
              "    }\n",
              "</style>\n",
              "<table border=\"1\" class=\"dataframe\">\n",
              "  <thead>\n",
              "    <tr style=\"text-align: right;\">\n",
              "      <th></th>\n",
              "      <th>First_Name</th>\n",
              "      <th>Last_Name</th>\n",
              "      <th>Age</th>\n",
              "    </tr>\n",
              "  </thead>\n",
              "  <tbody>\n",
              "    <tr>\n",
              "      <th>0</th>\n",
              "      <td>Suresh</td>\n",
              "      <td>Kumar</td>\n",
              "      <td>23</td>\n",
              "    </tr>\n",
              "    <tr>\n",
              "      <th>1</th>\n",
              "      <td>Mahesh</td>\n",
              "      <td>Babu</td>\n",
              "      <td>25</td>\n",
              "    </tr>\n",
              "    <tr>\n",
              "      <th>2</th>\n",
              "      <td>Ramesh</td>\n",
              "      <td>Kumar</td>\n",
              "      <td>27</td>\n",
              "    </tr>\n",
              "  </tbody>\n",
              "</table>\n",
              "</div>"
            ],
            "text/plain": [
              "  First_Name Last_Name  Age\n",
              "0     Suresh     Kumar   23\n",
              "1     Mahesh      Babu   25\n",
              "2     Ramesh     Kumar   27"
            ]
          },
          "execution_count": 19,
          "metadata": {},
          "output_type": "execute_result"
        }
      ],
      "source": [
        "df5"
      ]
    },
    {
      "cell_type": "markdown",
      "id": "7aeaf673",
      "metadata": {
        "id": "7aeaf673"
      },
      "source": [
        "### Loading Data from files into Dataframes"
      ]
    },
    {
      "cell_type": "code",
      "execution_count": null,
      "id": "9e1bbd56",
      "metadata": {
        "id": "9e1bbd56"
      },
      "outputs": [],
      "source": [
        "import pandas as pd\n",
        "df6=pd.read_csv(\"./supermarkets.csv\")"
      ]
    },
    {
      "cell_type": "code",
      "execution_count": null,
      "id": "a2d60f83",
      "metadata": {
        "id": "a2d60f83",
        "outputId": "892cc6ad-1644-47cd-cff1-f358565418cd"
      },
      "outputs": [
        {
          "data": {
            "text/html": [
              "<div>\n",
              "<style scoped>\n",
              "    .dataframe tbody tr th:only-of-type {\n",
              "        vertical-align: middle;\n",
              "    }\n",
              "\n",
              "    .dataframe tbody tr th {\n",
              "        vertical-align: top;\n",
              "    }\n",
              "\n",
              "    .dataframe thead th {\n",
              "        text-align: right;\n",
              "    }\n",
              "</style>\n",
              "<table border=\"1\" class=\"dataframe\">\n",
              "  <thead>\n",
              "    <tr style=\"text-align: right;\">\n",
              "      <th></th>\n",
              "      <th>ID</th>\n",
              "      <th>ADDRESS</th>\n",
              "      <th>CITY</th>\n",
              "      <th>STATE</th>\n",
              "      <th>COUNTRY</th>\n",
              "      <th>NAME</th>\n",
              "      <th>EMPLOYEES</th>\n",
              "    </tr>\n",
              "  </thead>\n",
              "  <tbody>\n",
              "    <tr>\n",
              "      <th>0</th>\n",
              "      <td>0</td>\n",
              "      <td>123</td>\n",
              "      <td>Bengaluru</td>\n",
              "      <td>Karnataka</td>\n",
              "      <td>India</td>\n",
              "      <td>Prasad</td>\n",
              "      <td>10</td>\n",
              "    </tr>\n",
              "    <tr>\n",
              "      <th>1</th>\n",
              "      <td>1</td>\n",
              "      <td>234</td>\n",
              "      <td>Pune</td>\n",
              "      <td>Maharashtra</td>\n",
              "      <td>India</td>\n",
              "      <td>Sakshi</td>\n",
              "      <td>1</td>\n",
              "    </tr>\n",
              "    <tr>\n",
              "      <th>2</th>\n",
              "      <td>2</td>\n",
              "      <td>345</td>\n",
              "      <td>Pune</td>\n",
              "      <td>Maharashtra</td>\n",
              "      <td>India</td>\n",
              "      <td>Maheema</td>\n",
              "      <td>2</td>\n",
              "    </tr>\n",
              "    <tr>\n",
              "      <th>3</th>\n",
              "      <td>3</td>\n",
              "      <td>456</td>\n",
              "      <td>Mumbai</td>\n",
              "      <td>Maharashtra</td>\n",
              "      <td>India</td>\n",
              "      <td>Hrutika</td>\n",
              "      <td>3</td>\n",
              "    </tr>\n",
              "    <tr>\n",
              "      <th>4</th>\n",
              "      <td>4</td>\n",
              "      <td>567</td>\n",
              "      <td>Nagpur</td>\n",
              "      <td>Maharashtra</td>\n",
              "      <td>India</td>\n",
              "      <td>Samiksha</td>\n",
              "      <td>5</td>\n",
              "    </tr>\n",
              "    <tr>\n",
              "      <th>5</th>\n",
              "      <td>5</td>\n",
              "      <td>678</td>\n",
              "      <td>Nagpur</td>\n",
              "      <td>Maharashtra</td>\n",
              "      <td>India</td>\n",
              "      <td>Akash</td>\n",
              "      <td>8</td>\n",
              "    </tr>\n",
              "    <tr>\n",
              "      <th>6</th>\n",
              "      <td>6</td>\n",
              "      <td>789</td>\n",
              "      <td>Pune</td>\n",
              "      <td>Maharashtra</td>\n",
              "      <td>India</td>\n",
              "      <td>Anurag</td>\n",
              "      <td>9</td>\n",
              "    </tr>\n",
              "    <tr>\n",
              "      <th>7</th>\n",
              "      <td>7</td>\n",
              "      <td>891</td>\n",
              "      <td>Nagpur</td>\n",
              "      <td>Maharashtra</td>\n",
              "      <td>India</td>\n",
              "      <td>Atharv</td>\n",
              "      <td>10</td>\n",
              "    </tr>\n",
              "  </tbody>\n",
              "</table>\n",
              "</div>"
            ],
            "text/plain": [
              "   ID  ADDRESS       CITY        STATE COUNTRY      NAME  EMPLOYEES\n",
              "0   0      123  Bengaluru    Karnataka   India    Prasad         10\n",
              "1   1      234       Pune  Maharashtra   India    Sakshi          1\n",
              "2   2      345       Pune  Maharashtra   India   Maheema          2\n",
              "3   3      456     Mumbai  Maharashtra   India   Hrutika          3\n",
              "4   4      567     Nagpur  Maharashtra   India  Samiksha          5\n",
              "5   5      678     Nagpur  Maharashtra   India     Akash          8\n",
              "6   6      789       Pune  Maharashtra   India    Anurag          9\n",
              "7   7      891     Nagpur  Maharashtra   India    Atharv         10"
            ]
          },
          "execution_count": 21,
          "metadata": {},
          "output_type": "execute_result"
        }
      ],
      "source": [
        "df6"
      ]
    },
    {
      "cell_type": "code",
      "execution_count": null,
      "id": "f985d8b8",
      "metadata": {
        "id": "f985d8b8"
      },
      "outputs": [],
      "source": [
        "df7=pd.read_csv(\"./supermarkets.txt\")"
      ]
    },
    {
      "cell_type": "code",
      "execution_count": null,
      "id": "11505048",
      "metadata": {
        "id": "11505048",
        "outputId": "c3b14ce6-d274-4a6b-fa35-25937ac775a1"
      },
      "outputs": [
        {
          "data": {
            "text/html": [
              "<div>\n",
              "<style scoped>\n",
              "    .dataframe tbody tr th:only-of-type {\n",
              "        vertical-align: middle;\n",
              "    }\n",
              "\n",
              "    .dataframe tbody tr th {\n",
              "        vertical-align: top;\n",
              "    }\n",
              "\n",
              "    .dataframe thead th {\n",
              "        text-align: right;\n",
              "    }\n",
              "</style>\n",
              "<table border=\"1\" class=\"dataframe\">\n",
              "  <thead>\n",
              "    <tr style=\"text-align: right;\">\n",
              "      <th></th>\n",
              "      <th>ID</th>\n",
              "      <th>ADDRESS</th>\n",
              "      <th>CITY</th>\n",
              "      <th>STATE</th>\n",
              "      <th>COUNTRY</th>\n",
              "      <th>NAME</th>\n",
              "      <th>EMPLOYEES</th>\n",
              "    </tr>\n",
              "  </thead>\n",
              "  <tbody>\n",
              "    <tr>\n",
              "      <th>0</th>\n",
              "      <td>0</td>\n",
              "      <td>123</td>\n",
              "      <td>Bengaluru</td>\n",
              "      <td>Karnataka</td>\n",
              "      <td>India</td>\n",
              "      <td>Prasad</td>\n",
              "      <td>10</td>\n",
              "    </tr>\n",
              "    <tr>\n",
              "      <th>1</th>\n",
              "      <td>1</td>\n",
              "      <td>234</td>\n",
              "      <td>Pune</td>\n",
              "      <td>Maharashtra</td>\n",
              "      <td>India</td>\n",
              "      <td>Sakshi</td>\n",
              "      <td>1</td>\n",
              "    </tr>\n",
              "    <tr>\n",
              "      <th>2</th>\n",
              "      <td>2</td>\n",
              "      <td>345</td>\n",
              "      <td>Pune</td>\n",
              "      <td>Maharashtra</td>\n",
              "      <td>India</td>\n",
              "      <td>Maheema</td>\n",
              "      <td>2</td>\n",
              "    </tr>\n",
              "    <tr>\n",
              "      <th>3</th>\n",
              "      <td>3</td>\n",
              "      <td>456</td>\n",
              "      <td>Mumbai</td>\n",
              "      <td>Maharashtra</td>\n",
              "      <td>India</td>\n",
              "      <td>Hrutika</td>\n",
              "      <td>3</td>\n",
              "    </tr>\n",
              "    <tr>\n",
              "      <th>4</th>\n",
              "      <td>4</td>\n",
              "      <td>567</td>\n",
              "      <td>Nagpur</td>\n",
              "      <td>Maharashtra</td>\n",
              "      <td>India</td>\n",
              "      <td>Samiksha</td>\n",
              "      <td>5</td>\n",
              "    </tr>\n",
              "    <tr>\n",
              "      <th>5</th>\n",
              "      <td>5</td>\n",
              "      <td>678</td>\n",
              "      <td>Nagpur</td>\n",
              "      <td>Maharashtra</td>\n",
              "      <td>India</td>\n",
              "      <td>Akash</td>\n",
              "      <td>8</td>\n",
              "    </tr>\n",
              "    <tr>\n",
              "      <th>6</th>\n",
              "      <td>6</td>\n",
              "      <td>789</td>\n",
              "      <td>Pune</td>\n",
              "      <td>Maharashtra</td>\n",
              "      <td>India</td>\n",
              "      <td>Anurag</td>\n",
              "      <td>9</td>\n",
              "    </tr>\n",
              "    <tr>\n",
              "      <th>7</th>\n",
              "      <td>7</td>\n",
              "      <td>891</td>\n",
              "      <td>Nagpur</td>\n",
              "      <td>Maharashtra</td>\n",
              "      <td>India</td>\n",
              "      <td>Atharv</td>\n",
              "      <td>10</td>\n",
              "    </tr>\n",
              "  </tbody>\n",
              "</table>\n",
              "</div>"
            ],
            "text/plain": [
              "   ID  ADDRESS       CITY        STATE COUNTRY      NAME  EMPLOYEES\n",
              "0   0      123  Bengaluru    Karnataka   India    Prasad         10\n",
              "1   1      234       Pune  Maharashtra   India    Sakshi          1\n",
              "2   2      345       Pune  Maharashtra   India   Maheema          2\n",
              "3   3      456     Mumbai  Maharashtra   India   Hrutika          3\n",
              "4   4      567     Nagpur  Maharashtra   India  Samiksha          5\n",
              "5   5      678     Nagpur  Maharashtra   India     Akash          8\n",
              "6   6      789       Pune  Maharashtra   India    Anurag          9\n",
              "7   7      891     Nagpur  Maharashtra   India    Atharv         10"
            ]
          },
          "execution_count": 23,
          "metadata": {},
          "output_type": "execute_result"
        }
      ],
      "source": [
        "df7"
      ]
    },
    {
      "cell_type": "code",
      "execution_count": null,
      "id": "72973a2e",
      "metadata": {
        "id": "72973a2e"
      },
      "outputs": [],
      "source": [
        "df8=pd.read_csv(\"./supermarkets-semicolon.txt\",sep=\";\")"
      ]
    },
    {
      "cell_type": "code",
      "execution_count": null,
      "id": "61ec8a4a",
      "metadata": {
        "id": "61ec8a4a",
        "outputId": "cb46d5ff-ff74-42b4-ea11-25f6bf992728"
      },
      "outputs": [
        {
          "data": {
            "text/html": [
              "<div>\n",
              "<style scoped>\n",
              "    .dataframe tbody tr th:only-of-type {\n",
              "        vertical-align: middle;\n",
              "    }\n",
              "\n",
              "    .dataframe tbody tr th {\n",
              "        vertical-align: top;\n",
              "    }\n",
              "\n",
              "    .dataframe thead th {\n",
              "        text-align: right;\n",
              "    }\n",
              "</style>\n",
              "<table border=\"1\" class=\"dataframe\">\n",
              "  <thead>\n",
              "    <tr style=\"text-align: right;\">\n",
              "      <th></th>\n",
              "      <th>ID</th>\n",
              "      <th>ADDRESS</th>\n",
              "      <th>CITY</th>\n",
              "      <th>STATE</th>\n",
              "      <th>COUNTRY</th>\n",
              "      <th>NAME</th>\n",
              "      <th>EMPLOYEES</th>\n",
              "    </tr>\n",
              "  </thead>\n",
              "  <tbody>\n",
              "    <tr>\n",
              "      <th>0</th>\n",
              "      <td>0</td>\n",
              "      <td>123</td>\n",
              "      <td>Bengaluru</td>\n",
              "      <td>Karnataka</td>\n",
              "      <td>India</td>\n",
              "      <td>Prasad</td>\n",
              "      <td>10</td>\n",
              "    </tr>\n",
              "    <tr>\n",
              "      <th>1</th>\n",
              "      <td>1</td>\n",
              "      <td>234</td>\n",
              "      <td>Pune</td>\n",
              "      <td>Maharashtra</td>\n",
              "      <td>India</td>\n",
              "      <td>Sakshi</td>\n",
              "      <td>1</td>\n",
              "    </tr>\n",
              "    <tr>\n",
              "      <th>2</th>\n",
              "      <td>2</td>\n",
              "      <td>345</td>\n",
              "      <td>Pune</td>\n",
              "      <td>Maharashtra</td>\n",
              "      <td>India</td>\n",
              "      <td>Maheema</td>\n",
              "      <td>2</td>\n",
              "    </tr>\n",
              "    <tr>\n",
              "      <th>3</th>\n",
              "      <td>3</td>\n",
              "      <td>456</td>\n",
              "      <td>Mumbai</td>\n",
              "      <td>Maharashtra</td>\n",
              "      <td>India</td>\n",
              "      <td>Hrutika</td>\n",
              "      <td>3</td>\n",
              "    </tr>\n",
              "    <tr>\n",
              "      <th>4</th>\n",
              "      <td>4</td>\n",
              "      <td>567</td>\n",
              "      <td>Nagpur</td>\n",
              "      <td>Maharashtra</td>\n",
              "      <td>India</td>\n",
              "      <td>Samiksha</td>\n",
              "      <td>5</td>\n",
              "    </tr>\n",
              "    <tr>\n",
              "      <th>5</th>\n",
              "      <td>5</td>\n",
              "      <td>678</td>\n",
              "      <td>Nagpur</td>\n",
              "      <td>Maharashtra</td>\n",
              "      <td>India</td>\n",
              "      <td>Akash</td>\n",
              "      <td>8</td>\n",
              "    </tr>\n",
              "    <tr>\n",
              "      <th>6</th>\n",
              "      <td>6</td>\n",
              "      <td>789</td>\n",
              "      <td>Pune</td>\n",
              "      <td>Maharashtra</td>\n",
              "      <td>India</td>\n",
              "      <td>Anurag</td>\n",
              "      <td>9</td>\n",
              "    </tr>\n",
              "    <tr>\n",
              "      <th>7</th>\n",
              "      <td>7</td>\n",
              "      <td>891</td>\n",
              "      <td>Nagpur</td>\n",
              "      <td>Maharashtra</td>\n",
              "      <td>India</td>\n",
              "      <td>Atharv</td>\n",
              "      <td>10</td>\n",
              "    </tr>\n",
              "  </tbody>\n",
              "</table>\n",
              "</div>"
            ],
            "text/plain": [
              "   ID  ADDRESS       CITY        STATE COUNTRY      NAME  EMPLOYEES\n",
              "0   0      123  Bengaluru    Karnataka   India    Prasad         10\n",
              "1   1      234       Pune  Maharashtra   India    Sakshi          1\n",
              "2   2      345       Pune  Maharashtra   India   Maheema          2\n",
              "3   3      456     Mumbai  Maharashtra   India   Hrutika          3\n",
              "4   4      567     Nagpur  Maharashtra   India  Samiksha          5\n",
              "5   5      678     Nagpur  Maharashtra   India     Akash          8\n",
              "6   6      789       Pune  Maharashtra   India    Anurag          9\n",
              "7   7      891     Nagpur  Maharashtra   India    Atharv         10"
            ]
          },
          "execution_count": 25,
          "metadata": {},
          "output_type": "execute_result"
        }
      ],
      "source": [
        "df8"
      ]
    },
    {
      "cell_type": "code",
      "execution_count": null,
      "id": "bec5a4b5",
      "metadata": {
        "id": "bec5a4b5"
      },
      "outputs": [],
      "source": [
        "df9=pd.read_csv(\"./data.txt\",header=None)"
      ]
    },
    {
      "cell_type": "code",
      "execution_count": null,
      "id": "ad98d866",
      "metadata": {
        "id": "ad98d866",
        "outputId": "98ef80d0-06fb-4c87-d4d3-dbd10df37f2b"
      },
      "outputs": [
        {
          "data": {
            "text/html": [
              "<div>\n",
              "<style scoped>\n",
              "    .dataframe tbody tr th:only-of-type {\n",
              "        vertical-align: middle;\n",
              "    }\n",
              "\n",
              "    .dataframe tbody tr th {\n",
              "        vertical-align: top;\n",
              "    }\n",
              "\n",
              "    .dataframe thead th {\n",
              "        text-align: right;\n",
              "    }\n",
              "</style>\n",
              "<table border=\"1\" class=\"dataframe\">\n",
              "  <thead>\n",
              "    <tr style=\"text-align: right;\">\n",
              "      <th></th>\n",
              "      <th>0</th>\n",
              "      <th>1</th>\n",
              "      <th>2</th>\n",
              "      <th>3</th>\n",
              "      <th>4</th>\n",
              "      <th>5</th>\n",
              "      <th>6</th>\n",
              "    </tr>\n",
              "  </thead>\n",
              "  <tbody>\n",
              "    <tr>\n",
              "      <th>0</th>\n",
              "      <td>0</td>\n",
              "      <td>123</td>\n",
              "      <td>Bengaluru</td>\n",
              "      <td>Karnataka</td>\n",
              "      <td>India</td>\n",
              "      <td>Prasad</td>\n",
              "      <td>10</td>\n",
              "    </tr>\n",
              "    <tr>\n",
              "      <th>1</th>\n",
              "      <td>1</td>\n",
              "      <td>234</td>\n",
              "      <td>Pune</td>\n",
              "      <td>Maharashtra</td>\n",
              "      <td>India</td>\n",
              "      <td>Sakshi</td>\n",
              "      <td>1</td>\n",
              "    </tr>\n",
              "    <tr>\n",
              "      <th>2</th>\n",
              "      <td>2</td>\n",
              "      <td>345</td>\n",
              "      <td>Pune</td>\n",
              "      <td>Maharashtra</td>\n",
              "      <td>India</td>\n",
              "      <td>Maheema</td>\n",
              "      <td>2</td>\n",
              "    </tr>\n",
              "    <tr>\n",
              "      <th>3</th>\n",
              "      <td>3</td>\n",
              "      <td>456</td>\n",
              "      <td>Mumbai</td>\n",
              "      <td>Maharashtra</td>\n",
              "      <td>India</td>\n",
              "      <td>Hrutika</td>\n",
              "      <td>3</td>\n",
              "    </tr>\n",
              "    <tr>\n",
              "      <th>4</th>\n",
              "      <td>4</td>\n",
              "      <td>567</td>\n",
              "      <td>Nagpur</td>\n",
              "      <td>Maharashtra</td>\n",
              "      <td>India</td>\n",
              "      <td>Samiksha</td>\n",
              "      <td>5</td>\n",
              "    </tr>\n",
              "    <tr>\n",
              "      <th>5</th>\n",
              "      <td>5</td>\n",
              "      <td>678</td>\n",
              "      <td>Nagpur</td>\n",
              "      <td>Maharashtra</td>\n",
              "      <td>India</td>\n",
              "      <td>Akash</td>\n",
              "      <td>8</td>\n",
              "    </tr>\n",
              "    <tr>\n",
              "      <th>6</th>\n",
              "      <td>6</td>\n",
              "      <td>789</td>\n",
              "      <td>Pune</td>\n",
              "      <td>Maharashtra</td>\n",
              "      <td>India</td>\n",
              "      <td>Anurag</td>\n",
              "      <td>9</td>\n",
              "    </tr>\n",
              "    <tr>\n",
              "      <th>7</th>\n",
              "      <td>7</td>\n",
              "      <td>891</td>\n",
              "      <td>Nagpur</td>\n",
              "      <td>Maharashtra</td>\n",
              "      <td>India</td>\n",
              "      <td>Atharv</td>\n",
              "      <td>10</td>\n",
              "    </tr>\n",
              "  </tbody>\n",
              "</table>\n",
              "</div>"
            ],
            "text/plain": [
              "   0    1          2            3      4         5   6\n",
              "0  0  123  Bengaluru    Karnataka  India    Prasad  10\n",
              "1  1  234       Pune  Maharashtra  India    Sakshi   1\n",
              "2  2  345       Pune  Maharashtra  India   Maheema   2\n",
              "3  3  456     Mumbai  Maharashtra  India   Hrutika   3\n",
              "4  4  567     Nagpur  Maharashtra  India  Samiksha   5\n",
              "5  5  678     Nagpur  Maharashtra  India     Akash   8\n",
              "6  6  789       Pune  Maharashtra  India    Anurag   9\n",
              "7  7  891     Nagpur  Maharashtra  India    Atharv  10"
            ]
          },
          "execution_count": 27,
          "metadata": {},
          "output_type": "execute_result"
        }
      ],
      "source": [
        "df9"
      ]
    },
    {
      "cell_type": "code",
      "execution_count": null,
      "id": "c5065439",
      "metadata": {
        "id": "c5065439"
      },
      "outputs": [],
      "source": [
        "df9.columns=[\"ID\",\"ADDRESS\",\"CITY\",\"STATE\",\"COUNTRY\",\"NAME\",\"EMPLOYEES\"]"
      ]
    },
    {
      "cell_type": "code",
      "execution_count": null,
      "id": "0d7c34b2",
      "metadata": {
        "id": "0d7c34b2",
        "outputId": "8bf34128-242a-43da-e262-a51d8f992dd2"
      },
      "outputs": [
        {
          "data": {
            "text/html": [
              "<div>\n",
              "<style scoped>\n",
              "    .dataframe tbody tr th:only-of-type {\n",
              "        vertical-align: middle;\n",
              "    }\n",
              "\n",
              "    .dataframe tbody tr th {\n",
              "        vertical-align: top;\n",
              "    }\n",
              "\n",
              "    .dataframe thead th {\n",
              "        text-align: right;\n",
              "    }\n",
              "</style>\n",
              "<table border=\"1\" class=\"dataframe\">\n",
              "  <thead>\n",
              "    <tr style=\"text-align: right;\">\n",
              "      <th></th>\n",
              "      <th>ID</th>\n",
              "      <th>ADDRESS</th>\n",
              "      <th>CITY</th>\n",
              "      <th>STATE</th>\n",
              "      <th>COUNTRY</th>\n",
              "      <th>NAME</th>\n",
              "      <th>EMPLOYEES</th>\n",
              "    </tr>\n",
              "  </thead>\n",
              "  <tbody>\n",
              "    <tr>\n",
              "      <th>0</th>\n",
              "      <td>0</td>\n",
              "      <td>123</td>\n",
              "      <td>Bengaluru</td>\n",
              "      <td>Karnataka</td>\n",
              "      <td>India</td>\n",
              "      <td>Prasad</td>\n",
              "      <td>10</td>\n",
              "    </tr>\n",
              "    <tr>\n",
              "      <th>1</th>\n",
              "      <td>1</td>\n",
              "      <td>234</td>\n",
              "      <td>Pune</td>\n",
              "      <td>Maharashtra</td>\n",
              "      <td>India</td>\n",
              "      <td>Sakshi</td>\n",
              "      <td>1</td>\n",
              "    </tr>\n",
              "    <tr>\n",
              "      <th>2</th>\n",
              "      <td>2</td>\n",
              "      <td>345</td>\n",
              "      <td>Pune</td>\n",
              "      <td>Maharashtra</td>\n",
              "      <td>India</td>\n",
              "      <td>Maheema</td>\n",
              "      <td>2</td>\n",
              "    </tr>\n",
              "    <tr>\n",
              "      <th>3</th>\n",
              "      <td>3</td>\n",
              "      <td>456</td>\n",
              "      <td>Mumbai</td>\n",
              "      <td>Maharashtra</td>\n",
              "      <td>India</td>\n",
              "      <td>Hrutika</td>\n",
              "      <td>3</td>\n",
              "    </tr>\n",
              "    <tr>\n",
              "      <th>4</th>\n",
              "      <td>4</td>\n",
              "      <td>567</td>\n",
              "      <td>Nagpur</td>\n",
              "      <td>Maharashtra</td>\n",
              "      <td>India</td>\n",
              "      <td>Samiksha</td>\n",
              "      <td>5</td>\n",
              "    </tr>\n",
              "    <tr>\n",
              "      <th>5</th>\n",
              "      <td>5</td>\n",
              "      <td>678</td>\n",
              "      <td>Nagpur</td>\n",
              "      <td>Maharashtra</td>\n",
              "      <td>India</td>\n",
              "      <td>Akash</td>\n",
              "      <td>8</td>\n",
              "    </tr>\n",
              "    <tr>\n",
              "      <th>6</th>\n",
              "      <td>6</td>\n",
              "      <td>789</td>\n",
              "      <td>Pune</td>\n",
              "      <td>Maharashtra</td>\n",
              "      <td>India</td>\n",
              "      <td>Anurag</td>\n",
              "      <td>9</td>\n",
              "    </tr>\n",
              "    <tr>\n",
              "      <th>7</th>\n",
              "      <td>7</td>\n",
              "      <td>891</td>\n",
              "      <td>Nagpur</td>\n",
              "      <td>Maharashtra</td>\n",
              "      <td>India</td>\n",
              "      <td>Atharv</td>\n",
              "      <td>10</td>\n",
              "    </tr>\n",
              "  </tbody>\n",
              "</table>\n",
              "</div>"
            ],
            "text/plain": [
              "   ID  ADDRESS       CITY        STATE COUNTRY      NAME  EMPLOYEES\n",
              "0   0      123  Bengaluru    Karnataka   India    Prasad         10\n",
              "1   1      234       Pune  Maharashtra   India    Sakshi          1\n",
              "2   2      345       Pune  Maharashtra   India   Maheema          2\n",
              "3   3      456     Mumbai  Maharashtra   India   Hrutika          3\n",
              "4   4      567     Nagpur  Maharashtra   India  Samiksha          5\n",
              "5   5      678     Nagpur  Maharashtra   India     Akash          8\n",
              "6   6      789       Pune  Maharashtra   India    Anurag          9\n",
              "7   7      891     Nagpur  Maharashtra   India    Atharv         10"
            ]
          },
          "execution_count": 29,
          "metadata": {},
          "output_type": "execute_result"
        }
      ],
      "source": [
        "df9"
      ]
    },
    {
      "cell_type": "code",
      "execution_count": null,
      "id": "9f869121",
      "metadata": {
        "id": "9f869121"
      },
      "outputs": [],
      "source": [
        "df10=pd.read_csv(\"./marks.txt\",header=None)"
      ]
    },
    {
      "cell_type": "code",
      "execution_count": null,
      "id": "1fb09446",
      "metadata": {
        "id": "1fb09446",
        "outputId": "86f135bb-f715-47bf-8d92-5ed9839ff442"
      },
      "outputs": [
        {
          "data": {
            "text/html": [
              "<div>\n",
              "<style scoped>\n",
              "    .dataframe tbody tr th:only-of-type {\n",
              "        vertical-align: middle;\n",
              "    }\n",
              "\n",
              "    .dataframe tbody tr th {\n",
              "        vertical-align: top;\n",
              "    }\n",
              "\n",
              "    .dataframe thead th {\n",
              "        text-align: right;\n",
              "    }\n",
              "</style>\n",
              "<table border=\"1\" class=\"dataframe\">\n",
              "  <thead>\n",
              "    <tr style=\"text-align: right;\">\n",
              "      <th></th>\n",
              "      <th>0</th>\n",
              "      <th>1</th>\n",
              "      <th>2</th>\n",
              "      <th>3</th>\n",
              "    </tr>\n",
              "  </thead>\n",
              "  <tbody>\n",
              "    <tr>\n",
              "      <th>0</th>\n",
              "      <td>Ramesh</td>\n",
              "      <td>100.0</td>\n",
              "      <td>99.0</td>\n",
              "      <td>98</td>\n",
              "    </tr>\n",
              "    <tr>\n",
              "      <th>1</th>\n",
              "      <td>Suresh</td>\n",
              "      <td>80.0</td>\n",
              "      <td>98.0</td>\n",
              "      <td>98</td>\n",
              "    </tr>\n",
              "    <tr>\n",
              "      <th>2</th>\n",
              "      <td>Mukesh</td>\n",
              "      <td>NaN</td>\n",
              "      <td>90.0</td>\n",
              "      <td>98</td>\n",
              "    </tr>\n",
              "    <tr>\n",
              "      <th>3</th>\n",
              "      <td>Mahesh</td>\n",
              "      <td>100.0</td>\n",
              "      <td>NaN</td>\n",
              "      <td>100</td>\n",
              "    </tr>\n",
              "  </tbody>\n",
              "</table>\n",
              "</div>"
            ],
            "text/plain": [
              "        0      1     2    3\n",
              "0  Ramesh  100.0  99.0   98\n",
              "1  Suresh   80.0  98.0   98\n",
              "2  Mukesh    NaN  90.0   98\n",
              "3  Mahesh  100.0   NaN  100"
            ]
          },
          "execution_count": 147,
          "metadata": {},
          "output_type": "execute_result"
        }
      ],
      "source": [
        "df10"
      ]
    },
    {
      "cell_type": "code",
      "execution_count": null,
      "id": "a2362332",
      "metadata": {
        "id": "a2362332"
      },
      "outputs": [],
      "source": [
        "df10.columns=[\"Name\",\"Subject1\",\"Subject2\",\"Subject3\"]\n",
        "df10.index=[\"1\",\"2\",\"3\",\"4\"]"
      ]
    },
    {
      "cell_type": "code",
      "execution_count": null,
      "id": "378ed518",
      "metadata": {
        "id": "378ed518",
        "outputId": "33cf2e72-db26-4742-b7eb-04620edaf07c"
      },
      "outputs": [
        {
          "data": {
            "text/html": [
              "<div>\n",
              "<style scoped>\n",
              "    .dataframe tbody tr th:only-of-type {\n",
              "        vertical-align: middle;\n",
              "    }\n",
              "\n",
              "    .dataframe tbody tr th {\n",
              "        vertical-align: top;\n",
              "    }\n",
              "\n",
              "    .dataframe thead th {\n",
              "        text-align: right;\n",
              "    }\n",
              "</style>\n",
              "<table border=\"1\" class=\"dataframe\">\n",
              "  <thead>\n",
              "    <tr style=\"text-align: right;\">\n",
              "      <th></th>\n",
              "      <th>Name</th>\n",
              "      <th>Subject1</th>\n",
              "      <th>Subject2</th>\n",
              "      <th>Subject3</th>\n",
              "    </tr>\n",
              "  </thead>\n",
              "  <tbody>\n",
              "    <tr>\n",
              "      <th>1</th>\n",
              "      <td>Ramesh</td>\n",
              "      <td>100.0</td>\n",
              "      <td>99.0</td>\n",
              "      <td>98</td>\n",
              "    </tr>\n",
              "    <tr>\n",
              "      <th>2</th>\n",
              "      <td>Suresh</td>\n",
              "      <td>80.0</td>\n",
              "      <td>98.0</td>\n",
              "      <td>98</td>\n",
              "    </tr>\n",
              "    <tr>\n",
              "      <th>3</th>\n",
              "      <td>Mukesh</td>\n",
              "      <td>NaN</td>\n",
              "      <td>90.0</td>\n",
              "      <td>98</td>\n",
              "    </tr>\n",
              "    <tr>\n",
              "      <th>4</th>\n",
              "      <td>Mahesh</td>\n",
              "      <td>100.0</td>\n",
              "      <td>NaN</td>\n",
              "      <td>100</td>\n",
              "    </tr>\n",
              "  </tbody>\n",
              "</table>\n",
              "</div>"
            ],
            "text/plain": [
              "     Name  Subject1  Subject2  Subject3\n",
              "1  Ramesh     100.0      99.0        98\n",
              "2  Suresh      80.0      98.0        98\n",
              "3  Mukesh       NaN      90.0        98\n",
              "4  Mahesh     100.0       NaN       100"
            ]
          },
          "execution_count": 149,
          "metadata": {},
          "output_type": "execute_result"
        }
      ],
      "source": [
        "df10"
      ]
    },
    {
      "cell_type": "markdown",
      "id": "8b51ff44",
      "metadata": {
        "id": "8b51ff44"
      },
      "source": [
        "### Handling Missing_Data"
      ]
    },
    {
      "cell_type": "code",
      "execution_count": null,
      "id": "488a78f0",
      "metadata": {
        "id": "488a78f0",
        "outputId": "a3ce8faf-0f9e-4a5a-8b58-7e712ceed0d9"
      },
      "outputs": [
        {
          "data": {
            "text/html": [
              "<div>\n",
              "<style scoped>\n",
              "    .dataframe tbody tr th:only-of-type {\n",
              "        vertical-align: middle;\n",
              "    }\n",
              "\n",
              "    .dataframe tbody tr th {\n",
              "        vertical-align: top;\n",
              "    }\n",
              "\n",
              "    .dataframe thead th {\n",
              "        text-align: right;\n",
              "    }\n",
              "</style>\n",
              "<table border=\"1\" class=\"dataframe\">\n",
              "  <thead>\n",
              "    <tr style=\"text-align: right;\">\n",
              "      <th></th>\n",
              "      <th>Name</th>\n",
              "      <th>Marks1</th>\n",
              "      <th>Marks2</th>\n",
              "      <th>Marks3</th>\n",
              "    </tr>\n",
              "  </thead>\n",
              "  <tbody>\n",
              "    <tr>\n",
              "      <th>1</th>\n",
              "      <td>False</td>\n",
              "      <td>False</td>\n",
              "      <td>False</td>\n",
              "      <td>False</td>\n",
              "    </tr>\n",
              "    <tr>\n",
              "      <th>2</th>\n",
              "      <td>False</td>\n",
              "      <td>False</td>\n",
              "      <td>False</td>\n",
              "      <td>False</td>\n",
              "    </tr>\n",
              "    <tr>\n",
              "      <th>3</th>\n",
              "      <td>False</td>\n",
              "      <td>True</td>\n",
              "      <td>False</td>\n",
              "      <td>False</td>\n",
              "    </tr>\n",
              "    <tr>\n",
              "      <th>4</th>\n",
              "      <td>False</td>\n",
              "      <td>False</td>\n",
              "      <td>True</td>\n",
              "      <td>False</td>\n",
              "    </tr>\n",
              "  </tbody>\n",
              "</table>\n",
              "</div>"
            ],
            "text/plain": [
              "    Name  Marks1  Marks2  Marks3\n",
              "1  False   False   False   False\n",
              "2  False   False   False   False\n",
              "3  False    True   False   False\n",
              "4  False   False    True   False"
            ]
          },
          "execution_count": 34,
          "metadata": {},
          "output_type": "execute_result"
        }
      ],
      "source": [
        "df10.isnull()"
      ]
    },
    {
      "cell_type": "code",
      "execution_count": null,
      "id": "09c76a79",
      "metadata": {
        "id": "09c76a79",
        "outputId": "e7e6b1dc-288f-4223-b4a6-000ce052c9db"
      },
      "outputs": [
        {
          "data": {
            "text/plain": [
              "1    100.000000\n",
              "2     80.000000\n",
              "3     93.333333\n",
              "4    100.000000\n",
              "Name: Marks1, dtype: float64"
            ]
          },
          "execution_count": 35,
          "metadata": {},
          "output_type": "execute_result"
        }
      ],
      "source": [
        "df10[\"Marks1\"].fillna(df10[\"Marks1\"].mean())"
      ]
    },
    {
      "cell_type": "code",
      "execution_count": null,
      "id": "05e6709c",
      "metadata": {
        "id": "05e6709c",
        "outputId": "742d3ad8-b9fd-4a98-92d5-5a26b4238ec2"
      },
      "outputs": [
        {
          "name": "stderr",
          "output_type": "stream",
          "text": [
            "/var/folders/l4/6y_sy_9n1s7cbdl1qtp0sj240000gn/T/ipykernel_1903/1620254812.py:1: FutureWarning: The default value of numeric_only in DataFrame.mean is deprecated. In a future version, it will default to False. In addition, specifying 'numeric_only=None' is deprecated. Select only valid columns or specify the value of numeric_only to silence this warning.\n",
            "  df15=df10.fillna(df10.mean())\n"
          ]
        }
      ],
      "source": [
        "df15=df10.fillna(df10.mean())"
      ]
    },
    {
      "cell_type": "code",
      "execution_count": null,
      "id": "34d7fedc",
      "metadata": {
        "id": "34d7fedc",
        "outputId": "a33d3abd-9055-47cd-b6cb-e9829bd96a2b"
      },
      "outputs": [
        {
          "data": {
            "text/html": [
              "<div>\n",
              "<style scoped>\n",
              "    .dataframe tbody tr th:only-of-type {\n",
              "        vertical-align: middle;\n",
              "    }\n",
              "\n",
              "    .dataframe tbody tr th {\n",
              "        vertical-align: top;\n",
              "    }\n",
              "\n",
              "    .dataframe thead th {\n",
              "        text-align: right;\n",
              "    }\n",
              "</style>\n",
              "<table border=\"1\" class=\"dataframe\">\n",
              "  <thead>\n",
              "    <tr style=\"text-align: right;\">\n",
              "      <th></th>\n",
              "      <th>Name</th>\n",
              "      <th>Subject1</th>\n",
              "      <th>Subject2</th>\n",
              "      <th>Subject3</th>\n",
              "    </tr>\n",
              "  </thead>\n",
              "  <tbody>\n",
              "    <tr>\n",
              "      <th>1</th>\n",
              "      <td>Ramesh</td>\n",
              "      <td>100.000000</td>\n",
              "      <td>99.000000</td>\n",
              "      <td>98</td>\n",
              "    </tr>\n",
              "    <tr>\n",
              "      <th>2</th>\n",
              "      <td>Suresh</td>\n",
              "      <td>80.000000</td>\n",
              "      <td>98.000000</td>\n",
              "      <td>98</td>\n",
              "    </tr>\n",
              "    <tr>\n",
              "      <th>3</th>\n",
              "      <td>Mukesh</td>\n",
              "      <td>93.333333</td>\n",
              "      <td>90.000000</td>\n",
              "      <td>98</td>\n",
              "    </tr>\n",
              "    <tr>\n",
              "      <th>4</th>\n",
              "      <td>Mahesh</td>\n",
              "      <td>100.000000</td>\n",
              "      <td>95.666667</td>\n",
              "      <td>100</td>\n",
              "    </tr>\n",
              "  </tbody>\n",
              "</table>\n",
              "</div>"
            ],
            "text/plain": [
              "     Name    Subject1   Subject2  Subject3\n",
              "1  Ramesh  100.000000  99.000000        98\n",
              "2  Suresh   80.000000  98.000000        98\n",
              "3  Mukesh   93.333333  90.000000        98\n",
              "4  Mahesh  100.000000  95.666667       100"
            ]
          },
          "execution_count": 151,
          "metadata": {},
          "output_type": "execute_result"
        }
      ],
      "source": [
        "df15"
      ]
    },
    {
      "cell_type": "code",
      "execution_count": null,
      "id": "5cd1c9bc",
      "metadata": {
        "id": "5cd1c9bc",
        "outputId": "17267e17-47ab-4ece-9c3f-9ef7a72f27cb"
      },
      "outputs": [
        {
          "data": {
            "text/html": [
              "<div>\n",
              "<style scoped>\n",
              "    .dataframe tbody tr th:only-of-type {\n",
              "        vertical-align: middle;\n",
              "    }\n",
              "\n",
              "    .dataframe tbody tr th {\n",
              "        vertical-align: top;\n",
              "    }\n",
              "\n",
              "    .dataframe thead th {\n",
              "        text-align: right;\n",
              "    }\n",
              "</style>\n",
              "<table border=\"1\" class=\"dataframe\">\n",
              "  <thead>\n",
              "    <tr style=\"text-align: right;\">\n",
              "      <th></th>\n",
              "      <th>Name</th>\n",
              "      <th>Marks1</th>\n",
              "      <th>Marks2</th>\n",
              "      <th>Marks3</th>\n",
              "    </tr>\n",
              "  </thead>\n",
              "  <tbody>\n",
              "    <tr>\n",
              "      <th>1</th>\n",
              "      <td>Ramesh</td>\n",
              "      <td>100.0</td>\n",
              "      <td>99.0</td>\n",
              "      <td>98</td>\n",
              "    </tr>\n",
              "    <tr>\n",
              "      <th>2</th>\n",
              "      <td>Suresh</td>\n",
              "      <td>80.0</td>\n",
              "      <td>98.0</td>\n",
              "      <td>98</td>\n",
              "    </tr>\n",
              "  </tbody>\n",
              "</table>\n",
              "</div>"
            ],
            "text/plain": [
              "     Name  Marks1  Marks2  Marks3\n",
              "1  Ramesh   100.0    99.0      98\n",
              "2  Suresh    80.0    98.0      98"
            ]
          },
          "execution_count": 37,
          "metadata": {},
          "output_type": "execute_result"
        }
      ],
      "source": [
        "df10.dropna()   #dropping the rows with \"0\""
      ]
    },
    {
      "cell_type": "code",
      "execution_count": null,
      "id": "29047ecc",
      "metadata": {
        "id": "29047ecc",
        "outputId": "232a0d00-4d8d-4525-e9d7-b27a83de6f3c"
      },
      "outputs": [
        {
          "data": {
            "text/html": [
              "<div>\n",
              "<style scoped>\n",
              "    .dataframe tbody tr th:only-of-type {\n",
              "        vertical-align: middle;\n",
              "    }\n",
              "\n",
              "    .dataframe tbody tr th {\n",
              "        vertical-align: top;\n",
              "    }\n",
              "\n",
              "    .dataframe thead th {\n",
              "        text-align: right;\n",
              "    }\n",
              "</style>\n",
              "<table border=\"1\" class=\"dataframe\">\n",
              "  <thead>\n",
              "    <tr style=\"text-align: right;\">\n",
              "      <th></th>\n",
              "      <th>Name</th>\n",
              "      <th>Marks3</th>\n",
              "    </tr>\n",
              "  </thead>\n",
              "  <tbody>\n",
              "    <tr>\n",
              "      <th>1</th>\n",
              "      <td>Ramesh</td>\n",
              "      <td>98</td>\n",
              "    </tr>\n",
              "    <tr>\n",
              "      <th>2</th>\n",
              "      <td>Suresh</td>\n",
              "      <td>98</td>\n",
              "    </tr>\n",
              "    <tr>\n",
              "      <th>3</th>\n",
              "      <td>Mukesh</td>\n",
              "      <td>98</td>\n",
              "    </tr>\n",
              "    <tr>\n",
              "      <th>4</th>\n",
              "      <td>Mahesh</td>\n",
              "      <td>100</td>\n",
              "    </tr>\n",
              "  </tbody>\n",
              "</table>\n",
              "</div>"
            ],
            "text/plain": [
              "     Name  Marks3\n",
              "1  Ramesh      98\n",
              "2  Suresh      98\n",
              "3  Mukesh      98\n",
              "4  Mahesh     100"
            ]
          },
          "execution_count": 38,
          "metadata": {},
          "output_type": "execute_result"
        }
      ],
      "source": [
        "df10.dropna(axis=1)   #dropping the columns with \"0\""
      ]
    },
    {
      "cell_type": "code",
      "execution_count": null,
      "id": "04324f2c",
      "metadata": {
        "id": "04324f2c"
      },
      "outputs": [],
      "source": [
        "df10.set_index(\"Name\",inplace=True)"
      ]
    },
    {
      "cell_type": "code",
      "execution_count": null,
      "id": "72dae357",
      "metadata": {
        "id": "72dae357",
        "outputId": "bd9d5933-d350-4249-cda3-c8affe8a9daf"
      },
      "outputs": [
        {
          "data": {
            "text/html": [
              "<div>\n",
              "<style scoped>\n",
              "    .dataframe tbody tr th:only-of-type {\n",
              "        vertical-align: middle;\n",
              "    }\n",
              "\n",
              "    .dataframe tbody tr th {\n",
              "        vertical-align: top;\n",
              "    }\n",
              "\n",
              "    .dataframe thead th {\n",
              "        text-align: right;\n",
              "    }\n",
              "</style>\n",
              "<table border=\"1\" class=\"dataframe\">\n",
              "  <thead>\n",
              "    <tr style=\"text-align: right;\">\n",
              "      <th></th>\n",
              "      <th>Marks1</th>\n",
              "      <th>Marks2</th>\n",
              "      <th>Marks3</th>\n",
              "    </tr>\n",
              "    <tr>\n",
              "      <th>Name</th>\n",
              "      <th></th>\n",
              "      <th></th>\n",
              "      <th></th>\n",
              "    </tr>\n",
              "  </thead>\n",
              "  <tbody>\n",
              "    <tr>\n",
              "      <th>Ramesh</th>\n",
              "      <td>100.0</td>\n",
              "      <td>99.0</td>\n",
              "      <td>98</td>\n",
              "    </tr>\n",
              "    <tr>\n",
              "      <th>Suresh</th>\n",
              "      <td>80.0</td>\n",
              "      <td>98.0</td>\n",
              "      <td>98</td>\n",
              "    </tr>\n",
              "    <tr>\n",
              "      <th>Mukesh</th>\n",
              "      <td>NaN</td>\n",
              "      <td>90.0</td>\n",
              "      <td>98</td>\n",
              "    </tr>\n",
              "    <tr>\n",
              "      <th>Mahesh</th>\n",
              "      <td>100.0</td>\n",
              "      <td>NaN</td>\n",
              "      <td>100</td>\n",
              "    </tr>\n",
              "  </tbody>\n",
              "</table>\n",
              "</div>"
            ],
            "text/plain": [
              "        Marks1  Marks2  Marks3\n",
              "Name                          \n",
              "Ramesh   100.0    99.0      98\n",
              "Suresh    80.0    98.0      98\n",
              "Mukesh     NaN    90.0      98\n",
              "Mahesh   100.0     NaN     100"
            ]
          },
          "execution_count": 40,
          "metadata": {},
          "output_type": "execute_result"
        }
      ],
      "source": [
        "df10"
      ]
    },
    {
      "cell_type": "markdown",
      "id": "b00ae30c",
      "metadata": {
        "id": "b00ae30c"
      },
      "source": [
        "### Label Based Indexing"
      ]
    },
    {
      "cell_type": "code",
      "execution_count": null,
      "id": "d6f69e27",
      "metadata": {
        "id": "d6f69e27",
        "outputId": "40278bac-5cfe-4ea6-b167-670cb0200747"
      },
      "outputs": [
        {
          "data": {
            "text/html": [
              "<div>\n",
              "<style scoped>\n",
              "    .dataframe tbody tr th:only-of-type {\n",
              "        vertical-align: middle;\n",
              "    }\n",
              "\n",
              "    .dataframe tbody tr th {\n",
              "        vertical-align: top;\n",
              "    }\n",
              "\n",
              "    .dataframe thead th {\n",
              "        text-align: right;\n",
              "    }\n",
              "</style>\n",
              "<table border=\"1\" class=\"dataframe\">\n",
              "  <thead>\n",
              "    <tr style=\"text-align: right;\">\n",
              "      <th></th>\n",
              "      <th>ID</th>\n",
              "      <th>ADDRESS</th>\n",
              "      <th>CITY</th>\n",
              "      <th>STATE</th>\n",
              "      <th>COUNTRY</th>\n",
              "      <th>NAME</th>\n",
              "      <th>EMPLOYEES</th>\n",
              "    </tr>\n",
              "  </thead>\n",
              "  <tbody>\n",
              "    <tr>\n",
              "      <th>0</th>\n",
              "      <td>0</td>\n",
              "      <td>123</td>\n",
              "      <td>Bengaluru</td>\n",
              "      <td>Karnataka</td>\n",
              "      <td>India</td>\n",
              "      <td>Prasad</td>\n",
              "      <td>10</td>\n",
              "    </tr>\n",
              "    <tr>\n",
              "      <th>1</th>\n",
              "      <td>1</td>\n",
              "      <td>234</td>\n",
              "      <td>Pune</td>\n",
              "      <td>Maharashtra</td>\n",
              "      <td>India</td>\n",
              "      <td>Sakshi</td>\n",
              "      <td>1</td>\n",
              "    </tr>\n",
              "    <tr>\n",
              "      <th>2</th>\n",
              "      <td>2</td>\n",
              "      <td>345</td>\n",
              "      <td>Pune</td>\n",
              "      <td>Maharashtra</td>\n",
              "      <td>India</td>\n",
              "      <td>Maheema</td>\n",
              "      <td>2</td>\n",
              "    </tr>\n",
              "    <tr>\n",
              "      <th>3</th>\n",
              "      <td>3</td>\n",
              "      <td>456</td>\n",
              "      <td>Mumbai</td>\n",
              "      <td>Maharashtra</td>\n",
              "      <td>India</td>\n",
              "      <td>Hrutika</td>\n",
              "      <td>3</td>\n",
              "    </tr>\n",
              "    <tr>\n",
              "      <th>4</th>\n",
              "      <td>4</td>\n",
              "      <td>567</td>\n",
              "      <td>Nagpur</td>\n",
              "      <td>Maharashtra</td>\n",
              "      <td>India</td>\n",
              "      <td>Samiksha</td>\n",
              "      <td>5</td>\n",
              "    </tr>\n",
              "    <tr>\n",
              "      <th>5</th>\n",
              "      <td>5</td>\n",
              "      <td>678</td>\n",
              "      <td>Nagpur</td>\n",
              "      <td>Maharashtra</td>\n",
              "      <td>India</td>\n",
              "      <td>Akash</td>\n",
              "      <td>8</td>\n",
              "    </tr>\n",
              "    <tr>\n",
              "      <th>6</th>\n",
              "      <td>6</td>\n",
              "      <td>789</td>\n",
              "      <td>Pune</td>\n",
              "      <td>Maharashtra</td>\n",
              "      <td>India</td>\n",
              "      <td>Anurag</td>\n",
              "      <td>9</td>\n",
              "    </tr>\n",
              "    <tr>\n",
              "      <th>7</th>\n",
              "      <td>7</td>\n",
              "      <td>891</td>\n",
              "      <td>Nagpur</td>\n",
              "      <td>Maharashtra</td>\n",
              "      <td>India</td>\n",
              "      <td>Atharv</td>\n",
              "      <td>10</td>\n",
              "    </tr>\n",
              "  </tbody>\n",
              "</table>\n",
              "</div>"
            ],
            "text/plain": [
              "   ID  ADDRESS       CITY        STATE COUNTRY      NAME  EMPLOYEES\n",
              "0   0      123  Bengaluru    Karnataka   India    Prasad         10\n",
              "1   1      234       Pune  Maharashtra   India    Sakshi          1\n",
              "2   2      345       Pune  Maharashtra   India   Maheema          2\n",
              "3   3      456     Mumbai  Maharashtra   India   Hrutika          3\n",
              "4   4      567     Nagpur  Maharashtra   India  Samiksha          5\n",
              "5   5      678     Nagpur  Maharashtra   India     Akash          8\n",
              "6   6      789       Pune  Maharashtra   India    Anurag          9\n",
              "7   7      891     Nagpur  Maharashtra   India    Atharv         10"
            ]
          },
          "execution_count": 41,
          "metadata": {},
          "output_type": "execute_result"
        }
      ],
      "source": [
        "df9"
      ]
    },
    {
      "cell_type": "code",
      "execution_count": null,
      "id": "0bdaa6c1",
      "metadata": {
        "id": "0bdaa6c1",
        "outputId": "0b6d2178-764b-46ad-93f8-980f78ce2ed6"
      },
      "outputs": [
        {
          "data": {
            "text/plain": [
              "0    India\n",
              "1    India\n",
              "2    India\n",
              "3    India\n",
              "4    India\n",
              "5    India\n",
              "6    India\n",
              "7    India\n",
              "Name: COUNTRY, dtype: object"
            ]
          },
          "execution_count": 42,
          "metadata": {},
          "output_type": "execute_result"
        }
      ],
      "source": [
        "df9.loc[:,\"COUNTRY\"]"
      ]
    },
    {
      "cell_type": "code",
      "execution_count": null,
      "id": "fd6cfc0e",
      "metadata": {
        "id": "fd6cfc0e",
        "outputId": "1a5f8cae-3c7c-43d8-bea4-d1a4345dcb8f"
      },
      "outputs": [
        {
          "data": {
            "text/html": [
              "<div>\n",
              "<style scoped>\n",
              "    .dataframe tbody tr th:only-of-type {\n",
              "        vertical-align: middle;\n",
              "    }\n",
              "\n",
              "    .dataframe tbody tr th {\n",
              "        vertical-align: top;\n",
              "    }\n",
              "\n",
              "    .dataframe thead th {\n",
              "        text-align: right;\n",
              "    }\n",
              "</style>\n",
              "<table border=\"1\" class=\"dataframe\">\n",
              "  <thead>\n",
              "    <tr style=\"text-align: right;\">\n",
              "      <th></th>\n",
              "      <th>ID</th>\n",
              "      <th>ADDRESS</th>\n",
              "      <th>CITY</th>\n",
              "      <th>STATE</th>\n",
              "      <th>COUNTRY</th>\n",
              "      <th>NAME</th>\n",
              "      <th>EMPLOYEES</th>\n",
              "    </tr>\n",
              "  </thead>\n",
              "  <tbody>\n",
              "    <tr>\n",
              "      <th>3</th>\n",
              "      <td>3</td>\n",
              "      <td>456</td>\n",
              "      <td>Mumbai</td>\n",
              "      <td>Maharashtra</td>\n",
              "      <td>India</td>\n",
              "      <td>Hrutika</td>\n",
              "      <td>3</td>\n",
              "    </tr>\n",
              "    <tr>\n",
              "      <th>4</th>\n",
              "      <td>4</td>\n",
              "      <td>567</td>\n",
              "      <td>Nagpur</td>\n",
              "      <td>Maharashtra</td>\n",
              "      <td>India</td>\n",
              "      <td>Samiksha</td>\n",
              "      <td>5</td>\n",
              "    </tr>\n",
              "    <tr>\n",
              "      <th>5</th>\n",
              "      <td>5</td>\n",
              "      <td>678</td>\n",
              "      <td>Nagpur</td>\n",
              "      <td>Maharashtra</td>\n",
              "      <td>India</td>\n",
              "      <td>Akash</td>\n",
              "      <td>8</td>\n",
              "    </tr>\n",
              "  </tbody>\n",
              "</table>\n",
              "</div>"
            ],
            "text/plain": [
              "   ID  ADDRESS    CITY        STATE COUNTRY      NAME  EMPLOYEES\n",
              "3   3      456  Mumbai  Maharashtra   India   Hrutika          3\n",
              "4   4      567  Nagpur  Maharashtra   India  Samiksha          5\n",
              "5   5      678  Nagpur  Maharashtra   India     Akash          8"
            ]
          },
          "execution_count": 43,
          "metadata": {},
          "output_type": "execute_result"
        }
      ],
      "source": [
        "df9.loc[3:5,\"ID\":\"EMPLOYEES\"]"
      ]
    },
    {
      "cell_type": "code",
      "execution_count": null,
      "id": "88dd8dc7",
      "metadata": {
        "id": "88dd8dc7",
        "outputId": "f1446509-f1fe-4949-f7c3-c3c68c55e9b3"
      },
      "outputs": [
        {
          "data": {
            "text/html": [
              "<div>\n",
              "<style scoped>\n",
              "    .dataframe tbody tr th:only-of-type {\n",
              "        vertical-align: middle;\n",
              "    }\n",
              "\n",
              "    .dataframe tbody tr th {\n",
              "        vertical-align: top;\n",
              "    }\n",
              "\n",
              "    .dataframe thead th {\n",
              "        text-align: right;\n",
              "    }\n",
              "</style>\n",
              "<table border=\"1\" class=\"dataframe\">\n",
              "  <thead>\n",
              "    <tr style=\"text-align: right;\">\n",
              "      <th></th>\n",
              "      <th>ID</th>\n",
              "      <th>ADDRESS</th>\n",
              "      <th>CITY</th>\n",
              "      <th>STATE</th>\n",
              "      <th>COUNTRY</th>\n",
              "      <th>NAME</th>\n",
              "    </tr>\n",
              "  </thead>\n",
              "  <tbody>\n",
              "    <tr>\n",
              "      <th>1</th>\n",
              "      <td>1</td>\n",
              "      <td>234</td>\n",
              "      <td>Pune</td>\n",
              "      <td>Maharashtra</td>\n",
              "      <td>India</td>\n",
              "      <td>Sakshi</td>\n",
              "    </tr>\n",
              "    <tr>\n",
              "      <th>2</th>\n",
              "      <td>2</td>\n",
              "      <td>345</td>\n",
              "      <td>Pune</td>\n",
              "      <td>Maharashtra</td>\n",
              "      <td>India</td>\n",
              "      <td>Maheema</td>\n",
              "    </tr>\n",
              "    <tr>\n",
              "      <th>3</th>\n",
              "      <td>3</td>\n",
              "      <td>456</td>\n",
              "      <td>Mumbai</td>\n",
              "      <td>Maharashtra</td>\n",
              "      <td>India</td>\n",
              "      <td>Hrutika</td>\n",
              "    </tr>\n",
              "    <tr>\n",
              "      <th>4</th>\n",
              "      <td>4</td>\n",
              "      <td>567</td>\n",
              "      <td>Nagpur</td>\n",
              "      <td>Maharashtra</td>\n",
              "      <td>India</td>\n",
              "      <td>Samiksha</td>\n",
              "    </tr>\n",
              "  </tbody>\n",
              "</table>\n",
              "</div>"
            ],
            "text/plain": [
              "   ID  ADDRESS    CITY        STATE COUNTRY      NAME\n",
              "1   1      234    Pune  Maharashtra   India    Sakshi\n",
              "2   2      345    Pune  Maharashtra   India   Maheema\n",
              "3   3      456  Mumbai  Maharashtra   India   Hrutika\n",
              "4   4      567  Nagpur  Maharashtra   India  Samiksha"
            ]
          },
          "execution_count": 44,
          "metadata": {},
          "output_type": "execute_result"
        }
      ],
      "source": [
        "df9.loc[1:4,\"ID\":\"NAME\"]"
      ]
    },
    {
      "cell_type": "markdown",
      "id": "a52ef14c",
      "metadata": {
        "id": "a52ef14c"
      },
      "source": [
        "### Integr Based Indexing"
      ]
    },
    {
      "cell_type": "code",
      "execution_count": null,
      "id": "33e34ab3",
      "metadata": {
        "id": "33e34ab3",
        "outputId": "2ee19d8c-7aaa-4db0-a408-3c118b000c40"
      },
      "outputs": [
        {
          "data": {
            "text/plain": [
              "ID                     4\n",
              "ADDRESS              567\n",
              "CITY              Nagpur\n",
              "STATE        Maharashtra\n",
              "COUNTRY            India\n",
              "NAME            Samiksha\n",
              "EMPLOYEES              5\n",
              "Name: 4, dtype: object"
            ]
          },
          "execution_count": 45,
          "metadata": {},
          "output_type": "execute_result"
        }
      ],
      "source": [
        "df9.iloc[4]"
      ]
    },
    {
      "cell_type": "code",
      "execution_count": null,
      "id": "533b424f",
      "metadata": {
        "id": "533b424f",
        "outputId": "d1099194-4280-4cdf-ff39-99eb1c396881"
      },
      "outputs": [
        {
          "data": {
            "text/plain": [
              "0    India\n",
              "1    India\n",
              "2    India\n",
              "3    India\n",
              "4    India\n",
              "5    India\n",
              "6    India\n",
              "7    India\n",
              "Name: COUNTRY, dtype: object"
            ]
          },
          "execution_count": 46,
          "metadata": {},
          "output_type": "execute_result"
        }
      ],
      "source": [
        "df9.iloc[:,4]"
      ]
    },
    {
      "cell_type": "code",
      "execution_count": null,
      "id": "21119501",
      "metadata": {
        "id": "21119501",
        "outputId": "fc0327a8-5581-4da8-d0f8-fe7346d1526e"
      },
      "outputs": [
        {
          "data": {
            "text/plain": [
              "'India'"
            ]
          },
          "execution_count": 47,
          "metadata": {},
          "output_type": "execute_result"
        }
      ],
      "source": [
        "df9.iloc[4,4]"
      ]
    },
    {
      "cell_type": "code",
      "execution_count": null,
      "id": "46023b68",
      "metadata": {
        "id": "46023b68",
        "outputId": "15c178a1-7bd3-4d8a-9ab5-6fed29886ab2"
      },
      "outputs": [
        {
          "data": {
            "text/html": [
              "<div>\n",
              "<style scoped>\n",
              "    .dataframe tbody tr th:only-of-type {\n",
              "        vertical-align: middle;\n",
              "    }\n",
              "\n",
              "    .dataframe tbody tr th {\n",
              "        vertical-align: top;\n",
              "    }\n",
              "\n",
              "    .dataframe thead th {\n",
              "        text-align: right;\n",
              "    }\n",
              "</style>\n",
              "<table border=\"1\" class=\"dataframe\">\n",
              "  <thead>\n",
              "    <tr style=\"text-align: right;\">\n",
              "      <th></th>\n",
              "      <th>ADDRESS</th>\n",
              "      <th>CITY</th>\n",
              "      <th>STATE</th>\n",
              "    </tr>\n",
              "  </thead>\n",
              "  <tbody>\n",
              "    <tr>\n",
              "      <th>1</th>\n",
              "      <td>234</td>\n",
              "      <td>Pune</td>\n",
              "      <td>Maharashtra</td>\n",
              "    </tr>\n",
              "    <tr>\n",
              "      <th>2</th>\n",
              "      <td>345</td>\n",
              "      <td>Pune</td>\n",
              "      <td>Maharashtra</td>\n",
              "    </tr>\n",
              "    <tr>\n",
              "      <th>3</th>\n",
              "      <td>456</td>\n",
              "      <td>Mumbai</td>\n",
              "      <td>Maharashtra</td>\n",
              "    </tr>\n",
              "  </tbody>\n",
              "</table>\n",
              "</div>"
            ],
            "text/plain": [
              "   ADDRESS    CITY        STATE\n",
              "1      234    Pune  Maharashtra\n",
              "2      345    Pune  Maharashtra\n",
              "3      456  Mumbai  Maharashtra"
            ]
          },
          "execution_count": 48,
          "metadata": {},
          "output_type": "execute_result"
        }
      ],
      "source": [
        "df9.iloc[1:4,1:4]"
      ]
    },
    {
      "cell_type": "markdown",
      "id": "7024e353",
      "metadata": {
        "id": "7024e353"
      },
      "source": [
        "### Combination of Label-Based and Integer-Based Indexing using \"iloc()\" operator"
      ]
    },
    {
      "cell_type": "code",
      "execution_count": null,
      "id": "fede7016",
      "metadata": {
        "id": "fede7016",
        "outputId": "49502c2d-6251-49ce-f877-56892984af84"
      },
      "outputs": [
        {
          "data": {
            "text/html": [
              "<div>\n",
              "<style scoped>\n",
              "    .dataframe tbody tr th:only-of-type {\n",
              "        vertical-align: middle;\n",
              "    }\n",
              "\n",
              "    .dataframe tbody tr th {\n",
              "        vertical-align: top;\n",
              "    }\n",
              "\n",
              "    .dataframe thead th {\n",
              "        text-align: right;\n",
              "    }\n",
              "</style>\n",
              "<table border=\"1\" class=\"dataframe\">\n",
              "  <thead>\n",
              "    <tr style=\"text-align: right;\">\n",
              "      <th></th>\n",
              "      <th>COUNTRY</th>\n",
              "      <th>NAME</th>\n",
              "    </tr>\n",
              "  </thead>\n",
              "  <tbody>\n",
              "    <tr>\n",
              "      <th>4</th>\n",
              "      <td>India</td>\n",
              "      <td>Samiksha</td>\n",
              "    </tr>\n",
              "    <tr>\n",
              "      <th>5</th>\n",
              "      <td>India</td>\n",
              "      <td>Akash</td>\n",
              "    </tr>\n",
              "  </tbody>\n",
              "</table>\n",
              "</div>"
            ],
            "text/plain": [
              "  COUNTRY      NAME\n",
              "4   India  Samiksha\n",
              "5   India     Akash"
            ]
          },
          "execution_count": 49,
          "metadata": {},
          "output_type": "execute_result"
        }
      ],
      "source": [
        "df9.iloc[4:6,4:6]"
      ]
    },
    {
      "cell_type": "markdown",
      "id": "4b5174fc",
      "metadata": {
        "id": "4b5174fc"
      },
      "source": [
        "### Boolean Indexing"
      ]
    },
    {
      "cell_type": "code",
      "execution_count": null,
      "id": "f23a0c64",
      "metadata": {
        "id": "f23a0c64"
      },
      "outputs": [],
      "source": [
        "df11=df10.fillna(df10.mean())"
      ]
    },
    {
      "cell_type": "code",
      "execution_count": null,
      "id": "c25fbfd0",
      "metadata": {
        "id": "c25fbfd0",
        "outputId": "4a88f564-1cdf-4cde-bd4e-456849dd60d3"
      },
      "outputs": [
        {
          "data": {
            "text/html": [
              "<div>\n",
              "<style scoped>\n",
              "    .dataframe tbody tr th:only-of-type {\n",
              "        vertical-align: middle;\n",
              "    }\n",
              "\n",
              "    .dataframe tbody tr th {\n",
              "        vertical-align: top;\n",
              "    }\n",
              "\n",
              "    .dataframe thead th {\n",
              "        text-align: right;\n",
              "    }\n",
              "</style>\n",
              "<table border=\"1\" class=\"dataframe\">\n",
              "  <thead>\n",
              "    <tr style=\"text-align: right;\">\n",
              "      <th></th>\n",
              "      <th>Marks1</th>\n",
              "      <th>Marks2</th>\n",
              "      <th>Marks3</th>\n",
              "    </tr>\n",
              "    <tr>\n",
              "      <th>Name</th>\n",
              "      <th></th>\n",
              "      <th></th>\n",
              "      <th></th>\n",
              "    </tr>\n",
              "  </thead>\n",
              "  <tbody>\n",
              "    <tr>\n",
              "      <th>Ramesh</th>\n",
              "      <td>100.000000</td>\n",
              "      <td>99.000000</td>\n",
              "      <td>98</td>\n",
              "    </tr>\n",
              "    <tr>\n",
              "      <th>Suresh</th>\n",
              "      <td>80.000000</td>\n",
              "      <td>98.000000</td>\n",
              "      <td>98</td>\n",
              "    </tr>\n",
              "    <tr>\n",
              "      <th>Mukesh</th>\n",
              "      <td>93.333333</td>\n",
              "      <td>90.000000</td>\n",
              "      <td>98</td>\n",
              "    </tr>\n",
              "    <tr>\n",
              "      <th>Mahesh</th>\n",
              "      <td>100.000000</td>\n",
              "      <td>95.666667</td>\n",
              "      <td>100</td>\n",
              "    </tr>\n",
              "  </tbody>\n",
              "</table>\n",
              "</div>"
            ],
            "text/plain": [
              "            Marks1     Marks2  Marks3\n",
              "Name                                 \n",
              "Ramesh  100.000000  99.000000      98\n",
              "Suresh   80.000000  98.000000      98\n",
              "Mukesh   93.333333  90.000000      98\n",
              "Mahesh  100.000000  95.666667     100"
            ]
          },
          "execution_count": 51,
          "metadata": {},
          "output_type": "execute_result"
        }
      ],
      "source": [
        "df11"
      ]
    },
    {
      "cell_type": "code",
      "execution_count": null,
      "id": "0fdbe9cd",
      "metadata": {
        "id": "0fdbe9cd",
        "outputId": "c04e6417-38e9-4030-dda8-698b50cab7b5"
      },
      "outputs": [
        {
          "data": {
            "text/html": [
              "<div>\n",
              "<style scoped>\n",
              "    .dataframe tbody tr th:only-of-type {\n",
              "        vertical-align: middle;\n",
              "    }\n",
              "\n",
              "    .dataframe tbody tr th {\n",
              "        vertical-align: top;\n",
              "    }\n",
              "\n",
              "    .dataframe thead th {\n",
              "        text-align: right;\n",
              "    }\n",
              "</style>\n",
              "<table border=\"1\" class=\"dataframe\">\n",
              "  <thead>\n",
              "    <tr style=\"text-align: right;\">\n",
              "      <th></th>\n",
              "      <th>Marks1</th>\n",
              "      <th>Marks2</th>\n",
              "      <th>Marks3</th>\n",
              "    </tr>\n",
              "    <tr>\n",
              "      <th>Name</th>\n",
              "      <th></th>\n",
              "      <th></th>\n",
              "      <th></th>\n",
              "    </tr>\n",
              "  </thead>\n",
              "  <tbody>\n",
              "    <tr>\n",
              "      <th>Ramesh</th>\n",
              "      <td>100.000000</td>\n",
              "      <td>99.000000</td>\n",
              "      <td>98</td>\n",
              "    </tr>\n",
              "    <tr>\n",
              "      <th>Mukesh</th>\n",
              "      <td>93.333333</td>\n",
              "      <td>90.000000</td>\n",
              "      <td>98</td>\n",
              "    </tr>\n",
              "    <tr>\n",
              "      <th>Mahesh</th>\n",
              "      <td>100.000000</td>\n",
              "      <td>95.666667</td>\n",
              "      <td>100</td>\n",
              "    </tr>\n",
              "  </tbody>\n",
              "</table>\n",
              "</div>"
            ],
            "text/plain": [
              "            Marks1     Marks2  Marks3\n",
              "Name                                 \n",
              "Ramesh  100.000000  99.000000      98\n",
              "Mukesh   93.333333  90.000000      98\n",
              "Mahesh  100.000000  95.666667     100"
            ]
          },
          "execution_count": 52,
          "metadata": {},
          "output_type": "execute_result"
        }
      ],
      "source": [
        "df11[df11['Marks1']>90]"
      ]
    },
    {
      "cell_type": "code",
      "execution_count": null,
      "id": "68cc85d5",
      "metadata": {
        "id": "68cc85d5",
        "outputId": "bfc70ed2-01a6-48e4-9b0d-46cdcb08f823"
      },
      "outputs": [
        {
          "data": {
            "text/html": [
              "<div>\n",
              "<style scoped>\n",
              "    .dataframe tbody tr th:only-of-type {\n",
              "        vertical-align: middle;\n",
              "    }\n",
              "\n",
              "    .dataframe tbody tr th {\n",
              "        vertical-align: top;\n",
              "    }\n",
              "\n",
              "    .dataframe thead th {\n",
              "        text-align: right;\n",
              "    }\n",
              "</style>\n",
              "<table border=\"1\" class=\"dataframe\">\n",
              "  <thead>\n",
              "    <tr style=\"text-align: right;\">\n",
              "      <th></th>\n",
              "      <th>Marks1</th>\n",
              "      <th>Marks2</th>\n",
              "      <th>Marks3</th>\n",
              "    </tr>\n",
              "    <tr>\n",
              "      <th>Name</th>\n",
              "      <th></th>\n",
              "      <th></th>\n",
              "      <th></th>\n",
              "    </tr>\n",
              "  </thead>\n",
              "  <tbody>\n",
              "    <tr>\n",
              "      <th>Ramesh</th>\n",
              "      <td>100.0</td>\n",
              "      <td>99.000000</td>\n",
              "      <td>98</td>\n",
              "    </tr>\n",
              "    <tr>\n",
              "      <th>Mahesh</th>\n",
              "      <td>100.0</td>\n",
              "      <td>95.666667</td>\n",
              "      <td>100</td>\n",
              "    </tr>\n",
              "  </tbody>\n",
              "</table>\n",
              "</div>"
            ],
            "text/plain": [
              "        Marks1     Marks2  Marks3\n",
              "Name                             \n",
              "Ramesh   100.0  99.000000      98\n",
              "Mahesh   100.0  95.666667     100"
            ]
          },
          "execution_count": 53,
          "metadata": {},
          "output_type": "execute_result"
        }
      ],
      "source": [
        "df11[(df11['Marks1']>90) & (df11['Marks2']>90)]"
      ]
    },
    {
      "cell_type": "code",
      "execution_count": null,
      "id": "92fc3dc9",
      "metadata": {
        "id": "92fc3dc9",
        "outputId": "b3b11ff0-4a12-4690-b588-3d8f82cac61e"
      },
      "outputs": [
        {
          "data": {
            "text/html": [
              "<div>\n",
              "<style scoped>\n",
              "    .dataframe tbody tr th:only-of-type {\n",
              "        vertical-align: middle;\n",
              "    }\n",
              "\n",
              "    .dataframe tbody tr th {\n",
              "        vertical-align: top;\n",
              "    }\n",
              "\n",
              "    .dataframe thead th {\n",
              "        text-align: right;\n",
              "    }\n",
              "</style>\n",
              "<table border=\"1\" class=\"dataframe\">\n",
              "  <thead>\n",
              "    <tr style=\"text-align: right;\">\n",
              "      <th></th>\n",
              "      <th>Marks1</th>\n",
              "      <th>Marks2</th>\n",
              "      <th>Marks3</th>\n",
              "    </tr>\n",
              "    <tr>\n",
              "      <th>Name</th>\n",
              "      <th></th>\n",
              "      <th></th>\n",
              "      <th></th>\n",
              "    </tr>\n",
              "  </thead>\n",
              "  <tbody>\n",
              "    <tr>\n",
              "      <th>Ramesh</th>\n",
              "      <td>100.0</td>\n",
              "      <td>99.000000</td>\n",
              "      <td>98</td>\n",
              "    </tr>\n",
              "    <tr>\n",
              "      <th>Mahesh</th>\n",
              "      <td>100.0</td>\n",
              "      <td>95.666667</td>\n",
              "      <td>100</td>\n",
              "    </tr>\n",
              "  </tbody>\n",
              "</table>\n",
              "</div>"
            ],
            "text/plain": [
              "        Marks1     Marks2  Marks3\n",
              "Name                             \n",
              "Ramesh   100.0  99.000000      98\n",
              "Mahesh   100.0  95.666667     100"
            ]
          },
          "execution_count": 54,
          "metadata": {},
          "output_type": "execute_result"
        }
      ],
      "source": [
        "df11[(df11['Marks1']>90) & (df11['Marks2']>90) & (df11['Marks3']>90)]"
      ]
    },
    {
      "cell_type": "markdown",
      "id": "99858f48",
      "metadata": {
        "id": "99858f48"
      },
      "source": [
        "### Data Aggregation"
      ]
    },
    {
      "cell_type": "code",
      "execution_count": null,
      "id": "69d86fe3",
      "metadata": {
        "id": "69d86fe3",
        "outputId": "5830db2f-cb7e-44b4-87a7-68cb18fe4f9a"
      },
      "outputs": [
        {
          "data": {
            "text/plain": [
              "{'Bengaluru': [0], 'Mumbai': [3], 'Nagpur': [4, 5, 7], 'Pune': [1, 2, 6]}"
            ]
          },
          "execution_count": 60,
          "metadata": {},
          "output_type": "execute_result"
        }
      ],
      "source": [
        "df9.groupby(['CITY']).groups"
      ]
    },
    {
      "cell_type": "code",
      "execution_count": null,
      "id": "f07b5aa7",
      "metadata": {
        "id": "f07b5aa7",
        "outputId": "174db54f-f113-4f5f-9221-8fc93562f74d"
      },
      "outputs": [
        {
          "data": {
            "text/plain": [
              "{'Karnataka': [0], 'Maharashtra': [1, 2, 3, 4, 5, 6, 7]}"
            ]
          },
          "execution_count": 61,
          "metadata": {},
          "output_type": "execute_result"
        }
      ],
      "source": [
        "df9.groupby(['STATE']).groups"
      ]
    },
    {
      "cell_type": "code",
      "execution_count": null,
      "id": "983408fb",
      "metadata": {
        "id": "983408fb",
        "outputId": "01ffd92a-461c-4677-e890-10d5789a6cf7"
      },
      "outputs": [
        {
          "name": "stderr",
          "output_type": "stream",
          "text": [
            "/var/folders/l4/6y_sy_9n1s7cbdl1qtp0sj240000gn/T/ipykernel_1903/440034018.py:1: FutureWarning: The default value of numeric_only in DataFrameGroupBy.sum is deprecated. In a future version, numeric_only will default to False. Either specify numeric_only or select only columns which should be valid for the function.\n",
            "  df9.groupby(['CITY']).sum()\n"
          ]
        },
        {
          "data": {
            "text/html": [
              "<div>\n",
              "<style scoped>\n",
              "    .dataframe tbody tr th:only-of-type {\n",
              "        vertical-align: middle;\n",
              "    }\n",
              "\n",
              "    .dataframe tbody tr th {\n",
              "        vertical-align: top;\n",
              "    }\n",
              "\n",
              "    .dataframe thead th {\n",
              "        text-align: right;\n",
              "    }\n",
              "</style>\n",
              "<table border=\"1\" class=\"dataframe\">\n",
              "  <thead>\n",
              "    <tr style=\"text-align: right;\">\n",
              "      <th></th>\n",
              "      <th>ID</th>\n",
              "      <th>ADDRESS</th>\n",
              "      <th>EMPLOYEES</th>\n",
              "    </tr>\n",
              "    <tr>\n",
              "      <th>CITY</th>\n",
              "      <th></th>\n",
              "      <th></th>\n",
              "      <th></th>\n",
              "    </tr>\n",
              "  </thead>\n",
              "  <tbody>\n",
              "    <tr>\n",
              "      <th>Bengaluru</th>\n",
              "      <td>0</td>\n",
              "      <td>123</td>\n",
              "      <td>10</td>\n",
              "    </tr>\n",
              "    <tr>\n",
              "      <th>Mumbai</th>\n",
              "      <td>3</td>\n",
              "      <td>456</td>\n",
              "      <td>3</td>\n",
              "    </tr>\n",
              "    <tr>\n",
              "      <th>Nagpur</th>\n",
              "      <td>16</td>\n",
              "      <td>2136</td>\n",
              "      <td>23</td>\n",
              "    </tr>\n",
              "    <tr>\n",
              "      <th>Pune</th>\n",
              "      <td>9</td>\n",
              "      <td>1368</td>\n",
              "      <td>12</td>\n",
              "    </tr>\n",
              "  </tbody>\n",
              "</table>\n",
              "</div>"
            ],
            "text/plain": [
              "           ID  ADDRESS  EMPLOYEES\n",
              "CITY                             \n",
              "Bengaluru   0      123         10\n",
              "Mumbai      3      456          3\n",
              "Nagpur     16     2136         23\n",
              "Pune        9     1368         12"
            ]
          },
          "execution_count": 62,
          "metadata": {},
          "output_type": "execute_result"
        }
      ],
      "source": [
        "df9.groupby(['CITY']).sum()"
      ]
    },
    {
      "cell_type": "code",
      "execution_count": null,
      "id": "7e9307fb",
      "metadata": {
        "id": "7e9307fb",
        "outputId": "4818d100-b754-44ad-f50f-16ada4e5ef84"
      },
      "outputs": [
        {
          "name": "stderr",
          "output_type": "stream",
          "text": [
            "/var/folders/l4/6y_sy_9n1s7cbdl1qtp0sj240000gn/T/ipykernel_1903/2236760860.py:1: FutureWarning: The default value of numeric_only in DataFrameGroupBy.sum is deprecated. In a future version, numeric_only will default to False. Either specify numeric_only or select only columns which should be valid for the function.\n",
            "  df9.groupby(['STATE']).sum()\n"
          ]
        },
        {
          "data": {
            "text/html": [
              "<div>\n",
              "<style scoped>\n",
              "    .dataframe tbody tr th:only-of-type {\n",
              "        vertical-align: middle;\n",
              "    }\n",
              "\n",
              "    .dataframe tbody tr th {\n",
              "        vertical-align: top;\n",
              "    }\n",
              "\n",
              "    .dataframe thead th {\n",
              "        text-align: right;\n",
              "    }\n",
              "</style>\n",
              "<table border=\"1\" class=\"dataframe\">\n",
              "  <thead>\n",
              "    <tr style=\"text-align: right;\">\n",
              "      <th></th>\n",
              "      <th>ID</th>\n",
              "      <th>ADDRESS</th>\n",
              "      <th>EMPLOYEES</th>\n",
              "    </tr>\n",
              "    <tr>\n",
              "      <th>STATE</th>\n",
              "      <th></th>\n",
              "      <th></th>\n",
              "      <th></th>\n",
              "    </tr>\n",
              "  </thead>\n",
              "  <tbody>\n",
              "    <tr>\n",
              "      <th>Karnataka</th>\n",
              "      <td>0</td>\n",
              "      <td>123</td>\n",
              "      <td>10</td>\n",
              "    </tr>\n",
              "    <tr>\n",
              "      <th>Maharashtra</th>\n",
              "      <td>28</td>\n",
              "      <td>3960</td>\n",
              "      <td>38</td>\n",
              "    </tr>\n",
              "  </tbody>\n",
              "</table>\n",
              "</div>"
            ],
            "text/plain": [
              "             ID  ADDRESS  EMPLOYEES\n",
              "STATE                              \n",
              "Karnataka     0      123         10\n",
              "Maharashtra  28     3960         38"
            ]
          },
          "execution_count": 63,
          "metadata": {},
          "output_type": "execute_result"
        }
      ],
      "source": [
        "df9.groupby(['STATE']).sum()"
      ]
    },
    {
      "cell_type": "code",
      "execution_count": null,
      "id": "7d5d7dd5",
      "metadata": {
        "id": "7d5d7dd5",
        "outputId": "e5f5c0c2-ba06-4a7f-831b-4868bb83e378"
      },
      "outputs": [
        {
          "data": {
            "text/html": [
              "<div>\n",
              "<style scoped>\n",
              "    .dataframe tbody tr th:only-of-type {\n",
              "        vertical-align: middle;\n",
              "    }\n",
              "\n",
              "    .dataframe tbody tr th {\n",
              "        vertical-align: top;\n",
              "    }\n",
              "\n",
              "    .dataframe thead th {\n",
              "        text-align: right;\n",
              "    }\n",
              "</style>\n",
              "<table border=\"1\" class=\"dataframe\">\n",
              "  <thead>\n",
              "    <tr style=\"text-align: right;\">\n",
              "      <th></th>\n",
              "      <th>ID</th>\n",
              "      <th>ADDRESS</th>\n",
              "      <th>STATE</th>\n",
              "      <th>COUNTRY</th>\n",
              "      <th>NAME</th>\n",
              "      <th>EMPLOYEES</th>\n",
              "    </tr>\n",
              "    <tr>\n",
              "      <th>CITY</th>\n",
              "      <th></th>\n",
              "      <th></th>\n",
              "      <th></th>\n",
              "      <th></th>\n",
              "      <th></th>\n",
              "      <th></th>\n",
              "    </tr>\n",
              "  </thead>\n",
              "  <tbody>\n",
              "    <tr>\n",
              "      <th>Bengaluru</th>\n",
              "      <td>0</td>\n",
              "      <td>123</td>\n",
              "      <td>Karnataka</td>\n",
              "      <td>India</td>\n",
              "      <td>Prasad</td>\n",
              "      <td>10</td>\n",
              "    </tr>\n",
              "    <tr>\n",
              "      <th>Mumbai</th>\n",
              "      <td>3</td>\n",
              "      <td>456</td>\n",
              "      <td>Maharashtra</td>\n",
              "      <td>India</td>\n",
              "      <td>Hrutika</td>\n",
              "      <td>3</td>\n",
              "    </tr>\n",
              "    <tr>\n",
              "      <th>Nagpur</th>\n",
              "      <td>7</td>\n",
              "      <td>891</td>\n",
              "      <td>Maharashtra</td>\n",
              "      <td>India</td>\n",
              "      <td>Samiksha</td>\n",
              "      <td>10</td>\n",
              "    </tr>\n",
              "    <tr>\n",
              "      <th>Pune</th>\n",
              "      <td>6</td>\n",
              "      <td>789</td>\n",
              "      <td>Maharashtra</td>\n",
              "      <td>India</td>\n",
              "      <td>Sakshi</td>\n",
              "      <td>9</td>\n",
              "    </tr>\n",
              "  </tbody>\n",
              "</table>\n",
              "</div>"
            ],
            "text/plain": [
              "           ID  ADDRESS        STATE COUNTRY      NAME  EMPLOYEES\n",
              "CITY                                                            \n",
              "Bengaluru   0      123    Karnataka   India    Prasad         10\n",
              "Mumbai      3      456  Maharashtra   India   Hrutika          3\n",
              "Nagpur      7      891  Maharashtra   India  Samiksha         10\n",
              "Pune        6      789  Maharashtra   India    Sakshi          9"
            ]
          },
          "execution_count": 67,
          "metadata": {},
          "output_type": "execute_result"
        }
      ],
      "source": [
        "df9.groupby(['CITY']).max()"
      ]
    },
    {
      "cell_type": "code",
      "execution_count": null,
      "id": "8d4663b5",
      "metadata": {
        "id": "8d4663b5",
        "outputId": "dfe09a85-edfd-403f-8fb1-d7d4d8f6fe64"
      },
      "outputs": [
        {
          "data": {
            "text/html": [
              "<div>\n",
              "<style scoped>\n",
              "    .dataframe tbody tr th:only-of-type {\n",
              "        vertical-align: middle;\n",
              "    }\n",
              "\n",
              "    .dataframe tbody tr th {\n",
              "        vertical-align: top;\n",
              "    }\n",
              "\n",
              "    .dataframe thead th {\n",
              "        text-align: right;\n",
              "    }\n",
              "</style>\n",
              "<table border=\"1\" class=\"dataframe\">\n",
              "  <thead>\n",
              "    <tr style=\"text-align: right;\">\n",
              "      <th></th>\n",
              "      <th>ID</th>\n",
              "      <th>ADDRESS</th>\n",
              "      <th>STATE</th>\n",
              "      <th>COUNTRY</th>\n",
              "      <th>NAME</th>\n",
              "      <th>EMPLOYEES</th>\n",
              "    </tr>\n",
              "    <tr>\n",
              "      <th>CITY</th>\n",
              "      <th></th>\n",
              "      <th></th>\n",
              "      <th></th>\n",
              "      <th></th>\n",
              "      <th></th>\n",
              "      <th></th>\n",
              "    </tr>\n",
              "  </thead>\n",
              "  <tbody>\n",
              "    <tr>\n",
              "      <th>Bengaluru</th>\n",
              "      <td>0</td>\n",
              "      <td>123</td>\n",
              "      <td>Karnataka</td>\n",
              "      <td>India</td>\n",
              "      <td>Prasad</td>\n",
              "      <td>10</td>\n",
              "    </tr>\n",
              "    <tr>\n",
              "      <th>Mumbai</th>\n",
              "      <td>3</td>\n",
              "      <td>456</td>\n",
              "      <td>Maharashtra</td>\n",
              "      <td>India</td>\n",
              "      <td>Hrutika</td>\n",
              "      <td>3</td>\n",
              "    </tr>\n",
              "    <tr>\n",
              "      <th>Nagpur</th>\n",
              "      <td>4</td>\n",
              "      <td>567</td>\n",
              "      <td>Maharashtra</td>\n",
              "      <td>India</td>\n",
              "      <td>Akash</td>\n",
              "      <td>5</td>\n",
              "    </tr>\n",
              "    <tr>\n",
              "      <th>Pune</th>\n",
              "      <td>1</td>\n",
              "      <td>234</td>\n",
              "      <td>Maharashtra</td>\n",
              "      <td>India</td>\n",
              "      <td>Anurag</td>\n",
              "      <td>1</td>\n",
              "    </tr>\n",
              "  </tbody>\n",
              "</table>\n",
              "</div>"
            ],
            "text/plain": [
              "           ID  ADDRESS        STATE COUNTRY     NAME  EMPLOYEES\n",
              "CITY                                                           \n",
              "Bengaluru   0      123    Karnataka   India   Prasad         10\n",
              "Mumbai      3      456  Maharashtra   India  Hrutika          3\n",
              "Nagpur      4      567  Maharashtra   India    Akash          5\n",
              "Pune        1      234  Maharashtra   India   Anurag          1"
            ]
          },
          "execution_count": 66,
          "metadata": {},
          "output_type": "execute_result"
        }
      ],
      "source": [
        "df9.groupby(['CITY']).min()"
      ]
    },
    {
      "cell_type": "markdown",
      "id": "42f0fa7b",
      "metadata": {
        "id": "42f0fa7b"
      },
      "source": [
        "### Merging two dataframes"
      ]
    },
    {
      "cell_type": "code",
      "execution_count": null,
      "id": "02e7e380",
      "metadata": {
        "id": "02e7e380"
      },
      "outputs": [],
      "source": [
        "#Creating the Employee Dataframe\n",
        "\n",
        "emp = pd.DataFrame({\n",
        "    \"empno\": [101,102,103,104,105,106,107,108],\n",
        "    \"empname\": [\"Akash\",\"Anurag\",\"Atharv\",\"Hrutika\",\"Maheema\",\"Sakshi\",\"Samiksha\",\"Prasad\"],\n",
        "    \"deptno\": [2,1,3,3,1,3,3,1]\n",
        "    })"
      ]
    },
    {
      "cell_type": "code",
      "execution_count": null,
      "id": "64bb4bae",
      "metadata": {
        "id": "64bb4bae",
        "outputId": "aad96b3b-aac4-45dc-afbb-044068bb66cb"
      },
      "outputs": [
        {
          "data": {
            "text/html": [
              "<div>\n",
              "<style scoped>\n",
              "    .dataframe tbody tr th:only-of-type {\n",
              "        vertical-align: middle;\n",
              "    }\n",
              "\n",
              "    .dataframe tbody tr th {\n",
              "        vertical-align: top;\n",
              "    }\n",
              "\n",
              "    .dataframe thead th {\n",
              "        text-align: right;\n",
              "    }\n",
              "</style>\n",
              "<table border=\"1\" class=\"dataframe\">\n",
              "  <thead>\n",
              "    <tr style=\"text-align: right;\">\n",
              "      <th></th>\n",
              "      <th>empno</th>\n",
              "      <th>empname</th>\n",
              "      <th>deptno</th>\n",
              "    </tr>\n",
              "  </thead>\n",
              "  <tbody>\n",
              "    <tr>\n",
              "      <th>0</th>\n",
              "      <td>101</td>\n",
              "      <td>Akash</td>\n",
              "      <td>2</td>\n",
              "    </tr>\n",
              "    <tr>\n",
              "      <th>1</th>\n",
              "      <td>102</td>\n",
              "      <td>Anurag</td>\n",
              "      <td>1</td>\n",
              "    </tr>\n",
              "    <tr>\n",
              "      <th>2</th>\n",
              "      <td>103</td>\n",
              "      <td>Atharv</td>\n",
              "      <td>3</td>\n",
              "    </tr>\n",
              "    <tr>\n",
              "      <th>3</th>\n",
              "      <td>104</td>\n",
              "      <td>Hrutika</td>\n",
              "      <td>3</td>\n",
              "    </tr>\n",
              "    <tr>\n",
              "      <th>4</th>\n",
              "      <td>105</td>\n",
              "      <td>Maheema</td>\n",
              "      <td>1</td>\n",
              "    </tr>\n",
              "    <tr>\n",
              "      <th>5</th>\n",
              "      <td>106</td>\n",
              "      <td>Sakshi</td>\n",
              "      <td>3</td>\n",
              "    </tr>\n",
              "    <tr>\n",
              "      <th>6</th>\n",
              "      <td>107</td>\n",
              "      <td>Samiksha</td>\n",
              "      <td>3</td>\n",
              "    </tr>\n",
              "    <tr>\n",
              "      <th>7</th>\n",
              "      <td>108</td>\n",
              "      <td>Prasad</td>\n",
              "      <td>1</td>\n",
              "    </tr>\n",
              "  </tbody>\n",
              "</table>\n",
              "</div>"
            ],
            "text/plain": [
              "   empno   empname  deptno\n",
              "0    101     Akash       2\n",
              "1    102    Anurag       1\n",
              "2    103    Atharv       3\n",
              "3    104   Hrutika       3\n",
              "4    105   Maheema       1\n",
              "5    106    Sakshi       3\n",
              "6    107  Samiksha       3\n",
              "7    108    Prasad       1"
            ]
          },
          "execution_count": 79,
          "metadata": {},
          "output_type": "execute_result"
        }
      ],
      "source": [
        "emp"
      ]
    },
    {
      "cell_type": "code",
      "execution_count": null,
      "id": "2b069467",
      "metadata": {
        "id": "2b069467"
      },
      "outputs": [],
      "source": [
        "#Creating the Department Dataframe\n",
        "\n",
        "dept = pd.DataFrame({\n",
        "    \"deptno\" : [1,2,3],\n",
        "    \"deptname\" : [\"Mechanical Engineering\",\"Computer Science Engineering\",\"Electronics Engineering\"]\n",
        "})"
      ]
    },
    {
      "cell_type": "code",
      "execution_count": null,
      "id": "367a7fbc",
      "metadata": {
        "id": "367a7fbc",
        "outputId": "541ee821-7dc5-4924-8ddb-58b3ab489a4d"
      },
      "outputs": [
        {
          "data": {
            "text/html": [
              "<div>\n",
              "<style scoped>\n",
              "    .dataframe tbody tr th:only-of-type {\n",
              "        vertical-align: middle;\n",
              "    }\n",
              "\n",
              "    .dataframe tbody tr th {\n",
              "        vertical-align: top;\n",
              "    }\n",
              "\n",
              "    .dataframe thead th {\n",
              "        text-align: right;\n",
              "    }\n",
              "</style>\n",
              "<table border=\"1\" class=\"dataframe\">\n",
              "  <thead>\n",
              "    <tr style=\"text-align: right;\">\n",
              "      <th></th>\n",
              "      <th>deptno</th>\n",
              "      <th>deptname</th>\n",
              "    </tr>\n",
              "  </thead>\n",
              "  <tbody>\n",
              "    <tr>\n",
              "      <th>0</th>\n",
              "      <td>1</td>\n",
              "      <td>Mechanical Engineering</td>\n",
              "    </tr>\n",
              "    <tr>\n",
              "      <th>1</th>\n",
              "      <td>2</td>\n",
              "      <td>Computer Science Engineering</td>\n",
              "    </tr>\n",
              "    <tr>\n",
              "      <th>2</th>\n",
              "      <td>3</td>\n",
              "      <td>Electronics Engineering</td>\n",
              "    </tr>\n",
              "  </tbody>\n",
              "</table>\n",
              "</div>"
            ],
            "text/plain": [
              "   deptno                      deptname\n",
              "0       1        Mechanical Engineering\n",
              "1       2  Computer Science Engineering\n",
              "2       3       Electronics Engineering"
            ]
          },
          "execution_count": 81,
          "metadata": {},
          "output_type": "execute_result"
        }
      ],
      "source": [
        "dept"
      ]
    },
    {
      "cell_type": "code",
      "execution_count": null,
      "id": "acd63905",
      "metadata": {
        "id": "acd63905"
      },
      "outputs": [],
      "source": [
        "#Merge Dataframes \"emp\" and \"dept\"\n",
        "\n",
        "merge_df=pd.merge(emp,dept,on=\"deptno\")"
      ]
    },
    {
      "cell_type": "code",
      "execution_count": null,
      "id": "80924b9c",
      "metadata": {
        "id": "80924b9c",
        "outputId": "474c79fd-3610-4fda-b281-908bfd34e290"
      },
      "outputs": [
        {
          "data": {
            "text/html": [
              "<div>\n",
              "<style scoped>\n",
              "    .dataframe tbody tr th:only-of-type {\n",
              "        vertical-align: middle;\n",
              "    }\n",
              "\n",
              "    .dataframe tbody tr th {\n",
              "        vertical-align: top;\n",
              "    }\n",
              "\n",
              "    .dataframe thead th {\n",
              "        text-align: right;\n",
              "    }\n",
              "</style>\n",
              "<table border=\"1\" class=\"dataframe\">\n",
              "  <thead>\n",
              "    <tr style=\"text-align: right;\">\n",
              "      <th></th>\n",
              "      <th>empno</th>\n",
              "      <th>empname</th>\n",
              "      <th>deptno</th>\n",
              "      <th>deptname</th>\n",
              "    </tr>\n",
              "  </thead>\n",
              "  <tbody>\n",
              "    <tr>\n",
              "      <th>0</th>\n",
              "      <td>101</td>\n",
              "      <td>Akash</td>\n",
              "      <td>2</td>\n",
              "      <td>Computer Science Engineering</td>\n",
              "    </tr>\n",
              "    <tr>\n",
              "      <th>1</th>\n",
              "      <td>102</td>\n",
              "      <td>Anurag</td>\n",
              "      <td>1</td>\n",
              "      <td>Mechanical Engineering</td>\n",
              "    </tr>\n",
              "    <tr>\n",
              "      <th>2</th>\n",
              "      <td>105</td>\n",
              "      <td>Maheema</td>\n",
              "      <td>1</td>\n",
              "      <td>Mechanical Engineering</td>\n",
              "    </tr>\n",
              "    <tr>\n",
              "      <th>3</th>\n",
              "      <td>108</td>\n",
              "      <td>Prasad</td>\n",
              "      <td>1</td>\n",
              "      <td>Mechanical Engineering</td>\n",
              "    </tr>\n",
              "    <tr>\n",
              "      <th>4</th>\n",
              "      <td>103</td>\n",
              "      <td>Atharv</td>\n",
              "      <td>3</td>\n",
              "      <td>Electronics Engineering</td>\n",
              "    </tr>\n",
              "    <tr>\n",
              "      <th>5</th>\n",
              "      <td>104</td>\n",
              "      <td>Hrutika</td>\n",
              "      <td>3</td>\n",
              "      <td>Electronics Engineering</td>\n",
              "    </tr>\n",
              "    <tr>\n",
              "      <th>6</th>\n",
              "      <td>106</td>\n",
              "      <td>Sakshi</td>\n",
              "      <td>3</td>\n",
              "      <td>Electronics Engineering</td>\n",
              "    </tr>\n",
              "    <tr>\n",
              "      <th>7</th>\n",
              "      <td>107</td>\n",
              "      <td>Samiksha</td>\n",
              "      <td>3</td>\n",
              "      <td>Electronics Engineering</td>\n",
              "    </tr>\n",
              "  </tbody>\n",
              "</table>\n",
              "</div>"
            ],
            "text/plain": [
              "   empno   empname  deptno                      deptname\n",
              "0    101     Akash       2  Computer Science Engineering\n",
              "1    102    Anurag       1        Mechanical Engineering\n",
              "2    105   Maheema       1        Mechanical Engineering\n",
              "3    108    Prasad       1        Mechanical Engineering\n",
              "4    103    Atharv       3       Electronics Engineering\n",
              "5    104   Hrutika       3       Electronics Engineering\n",
              "6    106    Sakshi       3       Electronics Engineering\n",
              "7    107  Samiksha       3       Electronics Engineering"
            ]
          },
          "execution_count": 85,
          "metadata": {},
          "output_type": "execute_result"
        }
      ],
      "source": [
        "merge_df"
      ]
    },
    {
      "cell_type": "code",
      "execution_count": null,
      "id": "1fcc9612",
      "metadata": {
        "id": "1fcc9612"
      },
      "outputs": [],
      "source": [
        "merge_left=pd.merge(emp,dept,on=\"deptno\",how=\"left\")"
      ]
    },
    {
      "cell_type": "code",
      "execution_count": null,
      "id": "afd81153",
      "metadata": {
        "id": "afd81153",
        "outputId": "741f205e-487c-4c14-dccf-5180c9e8b7fe"
      },
      "outputs": [
        {
          "data": {
            "text/html": [
              "<div>\n",
              "<style scoped>\n",
              "    .dataframe tbody tr th:only-of-type {\n",
              "        vertical-align: middle;\n",
              "    }\n",
              "\n",
              "    .dataframe tbody tr th {\n",
              "        vertical-align: top;\n",
              "    }\n",
              "\n",
              "    .dataframe thead th {\n",
              "        text-align: right;\n",
              "    }\n",
              "</style>\n",
              "<table border=\"1\" class=\"dataframe\">\n",
              "  <thead>\n",
              "    <tr style=\"text-align: right;\">\n",
              "      <th></th>\n",
              "      <th>empno</th>\n",
              "      <th>empname</th>\n",
              "      <th>deptno</th>\n",
              "      <th>deptname</th>\n",
              "    </tr>\n",
              "  </thead>\n",
              "  <tbody>\n",
              "    <tr>\n",
              "      <th>0</th>\n",
              "      <td>101</td>\n",
              "      <td>Akash</td>\n",
              "      <td>2</td>\n",
              "      <td>Computer Science Engineering</td>\n",
              "    </tr>\n",
              "    <tr>\n",
              "      <th>1</th>\n",
              "      <td>102</td>\n",
              "      <td>Anurag</td>\n",
              "      <td>1</td>\n",
              "      <td>Mechanical Engineering</td>\n",
              "    </tr>\n",
              "    <tr>\n",
              "      <th>2</th>\n",
              "      <td>103</td>\n",
              "      <td>Atharv</td>\n",
              "      <td>3</td>\n",
              "      <td>Electronics Engineering</td>\n",
              "    </tr>\n",
              "    <tr>\n",
              "      <th>3</th>\n",
              "      <td>104</td>\n",
              "      <td>Hrutika</td>\n",
              "      <td>3</td>\n",
              "      <td>Electronics Engineering</td>\n",
              "    </tr>\n",
              "    <tr>\n",
              "      <th>4</th>\n",
              "      <td>105</td>\n",
              "      <td>Maheema</td>\n",
              "      <td>1</td>\n",
              "      <td>Mechanical Engineering</td>\n",
              "    </tr>\n",
              "    <tr>\n",
              "      <th>5</th>\n",
              "      <td>106</td>\n",
              "      <td>Sakshi</td>\n",
              "      <td>3</td>\n",
              "      <td>Electronics Engineering</td>\n",
              "    </tr>\n",
              "    <tr>\n",
              "      <th>6</th>\n",
              "      <td>107</td>\n",
              "      <td>Samiksha</td>\n",
              "      <td>3</td>\n",
              "      <td>Electronics Engineering</td>\n",
              "    </tr>\n",
              "    <tr>\n",
              "      <th>7</th>\n",
              "      <td>108</td>\n",
              "      <td>Prasad</td>\n",
              "      <td>1</td>\n",
              "      <td>Mechanical Engineering</td>\n",
              "    </tr>\n",
              "  </tbody>\n",
              "</table>\n",
              "</div>"
            ],
            "text/plain": [
              "   empno   empname  deptno                      deptname\n",
              "0    101     Akash       2  Computer Science Engineering\n",
              "1    102    Anurag       1        Mechanical Engineering\n",
              "2    103    Atharv       3       Electronics Engineering\n",
              "3    104   Hrutika       3       Electronics Engineering\n",
              "4    105   Maheema       1        Mechanical Engineering\n",
              "5    106    Sakshi       3       Electronics Engineering\n",
              "6    107  Samiksha       3       Electronics Engineering\n",
              "7    108    Prasad       1        Mechanical Engineering"
            ]
          },
          "execution_count": 87,
          "metadata": {},
          "output_type": "execute_result"
        }
      ],
      "source": [
        "merge_left"
      ]
    },
    {
      "cell_type": "code",
      "execution_count": null,
      "id": "425056f8",
      "metadata": {
        "id": "425056f8"
      },
      "outputs": [],
      "source": [
        "merge_right=pd.merge(emp,dept,on=\"deptno\",how=\"right\")"
      ]
    },
    {
      "cell_type": "code",
      "execution_count": null,
      "id": "2add0c50",
      "metadata": {
        "id": "2add0c50",
        "outputId": "c44b105e-633c-409c-9fe2-11575db11d45"
      },
      "outputs": [
        {
          "data": {
            "text/html": [
              "<div>\n",
              "<style scoped>\n",
              "    .dataframe tbody tr th:only-of-type {\n",
              "        vertical-align: middle;\n",
              "    }\n",
              "\n",
              "    .dataframe tbody tr th {\n",
              "        vertical-align: top;\n",
              "    }\n",
              "\n",
              "    .dataframe thead th {\n",
              "        text-align: right;\n",
              "    }\n",
              "</style>\n",
              "<table border=\"1\" class=\"dataframe\">\n",
              "  <thead>\n",
              "    <tr style=\"text-align: right;\">\n",
              "      <th></th>\n",
              "      <th>empno</th>\n",
              "      <th>empname</th>\n",
              "      <th>deptno</th>\n",
              "      <th>deptname</th>\n",
              "    </tr>\n",
              "  </thead>\n",
              "  <tbody>\n",
              "    <tr>\n",
              "      <th>0</th>\n",
              "      <td>102</td>\n",
              "      <td>Anurag</td>\n",
              "      <td>1</td>\n",
              "      <td>Mechanical Engineering</td>\n",
              "    </tr>\n",
              "    <tr>\n",
              "      <th>1</th>\n",
              "      <td>105</td>\n",
              "      <td>Maheema</td>\n",
              "      <td>1</td>\n",
              "      <td>Mechanical Engineering</td>\n",
              "    </tr>\n",
              "    <tr>\n",
              "      <th>2</th>\n",
              "      <td>108</td>\n",
              "      <td>Prasad</td>\n",
              "      <td>1</td>\n",
              "      <td>Mechanical Engineering</td>\n",
              "    </tr>\n",
              "    <tr>\n",
              "      <th>3</th>\n",
              "      <td>101</td>\n",
              "      <td>Akash</td>\n",
              "      <td>2</td>\n",
              "      <td>Computer Science Engineering</td>\n",
              "    </tr>\n",
              "    <tr>\n",
              "      <th>4</th>\n",
              "      <td>103</td>\n",
              "      <td>Atharv</td>\n",
              "      <td>3</td>\n",
              "      <td>Electronics Engineering</td>\n",
              "    </tr>\n",
              "    <tr>\n",
              "      <th>5</th>\n",
              "      <td>104</td>\n",
              "      <td>Hrutika</td>\n",
              "      <td>3</td>\n",
              "      <td>Electronics Engineering</td>\n",
              "    </tr>\n",
              "    <tr>\n",
              "      <th>6</th>\n",
              "      <td>106</td>\n",
              "      <td>Sakshi</td>\n",
              "      <td>3</td>\n",
              "      <td>Electronics Engineering</td>\n",
              "    </tr>\n",
              "    <tr>\n",
              "      <th>7</th>\n",
              "      <td>107</td>\n",
              "      <td>Samiksha</td>\n",
              "      <td>3</td>\n",
              "      <td>Electronics Engineering</td>\n",
              "    </tr>\n",
              "  </tbody>\n",
              "</table>\n",
              "</div>"
            ],
            "text/plain": [
              "   empno   empname  deptno                      deptname\n",
              "0    102    Anurag       1        Mechanical Engineering\n",
              "1    105   Maheema       1        Mechanical Engineering\n",
              "2    108    Prasad       1        Mechanical Engineering\n",
              "3    101     Akash       2  Computer Science Engineering\n",
              "4    103    Atharv       3       Electronics Engineering\n",
              "5    104   Hrutika       3       Electronics Engineering\n",
              "6    106    Sakshi       3       Electronics Engineering\n",
              "7    107  Samiksha       3       Electronics Engineering"
            ]
          },
          "execution_count": 89,
          "metadata": {},
          "output_type": "execute_result"
        }
      ],
      "source": [
        "merge_right"
      ]
    },
    {
      "cell_type": "code",
      "execution_count": null,
      "id": "5a6f5828",
      "metadata": {
        "id": "5a6f5828"
      },
      "outputs": [],
      "source": [
        "merge_outer=pd.merge(emp,dept,on=\"deptno\",how=\"outer\")"
      ]
    },
    {
      "cell_type": "code",
      "execution_count": null,
      "id": "0cd8c10e",
      "metadata": {
        "id": "0cd8c10e",
        "outputId": "ce9bb994-c94b-421f-8405-1f15170f7646"
      },
      "outputs": [
        {
          "data": {
            "text/html": [
              "<div>\n",
              "<style scoped>\n",
              "    .dataframe tbody tr th:only-of-type {\n",
              "        vertical-align: middle;\n",
              "    }\n",
              "\n",
              "    .dataframe tbody tr th {\n",
              "        vertical-align: top;\n",
              "    }\n",
              "\n",
              "    .dataframe thead th {\n",
              "        text-align: right;\n",
              "    }\n",
              "</style>\n",
              "<table border=\"1\" class=\"dataframe\">\n",
              "  <thead>\n",
              "    <tr style=\"text-align: right;\">\n",
              "      <th></th>\n",
              "      <th>empno</th>\n",
              "      <th>empname</th>\n",
              "      <th>deptno</th>\n",
              "      <th>deptname</th>\n",
              "    </tr>\n",
              "  </thead>\n",
              "  <tbody>\n",
              "    <tr>\n",
              "      <th>0</th>\n",
              "      <td>101</td>\n",
              "      <td>Akash</td>\n",
              "      <td>2</td>\n",
              "      <td>Computer Science Engineering</td>\n",
              "    </tr>\n",
              "    <tr>\n",
              "      <th>1</th>\n",
              "      <td>102</td>\n",
              "      <td>Anurag</td>\n",
              "      <td>1</td>\n",
              "      <td>Mechanical Engineering</td>\n",
              "    </tr>\n",
              "    <tr>\n",
              "      <th>2</th>\n",
              "      <td>105</td>\n",
              "      <td>Maheema</td>\n",
              "      <td>1</td>\n",
              "      <td>Mechanical Engineering</td>\n",
              "    </tr>\n",
              "    <tr>\n",
              "      <th>3</th>\n",
              "      <td>108</td>\n",
              "      <td>Prasad</td>\n",
              "      <td>1</td>\n",
              "      <td>Mechanical Engineering</td>\n",
              "    </tr>\n",
              "    <tr>\n",
              "      <th>4</th>\n",
              "      <td>103</td>\n",
              "      <td>Atharv</td>\n",
              "      <td>3</td>\n",
              "      <td>Electronics Engineering</td>\n",
              "    </tr>\n",
              "    <tr>\n",
              "      <th>5</th>\n",
              "      <td>104</td>\n",
              "      <td>Hrutika</td>\n",
              "      <td>3</td>\n",
              "      <td>Electronics Engineering</td>\n",
              "    </tr>\n",
              "    <tr>\n",
              "      <th>6</th>\n",
              "      <td>106</td>\n",
              "      <td>Sakshi</td>\n",
              "      <td>3</td>\n",
              "      <td>Electronics Engineering</td>\n",
              "    </tr>\n",
              "    <tr>\n",
              "      <th>7</th>\n",
              "      <td>107</td>\n",
              "      <td>Samiksha</td>\n",
              "      <td>3</td>\n",
              "      <td>Electronics Engineering</td>\n",
              "    </tr>\n",
              "  </tbody>\n",
              "</table>\n",
              "</div>"
            ],
            "text/plain": [
              "   empno   empname  deptno                      deptname\n",
              "0    101     Akash       2  Computer Science Engineering\n",
              "1    102    Anurag       1        Mechanical Engineering\n",
              "2    105   Maheema       1        Mechanical Engineering\n",
              "3    108    Prasad       1        Mechanical Engineering\n",
              "4    103    Atharv       3       Electronics Engineering\n",
              "5    104   Hrutika       3       Electronics Engineering\n",
              "6    106    Sakshi       3       Electronics Engineering\n",
              "7    107  Samiksha       3       Electronics Engineering"
            ]
          },
          "execution_count": 91,
          "metadata": {},
          "output_type": "execute_result"
        }
      ],
      "source": [
        "merge_outer"
      ]
    },
    {
      "cell_type": "code",
      "execution_count": null,
      "id": "e64d6768",
      "metadata": {
        "id": "e64d6768"
      },
      "outputs": [],
      "source": [
        "merge_inner=pd.merge(emp,dept,on=\"deptno\",how=\"inner\")"
      ]
    },
    {
      "cell_type": "code",
      "execution_count": null,
      "id": "e5325fef",
      "metadata": {
        "id": "e5325fef",
        "outputId": "d1908804-40db-4764-80b6-49759436c354"
      },
      "outputs": [
        {
          "data": {
            "text/html": [
              "<div>\n",
              "<style scoped>\n",
              "    .dataframe tbody tr th:only-of-type {\n",
              "        vertical-align: middle;\n",
              "    }\n",
              "\n",
              "    .dataframe tbody tr th {\n",
              "        vertical-align: top;\n",
              "    }\n",
              "\n",
              "    .dataframe thead th {\n",
              "        text-align: right;\n",
              "    }\n",
              "</style>\n",
              "<table border=\"1\" class=\"dataframe\">\n",
              "  <thead>\n",
              "    <tr style=\"text-align: right;\">\n",
              "      <th></th>\n",
              "      <th>empno</th>\n",
              "      <th>empname</th>\n",
              "      <th>deptno</th>\n",
              "      <th>deptname</th>\n",
              "    </tr>\n",
              "  </thead>\n",
              "  <tbody>\n",
              "    <tr>\n",
              "      <th>0</th>\n",
              "      <td>101</td>\n",
              "      <td>Akash</td>\n",
              "      <td>2</td>\n",
              "      <td>Computer Science Engineering</td>\n",
              "    </tr>\n",
              "    <tr>\n",
              "      <th>1</th>\n",
              "      <td>102</td>\n",
              "      <td>Anurag</td>\n",
              "      <td>1</td>\n",
              "      <td>Mechanical Engineering</td>\n",
              "    </tr>\n",
              "    <tr>\n",
              "      <th>2</th>\n",
              "      <td>105</td>\n",
              "      <td>Maheema</td>\n",
              "      <td>1</td>\n",
              "      <td>Mechanical Engineering</td>\n",
              "    </tr>\n",
              "    <tr>\n",
              "      <th>3</th>\n",
              "      <td>108</td>\n",
              "      <td>Prasad</td>\n",
              "      <td>1</td>\n",
              "      <td>Mechanical Engineering</td>\n",
              "    </tr>\n",
              "    <tr>\n",
              "      <th>4</th>\n",
              "      <td>103</td>\n",
              "      <td>Atharv</td>\n",
              "      <td>3</td>\n",
              "      <td>Electronics Engineering</td>\n",
              "    </tr>\n",
              "    <tr>\n",
              "      <th>5</th>\n",
              "      <td>104</td>\n",
              "      <td>Hrutika</td>\n",
              "      <td>3</td>\n",
              "      <td>Electronics Engineering</td>\n",
              "    </tr>\n",
              "    <tr>\n",
              "      <th>6</th>\n",
              "      <td>106</td>\n",
              "      <td>Sakshi</td>\n",
              "      <td>3</td>\n",
              "      <td>Electronics Engineering</td>\n",
              "    </tr>\n",
              "    <tr>\n",
              "      <th>7</th>\n",
              "      <td>107</td>\n",
              "      <td>Samiksha</td>\n",
              "      <td>3</td>\n",
              "      <td>Electronics Engineering</td>\n",
              "    </tr>\n",
              "  </tbody>\n",
              "</table>\n",
              "</div>"
            ],
            "text/plain": [
              "   empno   empname  deptno                      deptname\n",
              "0    101     Akash       2  Computer Science Engineering\n",
              "1    102    Anurag       1        Mechanical Engineering\n",
              "2    105   Maheema       1        Mechanical Engineering\n",
              "3    108    Prasad       1        Mechanical Engineering\n",
              "4    103    Atharv       3       Electronics Engineering\n",
              "5    104   Hrutika       3       Electronics Engineering\n",
              "6    106    Sakshi       3       Electronics Engineering\n",
              "7    107  Samiksha       3       Electronics Engineering"
            ]
          },
          "execution_count": 94,
          "metadata": {},
          "output_type": "execute_result"
        }
      ],
      "source": [
        "merge_inner"
      ]
    },
    {
      "cell_type": "code",
      "execution_count": null,
      "id": "79a48f80",
      "metadata": {
        "id": "79a48f80"
      },
      "outputs": [],
      "source": [
        "#By Default the merge operation is \"merge_inner\" as is evident from the result of the operation above."
      ]
    },
    {
      "cell_type": "code",
      "execution_count": null,
      "id": "d2643a29",
      "metadata": {
        "id": "d2643a29",
        "outputId": "21e30125-3197-49ec-a6bf-8de9a5d71246"
      },
      "outputs": [
        {
          "data": {
            "text/html": [
              "<div>\n",
              "<style scoped>\n",
              "    .dataframe tbody tr th:only-of-type {\n",
              "        vertical-align: middle;\n",
              "    }\n",
              "\n",
              "    .dataframe tbody tr th {\n",
              "        vertical-align: top;\n",
              "    }\n",
              "\n",
              "    .dataframe thead th {\n",
              "        text-align: right;\n",
              "    }\n",
              "</style>\n",
              "<table border=\"1\" class=\"dataframe\">\n",
              "  <thead>\n",
              "    <tr style=\"text-align: right;\">\n",
              "      <th></th>\n",
              "      <th>ID</th>\n",
              "      <th>ADDRESS</th>\n",
              "      <th>CITY</th>\n",
              "      <th>STATE</th>\n",
              "      <th>COUNTRY</th>\n",
              "      <th>NAME</th>\n",
              "      <th>EMPLOYEES</th>\n",
              "    </tr>\n",
              "  </thead>\n",
              "  <tbody>\n",
              "    <tr>\n",
              "      <th>0</th>\n",
              "      <td>0</td>\n",
              "      <td>123</td>\n",
              "      <td>Bengaluru</td>\n",
              "      <td>Karnataka</td>\n",
              "      <td>India</td>\n",
              "      <td>Prasad</td>\n",
              "      <td>10</td>\n",
              "    </tr>\n",
              "    <tr>\n",
              "      <th>1</th>\n",
              "      <td>1</td>\n",
              "      <td>234</td>\n",
              "      <td>Pune</td>\n",
              "      <td>Maharashtra</td>\n",
              "      <td>India</td>\n",
              "      <td>Sakshi</td>\n",
              "      <td>1</td>\n",
              "    </tr>\n",
              "    <tr>\n",
              "      <th>2</th>\n",
              "      <td>2</td>\n",
              "      <td>345</td>\n",
              "      <td>Pune</td>\n",
              "      <td>Maharashtra</td>\n",
              "      <td>India</td>\n",
              "      <td>Maheema</td>\n",
              "      <td>2</td>\n",
              "    </tr>\n",
              "    <tr>\n",
              "      <th>3</th>\n",
              "      <td>3</td>\n",
              "      <td>456</td>\n",
              "      <td>Mumbai</td>\n",
              "      <td>Maharashtra</td>\n",
              "      <td>India</td>\n",
              "      <td>Hrutika</td>\n",
              "      <td>3</td>\n",
              "    </tr>\n",
              "    <tr>\n",
              "      <th>4</th>\n",
              "      <td>4</td>\n",
              "      <td>567</td>\n",
              "      <td>Nagpur</td>\n",
              "      <td>Maharashtra</td>\n",
              "      <td>India</td>\n",
              "      <td>Samiksha</td>\n",
              "      <td>5</td>\n",
              "    </tr>\n",
              "    <tr>\n",
              "      <th>5</th>\n",
              "      <td>5</td>\n",
              "      <td>678</td>\n",
              "      <td>Nagpur</td>\n",
              "      <td>Maharashtra</td>\n",
              "      <td>India</td>\n",
              "      <td>Akash</td>\n",
              "      <td>8</td>\n",
              "    </tr>\n",
              "    <tr>\n",
              "      <th>6</th>\n",
              "      <td>6</td>\n",
              "      <td>789</td>\n",
              "      <td>Pune</td>\n",
              "      <td>Maharashtra</td>\n",
              "      <td>India</td>\n",
              "      <td>Anurag</td>\n",
              "      <td>9</td>\n",
              "    </tr>\n",
              "    <tr>\n",
              "      <th>7</th>\n",
              "      <td>7</td>\n",
              "      <td>891</td>\n",
              "      <td>Nagpur</td>\n",
              "      <td>Maharashtra</td>\n",
              "      <td>India</td>\n",
              "      <td>Atharv</td>\n",
              "      <td>10</td>\n",
              "    </tr>\n",
              "  </tbody>\n",
              "</table>\n",
              "</div>"
            ],
            "text/plain": [
              "   ID  ADDRESS       CITY        STATE COUNTRY      NAME  EMPLOYEES\n",
              "0   0      123  Bengaluru    Karnataka   India    Prasad         10\n",
              "1   1      234       Pune  Maharashtra   India    Sakshi          1\n",
              "2   2      345       Pune  Maharashtra   India   Maheema          2\n",
              "3   3      456     Mumbai  Maharashtra   India   Hrutika          3\n",
              "4   4      567     Nagpur  Maharashtra   India  Samiksha          5\n",
              "5   5      678     Nagpur  Maharashtra   India     Akash          8\n",
              "6   6      789       Pune  Maharashtra   India    Anurag          9\n",
              "7   7      891     Nagpur  Maharashtra   India    Atharv         10"
            ]
          },
          "execution_count": 96,
          "metadata": {},
          "output_type": "execute_result"
        }
      ],
      "source": [
        "df9"
      ]
    },
    {
      "cell_type": "code",
      "execution_count": null,
      "id": "65ced473",
      "metadata": {
        "id": "65ced473",
        "outputId": "75ea64c4-8198-48ca-e243-e4aca4d82a21"
      },
      "outputs": [
        {
          "name": "stderr",
          "output_type": "stream",
          "text": [
            "/var/folders/l4/6y_sy_9n1s7cbdl1qtp0sj240000gn/T/ipykernel_1903/4151883701.py:1: FutureWarning: In a future version of pandas all arguments of DataFrame.drop except for the argument 'labels' will be keyword-only.\n",
            "  df9.drop(\"STATE\",1)\n"
          ]
        },
        {
          "data": {
            "text/html": [
              "<div>\n",
              "<style scoped>\n",
              "    .dataframe tbody tr th:only-of-type {\n",
              "        vertical-align: middle;\n",
              "    }\n",
              "\n",
              "    .dataframe tbody tr th {\n",
              "        vertical-align: top;\n",
              "    }\n",
              "\n",
              "    .dataframe thead th {\n",
              "        text-align: right;\n",
              "    }\n",
              "</style>\n",
              "<table border=\"1\" class=\"dataframe\">\n",
              "  <thead>\n",
              "    <tr style=\"text-align: right;\">\n",
              "      <th></th>\n",
              "      <th>ID</th>\n",
              "      <th>ADDRESS</th>\n",
              "      <th>CITY</th>\n",
              "      <th>COUNTRY</th>\n",
              "      <th>NAME</th>\n",
              "      <th>EMPLOYEES</th>\n",
              "    </tr>\n",
              "  </thead>\n",
              "  <tbody>\n",
              "    <tr>\n",
              "      <th>0</th>\n",
              "      <td>0</td>\n",
              "      <td>123</td>\n",
              "      <td>Bengaluru</td>\n",
              "      <td>India</td>\n",
              "      <td>Prasad</td>\n",
              "      <td>10</td>\n",
              "    </tr>\n",
              "    <tr>\n",
              "      <th>1</th>\n",
              "      <td>1</td>\n",
              "      <td>234</td>\n",
              "      <td>Pune</td>\n",
              "      <td>India</td>\n",
              "      <td>Sakshi</td>\n",
              "      <td>1</td>\n",
              "    </tr>\n",
              "    <tr>\n",
              "      <th>2</th>\n",
              "      <td>2</td>\n",
              "      <td>345</td>\n",
              "      <td>Pune</td>\n",
              "      <td>India</td>\n",
              "      <td>Maheema</td>\n",
              "      <td>2</td>\n",
              "    </tr>\n",
              "    <tr>\n",
              "      <th>3</th>\n",
              "      <td>3</td>\n",
              "      <td>456</td>\n",
              "      <td>Mumbai</td>\n",
              "      <td>India</td>\n",
              "      <td>Hrutika</td>\n",
              "      <td>3</td>\n",
              "    </tr>\n",
              "    <tr>\n",
              "      <th>4</th>\n",
              "      <td>4</td>\n",
              "      <td>567</td>\n",
              "      <td>Nagpur</td>\n",
              "      <td>India</td>\n",
              "      <td>Samiksha</td>\n",
              "      <td>5</td>\n",
              "    </tr>\n",
              "    <tr>\n",
              "      <th>5</th>\n",
              "      <td>5</td>\n",
              "      <td>678</td>\n",
              "      <td>Nagpur</td>\n",
              "      <td>India</td>\n",
              "      <td>Akash</td>\n",
              "      <td>8</td>\n",
              "    </tr>\n",
              "    <tr>\n",
              "      <th>6</th>\n",
              "      <td>6</td>\n",
              "      <td>789</td>\n",
              "      <td>Pune</td>\n",
              "      <td>India</td>\n",
              "      <td>Anurag</td>\n",
              "      <td>9</td>\n",
              "    </tr>\n",
              "    <tr>\n",
              "      <th>7</th>\n",
              "      <td>7</td>\n",
              "      <td>891</td>\n",
              "      <td>Nagpur</td>\n",
              "      <td>India</td>\n",
              "      <td>Atharv</td>\n",
              "      <td>10</td>\n",
              "    </tr>\n",
              "  </tbody>\n",
              "</table>\n",
              "</div>"
            ],
            "text/plain": [
              "   ID  ADDRESS       CITY COUNTRY      NAME  EMPLOYEES\n",
              "0   0      123  Bengaluru   India    Prasad         10\n",
              "1   1      234       Pune   India    Sakshi          1\n",
              "2   2      345       Pune   India   Maheema          2\n",
              "3   3      456     Mumbai   India   Hrutika          3\n",
              "4   4      567     Nagpur   India  Samiksha          5\n",
              "5   5      678     Nagpur   India     Akash          8\n",
              "6   6      789       Pune   India    Anurag          9\n",
              "7   7      891     Nagpur   India    Atharv         10"
            ]
          },
          "execution_count": 97,
          "metadata": {},
          "output_type": "execute_result"
        }
      ],
      "source": [
        "df9.drop(\"STATE\",1)"
      ]
    },
    {
      "cell_type": "code",
      "execution_count": null,
      "id": "13cbc577",
      "metadata": {
        "id": "13cbc577",
        "outputId": "14bbb9f4-caee-411e-f4b7-54c91b41e098"
      },
      "outputs": [
        {
          "name": "stderr",
          "output_type": "stream",
          "text": [
            "/var/folders/l4/6y_sy_9n1s7cbdl1qtp0sj240000gn/T/ipykernel_1903/1087809614.py:1: FutureWarning: In a future version of pandas all arguments of DataFrame.drop except for the argument 'labels' will be keyword-only.\n",
            "  df9.drop(df9.index[1:2],0)\n"
          ]
        },
        {
          "data": {
            "text/html": [
              "<div>\n",
              "<style scoped>\n",
              "    .dataframe tbody tr th:only-of-type {\n",
              "        vertical-align: middle;\n",
              "    }\n",
              "\n",
              "    .dataframe tbody tr th {\n",
              "        vertical-align: top;\n",
              "    }\n",
              "\n",
              "    .dataframe thead th {\n",
              "        text-align: right;\n",
              "    }\n",
              "</style>\n",
              "<table border=\"1\" class=\"dataframe\">\n",
              "  <thead>\n",
              "    <tr style=\"text-align: right;\">\n",
              "      <th></th>\n",
              "      <th>ID</th>\n",
              "      <th>ADDRESS</th>\n",
              "      <th>CITY</th>\n",
              "      <th>STATE</th>\n",
              "      <th>COUNTRY</th>\n",
              "      <th>NAME</th>\n",
              "      <th>EMPLOYEES</th>\n",
              "    </tr>\n",
              "  </thead>\n",
              "  <tbody>\n",
              "    <tr>\n",
              "      <th>0</th>\n",
              "      <td>0</td>\n",
              "      <td>123</td>\n",
              "      <td>Bengaluru</td>\n",
              "      <td>Karnataka</td>\n",
              "      <td>India</td>\n",
              "      <td>Prasad</td>\n",
              "      <td>10</td>\n",
              "    </tr>\n",
              "    <tr>\n",
              "      <th>2</th>\n",
              "      <td>2</td>\n",
              "      <td>345</td>\n",
              "      <td>Pune</td>\n",
              "      <td>Maharashtra</td>\n",
              "      <td>India</td>\n",
              "      <td>Maheema</td>\n",
              "      <td>2</td>\n",
              "    </tr>\n",
              "    <tr>\n",
              "      <th>3</th>\n",
              "      <td>3</td>\n",
              "      <td>456</td>\n",
              "      <td>Mumbai</td>\n",
              "      <td>Maharashtra</td>\n",
              "      <td>India</td>\n",
              "      <td>Hrutika</td>\n",
              "      <td>3</td>\n",
              "    </tr>\n",
              "    <tr>\n",
              "      <th>4</th>\n",
              "      <td>4</td>\n",
              "      <td>567</td>\n",
              "      <td>Nagpur</td>\n",
              "      <td>Maharashtra</td>\n",
              "      <td>India</td>\n",
              "      <td>Samiksha</td>\n",
              "      <td>5</td>\n",
              "    </tr>\n",
              "    <tr>\n",
              "      <th>5</th>\n",
              "      <td>5</td>\n",
              "      <td>678</td>\n",
              "      <td>Nagpur</td>\n",
              "      <td>Maharashtra</td>\n",
              "      <td>India</td>\n",
              "      <td>Akash</td>\n",
              "      <td>8</td>\n",
              "    </tr>\n",
              "    <tr>\n",
              "      <th>6</th>\n",
              "      <td>6</td>\n",
              "      <td>789</td>\n",
              "      <td>Pune</td>\n",
              "      <td>Maharashtra</td>\n",
              "      <td>India</td>\n",
              "      <td>Anurag</td>\n",
              "      <td>9</td>\n",
              "    </tr>\n",
              "    <tr>\n",
              "      <th>7</th>\n",
              "      <td>7</td>\n",
              "      <td>891</td>\n",
              "      <td>Nagpur</td>\n",
              "      <td>Maharashtra</td>\n",
              "      <td>India</td>\n",
              "      <td>Atharv</td>\n",
              "      <td>10</td>\n",
              "    </tr>\n",
              "  </tbody>\n",
              "</table>\n",
              "</div>"
            ],
            "text/plain": [
              "   ID  ADDRESS       CITY        STATE COUNTRY      NAME  EMPLOYEES\n",
              "0   0      123  Bengaluru    Karnataka   India    Prasad         10\n",
              "2   2      345       Pune  Maharashtra   India   Maheema          2\n",
              "3   3      456     Mumbai  Maharashtra   India   Hrutika          3\n",
              "4   4      567     Nagpur  Maharashtra   India  Samiksha          5\n",
              "5   5      678     Nagpur  Maharashtra   India     Akash          8\n",
              "6   6      789       Pune  Maharashtra   India    Anurag          9\n",
              "7   7      891     Nagpur  Maharashtra   India    Atharv         10"
            ]
          },
          "execution_count": 102,
          "metadata": {},
          "output_type": "execute_result"
        }
      ],
      "source": [
        "df9.drop(df9.index[1:2],0)"
      ]
    },
    {
      "cell_type": "code",
      "execution_count": null,
      "id": "060d2961",
      "metadata": {
        "id": "060d2961"
      },
      "outputs": [],
      "source": [
        "#Updating and Modifying Columns"
      ]
    },
    {
      "cell_type": "code",
      "execution_count": null,
      "id": "cdaf0278",
      "metadata": {
        "id": "cdaf0278",
        "outputId": "743f18b1-915e-46a6-ab93-367f0f695094"
      },
      "outputs": [
        {
          "data": {
            "text/plain": [
              "(8, 7)"
            ]
          },
          "execution_count": 105,
          "metadata": {},
          "output_type": "execute_result"
        }
      ],
      "source": [
        "#shape of the dataframe\n",
        "\n",
        "df9.shape"
      ]
    },
    {
      "cell_type": "code",
      "execution_count": null,
      "id": "f8317a88",
      "metadata": {
        "id": "f8317a88",
        "outputId": "546026ce-72ff-48d1-ffc4-c6020483500b"
      },
      "outputs": [
        {
          "data": {
            "text/plain": [
              "8"
            ]
          },
          "execution_count": 107,
          "metadata": {},
          "output_type": "execute_result"
        }
      ],
      "source": [
        "#length of the indices\n",
        "\n",
        "len(df9.index)"
      ]
    },
    {
      "cell_type": "code",
      "execution_count": null,
      "id": "ef97e35c",
      "metadata": {
        "id": "ef97e35c",
        "outputId": "d49aa65b-205d-4535-fd3b-7ce97c89efd4"
      },
      "outputs": [
        {
          "data": {
            "text/plain": [
              "8"
            ]
          },
          "execution_count": 108,
          "metadata": {},
          "output_type": "execute_result"
        }
      ],
      "source": [
        "df9.shape[0]"
      ]
    },
    {
      "cell_type": "code",
      "execution_count": null,
      "id": "ee776247",
      "metadata": {
        "id": "ee776247"
      },
      "outputs": [],
      "source": [
        "df9[\"CONTINENT\"]=df9.shape[0]*[\"Asia\"]"
      ]
    },
    {
      "cell_type": "code",
      "execution_count": null,
      "id": "ad321345",
      "metadata": {
        "id": "ad321345",
        "outputId": "44422d14-1a68-4ba0-9df2-e637345aa27e"
      },
      "outputs": [
        {
          "data": {
            "text/html": [
              "<div>\n",
              "<style scoped>\n",
              "    .dataframe tbody tr th:only-of-type {\n",
              "        vertical-align: middle;\n",
              "    }\n",
              "\n",
              "    .dataframe tbody tr th {\n",
              "        vertical-align: top;\n",
              "    }\n",
              "\n",
              "    .dataframe thead th {\n",
              "        text-align: right;\n",
              "    }\n",
              "</style>\n",
              "<table border=\"1\" class=\"dataframe\">\n",
              "  <thead>\n",
              "    <tr style=\"text-align: right;\">\n",
              "      <th></th>\n",
              "      <th>ID</th>\n",
              "      <th>ADDRESS</th>\n",
              "      <th>CITY</th>\n",
              "      <th>STATE</th>\n",
              "      <th>COUNTRY</th>\n",
              "      <th>NAME</th>\n",
              "      <th>EMPLOYEES</th>\n",
              "      <th>CONTINENT</th>\n",
              "    </tr>\n",
              "  </thead>\n",
              "  <tbody>\n",
              "    <tr>\n",
              "      <th>0</th>\n",
              "      <td>0</td>\n",
              "      <td>123</td>\n",
              "      <td>Bengaluru</td>\n",
              "      <td>Karnataka</td>\n",
              "      <td>India</td>\n",
              "      <td>Prasad</td>\n",
              "      <td>10</td>\n",
              "      <td>Asia</td>\n",
              "    </tr>\n",
              "    <tr>\n",
              "      <th>1</th>\n",
              "      <td>1</td>\n",
              "      <td>234</td>\n",
              "      <td>Pune</td>\n",
              "      <td>Maharashtra</td>\n",
              "      <td>India</td>\n",
              "      <td>Sakshi</td>\n",
              "      <td>1</td>\n",
              "      <td>Asia</td>\n",
              "    </tr>\n",
              "    <tr>\n",
              "      <th>2</th>\n",
              "      <td>2</td>\n",
              "      <td>345</td>\n",
              "      <td>Pune</td>\n",
              "      <td>Maharashtra</td>\n",
              "      <td>India</td>\n",
              "      <td>Maheema</td>\n",
              "      <td>2</td>\n",
              "      <td>Asia</td>\n",
              "    </tr>\n",
              "    <tr>\n",
              "      <th>3</th>\n",
              "      <td>3</td>\n",
              "      <td>456</td>\n",
              "      <td>Mumbai</td>\n",
              "      <td>Maharashtra</td>\n",
              "      <td>India</td>\n",
              "      <td>Hrutika</td>\n",
              "      <td>3</td>\n",
              "      <td>Asia</td>\n",
              "    </tr>\n",
              "    <tr>\n",
              "      <th>4</th>\n",
              "      <td>4</td>\n",
              "      <td>567</td>\n",
              "      <td>Nagpur</td>\n",
              "      <td>Maharashtra</td>\n",
              "      <td>India</td>\n",
              "      <td>Samiksha</td>\n",
              "      <td>5</td>\n",
              "      <td>Asia</td>\n",
              "    </tr>\n",
              "    <tr>\n",
              "      <th>5</th>\n",
              "      <td>5</td>\n",
              "      <td>678</td>\n",
              "      <td>Nagpur</td>\n",
              "      <td>Maharashtra</td>\n",
              "      <td>India</td>\n",
              "      <td>Akash</td>\n",
              "      <td>8</td>\n",
              "      <td>Asia</td>\n",
              "    </tr>\n",
              "    <tr>\n",
              "      <th>6</th>\n",
              "      <td>6</td>\n",
              "      <td>789</td>\n",
              "      <td>Pune</td>\n",
              "      <td>Maharashtra</td>\n",
              "      <td>India</td>\n",
              "      <td>Anurag</td>\n",
              "      <td>9</td>\n",
              "      <td>Asia</td>\n",
              "    </tr>\n",
              "    <tr>\n",
              "      <th>7</th>\n",
              "      <td>7</td>\n",
              "      <td>891</td>\n",
              "      <td>Nagpur</td>\n",
              "      <td>Maharashtra</td>\n",
              "      <td>India</td>\n",
              "      <td>Atharv</td>\n",
              "      <td>10</td>\n",
              "      <td>Asia</td>\n",
              "    </tr>\n",
              "  </tbody>\n",
              "</table>\n",
              "</div>"
            ],
            "text/plain": [
              "   ID  ADDRESS       CITY        STATE COUNTRY      NAME  EMPLOYEES CONTINENT\n",
              "0   0      123  Bengaluru    Karnataka   India    Prasad         10      Asia\n",
              "1   1      234       Pune  Maharashtra   India    Sakshi          1      Asia\n",
              "2   2      345       Pune  Maharashtra   India   Maheema          2      Asia\n",
              "3   3      456     Mumbai  Maharashtra   India   Hrutika          3      Asia\n",
              "4   4      567     Nagpur  Maharashtra   India  Samiksha          5      Asia\n",
              "5   5      678     Nagpur  Maharashtra   India     Akash          8      Asia\n",
              "6   6      789       Pune  Maharashtra   India    Anurag          9      Asia\n",
              "7   7      891     Nagpur  Maharashtra   India    Atharv         10      Asia"
            ]
          },
          "execution_count": 120,
          "metadata": {},
          "output_type": "execute_result"
        }
      ],
      "source": [
        "df9"
      ]
    },
    {
      "cell_type": "code",
      "execution_count": null,
      "id": "3d882d51",
      "metadata": {
        "id": "3d882d51"
      },
      "outputs": [],
      "source": [
        "df9[\"CONTINENT\"]=df9[\"COUNTRY\"]+\" , \"+df9[\"CONTINENT\"]"
      ]
    },
    {
      "cell_type": "code",
      "execution_count": null,
      "id": "ca547e6d",
      "metadata": {
        "id": "ca547e6d",
        "outputId": "c223e06c-28f2-4efe-f97c-e79e9996fd17"
      },
      "outputs": [
        {
          "data": {
            "text/html": [
              "<div>\n",
              "<style scoped>\n",
              "    .dataframe tbody tr th:only-of-type {\n",
              "        vertical-align: middle;\n",
              "    }\n",
              "\n",
              "    .dataframe tbody tr th {\n",
              "        vertical-align: top;\n",
              "    }\n",
              "\n",
              "    .dataframe thead th {\n",
              "        text-align: right;\n",
              "    }\n",
              "</style>\n",
              "<table border=\"1\" class=\"dataframe\">\n",
              "  <thead>\n",
              "    <tr style=\"text-align: right;\">\n",
              "      <th></th>\n",
              "      <th>ID</th>\n",
              "      <th>ADDRESS</th>\n",
              "      <th>CITY</th>\n",
              "      <th>STATE</th>\n",
              "      <th>COUNTRY</th>\n",
              "      <th>NAME</th>\n",
              "      <th>EMPLOYEES</th>\n",
              "      <th>CONTINENT</th>\n",
              "    </tr>\n",
              "  </thead>\n",
              "  <tbody>\n",
              "    <tr>\n",
              "      <th>0</th>\n",
              "      <td>0</td>\n",
              "      <td>123</td>\n",
              "      <td>Bengaluru</td>\n",
              "      <td>Karnataka</td>\n",
              "      <td>India</td>\n",
              "      <td>Prasad</td>\n",
              "      <td>10</td>\n",
              "      <td>India , Asia</td>\n",
              "    </tr>\n",
              "    <tr>\n",
              "      <th>1</th>\n",
              "      <td>1</td>\n",
              "      <td>234</td>\n",
              "      <td>Pune</td>\n",
              "      <td>Maharashtra</td>\n",
              "      <td>India</td>\n",
              "      <td>Sakshi</td>\n",
              "      <td>1</td>\n",
              "      <td>India , Asia</td>\n",
              "    </tr>\n",
              "    <tr>\n",
              "      <th>2</th>\n",
              "      <td>2</td>\n",
              "      <td>345</td>\n",
              "      <td>Pune</td>\n",
              "      <td>Maharashtra</td>\n",
              "      <td>India</td>\n",
              "      <td>Maheema</td>\n",
              "      <td>2</td>\n",
              "      <td>India , Asia</td>\n",
              "    </tr>\n",
              "    <tr>\n",
              "      <th>3</th>\n",
              "      <td>3</td>\n",
              "      <td>456</td>\n",
              "      <td>Mumbai</td>\n",
              "      <td>Maharashtra</td>\n",
              "      <td>India</td>\n",
              "      <td>Hrutika</td>\n",
              "      <td>3</td>\n",
              "      <td>India , Asia</td>\n",
              "    </tr>\n",
              "    <tr>\n",
              "      <th>4</th>\n",
              "      <td>4</td>\n",
              "      <td>567</td>\n",
              "      <td>Nagpur</td>\n",
              "      <td>Maharashtra</td>\n",
              "      <td>India</td>\n",
              "      <td>Samiksha</td>\n",
              "      <td>5</td>\n",
              "      <td>India , Asia</td>\n",
              "    </tr>\n",
              "    <tr>\n",
              "      <th>5</th>\n",
              "      <td>5</td>\n",
              "      <td>678</td>\n",
              "      <td>Nagpur</td>\n",
              "      <td>Maharashtra</td>\n",
              "      <td>India</td>\n",
              "      <td>Akash</td>\n",
              "      <td>8</td>\n",
              "      <td>India , Asia</td>\n",
              "    </tr>\n",
              "    <tr>\n",
              "      <th>6</th>\n",
              "      <td>6</td>\n",
              "      <td>789</td>\n",
              "      <td>Pune</td>\n",
              "      <td>Maharashtra</td>\n",
              "      <td>India</td>\n",
              "      <td>Anurag</td>\n",
              "      <td>9</td>\n",
              "      <td>India , Asia</td>\n",
              "    </tr>\n",
              "    <tr>\n",
              "      <th>7</th>\n",
              "      <td>7</td>\n",
              "      <td>891</td>\n",
              "      <td>Nagpur</td>\n",
              "      <td>Maharashtra</td>\n",
              "      <td>India</td>\n",
              "      <td>Atharv</td>\n",
              "      <td>10</td>\n",
              "      <td>India , Asia</td>\n",
              "    </tr>\n",
              "  </tbody>\n",
              "</table>\n",
              "</div>"
            ],
            "text/plain": [
              "   ID  ADDRESS       CITY        STATE COUNTRY      NAME  EMPLOYEES  \\\n",
              "0   0      123  Bengaluru    Karnataka   India    Prasad         10   \n",
              "1   1      234       Pune  Maharashtra   India    Sakshi          1   \n",
              "2   2      345       Pune  Maharashtra   India   Maheema          2   \n",
              "3   3      456     Mumbai  Maharashtra   India   Hrutika          3   \n",
              "4   4      567     Nagpur  Maharashtra   India  Samiksha          5   \n",
              "5   5      678     Nagpur  Maharashtra   India     Akash          8   \n",
              "6   6      789       Pune  Maharashtra   India    Anurag          9   \n",
              "7   7      891     Nagpur  Maharashtra   India    Atharv         10   \n",
              "\n",
              "      CONTINENT  \n",
              "0  India , Asia  \n",
              "1  India , Asia  \n",
              "2  India , Asia  \n",
              "3  India , Asia  \n",
              "4  India , Asia  \n",
              "5  India , Asia  \n",
              "6  India , Asia  \n",
              "7  India , Asia  "
            ]
          },
          "execution_count": 128,
          "metadata": {},
          "output_type": "execute_result"
        }
      ],
      "source": [
        "df9"
      ]
    },
    {
      "cell_type": "code",
      "execution_count": null,
      "id": "a4ea59bf",
      "metadata": {
        "id": "a4ea59bf"
      },
      "outputs": [],
      "source": [
        "df9_t = df9.T"
      ]
    },
    {
      "cell_type": "code",
      "execution_count": null,
      "id": "e196b257",
      "metadata": {
        "id": "e196b257",
        "outputId": "662a0553-82fa-448d-ccf4-15ac6a0baa70"
      },
      "outputs": [
        {
          "data": {
            "text/html": [
              "<div>\n",
              "<style scoped>\n",
              "    .dataframe tbody tr th:only-of-type {\n",
              "        vertical-align: middle;\n",
              "    }\n",
              "\n",
              "    .dataframe tbody tr th {\n",
              "        vertical-align: top;\n",
              "    }\n",
              "\n",
              "    .dataframe thead th {\n",
              "        text-align: right;\n",
              "    }\n",
              "</style>\n",
              "<table border=\"1\" class=\"dataframe\">\n",
              "  <thead>\n",
              "    <tr style=\"text-align: right;\">\n",
              "      <th></th>\n",
              "      <th>ID</th>\n",
              "      <th>ADDRESS</th>\n",
              "      <th>CITY</th>\n",
              "      <th>STATE</th>\n",
              "      <th>COUNTRY</th>\n",
              "      <th>NAME</th>\n",
              "      <th>EMPLOYEES</th>\n",
              "      <th>CONTINENT</th>\n",
              "    </tr>\n",
              "  </thead>\n",
              "  <tbody>\n",
              "    <tr>\n",
              "      <th>0</th>\n",
              "      <td>0</td>\n",
              "      <td>123</td>\n",
              "      <td>Bengaluru</td>\n",
              "      <td>Karnataka</td>\n",
              "      <td>India</td>\n",
              "      <td>Prasad</td>\n",
              "      <td>10</td>\n",
              "      <td>India , Asia</td>\n",
              "    </tr>\n",
              "    <tr>\n",
              "      <th>1</th>\n",
              "      <td>1</td>\n",
              "      <td>234</td>\n",
              "      <td>Pune</td>\n",
              "      <td>Maharashtra</td>\n",
              "      <td>India</td>\n",
              "      <td>Sakshi</td>\n",
              "      <td>1</td>\n",
              "      <td>India , Asia</td>\n",
              "    </tr>\n",
              "    <tr>\n",
              "      <th>2</th>\n",
              "      <td>2</td>\n",
              "      <td>345</td>\n",
              "      <td>Pune</td>\n",
              "      <td>Maharashtra</td>\n",
              "      <td>India</td>\n",
              "      <td>Maheema</td>\n",
              "      <td>2</td>\n",
              "      <td>India , Asia</td>\n",
              "    </tr>\n",
              "    <tr>\n",
              "      <th>3</th>\n",
              "      <td>3</td>\n",
              "      <td>456</td>\n",
              "      <td>Mumbai</td>\n",
              "      <td>Maharashtra</td>\n",
              "      <td>India</td>\n",
              "      <td>Hrutika</td>\n",
              "      <td>3</td>\n",
              "      <td>India , Asia</td>\n",
              "    </tr>\n",
              "    <tr>\n",
              "      <th>4</th>\n",
              "      <td>4</td>\n",
              "      <td>567</td>\n",
              "      <td>Nagpur</td>\n",
              "      <td>Maharashtra</td>\n",
              "      <td>India</td>\n",
              "      <td>Samiksha</td>\n",
              "      <td>5</td>\n",
              "      <td>India , Asia</td>\n",
              "    </tr>\n",
              "    <tr>\n",
              "      <th>5</th>\n",
              "      <td>5</td>\n",
              "      <td>678</td>\n",
              "      <td>Nagpur</td>\n",
              "      <td>Maharashtra</td>\n",
              "      <td>India</td>\n",
              "      <td>Akash</td>\n",
              "      <td>8</td>\n",
              "      <td>India , Asia</td>\n",
              "    </tr>\n",
              "    <tr>\n",
              "      <th>6</th>\n",
              "      <td>6</td>\n",
              "      <td>789</td>\n",
              "      <td>Pune</td>\n",
              "      <td>Maharashtra</td>\n",
              "      <td>India</td>\n",
              "      <td>Anurag</td>\n",
              "      <td>9</td>\n",
              "      <td>India , Asia</td>\n",
              "    </tr>\n",
              "    <tr>\n",
              "      <th>7</th>\n",
              "      <td>7</td>\n",
              "      <td>891</td>\n",
              "      <td>Nagpur</td>\n",
              "      <td>Maharashtra</td>\n",
              "      <td>India</td>\n",
              "      <td>Atharv</td>\n",
              "      <td>10</td>\n",
              "      <td>India , Asia</td>\n",
              "    </tr>\n",
              "  </tbody>\n",
              "</table>\n",
              "</div>"
            ],
            "text/plain": [
              "  ID ADDRESS       CITY        STATE COUNTRY      NAME EMPLOYEES     CONTINENT\n",
              "0  0     123  Bengaluru    Karnataka   India    Prasad        10  India , Asia\n",
              "1  1     234       Pune  Maharashtra   India    Sakshi         1  India , Asia\n",
              "2  2     345       Pune  Maharashtra   India   Maheema         2  India , Asia\n",
              "3  3     456     Mumbai  Maharashtra   India   Hrutika         3  India , Asia\n",
              "4  4     567     Nagpur  Maharashtra   India  Samiksha         5  India , Asia\n",
              "5  5     678     Nagpur  Maharashtra   India     Akash         8  India , Asia\n",
              "6  6     789       Pune  Maharashtra   India    Anurag         9  India , Asia\n",
              "7  7     891     Nagpur  Maharashtra   India    Atharv        10  India , Asia"
            ]
          },
          "execution_count": 136,
          "metadata": {},
          "output_type": "execute_result"
        }
      ],
      "source": [
        "df9"
      ]
    },
    {
      "cell_type": "code",
      "execution_count": null,
      "id": "129c1018",
      "metadata": {
        "id": "129c1018"
      },
      "outputs": [],
      "source": [
        "df9=df9_t.T"
      ]
    },
    {
      "cell_type": "code",
      "execution_count": null,
      "id": "df3571dd",
      "metadata": {
        "id": "df3571dd",
        "outputId": "bee4675c-cc75-4b13-a89a-4b2b5bc1cba8"
      },
      "outputs": [
        {
          "data": {
            "text/html": [
              "<div>\n",
              "<style scoped>\n",
              "    .dataframe tbody tr th:only-of-type {\n",
              "        vertical-align: middle;\n",
              "    }\n",
              "\n",
              "    .dataframe tbody tr th {\n",
              "        vertical-align: top;\n",
              "    }\n",
              "\n",
              "    .dataframe thead th {\n",
              "        text-align: right;\n",
              "    }\n",
              "</style>\n",
              "<table border=\"1\" class=\"dataframe\">\n",
              "  <thead>\n",
              "    <tr style=\"text-align: right;\">\n",
              "      <th></th>\n",
              "      <th>ID</th>\n",
              "      <th>ADDRESS</th>\n",
              "      <th>CITY</th>\n",
              "      <th>STATE</th>\n",
              "      <th>COUNTRY</th>\n",
              "      <th>NAME</th>\n",
              "      <th>EMPLOYEES</th>\n",
              "      <th>CONTINENT</th>\n",
              "    </tr>\n",
              "  </thead>\n",
              "  <tbody>\n",
              "    <tr>\n",
              "      <th>0</th>\n",
              "      <td>0</td>\n",
              "      <td>123</td>\n",
              "      <td>Bengaluru</td>\n",
              "      <td>Karnataka</td>\n",
              "      <td>India</td>\n",
              "      <td>Prasad</td>\n",
              "      <td>10</td>\n",
              "      <td>India , Asia</td>\n",
              "    </tr>\n",
              "    <tr>\n",
              "      <th>1</th>\n",
              "      <td>1</td>\n",
              "      <td>234</td>\n",
              "      <td>Pune</td>\n",
              "      <td>Maharashtra</td>\n",
              "      <td>India</td>\n",
              "      <td>Sakshi</td>\n",
              "      <td>1</td>\n",
              "      <td>India , Asia</td>\n",
              "    </tr>\n",
              "    <tr>\n",
              "      <th>2</th>\n",
              "      <td>2</td>\n",
              "      <td>345</td>\n",
              "      <td>Pune</td>\n",
              "      <td>Maharashtra</td>\n",
              "      <td>India</td>\n",
              "      <td>Maheema</td>\n",
              "      <td>2</td>\n",
              "      <td>India , Asia</td>\n",
              "    </tr>\n",
              "    <tr>\n",
              "      <th>3</th>\n",
              "      <td>3</td>\n",
              "      <td>456</td>\n",
              "      <td>Mumbai</td>\n",
              "      <td>Maharashtra</td>\n",
              "      <td>India</td>\n",
              "      <td>Hrutika</td>\n",
              "      <td>3</td>\n",
              "      <td>India , Asia</td>\n",
              "    </tr>\n",
              "    <tr>\n",
              "      <th>4</th>\n",
              "      <td>4</td>\n",
              "      <td>567</td>\n",
              "      <td>Nagpur</td>\n",
              "      <td>Maharashtra</td>\n",
              "      <td>India</td>\n",
              "      <td>Samiksha</td>\n",
              "      <td>5</td>\n",
              "      <td>India , Asia</td>\n",
              "    </tr>\n",
              "    <tr>\n",
              "      <th>5</th>\n",
              "      <td>5</td>\n",
              "      <td>678</td>\n",
              "      <td>Nagpur</td>\n",
              "      <td>Maharashtra</td>\n",
              "      <td>India</td>\n",
              "      <td>Akash</td>\n",
              "      <td>8</td>\n",
              "      <td>India , Asia</td>\n",
              "    </tr>\n",
              "    <tr>\n",
              "      <th>6</th>\n",
              "      <td>6</td>\n",
              "      <td>789</td>\n",
              "      <td>Pune</td>\n",
              "      <td>Maharashtra</td>\n",
              "      <td>India</td>\n",
              "      <td>Anurag</td>\n",
              "      <td>9</td>\n",
              "      <td>India , Asia</td>\n",
              "    </tr>\n",
              "    <tr>\n",
              "      <th>7</th>\n",
              "      <td>7</td>\n",
              "      <td>891</td>\n",
              "      <td>Nagpur</td>\n",
              "      <td>Maharashtra</td>\n",
              "      <td>India</td>\n",
              "      <td>Atharv</td>\n",
              "      <td>10</td>\n",
              "      <td>India , Asia</td>\n",
              "    </tr>\n",
              "  </tbody>\n",
              "</table>\n",
              "</div>"
            ],
            "text/plain": [
              "  ID ADDRESS       CITY        STATE COUNTRY      NAME EMPLOYEES     CONTINENT\n",
              "0  0     123  Bengaluru    Karnataka   India    Prasad        10  India , Asia\n",
              "1  1     234       Pune  Maharashtra   India    Sakshi         1  India , Asia\n",
              "2  2     345       Pune  Maharashtra   India   Maheema         2  India , Asia\n",
              "3  3     456     Mumbai  Maharashtra   India   Hrutika         3  India , Asia\n",
              "4  4     567     Nagpur  Maharashtra   India  Samiksha         5  India , Asia\n",
              "5  5     678     Nagpur  Maharashtra   India     Akash         8  India , Asia\n",
              "6  6     789       Pune  Maharashtra   India    Anurag         9  India , Asia\n",
              "7  7     891     Nagpur  Maharashtra   India    Atharv        10  India , Asia"
            ]
          },
          "execution_count": 134,
          "metadata": {},
          "output_type": "execute_result"
        }
      ],
      "source": [
        "df9"
      ]
    },
    {
      "cell_type": "code",
      "execution_count": null,
      "id": "7a3c2e6d",
      "metadata": {
        "id": "7a3c2e6d",
        "outputId": "54e2622f-f2cc-4bff-82ec-4c5a01de8504"
      },
      "outputs": [
        {
          "data": {
            "text/plain": [
              "<Axes: xlabel='Name', ylabel='Marks'>"
            ]
          },
          "execution_count": 152,
          "metadata": {},
          "output_type": "execute_result"
        },
        {
          "data": {
            "image/png": "[encoded data removed]",
            "text/plain": [
              "<Figure size 640x480 with 1 Axes>"
            ]
          },
          "metadata": {},
          "output_type": "display_data"
        }
      ],
      "source": [
        "df15.plot.bar(xlabel=\"Name\",ylabel=\"Marks\")"
      ]
    },
    {
      "cell_type": "code",
      "execution_count": null,
      "id": "48140578",
      "metadata": {
        "id": "48140578"
      },
      "outputs": [],
      "source": []
    }
  ],
  "metadata": {
    "kernelspec": {
      "display_name": "Python 3 (ipykernel)",
      "language": "python",
      "name": "python3"
    },
    "language_info": {
      "codemirror_mode": {
        "name": "ipython",
        "version": 3
      },
      "file_extension": ".py",
      "mimetype": "text/x-python",
      "name": "python",
      "nbconvert_exporter": "python",
      "pygments_lexer": "ipython3",
      "version": "3.11.4"
    },
    "colab": {
      "provenance": [],
      "include_colab_link": true
    }
  },
  "nbformat": 4,
  "nbformat_minor": 5
}