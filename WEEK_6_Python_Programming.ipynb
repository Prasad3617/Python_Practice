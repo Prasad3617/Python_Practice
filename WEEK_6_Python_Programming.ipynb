{
  "cells": [
    {
      "cell_type": "markdown",
      "metadata": {
        "id": "view-in-github",
        "colab_type": "text"
      },
      "source": [
        "<a href=\"https://colab.research.google.com/github/Prasad3617/Python_Practice/blob/main/WEEK_6_Python_Programming.ipynb\" target=\"_parent\"><img src=\"https://colab.research.google.com/assets/colab-badge.svg\" alt=\"Open In Colab\"/></a>"
      ]
    },
    {
      "cell_type": "markdown",
      "id": "0f0e7085",
      "metadata": {
        "id": "0f0e7085"
      },
      "source": [
        "# File Input and Output"
      ]
    },
    {
      "cell_type": "markdown",
      "id": "8984e9ec",
      "metadata": {
        "id": "8984e9ec"
      },
      "source": [
        "## program to read the contents of an existing file"
      ]
    },
    {
      "cell_type": "code",
      "execution_count": null,
      "id": "c8afabff",
      "metadata": {
        "id": "c8afabff",
        "outputId": "d178bc8b-6814-414e-99bb-1561b181cf33"
      },
      "outputs": [
        {
          "name": "stdout",
          "output_type": "stream",
          "text": [
            "Hello World!\n",
            "\n",
            "Welcome to Python Programming!\n",
            "\n",
            "We are studying about reading and writing of files!"
          ]
        }
      ],
      "source": [
        "file_object=open(\"messages.txt\",\"r\")       #opening the file in \"read\" mode to read its contents\n",
        "\n",
        "lines=file_object.readlines()              #returning the list of all the lines in the file\n",
        "\n",
        "for line in lines:                         #iterating through the list, one item at a time\n",
        "    print(line,end='')\n",
        "\n",
        "file_object.close()"
      ]
    },
    {
      "cell_type": "markdown",
      "id": "92aa4dfc",
      "metadata": {
        "id": "92aa4dfc"
      },
      "source": [
        "## program to write to a file"
      ]
    },
    {
      "cell_type": "code",
      "execution_count": null,
      "id": "b2e0096b",
      "metadata": {
        "id": "b2e0096b"
      },
      "outputs": [],
      "source": [
        "f=open(\"my_new_file.txt\",\"w\")            #opening a file in \"write\" mode to add contents to it\n",
        "\n",
        "f.write(\"\\nHello from Pyton!\")           #writing to a file\n",
        "f.write(\"\\nWorking with files is easy!\")\n",
        "f.write(\"\\nIt is cool!\")\n",
        "\n",
        "f.close()                                #closing the file, post the writing operation"
      ]
    },
    {
      "cell_type": "code",
      "execution_count": null,
      "id": "7d136c82",
      "metadata": {
        "id": "7d136c82",
        "outputId": "414d0314-5cca-4017-c178-a130e31ebee4"
      },
      "outputs": [
        {
          "name": "stdout",
          "output_type": "stream",
          "text": [
            "\n",
            "Hello from Pyton!\n",
            "Working with files is easy!\n",
            "It is cool!"
          ]
        }
      ],
      "source": [
        "f1=open(\"my_new_file.txt\",\"r\")          #opening the above file created to read its contents\n",
        "\n",
        "lines=f1.readlines()                    #returning the list of all the lines in the file\n",
        "\n",
        "for line in lines:                      #iterating through the list one item at a time\n",
        "    print(line,end='')\n",
        "\n",
        "f1.close()"
      ]
    },
    {
      "cell_type": "markdown",
      "id": "a0db7074",
      "metadata": {
        "id": "a0db7074"
      },
      "source": [
        "## working on the files with the \"with\" statement"
      ]
    },
    {
      "cell_type": "code",
      "execution_count": null,
      "id": "5bc5a7f9",
      "metadata": {
        "id": "5bc5a7f9",
        "outputId": "88261a0e-a630-4683-a729-2bdd9baebed0"
      },
      "outputs": [
        {
          "name": "stdout",
          "output_type": "stream",
          "text": [
            "\n",
            "Hello from Pyton!\n",
            "Working with files is easy!\n",
            "It is cool!"
          ]
        }
      ],
      "source": [
        "with open(\"my_new_file.txt\",\"r\") as f2:\n",
        "    lines=f2.readlines()\n",
        "    for line in lines:\n",
        "        print(line,end='')"
      ]
    },
    {
      "cell_type": "markdown",
      "id": "734d0d29",
      "metadata": {
        "id": "734d0d29"
      },
      "source": [
        "## file attributes"
      ]
    },
    {
      "cell_type": "code",
      "execution_count": null,
      "id": "d0eb4121",
      "metadata": {
        "id": "d0eb4121",
        "outputId": "42fdff15-2323-4c9d-df70-a70a9259cc58"
      },
      "outputs": [
        {
          "name": "stdout",
          "output_type": "stream",
          "text": [
            "My file \"my_new_file.txt\" is closed! : True\n"
          ]
        }
      ],
      "source": [
        "#1. file_object.closed\n",
        "\n",
        "print(\"My file \\\"my_new_file.txt\\\" is closed! :\",f2.closed)"
      ]
    },
    {
      "cell_type": "code",
      "execution_count": null,
      "id": "146157c5",
      "metadata": {
        "id": "146157c5",
        "outputId": "dd6074e4-f75c-42c8-fa0c-434fbcedd885"
      },
      "outputs": [
        {
          "name": "stdout",
          "output_type": "stream",
          "text": [
            "My file \"my_new_file.txt\" is opened in which mode? : w\n"
          ]
        }
      ],
      "source": [
        "#2. file_object.mode\n",
        "\n",
        "f=open(\"my_new_file.txt\",\"w\")  #opening a file to check its mode of operation\n",
        "\n",
        "print(\"My file \\\"my_new_file.txt\\\" is opened in which mode? :\",f.mode)"
      ]
    },
    {
      "cell_type": "code",
      "execution_count": null,
      "id": "da21840f",
      "metadata": {
        "id": "da21840f",
        "outputId": "96ff0f64-84b9-4c80-e0dc-4727b9a4df64"
      },
      "outputs": [
        {
          "name": "stdout",
          "output_type": "stream",
          "text": [
            "The name of the file associated with \"f\" is:  my_new_file.txt\n"
          ]
        }
      ],
      "source": [
        "#3. file_object.name\n",
        "\n",
        "print(\"The name of the file associated with \\\"f\\\" is: \",f.name)"
      ]
    },
    {
      "cell_type": "markdown",
      "id": "6a07bc89",
      "metadata": {
        "id": "6a07bc89"
      },
      "source": [
        "## Random File Access"
      ]
    },
    {
      "cell_type": "code",
      "execution_count": null,
      "id": "836a7203",
      "metadata": {
        "id": "836a7203",
        "outputId": "6dc9397f-77bb-41e0-882c-79cdf4d6ce28"
      },
      "outputs": [
        {
          "data": {
            "text/plain": [
              "5"
            ]
          },
          "execution_count": 96,
          "metadata": {},
          "output_type": "execute_result"
        }
      ],
      "source": [
        "f9=open(\"text1.txt\",\"w\")               #writing to a new text file\n",
        "\n",
        "f9.write(\"\\n12345\")\n",
        "f9.write(\"\\nHey!\")\n",
        "\n",
        "#f9.close"
      ]
    },
    {
      "cell_type": "code",
      "execution_count": null,
      "id": "555723bf",
      "metadata": {
        "id": "555723bf",
        "outputId": "fabe5554-f450-4299-b149-bddc96aa278c"
      },
      "outputs": [
        {
          "data": {
            "text/plain": [
              "6"
            ]
          },
          "execution_count": 97,
          "metadata": {},
          "output_type": "execute_result"
        }
      ],
      "source": [
        "f9.seek(0,2)                       #seeking the pointer to a different location\n",
        "\n",
        "f9.write(\" Dumbo\")"
      ]
    },
    {
      "cell_type": "code",
      "execution_count": null,
      "id": "0c161c89",
      "metadata": {
        "id": "0c161c89",
        "outputId": "f58d94ce-26cc-4ba4-8cf2-3842ba45d2c2"
      },
      "outputs": [
        {
          "name": "stdout",
          "output_type": "stream",
          "text": [
            "\n",
            "12345\n",
            "Hey! Dumbo"
          ]
        }
      ],
      "source": [
        "with open(\"text1.txt\",\"r\") as f9:     #opening the file created earlier to access its contents\n",
        "    f10=f9.readlines()\n",
        "    for line in f10:\n",
        "        print(line,end=\"\")\n"
      ]
    },
    {
      "cell_type": "markdown",
      "id": "c0f0dfaa",
      "metadata": {
        "id": "c0f0dfaa"
      },
      "source": [
        "## Serialization"
      ]
    },
    {
      "cell_type": "code",
      "execution_count": null,
      "id": "79c290a1",
      "metadata": {
        "id": "79c290a1"
      },
      "outputs": [],
      "source": [
        "#converting \"Python\" data to a \"JSON\" file for working with complex data structures like\n",
        "#tuples,lists and dictionaries...\n",
        "\n",
        "#\"dump\" function is used to perform serialization"
      ]
    },
    {
      "cell_type": "code",
      "execution_count": null,
      "id": "6190d222",
      "metadata": {
        "id": "6190d222"
      },
      "outputs": [],
      "source": [
        "import json"
      ]
    },
    {
      "cell_type": "code",
      "execution_count": null,
      "id": "3275210f",
      "metadata": {
        "id": "3275210f"
      },
      "outputs": [],
      "source": [
        "f11=open(\"file11.txt\",\"w\")\n",
        "\n",
        "student={\"name\":\"Ramesh\",\"age\":28,\"percentile\":99.999999}\n",
        "\n",
        "json.dump(student,f11)\n",
        "\n",
        "f11.close()"
      ]
    },
    {
      "cell_type": "markdown",
      "id": "bfd1d168",
      "metadata": {
        "id": "bfd1d168"
      },
      "source": [
        "## Deserialization"
      ]
    },
    {
      "cell_type": "code",
      "execution_count": null,
      "id": "be9f766f",
      "metadata": {
        "id": "be9f766f"
      },
      "outputs": [],
      "source": [
        "#json module is used to convert JSON types, read from the file, into python data, to read its contents\n",
        "\n",
        "#\"load()\" function is used to perform serialization"
      ]
    },
    {
      "cell_type": "code",
      "execution_count": null,
      "id": "d88d4bd7",
      "metadata": {
        "id": "d88d4bd7"
      },
      "outputs": [],
      "source": [
        "import json"
      ]
    },
    {
      "cell_type": "code",
      "execution_count": null,
      "id": "c2979084",
      "metadata": {
        "id": "c2979084",
        "outputId": "6d05dc14-bae6-46d6-ba11-ff6a73c3252d"
      },
      "outputs": [
        {
          "name": "stdout",
          "output_type": "stream",
          "text": [
            "The data which was entered is:  {'name': 'Ramesh', 'age': 28, 'percentile': 99.999999}\n"
          ]
        },
        {
          "data": {
            "text/plain": [
              "<function TextIOWrapper.close()>"
            ]
          },
          "execution_count": 129,
          "metadata": {},
          "output_type": "execute_result"
        }
      ],
      "source": [
        "f11=open(\"file11.txt\",\"r\")\n",
        "\n",
        "student=json.load(f11)\n",
        "\n",
        "print(\"The data which was entered is: \",student)\n",
        "\n",
        "f11.close"
      ]
    },
    {
      "cell_type": "code",
      "execution_count": null,
      "id": "aff58ef1",
      "metadata": {
        "id": "aff58ef1",
        "outputId": "cd36da40-283b-426d-8fe1-f801f11dcdb9"
      },
      "outputs": [
        {
          "name": "stdout",
          "output_type": "stream",
          "text": [
            "The type of student is:  <class 'dict'>\n"
          ]
        }
      ],
      "source": [
        "print(\"The type of student is: \",type(student))"
      ]
    },
    {
      "cell_type": "markdown",
      "id": "aeecf96a",
      "metadata": {
        "id": "aeecf96a"
      },
      "source": [
        "## Directory Operations"
      ]
    },
    {
      "cell_type": "code",
      "execution_count": null,
      "id": "67b03b31",
      "metadata": {
        "id": "67b03b31"
      },
      "outputs": [],
      "source": [
        "import os"
      ]
    },
    {
      "cell_type": "code",
      "execution_count": null,
      "id": "df104e74",
      "metadata": {
        "id": "df104e74",
        "outputId": "a318ee0d-a606-481b-82aa-5a016de33d42"
      },
      "outputs": [
        {
          "name": "stdout",
          "output_type": "stream",
          "text": [
            "The current working directory is os.getcwd(), which is: /\n"
          ]
        }
      ],
      "source": [
        "print(\"The current working directory is os.getcwd(), which is:\", os.getcwd())"
      ]
    },
    {
      "cell_type": "code",
      "execution_count": null,
      "id": "ad6d9927",
      "metadata": {
        "id": "ad6d9927",
        "outputId": "58c3ab9d-f80f-47dd-b42c-066c4d1d81e2"
      },
      "outputs": [
        {
          "name": "stdout",
          "output_type": "stream",
          "text": [
            "\n",
            "The list of the current working directories is: ['home', 'usr', 'bin', 'sbin', '.file', 'etc', 'var', 'Library', 'System', '.VolumeIcon.icns', 'private', '.vol', 'Users', 'Applications', 'opt', 'dev', 'Volumes', 'tmp', 'cores']\n"
          ]
        }
      ],
      "source": [
        "#listdir()\n",
        "\n",
        "print(\"\\nThe list of the current working directories is:\",os.listdir())"
      ]
    },
    {
      "cell_type": "code",
      "execution_count": null,
      "id": "56fc6522",
      "metadata": {
        "id": "56fc6522",
        "outputId": "10ef3b1c-e344-4c69-83e1-8e6769f4a390"
      },
      "outputs": [
        {
          "name": "stdout",
          "output_type": "stream",
          "text": [
            "\n",
            "We create a directory 'My_Directory'\n"
          ]
        },
        {
          "ename": "OSError",
          "evalue": "[Errno 30] Read-only file system: 'My_Directory'",
          "output_type": "error",
          "traceback": [
            "\u001b[0;31m---------------------------------------------------------------------------\u001b[0m",
            "\u001b[0;31mOSError\u001b[0m                                   Traceback (most recent call last)",
            "Cell \u001b[0;32mIn[165], line 4\u001b[0m\n\u001b[1;32m      1\u001b[0m \u001b[38;5;66;03m#mkdir()\u001b[39;00m\n\u001b[1;32m      3\u001b[0m \u001b[38;5;28mprint\u001b[39m(\u001b[38;5;124m\"\u001b[39m\u001b[38;5;130;01m\\n\u001b[39;00m\u001b[38;5;124mWe create a directory \u001b[39m\u001b[38;5;124m'\u001b[39m\u001b[38;5;124mMy_Directory\u001b[39m\u001b[38;5;124m'\u001b[39m\u001b[38;5;124m\"\u001b[39m)\n\u001b[0;32m----> 4\u001b[0m \u001b[43mos\u001b[49m\u001b[38;5;241;43m.\u001b[39;49m\u001b[43mmkdir\u001b[49m\u001b[43m(\u001b[49m\u001b[38;5;124;43m\"\u001b[39;49m\u001b[38;5;124;43mMy_Directory\u001b[39;49m\u001b[38;5;124;43m\"\u001b[39;49m\u001b[43m)\u001b[49m\n",
            "\u001b[0;31mOSError\u001b[0m: [Errno 30] Read-only file system: 'My_Directory'"
          ]
        }
      ],
      "source": [
        "#mkdir()\n",
        "\n",
        "print(\"\\nWe create a directory 'My_Directory'\")\n",
        "os.mkdir(\"My_Directory\")"
      ]
    },
    {
      "cell_type": "code",
      "execution_count": null,
      "id": "cfa238ce",
      "metadata": {
        "id": "cfa238ce",
        "outputId": "bff17da0-df39-456f-8b52-bba6780a95f3"
      },
      "outputs": [
        {
          "name": "stdout",
          "output_type": "stream",
          "text": [
            "\n",
            "The list of the current working directories is: ['home', 'usr', 'bin', 'sbin', '.file', 'etc', 'var', 'Library', 'System', '.VolumeIcon.icns', 'private', '.vol', 'Users', 'Applications', 'opt', 'dev', 'Volumes', 'tmp', 'cores']\n"
          ]
        }
      ],
      "source": [
        "print(\"\\nThe list of the current working directories is:\",os.listdir())"
      ]
    },
    {
      "cell_type": "code",
      "execution_count": null,
      "id": "f3dcd2c7",
      "metadata": {
        "id": "f3dcd2c7",
        "outputId": "aa3ffc20-7e5c-44e8-b266-006fce5f41ea"
      },
      "outputs": [
        {
          "name": "stdout",
          "output_type": "stream",
          "text": [
            "\n",
            "Change the working directory to \"My_Directory\"\n"
          ]
        },
        {
          "ename": "FileNotFoundError",
          "evalue": "[Errno 2] No such file or directory: 'My_Directory'",
          "output_type": "error",
          "traceback": [
            "\u001b[0;31m---------------------------------------------------------------------------\u001b[0m",
            "\u001b[0;31mFileNotFoundError\u001b[0m                         Traceback (most recent call last)",
            "Cell \u001b[0;32mIn[167], line 4\u001b[0m\n\u001b[1;32m      1\u001b[0m \u001b[38;5;66;03m#chdir()\u001b[39;00m\n\u001b[1;32m      3\u001b[0m \u001b[38;5;28mprint\u001b[39m(\u001b[38;5;124m\"\u001b[39m\u001b[38;5;130;01m\\n\u001b[39;00m\u001b[38;5;124mChange the working directory to \u001b[39m\u001b[38;5;130;01m\\\"\u001b[39;00m\u001b[38;5;124mMy_Directory\u001b[39m\u001b[38;5;130;01m\\\"\u001b[39;00m\u001b[38;5;124m\"\u001b[39m)\n\u001b[0;32m----> 4\u001b[0m \u001b[43mos\u001b[49m\u001b[38;5;241;43m.\u001b[39;49m\u001b[43mchdir\u001b[49m\u001b[43m(\u001b[49m\u001b[38;5;124;43m\"\u001b[39;49m\u001b[38;5;124;43mMy_Directory\u001b[39;49m\u001b[38;5;124;43m\"\u001b[39;49m\u001b[43m)\u001b[49m\n",
            "\u001b[0;31mFileNotFoundError\u001b[0m: [Errno 2] No such file or directory: 'My_Directory'"
          ]
        }
      ],
      "source": [
        "#chdir()\n",
        "\n",
        "print(\"\\nChange the working directory to \\\"My_Directory\\\"\")\n",
        "os.chdir(\"My_Directory\")"
      ]
    },
    {
      "cell_type": "code",
      "execution_count": null,
      "id": "3539ccef",
      "metadata": {
        "id": "3539ccef",
        "outputId": "fa870441-b0ce-41ac-ca8f-d8577e850069"
      },
      "outputs": [
        {
          "name": "stdout",
          "output_type": "stream",
          "text": [
            "The current working directory is:  /\n"
          ]
        }
      ],
      "source": [
        "print(\"The current working directory is: \", os.getcwd())"
      ]
    },
    {
      "cell_type": "code",
      "execution_count": null,
      "id": "10cf4773",
      "metadata": {
        "id": "10cf4773",
        "outputId": "27a64f68-1ef1-49c1-8540-8df27c311b9d"
      },
      "outputs": [
        {
          "name": "stdout",
          "output_type": "stream",
          "text": [
            "Changing the current working directory to parent directory.\n"
          ]
        }
      ],
      "source": [
        "print(\"Changing the current working directory to parent directory.\")\n",
        "os.chdir(\"..\")"
      ]
    },
    {
      "cell_type": "code",
      "execution_count": null,
      "id": "10b86383",
      "metadata": {
        "id": "10b86383",
        "outputId": "a38c1917-cbd0-4bf3-bc33-fab9bceaf2ee"
      },
      "outputs": [
        {
          "name": "stdout",
          "output_type": "stream",
          "text": [
            "The current working directory is: /\n"
          ]
        }
      ],
      "source": [
        "print(\"The current working directory is:\", os.getcwd())"
      ]
    },
    {
      "cell_type": "code",
      "execution_count": null,
      "id": "7c23607c",
      "metadata": {
        "id": "7c23607c"
      },
      "outputs": [],
      "source": [
        "#getcwd()"
      ]
    },
    {
      "cell_type": "code",
      "execution_count": null,
      "id": "f4903d40",
      "metadata": {
        "id": "f4903d40"
      },
      "outputs": [],
      "source": [
        "#rmdir()"
      ]
    },
    {
      "cell_type": "markdown",
      "id": "da4fbfcd",
      "metadata": {
        "id": "da4fbfcd"
      },
      "source": [
        "## File copying Application"
      ]
    },
    {
      "cell_type": "code",
      "execution_count": null,
      "id": "aba8f56a",
      "metadata": {
        "id": "aba8f56a",
        "outputId": "4012b99c-78f2-4719-e066-74815e4c236c"
      },
      "outputs": [
        {
          "name": "stdout",
          "output_type": "stream",
          "text": [
            "Enter the name of the input file: messages.txt\n",
            "Enter the name of the destination file: new_messages.txt\n"
          ]
        }
      ],
      "source": [
        "source_file=input(\"Enter the name of the input file: \")\n",
        "\n",
        "destination_file=input(\"Enter the name of the destination file: \")\n",
        "\n",
        "f1=open(source_file,\"r\")\n",
        "f2=open(destination_file,\"w\")\n",
        "\n",
        "while True:\n",
        "    data=f1.read(1)\n",
        "    if data=='':\n",
        "        break\n",
        "\n",
        "    f2.write(data)\n",
        "\n",
        "f1.close()\n",
        "f2.close()"
      ]
    },
    {
      "cell_type": "markdown",
      "id": "46d8a1f1",
      "metadata": {
        "id": "46d8a1f1"
      },
      "source": [
        "## File Apend Application"
      ]
    },
    {
      "cell_type": "code",
      "execution_count": null,
      "id": "2b5b16ff",
      "metadata": {
        "id": "2b5b16ff",
        "outputId": "81566cf2-2776-4e69-a9a7-3964af02c036"
      },
      "outputs": [
        {
          "name": "stdout",
          "output_type": "stream",
          "text": [
            "Enter the name of the input file: text1.txt\n",
            "Enter the name of the destination file: new_file.txt\n"
          ]
        }
      ],
      "source": [
        "source1_file=input(\"Enter the name of the input file: \")\n",
        "\n",
        "destination1_file=input(\"Enter the name of the destination file: \")\n",
        "\n",
        "f1=open(source1_file,\"r\")\n",
        "f2=open(destination1_file,\"a\")\n",
        "\n",
        "while True:\n",
        "    data=f1.read(1)\n",
        "    if data=='':\n",
        "        break\n",
        "\n",
        "    f2.write(data)\n",
        "\n",
        "f1.close()\n",
        "f2.close()"
      ]
    },
    {
      "cell_type": "markdown",
      "id": "5cc7f991",
      "metadata": {
        "id": "5cc7f991"
      },
      "source": [
        "## Modules and Packages"
      ]
    },
    {
      "cell_type": "markdown",
      "id": "aad447a2",
      "metadata": {
        "id": "aad447a2"
      },
      "source": [
        "### Creating a \"Module\""
      ]
    },
    {
      "cell_type": "code",
      "execution_count": null,
      "id": "79a9b06d",
      "metadata": {
        "id": "79a9b06d",
        "outputId": "85f15962-954a-4d91-8b31-35fe01be8177"
      },
      "outputs": [
        {
          "name": "stdout",
          "output_type": "stream",
          "text": [
            "Enter an integer: 12\n",
            "Enter another integer: 12\n",
            "\n",
            "The sum of  12 and 12 is: 24\n",
            "\n",
            "The difference of  12 and 12 is: 0\n",
            "\n",
            "The product of  12 and 12 is: 144\n",
            "\n",
            "The quotient of  12 and 12 is: 1.0\n",
            "\n",
            "The modulus of  12 and 12 is: 0\n"
          ]
        }
      ],
      "source": [
        "import mymath\n",
        "\n",
        "n1=int(input(\"Enter an integer: \"))\n",
        "n2=int(input(\"Enter another integer: \"))\n",
        "\n",
        "print(\"\\nThe sum of \",n1,\"and\",n2,\"is:\",mymath.add(n1,n2))\n",
        "print(\"\\nThe difference of \",n1,\"and\",n2,\"is:\",mymath.diff(n1,n2))\n",
        "print(\"\\nThe product of \",n1,\"and\",n2,\"is:\",mymath.prod(n1,n2))\n",
        "print(\"\\nThe quotient of \",n1,\"and\",n2,\"is:\",mymath.quotient(n1,n2))\n",
        "print(\"\\nThe modulus of \",n1,\"and\",n2,\"is:\",mymath.mod(n1,n2))"
      ]
    },
    {
      "cell_type": "markdown",
      "id": "7e91a02f",
      "metadata": {
        "id": "7e91a02f"
      },
      "source": [
        "### Accessible Module Properties"
      ]
    },
    {
      "cell_type": "code",
      "execution_count": null,
      "id": "0dc61d74",
      "metadata": {
        "id": "0dc61d74",
        "outputId": "34e30fe5-3384-4fe7-892c-9c98aba9b599"
      },
      "outputs": [
        {
          "name": "stdout",
          "output_type": "stream",
          "text": [
            "\n",
            "The name of the module is: mymath\n",
            "\n",
            "The docstring of the \"mymath\" module is:  This module performs basic mathematical operations \n",
            "\n",
            "The name of the file where \"mymath\" is defined is: /Users/prasadbhonde/mymath.py\n"
          ]
        }
      ],
      "source": [
        "print(\"\\nThe name of the module is:\",mymath.__name__)\n",
        "print(\"\\nThe docstring of the \\\"mymath\\\" module is:\",mymath.__doc__)\n",
        "print(\"\\nThe name of the file where \\\"mymath\\\" is defined is:\",mymath.__file__)"
      ]
    },
    {
      "cell_type": "markdown",
      "id": "640f8b87",
      "metadata": {
        "id": "640f8b87"
      },
      "source": [
        "## Sys Module"
      ]
    },
    {
      "cell_type": "markdown",
      "id": "d006bf96",
      "metadata": {
        "id": "d006bf96"
      },
      "source": [
        "#### Accessing the system and witnessing its properties"
      ]
    },
    {
      "cell_type": "code",
      "execution_count": null,
      "id": "3f2e03fc",
      "metadata": {
        "id": "3f2e03fc",
        "outputId": "5ffc0994-7e50-42dd-9b05-67030cca9842"
      },
      "outputs": [
        {
          "name": "stdout",
          "output_type": "stream",
          "text": [
            "\n",
            "Sys Version 3.10.11 (main, Apr 20 2023, 13:58:42) [Clang 14.0.6 ]\n",
            "\n",
            "Sys.MaxSize 9223372036854775807\n",
            "\n",
            "Sys. Path ['/Users/prasadbhonde', '/Users/prasadbhonde/Downloads/anaconda3/envs/ENV_1/lib/python310.zip', '/Users/prasadbhonde/Downloads/anaconda3/envs/ENV_1/lib/python3.10', '/Users/prasadbhonde/Downloads/anaconda3/envs/ENV_1/lib/python3.10/lib-dynload', '', '/Users/prasadbhonde/Downloads/anaconda3/envs/ENV_1/lib/python3.10/site-packages']\n",
            "\n",
            "Sys.Platform darwin\n"
          ]
        }
      ],
      "source": [
        "import sys\n",
        "\n",
        "print(\"\\nSys Version\",sys.version)\n",
        "\n",
        "print(\"\\nSys.MaxSize\",sys.maxsize)\n",
        "\n",
        "print(\"\\nSys. Path\",sys.path)\n",
        "\n",
        "print(\"\\nSys.Platform\",sys.platform)"
      ]
    },
    {
      "cell_type": "markdown",
      "id": "ed852a48",
      "metadata": {
        "id": "ed852a48"
      },
      "source": [
        "## Packages"
      ]
    },
    {
      "cell_type": "markdown",
      "id": "e1972e2f",
      "metadata": {
        "id": "e1972e2f"
      },
      "source": [
        "#### Python allows programmers to organize modules together into packages, in a hierarchical structure, which is based on directories"
      ]
    },
    {
      "cell_type": "markdown",
      "id": "80ff2687",
      "metadata": {
        "id": "80ff2687"
      },
      "source": [
        "#### A directory containing one or more Python source files"
      ]
    },
    {
      "cell_type": "code",
      "execution_count": null,
      "id": "8f72591d",
      "metadata": {
        "id": "8f72591d",
        "outputId": "baaa2575-2b4c-430c-80d2-06d63637d8a4"
      },
      "outputs": [
        {
          "name": "stdout",
          "output_type": "stream",
          "text": [
            "\n",
            "Welcome to Python Programming\n",
            "\n",
            "::: Welcome to python programming!\n",
            "\n",
            " :::Welcome to the my_math module::: \n"
          ]
        }
      ],
      "source": [
        "import MyPack.mystr as ms\n",
        "\n",
        "from MyPack.mymath1 import *"
      ]
    },
    {
      "cell_type": "code",
      "execution_count": null,
      "id": "d07a8c3c",
      "metadata": {
        "id": "d07a8c3c",
        "outputId": "c8fec5b3-5b46-440a-87d9-46d939c23bd4"
      },
      "outputs": [
        {
          "name": "stdout",
          "output_type": "stream",
          "text": [
            "\n",
            "Enter a String:abcdefgh\n",
            "\n",
            "Enter another String:12345678\n"
          ]
        }
      ],
      "source": [
        "str1=input(\"\\nEnter a String:\")\n",
        "\n",
        "str2=input(\"\\nEnter another String:\")"
      ]
    },
    {
      "cell_type": "code",
      "execution_count": null,
      "id": "bcda72ca",
      "metadata": {
        "id": "bcda72ca",
        "outputId": "c2e42788-45f0-4c3b-d54f-f8ebf8a52d6e"
      },
      "outputs": [
        {
          "name": "stdout",
          "output_type": "stream",
          "text": [
            "\n",
            "The length of abcdefgh is: 8\n",
            "\n",
            "The length of 12345678 is: 8\n"
          ]
        }
      ],
      "source": [
        "print(\"\\nThe length of\",str1,\"is:\",ms.str_len(str1))\n",
        "print(\"\\nThe length of\",str2,\"is:\",ms.str_len(str2))"
      ]
    },
    {
      "cell_type": "code",
      "execution_count": null,
      "id": "b12fe919",
      "metadata": {
        "id": "b12fe919",
        "outputId": "07505bfa-662a-43e3-da1a-d04600a11066"
      },
      "outputs": [
        {
          "name": "stdout",
          "output_type": "stream",
          "text": [
            "\n",
            "The result of String Comparision is: False\n",
            "\n",
            "The concatenation of abcdefgh and 12345678 is: abcdefgh12345678\n"
          ]
        }
      ],
      "source": [
        "print(\"\\nThe result of String Comparision is:\",ms.str_cmp(str1,str2))\n",
        "print(\"\\nThe concatenation of\",str1,\"and\",str2,\"is:\",ms.str_cat(str1,str2))"
      ]
    },
    {
      "cell_type": "code",
      "execution_count": null,
      "id": "c0d99460",
      "metadata": {
        "id": "c0d99460",
        "outputId": "b666c545-dc29-4284-e66e-14d378ae8584"
      },
      "outputs": [
        {
          "name": "stdout",
          "output_type": "stream",
          "text": [
            "\n",
            "Enter the filename: messages.txt\n",
            "\n",
            "The size of the file messages.txt is: (97, 'bytes')\n"
          ]
        }
      ],
      "source": [
        "import MyPack.MyFile as mf\n",
        "\n",
        "filename=input(\"\\nEnter the filename: \")\n",
        "print(\"\\nThe size of the file\",filename,\"is:\",mf.file_size(filename))"
      ]
    },
    {
      "cell_type": "code",
      "execution_count": null,
      "id": "6fbc562e",
      "metadata": {
        "id": "6fbc562e"
      },
      "outputs": [],
      "source": []
    }
  ],
  "metadata": {
    "kernelspec": {
      "display_name": "Python 3 (ipykernel)",
      "language": "python",
      "name": "python3"
    },
    "language_info": {
      "codemirror_mode": {
        "name": "ipython",
        "version": 3
      },
      "file_extension": ".py",
      "mimetype": "text/x-python",
      "name": "python",
      "nbconvert_exporter": "python",
      "pygments_lexer": "ipython3",
      "version": "3.10.11"
    },
    "colab": {
      "provenance": [],
      "include_colab_link": true
    }
  },
  "nbformat": 4,
  "nbformat_minor": 5
}