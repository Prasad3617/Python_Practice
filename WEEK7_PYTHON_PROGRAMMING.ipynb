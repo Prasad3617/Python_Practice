{
  "cells": [
    {
      "cell_type": "markdown",
      "metadata": {
        "id": "view-in-github",
        "colab_type": "text"
      },
      "source": [
        "<a href=\"https://colab.research.google.com/github/Prasad3617/Python_Practice/blob/main/WEEK7_PYTHON_PROGRAMMING.ipynb\" target=\"_parent\"><img src=\"https://colab.research.google.com/assets/colab-badge.svg\" alt=\"Open In Colab\"/></a>"
      ]
    },
    {
      "cell_type": "markdown",
      "id": "47dc8c6b",
      "metadata": {
        "id": "47dc8c6b"
      },
      "source": [
        "# Classes and Objects"
      ]
    },
    {
      "cell_type": "code",
      "execution_count": null,
      "id": "f7f01570",
      "metadata": {
        "id": "f7f01570"
      },
      "outputs": [],
      "source": [
        "# an example Employee class to demonstrate the class and objects\n",
        "\n",
        "class Employee:\n",
        "    def set_data(self,n,a,s):\n",
        "        self._name=n\n",
        "        self._age=a\n",
        "        self._salary=s\n",
        "    def display_data(self):\n",
        "        print(\"Name:\",self._name)\n",
        "        print(\"Age:\",self._age)\n",
        "        print(\"Salary:\",self._salary)"
      ]
    },
    {
      "cell_type": "code",
      "execution_count": null,
      "id": "b13ac646",
      "metadata": {
        "id": "b13ac646"
      },
      "outputs": [],
      "source": [
        "# create objects of Employee class\n",
        "\n",
        "e1=Employee()\n",
        "e1.set_data(\"Ramesh\",25,23000)\n",
        "e2=Employee()\n",
        "e2.set_data(\"Suresh\",23,21000)"
      ]
    },
    {
      "cell_type": "code",
      "execution_count": null,
      "id": "c1b2200f",
      "metadata": {
        "id": "c1b2200f"
      },
      "outputs": [],
      "source": [
        "#displaying the data"
      ]
    },
    {
      "cell_type": "code",
      "execution_count": null,
      "id": "f95093d8",
      "metadata": {
        "id": "f95093d8",
        "outputId": "3d97675b-0beb-4459-fc0e-69fabb3ea561"
      },
      "outputs": [
        {
          "name": "stdout",
          "output_type": "stream",
          "text": [
            "Name: Ramesh\n",
            "Age: 25\n",
            "Salary: 23000\n"
          ]
        }
      ],
      "source": [
        "e1.display_data()"
      ]
    },
    {
      "cell_type": "code",
      "execution_count": null,
      "id": "9335808a",
      "metadata": {
        "id": "9335808a",
        "outputId": "2db42a02-4e47-4bf4-9fa9-6fc955085fbd"
      },
      "outputs": [
        {
          "name": "stdout",
          "output_type": "stream",
          "text": [
            "Name: Suresh\n",
            "Age: 23\n",
            "Salary: 21000\n"
          ]
        }
      ],
      "source": [
        "e2.display_data()"
      ]
    },
    {
      "cell_type": "code",
      "execution_count": null,
      "id": "e1a018be",
      "metadata": {
        "id": "e1a018be"
      },
      "outputs": [],
      "source": []
    }
  ],
  "metadata": {
    "kernelspec": {
      "display_name": "Python 3 (ipykernel)",
      "language": "python",
      "name": "python3"
    },
    "language_info": {
      "codemirror_mode": {
        "name": "ipython",
        "version": 3
      },
      "file_extension": ".py",
      "mimetype": "text/x-python",
      "name": "python",
      "nbconvert_exporter": "python",
      "pygments_lexer": "ipython3",
      "version": "3.11.3"
    },
    "colab": {
      "provenance": [],
      "include_colab_link": true
    }
  },
  "nbformat": 4,
  "nbformat_minor": 5
}