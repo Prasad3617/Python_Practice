{
  "nbformat": 4,
  "nbformat_minor": 0,
  "metadata": {
    "colab": {
      "provenance": [],
      "authorship_tag": "ABX9TyO9hwNVwzYhYmxnmeirggzb",
      "include_colab_link": true
    },
    "kernelspec": {
      "name": "python3",
      "display_name": "Python 3"
    },
    "language_info": {
      "name": "python"
    }
  },
  "cells": [
    {
      "cell_type": "markdown",
      "metadata": {
        "id": "view-in-github",
        "colab_type": "text"
      },
      "source": [
        "<a href=\"https://colab.research.google.com/github/Prasad3617/Python_Practice/blob/main/Creating_and_accessing_elements_within_a_Tuple.ipynb\" target=\"_parent\"><img src=\"https://colab.research.google.com/assets/colab-badge.svg\" alt=\"Open In Colab\"/></a>"
      ]
    },
    {
      "cell_type": "markdown",
      "source": [
        "# \"Tuples\" as a datastructure in python programming language.\n",
        "\n"
      ],
      "metadata": {
        "id": "aPMdlSzChwkk"
      }
    },
    {
      "cell_type": "code",
      "source": [
        "tup1=[1,3,5,7,9]                            #creating a tuple.\n",
        "print(\"The tuple created is: \",tup1)        #printing the tuple created."
      ],
      "metadata": {
        "colab": {
          "base_uri": "https://localhost:8080/"
        },
        "id": "GydZ5G4eh7e9",
        "outputId": "a07bfd05-da52-43b5-927b-0d148a2911ab"
      },
      "execution_count": 1,
      "outputs": [
        {
          "output_type": "stream",
          "name": "stdout",
          "text": [
            "The tuple created is:  [1, 3, 5, 7, 9]\n"
          ]
        }
      ]
    },
    {
      "cell_type": "code",
      "source": [
        "l1=[0,2,4,6,8]                                                                      #creating a list.\n",
        "\n",
        "tup2=tuple(l1)                                                                      #creating a 'tuple', 'tup2' out of a 'list' 'l1'.\n",
        "print(\"The tuple created from a list 'l1' is:\",tup2)                                #printing the tuple created from a list.\n",
        "\n",
        "print(\"\\nThe datatypes of 'l1' and 'tup2' are:\",type(l1),type(tup2),\"respectively.\")  #printing the datatypes of 'l1' and 'tup2'"
      ],
      "metadata": {
        "colab": {
          "base_uri": "https://localhost:8080/"
        },
        "id": "bOB7VG88iUrS",
        "outputId": "3d6439c7-21e7-403d-df66-e03d6f68ced1"
      },
      "execution_count": 6,
      "outputs": [
        {
          "output_type": "stream",
          "name": "stdout",
          "text": [
            "The tuple created from a list 'l1' is: (0, 2, 4, 6, 8)\n",
            "\n",
            "The datatypes of 'l1' and 'tup2' are: <class 'list'> <class 'tuple'> respectively.\n"
          ]
        }
      ]
    },
    {
      "cell_type": "markdown",
      "source": [
        "## Accessing elements of a tuple"
      ],
      "metadata": {
        "id": "FpT1jN_SkDYP"
      }
    },
    {
      "cell_type": "code",
      "source": [
        "print(\"The tuple 'tup2' is:\",tup2)                          #printing the tuple 'tup2'.\n",
        "\n",
        "print(\"\\ntup2[0] is:\",tup2[0])                                #accesing the first four elements of the tuple 'tup2'\n",
        "print(\"\\ntup2[1] is:\",tup2[1])\n",
        "print(\"\\ntup2[2] is:\",tup2[2])\n",
        "print(\"\\ntup2[3] is:\",tup2[3])"
      ],
      "metadata": {
        "colab": {
          "base_uri": "https://localhost:8080/"
        },
        "id": "nvcLhTOXkHiE",
        "outputId": "4ac7c654-c8ca-48d4-f2a7-77c411f59a2d"
      },
      "execution_count": 8,
      "outputs": [
        {
          "output_type": "stream",
          "name": "stdout",
          "text": [
            "The tuple 'tup2' is: (0, 2, 4, 6, 8)\n",
            "\n",
            "tup2[0] is: 0\n",
            "\n",
            "tup2[1] is: 2\n",
            "\n",
            "tup2[2] is: 4\n",
            "\n",
            "tup2[3] is: 6\n"
          ]
        }
      ]
    }
  ]
}