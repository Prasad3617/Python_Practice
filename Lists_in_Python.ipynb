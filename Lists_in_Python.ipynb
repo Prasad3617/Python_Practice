{
  "nbformat": 4,
  "nbformat_minor": 0,
  "metadata": {
    "colab": {
      "provenance": [],
      "authorship_tag": "ABX9TyNj4NgF5qQzbGShMW4oCdDv",
      "include_colab_link": true
    },
    "kernelspec": {
      "name": "python3",
      "display_name": "Python 3"
    },
    "language_info": {
      "name": "python"
    }
  },
  "cells": [
    {
      "cell_type": "markdown",
      "metadata": {
        "id": "view-in-github",
        "colab_type": "text"
      },
      "source": [
        "<a href=\"https://colab.research.google.com/github/Prasad3617/Python_Practice/blob/main/Lists_in_Python.ipynb\" target=\"_parent\"><img src=\"https://colab.research.google.com/assets/colab-badge.svg\" alt=\"Open In Colab\"/></a>"
      ]
    },
    {
      "cell_type": "markdown",
      "source": [
        "# \"Lists\"\n",
        "\n",
        "### \"List(s)\" is one of the collection datatype, which acts as a container for other data types.\n",
        "\n",
        "\"Lists\" are ordered, mutable containers.\n",
        "\n",
        "\"mutable\" means we can add, remove and modify the elements within a list. "
      ],
      "metadata": {
        "id": "WLw6nBoK2JOd"
      }
    },
    {
      "cell_type": "code",
      "source": [
        "l1=[10,20,30,40]                                                                        #declaring a list of similar datatypes.\n",
        "print(\"List one\",l1)                                                                    #printing the 'list' declared earlier.\n",
        "print(\"\\nThe type of l1 is:\",type(l1))                                                  #printing the datatype of the list.\n",
        "\n",
        "l2=[\"Dumbo\",2.5,6,[11,12]]                                                              #declaring another list whihch is a mixture of different datatypes\n",
        "print(\"\\nThe second list is:\",l2,\".\\nAs you can observe this list contains element of different data types: 'integer','float,'string' and a 'nested list'\")  #printing the list\n",
        "\n",
        "l3=[]                                                                                   #declaring an empty list\n",
        "print(\"\\nThe third list is:\",l3,\".\\nAs you can observe this is an empty list.\")         #printing the empy list\n",
        "l3=[\"Dumbo\",\"B.Tech(Mech.)\",13414424]                                                   #modifying the empty list\n",
        "print(\"\\nThe empty list'l3' after modification is:\",l3,\".\\nAs you can observe above, lists are mutable i.e. we can add,delete and modify the elements within a list.\")  #printing the list\n",
        "\n",
        "s=\"Hello World!\"                                                                        #declaring a string\n",
        "l4=list(s)                                                                              #converting the string to a list using the 'list()' method.\n",
        "print(\"\\nThe string is:\",s)                                                             #printing the 'string'\n",
        "print(\"The string after modification to a list is:\",l4)                                  #printing the converted string i.e. a list\n",
        "\n",
        "print(\"\\nAdditionaly, we can get to know the 'length' of list(s). \\nLets see the lengths of the list(s) we declared till now.\")\n",
        "print(\"\\n The lengths of list(s) we declared earlier, 'l1','l2','l3','l4', are: \",len(l1),len(l2),len(l3),len(l4))          #printing the lngth of the different lists declared/modified above."
      ],
      "metadata": {
        "colab": {
          "base_uri": "https://localhost:8080/"
        },
        "id": "HMs_346921JN",
        "outputId": "7b57c35a-fa98-437f-c69b-1b82b61f3498"
      },
      "execution_count": 9,
      "outputs": [
        {
          "output_type": "stream",
          "name": "stdout",
          "text": [
            "List one [10, 20, 30, 40]\n",
            "\n",
            "The type of l1 is: <class 'list'>\n",
            "\n",
            "The second list is: ['Dumbo', 2.5, 6, [11, 12]] .\n",
            "As you can observe this list contains element of different data types: 'integer','float,'string' and a 'nested list'\n",
            "\n",
            "The third list is: [] .\n",
            "As you can observe this is an empty list.\n",
            "\n",
            "The empty list'l3' after modification is: ['Dumbo', 'B.Tech(Mech.)', 13414424] .\n",
            "As you can observe above, lists are mutable i.e. we can add,delete and modify the elements within a list.\n",
            "\n",
            "The string is: Hello World!\n",
            "The string after modification to a list is: ['H', 'e', 'l', 'l', 'o', ' ', 'W', 'o', 'r', 'l', 'd', '!']\n",
            "\n",
            "Additionaly, we can get to know the 'length' of list(s). \n",
            "Lets see the lengths of the list(s) we declared till now.\n",
            "\n",
            " The lengths of list(s) we declared earlier, 'l1','l2','l3','l4', are:  4 4 3 12\n"
          ]
        }
      ]
    },
    {
      "cell_type": "markdown",
      "source": [
        "## Accessing elements within a list\n",
        "\n",
        "#### Accessing elements within a list is very similar to accessing elements within a string.\n",
        "\n",
        "#### 'Indexes' are made use of while accessing the elements.\n",
        "##### \"positive indexes\" including '0' will return the elements sequentially.\n",
        "\n",
        "#####\"negative indexes\" will return the elements in the reverse order."
      ],
      "metadata": {
        "id": "MXMgwRx6B64W"
      }
    },
    {
      "cell_type": "code",
      "source": [
        "print(\"\\nThe etire list is:\",l3)                             #printing entire list\n",
        "print(\"\\nThe second element of the list is:\",l3[1])          #python has indexing beinning from '0' therefore 'l3[1]' will retrun '1+1' i.e. '2nd' element within the list. \n",
        "print(\"\\nThe first element within a list is:\"l3[0])\n",
        "print(\"\\n The last element within a list is:\",l3[-1])        #accessing element(s) with last index gives us elements in reverse order for eg: list[-1] will return the last element and lis[-2] will return second last element within the same list."
      ],
      "metadata": {
        "colab": {
          "base_uri": "https://localhost:8080/"
        },
        "id": "4nL4A1RyCAU8",
        "outputId": "19d00b45-8090-4ad0-e87f-832d7cc29ddc"
      },
      "execution_count": 10,
      "outputs": [
        {
          "output_type": "stream",
          "name": "stdout",
          "text": [
            "\n",
            "The etire list is: ['Dumbo', 'B.Tech(Mech.)', 13414424]\n",
            "\n",
            "The second element of the list is: B.Tech(Mech.)\n"
          ]
        }
      ]
    },
    {
      "cell_type": "markdown",
      "source": [
        "## \"List Slicing\"\n",
        "\n",
        "\n"
      ],
      "metadata": {
        "id": "Wn2o4rhOEU40"
      }
    },
    {
      "cell_type": "code",
      "source": [
        "p=\"Hello World!\"                                                                              #declaring a 'string'\n",
        "l5=list(p)                                                                                    #converting the 'string' into a 'list'\n",
        "\n",
        "print(\"\\nThe entire list is:\",l5)                                                             #printing the 'entire list'\n",
        "print(\"\\nThe list slicing, 'l5[1:5]' is:\",l5[1:5])                                            #performing the list slicing operation\n",
        "print(\"\\nThe list slicing 'l5[:6]' is:\",l5[:6])\n",
        "print(\"\\nThe list slicing'l5[3:]' is:\",l5[3:])\n",
        "print(\"\\nThe list slicing 'l5[:]' is:\",l5[:],\"\\nAs you can observe the entire list 'l5' is returned if both the indexes during slicing aren't entered.\")\n",
        "print(\"\\nThe entire string in 'reverse order' can be obtained as follows:\",l5[::-1])          #'Negaive Index' is used to get the list in reverse order\n"
      ],
      "metadata": {
        "colab": {
          "base_uri": "https://localhost:8080/"
        },
        "id": "WGtSbe3BEaEn",
        "outputId": "e839b0c2-d11c-4654-ec20-272239033c0a"
      },
      "execution_count": 14,
      "outputs": [
        {
          "output_type": "stream",
          "name": "stdout",
          "text": [
            "\n",
            "The entire list is: ['H', 'e', 'l', 'l', 'o', ' ', 'W', 'o', 'r', 'l', 'd', '!']\n",
            "\n",
            "The list slicing, 'l5[1:5]' is: ['e', 'l', 'l', 'o']\n",
            "\n",
            "The list slicing 'l5[:6]' is: ['H', 'e', 'l', 'l', 'o', ' ']\n",
            "\n",
            "The list slicing'l5[3:]' is: ['l', 'o', ' ', 'W', 'o', 'r', 'l', 'd', '!']\n",
            "\n",
            "The list slicing 'l5[:]' is: ['H', 'e', 'l', 'l', 'o', ' ', 'W', 'o', 'r', 'l', 'd', '!'] \n",
            "As you can observe the entire list 'l5' is returned if both the indexes during slicing aren't entered.\n",
            "\n",
            "The entire string in 'reverse order' can be obtained as follows: ['!', 'd', 'l', 'r', 'o', 'W', ' ', 'o', 'l', 'l', 'e', 'H']\n"
          ]
        }
      ]
    },
    {
      "cell_type": "markdown",
      "source": [
        "## Modifying List Elements"
      ],
      "metadata": {
        "id": "OnEnXxebHVpF"
      }
    },
    {
      "cell_type": "code",
      "source": [
        "print(\"'l5' = \", l5)                                          #printing the entire list.\n",
        "l5[0]=\"Y\"                                                     #Mutating/Modifying the same list       \n",
        "print(\"\\nThe modified list after mutating an element is:\",l5)  #printing the modified list\n",
        "\n",
        "l6=l5+l4                                                      #list concatenation\n",
        "print(\"\\nThe modifies, concatenated list 'l6' is: \",l6)        #printing the concatenated list"
      ],
      "metadata": {
        "colab": {
          "base_uri": "https://localhost:8080/"
        },
        "id": "EINQuBIRHfwi",
        "outputId": "7deca045-79b1-4663-94c1-c1dc86eec7b8"
      },
      "execution_count": 15,
      "outputs": [
        {
          "output_type": "stream",
          "name": "stdout",
          "text": [
            "'l5' =  ['H', 'e', 'l', 'l', 'o', ' ', 'W', 'o', 'r', 'l', 'd', '!']\n",
            "\n",
            "The modified list after mutating an element is: ['Y', 'e', 'l', 'l', 'o', ' ', 'W', 'o', 'r', 'l', 'd', '!']\n",
            "\n",
            "The modifies, concatenated list 'l6' is:  ['Y', 'e', 'l', 'l', 'o', ' ', 'W', 'o', 'r', 'l', 'd', '!', 'H', 'e', 'l', 'l', 'o', ' ', 'W', 'o', 'r', 'l', 'd', '!']\n"
          ]
        }
      ]
    }
  ]
}