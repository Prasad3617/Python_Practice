{
  "cells": [
    {
      "cell_type": "markdown",
      "metadata": {
        "id": "view-in-github",
        "colab_type": "text"
      },
      "source": [
        "<a href=\"https://colab.research.google.com/github/Prasad3617/Python_Practice/blob/main/Practice_Problems_in_Python.ipynb\" target=\"_parent\"><img src=\"https://colab.research.google.com/assets/colab-badge.svg\" alt=\"Open In Colab\"/></a>"
      ]
    },
    {
      "cell_type": "markdown",
      "id": "e52716d1",
      "metadata": {
        "id": "e52716d1"
      },
      "source": [
        "## Practice Problems\n",
        "\n",
        "\n",
        "#### 1.\"Write a function that determines whether or not a list of values is in sorted order (either ascending or descending). The function should return True if the list is already sorted. Otherwise it should return False. Write a main program that reads a list of numbers from the user and then uses your function to report whether or not the list is sorted.\"\n",
        "\n",
        "#### 2.\"Write a program that takes two dictionaries and concatenates them into one dictionary.\"\n",
        "\n",
        "#### 3. \"Create the following lists using a for loop. \n",
        "####      (a) A list consisting of the integers 0 through 49\n",
        "####      (b) A list containing the squares of the integers 1 through 50. \n",
        "####      (c) The list ['a','bb','ccc','dddd', . . . ] that ends with 26 copies of the letter z.\"\n",
        "\n",
        "#### 4.\"Write a program that takes a dictionary and prints the sum of all the items in the dictionary.\"\n",
        "\n",
        "#### 5.\"Write a Python Program to search the number of times a particular number occurs in a list.\"\n",
        "\n",
        "#### 6.\"Write a Python Program to create a dictionary with key as first character and value as words starting with that character.\"\n",
        "\n",
        "#### 7.\"Write a program that removes any repeated items from a list so that each item appears at most once. For instance, the list [1,1,2,3,4,3,0,0] would become [1,2,3,4,0].\"\n",
        "\n",
        "#### 8.\"Write a Python program to get the most frequent element in a given list of numbers.\"\n",
        "\n",
        "#### 9. \"Write a Python Program to remove the ith occurrence of the given word in list where words can repeat.\"\n",
        "\n",
        "#### 10.\"Write a program to check whether a given string is Heterogram or not. A heterogram is a word, phrase, or sentence in which no letter of the alphabet occurs more than once.\"\n",
        "\n",
        "#### 11.\"Write a program that asks the user to enter a list of at least six items. Then create a new list that consists of the first five things of the user’s list, but in reverse order, and then has the rest of the user’s list unchanged. For instance, if the user enters [2,4,7,8,9,14,15,16], then the new list should be [9,8,7,4,2,14,15,16].\"\n",
        "\n",
        "#### 12.\"Given two lists a, b. Check if two lists have at least one element common in them.\"\n",
        "\n",
        "#### 13.\"Write a Python Program to print the largest even and largest odd number in a list.\"\n",
        "\n",
        "#### 14.\"Write a Python program to get the most frequent element in a given list of numbers.\"\n",
        "\n",
        "#### 15.\"Write a Python Program to read a list of words and return the length of the longest one.\""
      ]
    },
    {
      "cell_type": "markdown",
      "id": "32c7c248",
      "metadata": {
        "id": "32c7c248"
      },
      "source": [
        "## code below"
      ]
    },
    {
      "cell_type": "markdown",
      "id": "12cbfa3a",
      "metadata": {
        "id": "12cbfa3a"
      },
      "source": [
        "#### 1. \"Write a function that determines whether or not a list of values is in sorted order (either ascending or descending). The function should return True if the list is already sorted. Otherwise it should return False. Write a main program that reads a list of numbers from the user and then uses your function to report whether or not the list is sorted.\""
      ]
    },
    {
      "cell_type": "code",
      "execution_count": null,
      "id": "dbd2d672",
      "metadata": {
        "id": "dbd2d672",
        "outputId": "08830577-8e3c-4d91-ad1e-d71fcc7fd8be"
      },
      "outputs": [
        {
          "name": "stdout",
          "output_type": "stream",
          "text": [
            "False\n"
          ]
        },
        {
          "ename": "KeyboardInterrupt",
          "evalue": "Interrupted by user",
          "output_type": "error",
          "traceback": [
            "\u001b[0;31m---------------------------------------------------------------------------\u001b[0m",
            "\u001b[0;31mKeyboardInterrupt\u001b[0m                         Traceback (most recent call last)",
            "Cell \u001b[0;32mIn[9], line 4\u001b[0m\n\u001b[1;32m      1\u001b[0m list2\u001b[38;5;241m=\u001b[39m[\u001b[38;5;241m1\u001b[39m,\u001b[38;5;241m2\u001b[39m,\u001b[38;5;241m3\u001b[39m,\u001b[38;5;241m5\u001b[39m,\u001b[38;5;241m9\u001b[39m,\u001b[38;5;241m4\u001b[39m,\u001b[38;5;241m6\u001b[39m,\u001b[38;5;241m7\u001b[39m,\u001b[38;5;241m8\u001b[39m]\n\u001b[1;32m      2\u001b[0m \u001b[38;5;28mprint\u001b[39m(\u001b[38;5;124m\"\u001b[39m\u001b[38;5;124mTrue\u001b[39m\u001b[38;5;124m\"\u001b[39m \u001b[38;5;28;01mif\u001b[39;00m list2\u001b[38;5;241m==\u001b[39mlist2\u001b[38;5;241m.\u001b[39msort(reverse\u001b[38;5;241m=\u001b[39m\u001b[38;5;28;01mTrue\u001b[39;00m\u001b[38;5;241m|\u001b[39m\u001b[38;5;28;01mFalse\u001b[39;00m) \u001b[38;5;28;01melse\u001b[39;00m \u001b[38;5;124m\"\u001b[39m\u001b[38;5;124mFalse\u001b[39m\u001b[38;5;124m\"\u001b[39m)\n\u001b[0;32m----> 4\u001b[0m var1\u001b[38;5;241m=\u001b[39m(\u001b[38;5;28minput\u001b[39m(\u001b[38;5;124m\"\u001b[39m\u001b[38;5;130;01m\\n\u001b[39;00m\u001b[38;5;124mEnter some numbers to be input into the list: \u001b[39m\u001b[38;5;124m\"\u001b[39m))\n\u001b[1;32m      5\u001b[0m list2\u001b[38;5;241m=\u001b[39m[]\n\u001b[1;32m      6\u001b[0m list2\u001b[38;5;241m=\u001b[39m[list2\u001b[38;5;241m.\u001b[39mappend(i) \u001b[38;5;28;01mfor\u001b[39;00m i \u001b[38;5;129;01min\u001b[39;00m \u001b[38;5;28mrange\u001b[39m(\u001b[38;5;28mlen\u001b[39m(var1)) \u001b[38;5;28;01mif\u001b[39;00m var1[i]\u001b[38;5;241m.\u001b[39misdigit()\u001b[38;5;241m==\u001b[39m\u001b[38;5;28;01mTrue\u001b[39;00m]\n",
            "File \u001b[0;32m~/opt/anaconda3/envs/env_1/lib/python3.11/site-packages/ipykernel/kernelbase.py:1175\u001b[0m, in \u001b[0;36mKernel.raw_input\u001b[0;34m(self, prompt)\u001b[0m\n\u001b[1;32m   1171\u001b[0m \u001b[38;5;28;01mif\u001b[39;00m \u001b[38;5;129;01mnot\u001b[39;00m \u001b[38;5;28mself\u001b[39m\u001b[38;5;241m.\u001b[39m_allow_stdin:\n\u001b[1;32m   1172\u001b[0m     \u001b[38;5;28;01mraise\u001b[39;00m StdinNotImplementedError(\n\u001b[1;32m   1173\u001b[0m         \u001b[38;5;124m\"\u001b[39m\u001b[38;5;124mraw_input was called, but this frontend does not support input requests.\u001b[39m\u001b[38;5;124m\"\u001b[39m\n\u001b[1;32m   1174\u001b[0m     )\n\u001b[0;32m-> 1175\u001b[0m \u001b[38;5;28;01mreturn\u001b[39;00m \u001b[38;5;28mself\u001b[39m\u001b[38;5;241m.\u001b[39m_input_request(\n\u001b[1;32m   1176\u001b[0m     \u001b[38;5;28mstr\u001b[39m(prompt),\n\u001b[1;32m   1177\u001b[0m     \u001b[38;5;28mself\u001b[39m\u001b[38;5;241m.\u001b[39m_parent_ident[\u001b[38;5;124m\"\u001b[39m\u001b[38;5;124mshell\u001b[39m\u001b[38;5;124m\"\u001b[39m],\n\u001b[1;32m   1178\u001b[0m     \u001b[38;5;28mself\u001b[39m\u001b[38;5;241m.\u001b[39mget_parent(\u001b[38;5;124m\"\u001b[39m\u001b[38;5;124mshell\u001b[39m\u001b[38;5;124m\"\u001b[39m),\n\u001b[1;32m   1179\u001b[0m     password\u001b[38;5;241m=\u001b[39m\u001b[38;5;28;01mFalse\u001b[39;00m,\n\u001b[1;32m   1180\u001b[0m )\n",
            "File \u001b[0;32m~/opt/anaconda3/envs/env_1/lib/python3.11/site-packages/ipykernel/kernelbase.py:1217\u001b[0m, in \u001b[0;36mKernel._input_request\u001b[0;34m(self, prompt, ident, parent, password)\u001b[0m\n\u001b[1;32m   1214\u001b[0m             \u001b[38;5;28;01mbreak\u001b[39;00m\n\u001b[1;32m   1215\u001b[0m \u001b[38;5;28;01mexcept\u001b[39;00m \u001b[38;5;167;01mKeyboardInterrupt\u001b[39;00m:\n\u001b[1;32m   1216\u001b[0m     \u001b[38;5;66;03m# re-raise KeyboardInterrupt, to truncate traceback\u001b[39;00m\n\u001b[0;32m-> 1217\u001b[0m     \u001b[38;5;28;01mraise\u001b[39;00m \u001b[38;5;167;01mKeyboardInterrupt\u001b[39;00m(\u001b[38;5;124m\"\u001b[39m\u001b[38;5;124mInterrupted by user\u001b[39m\u001b[38;5;124m\"\u001b[39m) \u001b[38;5;28;01mfrom\u001b[39;00m \u001b[38;5;28mNone\u001b[39m\n\u001b[1;32m   1218\u001b[0m \u001b[38;5;28;01mexcept\u001b[39;00m \u001b[38;5;167;01mException\u001b[39;00m:\n\u001b[1;32m   1219\u001b[0m     \u001b[38;5;28mself\u001b[39m\u001b[38;5;241m.\u001b[39mlog\u001b[38;5;241m.\u001b[39mwarning(\u001b[38;5;124m\"\u001b[39m\u001b[38;5;124mInvalid Message:\u001b[39m\u001b[38;5;124m\"\u001b[39m, exc_info\u001b[38;5;241m=\u001b[39m\u001b[38;5;28;01mTrue\u001b[39;00m)\n",
            "\u001b[0;31mKeyboardInterrupt\u001b[0m: Interrupted by user"
          ]
        }
      ],
      "source": [
        "list2=[1,2,3,5,9,4,6,7,8]\n",
        "print(\"True\" if list2==list2.sort(reverse=True|False) else \"False\")\n",
        "\n",
        "var1=(input(\"\\nEnter some numbers to be input into the list: \"))\n",
        "list2=[]\n",
        "list2=[list2.append(i) for i in range(len(var1)) if var1[i].isdigit()==True]\n",
        "print(\"\\n\",list2)\n",
        "#print(\"\\nTrue\" if list2==list2.sort(reverse=True|False) else \"\\nFalse\")"
      ]
    },
    {
      "cell_type": "code",
      "execution_count": null,
      "id": "f9a9acaa",
      "metadata": {
        "id": "f9a9acaa"
      },
      "outputs": [],
      "source": [
        "def SORTED(list1):\n",
        "    if list1==list1.sort(reverse=True):\n",
        "        return True \n",
        "    \n",
        "    elif list1==list1.sort(reverse=False):\n",
        "        return True\n",
        "        \n",
        "    else:\n",
        "        return False\n",
        "    "
      ]
    },
    {
      "cell_type": "code",
      "execution_count": null,
      "id": "43165ed9",
      "metadata": {
        "id": "43165ed9",
        "outputId": "8cdb097a-ab30-496d-c4da-dfc9afbea4f3"
      },
      "outputs": [
        {
          "name": "stdout",
          "output_type": "stream",
          "text": [
            "\n",
            "Enter some numbers to be input into the list: 1 2 3\n",
            "['1', '2', '3']\n"
          ]
        },
        {
          "data": {
            "text/plain": [
              "False"
            ]
          },
          "execution_count": 4,
          "metadata": {},
          "output_type": "execute_result"
        }
      ],
      "source": [
        "var1=input(\"\\nEnter some numbers to be input into the list: \")\n",
        "list8=var1.split()\n",
        "print(list8)\n",
        "list9=list8.\n",
        "SORTED(list8)"
      ]
    },
    {
      "cell_type": "code",
      "execution_count": null,
      "id": "8dc1c53d",
      "metadata": {
        "id": "8dc1c53d",
        "outputId": "c213538b-9376-41a9-b0af-a5b9cc0f4eb2"
      },
      "outputs": [
        {
          "data": {
            "text/plain": [
              "False"
            ]
          },
          "execution_count": 15,
          "metadata": {},
          "output_type": "execute_result"
        }
      ],
      "source": [
        "list1=[1,2,3,4]\n",
        "list1==list1.sort(reverse=True)"
      ]
    },
    {
      "cell_type": "markdown",
      "id": "4bac973f",
      "metadata": {
        "id": "4bac973f"
      },
      "source": [
        "#### 2. \"Write a program that takes two dictionaries and concatenates them into one dictionary.\""
      ]
    },
    {
      "cell_type": "code",
      "execution_count": null,
      "id": "dc2c9bcb",
      "metadata": {
        "id": "dc2c9bcb"
      },
      "outputs": [],
      "source": [
        "dict1={1:'one',2:'two',3:'three'}\n",
        "dict2={4:'four',5:'five',6:'six'}\n",
        "dict3={}\n",
        "dict3=(dict1|dict2) # adding two dictionaries\n",
        "print(dict3)"
      ]
    },
    {
      "cell_type": "markdown",
      "id": "fdde9448",
      "metadata": {
        "id": "fdde9448"
      },
      "source": [
        "#### 3. \"Create the following lists using a for loop.\n",
        "#### (a) A list consisting of the integers 0 through 49\n",
        "#### (b) A list containing the squares of the integers 1 through 50.\n",
        "#### (c) The list ['a','bb','ccc','dddd', . . . ] that ends with 26 copies of the letter z.\""
      ]
    },
    {
      "cell_type": "code",
      "execution_count": null,
      "id": "cfd2ff6e",
      "metadata": {
        "id": "cfd2ff6e"
      },
      "outputs": [],
      "source": [
        "# a)\n",
        "list3=[i for i in range(50)]\n",
        "print(list3)"
      ]
    },
    {
      "cell_type": "code",
      "execution_count": null,
      "id": "37133430",
      "metadata": {
        "id": "37133430"
      },
      "outputs": [],
      "source": [
        "# b)\n",
        "list4=[i**2 for i in range(50)]\n",
        "print(\"\\n\", list4)"
      ]
    },
    {
      "cell_type": "code",
      "execution_count": null,
      "id": "03654424",
      "metadata": {
        "id": "03654424"
      },
      "outputs": [],
      "source": [
        "# c)\n",
        "alpha1=['a','b','c','d','e','f','g','h','i','j','k','l','m','n','o','p','q','r','s','t','u','v','w','x','y','z']\n",
        "list5=[i*alpha1(i-1) for i in range(1,len(alpha1))]\n",
        "print(\"\\n\", list3)"
      ]
    },
    {
      "cell_type": "markdown",
      "id": "da9b49f8",
      "metadata": {
        "id": "da9b49f8"
      },
      "source": [
        "#### 13. \"Write a Python Program to print the largest even and largest odd number in a list.\""
      ]
    },
    {
      "cell_type": "code",
      "execution_count": null,
      "id": "37a33c65",
      "metadata": {
        "id": "37a33c65",
        "outputId": "df7eb67e-a4d2-4eef-dc9d-cff24d5600f0"
      },
      "outputs": [
        {
          "name": "stdout",
          "output_type": "stream",
          "text": [
            "The largest even number in the list is:  10\n",
            "The largest odd number is:  10\n",
            "The largest odd number is:  10\n",
            "The largest odd number is:  10\n",
            "The largest odd number is:  10\n",
            "The largest odd number is:  10\n",
            "The largest even number is:  10\n"
          ]
        }
      ],
      "source": [
        "list6=[1,2,3,4,5,6,7,8,9,10]\n",
        "list6.sort()\n",
        "\n",
        "\n",
        "\n",
        "if list6[-1]%2==0:\n",
        "    print(\"The largest even number in the list is: \",list6[-1])\n",
        " \n",
        "i=max(list6)\n",
        "for j in range(len(list6)):\n",
        "    if list6[j]%2==0:\n",
        "        if list6[j]==i:\n",
        "            print(\"The largest even number is: \", i)\n",
        "    elif list6[j]%2!=0:\n",
        "        print(\"The largest odd number is: \", i)"
      ]
    },
    {
      "cell_type": "code",
      "execution_count": null,
      "id": "c69d1d6a",
      "metadata": {
        "id": "c69d1d6a",
        "outputId": "6f9426b2-3b0c-4bbb-b9f2-dbd27dd6d5b6"
      },
      "outputs": [
        {
          "name": "stdout",
          "output_type": "stream",
          "text": [
            "The largest even number is:  10\n",
            "The largest odd number is:  9\n"
          ]
        }
      ],
      "source": [
        "#for finding largest even number\n",
        "list7=[list6[i] for i in range(len(list6)) if list6[i]%2==0]\n",
        "print(\"The largest even number is: \", max(list7))\n",
        "\n",
        "#for finding largest odd number\n",
        "list8=list(set(list6)-set(list7))\n",
        "print(\"The largest odd number is: \", max(list8))"
      ]
    },
    {
      "cell_type": "markdown",
      "id": "69f88dd8",
      "metadata": {
        "id": "69f88dd8"
      },
      "source": [
        "#### 14. \"Write a Python program to get the most frequent element in a given list of numbers.\""
      ]
    },
    {
      "cell_type": "code",
      "execution_count": null,
      "id": "6d21071f",
      "metadata": {
        "id": "6d21071f",
        "outputId": "640d6e4e-27ac-46f2-93ca-371e43ad9f16"
      },
      "outputs": [
        {
          "ename": "TypeError",
          "evalue": "'builtin_function_or_method' object is not iterable",
          "output_type": "error",
          "traceback": [
            "\u001b[0;31m---------------------------------------------------------------------------\u001b[0m",
            "\u001b[0;31mTypeError\u001b[0m                                 Traceback (most recent call last)",
            "Cell \u001b[0;32mIn[23], line 4\u001b[0m\n\u001b[1;32m      1\u001b[0m list10\u001b[38;5;241m=\u001b[39m[\u001b[38;5;241m1\u001b[39m,\u001b[38;5;241m2\u001b[39m,\u001b[38;5;241m3\u001b[39m,\u001b[38;5;241m4\u001b[39m,\u001b[38;5;241m5\u001b[39m,\u001b[38;5;241m6\u001b[39m,\u001b[38;5;241m6\u001b[39m,\u001b[38;5;241m6\u001b[39m,\u001b[38;5;241m6\u001b[39m,\u001b[38;5;241m7\u001b[39m,\u001b[38;5;241m7\u001b[39m,\u001b[38;5;241m7\u001b[39m,\u001b[38;5;241m7\u001b[39m,\u001b[38;5;241m7\u001b[39m,\u001b[38;5;241m1\u001b[39m,\u001b[38;5;241m2\u001b[39m,\u001b[38;5;241m4\u001b[39m]\n\u001b[1;32m      3\u001b[0m \u001b[38;5;28;01mfor\u001b[39;00m i \u001b[38;5;129;01min\u001b[39;00m \u001b[38;5;28mrange\u001b[39m(\u001b[38;5;28mlen\u001b[39m(list10)):\n\u001b[0;32m----> 4\u001b[0m     \u001b[38;5;28;01mif\u001b[39;00m list10\u001b[38;5;241m.\u001b[39mcount \u001b[38;5;129;01mis\u001b[39;00m \u001b[38;5;28mmax\u001b[39m(list10\u001b[38;5;241m.\u001b[39mcount):\n\u001b[1;32m      5\u001b[0m         \u001b[38;5;28mprint\u001b[39m(list10[i])\n\u001b[1;32m      6\u001b[0m     \u001b[38;5;28;01melse\u001b[39;00m:\n",
            "\u001b[0;31mTypeError\u001b[0m: 'builtin_function_or_method' object is not iterable"
          ]
        }
      ],
      "source": [
        "list10=[1,2,3,4,5,6,6,6,6,7,7,7,7,7,1,2,4]\n",
        "\n",
        "for i in range(len(list10)):\n",
        "    if list10.count is max(list10.count):\n",
        "        print(list10[i])\n",
        "    else:\n",
        "        print(list10[i])\n"
      ]
    },
    {
      "cell_type": "markdown",
      "id": "6cb1d6b9",
      "metadata": {
        "id": "6cb1d6b9"
      },
      "source": [
        "#### 12. \"Given two lists a, b. Check if two lists have at least one element common in them.\""
      ]
    },
    {
      "cell_type": "code",
      "execution_count": null,
      "id": "db4343c4",
      "metadata": {
        "id": "db4343c4",
        "outputId": "789181dc-1a92-40d8-a1b2-a2933689083e"
      },
      "outputs": [
        {
          "name": "stdout",
          "output_type": "stream",
          "text": [
            "Yes, the lists have common elements\n"
          ]
        }
      ],
      "source": [
        "a=[1,2,3,4]\n",
        "b=[3,4,5,6]\n",
        "\n",
        "for i in range(len(a)):\n",
        "    if a[i] in b:\n",
        "        print(\"Yes, the lists have common elements\")\n",
        "        \n",
        "        break"
      ]
    },
    {
      "cell_type": "markdown",
      "id": "b28845d8",
      "metadata": {
        "id": "b28845d8"
      },
      "source": [
        "#### 15. \"Write a Python Program to read a list of words and return the length of the longest one.\""
      ]
    },
    {
      "cell_type": "code",
      "execution_count": null,
      "id": "d5826a81",
      "metadata": {
        "id": "d5826a81",
        "outputId": "88fbe06a-077a-4995-b5a1-830d0a0ccff8"
      },
      "outputs": [
        {
          "name": "stdout",
          "output_type": "stream",
          "text": [
            "Enter some words: hey hello PRASADBHONDE\n",
            "['hey', 'hello', 'PRASADBHONDE']\n"
          ]
        }
      ],
      "source": [
        "s1=input(\"Enter some words: \")\n",
        "l1=[s1.split()]\n",
        "\n",
        "for i in range(len(l1)):\n",
        "    if "
      ]
    }
  ],
  "metadata": {
    "kernelspec": {
      "display_name": "Python 3 (ipykernel)",
      "language": "python",
      "name": "python3"
    },
    "language_info": {
      "codemirror_mode": {
        "name": "ipython",
        "version": 3
      },
      "file_extension": ".py",
      "mimetype": "text/x-python",
      "name": "python",
      "nbconvert_exporter": "python",
      "pygments_lexer": "ipython3",
      "version": "3.11.0"
    },
    "colab": {
      "provenance": [],
      "include_colab_link": true
    }
  },
  "nbformat": 4,
  "nbformat_minor": 5
}