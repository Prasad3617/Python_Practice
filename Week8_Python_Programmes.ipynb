{
  "nbformat": 4,
  "nbformat_minor": 0,
  "metadata": {
    "colab": {
      "provenance": [],
      "authorship_tag": "ABX9TyNM1pUxYnrMxxg5ck/Y9UPx",
      "include_colab_link": true
    },
    "kernelspec": {
      "name": "python3",
      "display_name": "Python 3"
    },
    "language_info": {
      "name": "python"
    }
  },
  "cells": [
    {
      "cell_type": "markdown",
      "metadata": {
        "id": "view-in-github",
        "colab_type": "text"
      },
      "source": [
        "<a href=\"https://colab.research.google.com/github/Prasad3617/Python_Practice/blob/main/Week8_Python_Programmes.ipynb\" target=\"_parent\"><img src=\"https://colab.research.google.com/assets/colab-badge.svg\" alt=\"Open In Colab\"/></a>"
      ]
    },
    {
      "cell_type": "markdown",
      "source": [
        "# Iterators"
      ],
      "metadata": {
        "id": "yf3BS-XJOsxq"
      }
    },
    {
      "cell_type": "markdown",
      "source": [
        "### A programme to implement iterator that returns even number upto a certain limit, which is given as input by the user."
      ],
      "metadata": {
        "id": "yJiZOa3mOzUL"
      }
    },
    {
      "cell_type": "code",
      "source": [
        "class Evens:\n",
        "  def __init__(self,l):\n",
        "    self._limit=l\n",
        "    self._value=0\n",
        "\n",
        "#makes this class an \"iterable\"\n",
        "  def __iter__(self):\n",
        "    return self\n",
        "\n",
        "#makes this class an \"iterator\"\n",
        "  def __next__(self):\n",
        "    if self._value>self._liimit:\n",
        "      raise StopIteration\n",
        "\n",
        "    else:\n",
        "      return_val=self._value\n",
        "      self._value+=2\n",
        "    return return_val"
      ],
      "metadata": {
        "id": "Z8HwMlHzOwma"
      },
      "execution_count": null,
      "outputs": []
    },
    {
      "cell_type": "code",
      "source": [
        "print(\"Start Iterator\")\n",
        "for i in Evens(20):\n",
        "  print(\"\\ti=\",i,end=\",\")\n",
        "print(\"\\nEnd of the Iterator\")"
      ],
      "metadata": {
        "id": "DQbTLwAfQI9s"
      },
      "execution_count": null,
      "outputs": []
    },
    {
      "cell_type": "code",
      "source": [],
      "metadata": {
        "id": "xdPGS1esQisb"
      },
      "execution_count": null,
      "outputs": []
    }
  ]
}