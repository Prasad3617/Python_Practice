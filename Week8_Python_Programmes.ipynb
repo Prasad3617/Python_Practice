{
  "nbformat": 4,
  "nbformat_minor": 0,
  "metadata": {
    "colab": {
      "provenance": [],
      "authorship_tag": "ABX9TyNx9BBDgB/Zc8FC9x6SFsFt",
      "include_colab_link": true
    },
    "kernelspec": {
      "name": "python3",
      "display_name": "Python 3"
    },
    "language_info": {
      "name": "python"
    }
  },
  "cells": [
    {
      "cell_type": "markdown",
      "metadata": {
        "id": "view-in-github",
        "colab_type": "text"
      },
      "source": [
        "<a href=\"https://colab.research.google.com/github/Prasad3617/Python_Practice/blob/main/Week8_Python_Programmes.ipynb\" target=\"_parent\"><img src=\"https://colab.research.google.com/assets/colab-badge.svg\" alt=\"Open In Colab\"/></a>"
      ]
    },
    {
      "cell_type": "markdown",
      "source": [
        "# Iterators"
      ],
      "metadata": {
        "id": "yf3BS-XJOsxq"
      }
    },
    {
      "cell_type": "markdown",
      "source": [
        "## A programme to implement an iterator that returns even number(s) upto a certain limit, \"n\", which is given as an input by the user."
      ],
      "metadata": {
        "id": "yJiZOa3mOzUL"
      }
    },
    {
      "cell_type": "code",
      "source": [
        "class Evens:\n",
        "  def __init__(self,l):\n",
        "    self._limit=l\n",
        "    self._value=0\n",
        "\n",
        "#makes this calss an iterable\n",
        "  def __iter__(self):\n",
        "    return self\n",
        "\n",
        "#makes this class an iterator\n",
        "  def __next__(self):\n",
        "    if self._value > self._limit:\n",
        "      raise StopIteration\n",
        "    else:\n",
        "      return_value = self._value\n",
        "      self._value += 2\n",
        "      return return_value"
      ],
      "metadata": {
        "id": "Z8HwMlHzOwma"
      },
      "execution_count": null,
      "outputs": []
    },
    {
      "cell_type": "code",
      "source": [
        "print(\"\\nThe Beginning of Iteration\")\n",
        "l=int(input(\"\\nEnter the value for Limit: \"))\n",
        "for i in Evens(l):\n",
        "  print(\"\\ni = \",i,end=\",\")\n",
        "print(\"\\nStopped the Iteration!\")"
      ],
      "metadata": {
        "id": "xdPGS1esQisb",
        "colab": {
          "base_uri": "https://localhost:8080/"
        },
        "outputId": "e0ca1cd8-00ad-4e94-d74d-5e6125dc7795"
      },
      "execution_count": null,
      "outputs": [
        {
          "output_type": "stream",
          "name": "stdout",
          "text": [
            "\n",
            "The Beginning of Iteration\n",
            "\n",
            "Enter the value for Limit: 20\n",
            "\n",
            "i =  0, \n",
            "i =  2, \n",
            "i =  4, \n",
            "i =  6, \n",
            "i =  8, \n",
            "i =  10, \n",
            "i =  12, \n",
            "i =  14, \n",
            "i =  16, \n",
            "i =  18, \n",
            "i =  20, \n",
            "Stopped the Iteration!\n"
          ]
        }
      ]
    },
    {
      "cell_type": "markdown",
      "source": [
        "### A programme to implement an iterator which returns a factorial of a number, \"f\", which is given as an input by the user."
      ],
      "metadata": {
        "id": "FiD8T044_Q33"
      }
    },
    {
      "cell_type": "code",
      "source": [
        "class Factorial:\n",
        "  def __init__(self,l):\n",
        "    self._limit=l\n",
        "    self._value=0\n",
        "\n",
        "#a function to be used later\n",
        "  def factorial(self,num):\n",
        "    product = 1\n",
        "    for i in range(1,num+1):\n",
        "      product *= i\n",
        "\n",
        "#makes this class an iterable\n",
        "  def __iter__(self):\n",
        "    return self\n",
        "\n",
        "#makes this class an iterator\n",
        "  def __next__(self):\n",
        "    if self._value > self._limit:\n",
        "      raise StopIteration\n",
        "\n",
        "    else:\n",
        "      return_value = self.factorial(self._value)\n",
        "      self._value += 1\n",
        "      return return_value"
      ],
      "metadata": {
        "id": "zAsutCO-_d1W"
      },
      "execution_count": null,
      "outputs": []
    },
    {
      "cell_type": "code",
      "source": [
        "print(\"\\nPrinting the factorial of a number being given as input by the user! \")\n",
        "num=int(input(\"\\nEnter the value for which you require a factorial: \"))\n",
        "for i in Factorial(num):\n",
        "  print(\"\\nThe factorial is: \",i)\n",
        "print(\"\\nThe operation is Terminated!\")"
      ],
      "metadata": {
        "colab": {
          "base_uri": "https://localhost:8080/"
        },
        "id": "XpCq7_U4A8FY",
        "outputId": "66a127db-edf7-43a8-c5d1-e91eaa167e5a"
      },
      "execution_count": null,
      "outputs": [
        {
          "output_type": "stream",
          "name": "stdout",
          "text": [
            "\n",
            "Printing the factorial of a number being given as input by the user! \n",
            "\n",
            "Enter the value for which you require a factorial: 3\n",
            "\n",
            "The factorial is:  None\n",
            "\n",
            "The factorial is:  None\n",
            "\n",
            "The factorial is:  None\n",
            "\n",
            "The factorial is:  None\n",
            "\n",
            "The operation is Terminated!\n"
          ]
        }
      ]
    },
    {
      "cell_type": "markdown",
      "source": [
        "# Errors and Exceptions"
      ],
      "metadata": {
        "id": "iOBJJni3L6xM"
      }
    },
    {
      "cell_type": "markdown",
      "source": [
        "In python Errors and Exceptions are used interchangeably.\n",
        "\n",
        " However, **Errors** are used to represent issues with operations like Arithematic errors, and\n",
        "\n",
        " **Exceptions** are used to represent functional issues like \"file not found\""
      ],
      "metadata": {
        "id": "tvZrs6ObMQHB"
      }
    },
    {
      "cell_type": "markdown",
      "source": [
        "An exception is meant to handle an error condition by diverting the flow of control from one place to another."
      ],
      "metadata": {
        "id": "dDlWhcP4P0W0"
      }
    },
    {
      "cell_type": "code",
      "source": [
        "def runcalc(x):\n",
        "  x/0\n",
        "\n",
        "try:\n",
        "  runcalc(4)\n",
        "\n",
        "except ZeroDivisionError:                     #Exception Handler1\n",
        "  print(\"\\nDivision by Error isn't finite!\")\n",
        "\n",
        "except IndexError as i:                       #Exception Handler2\n",
        "  print(\"\\n\",i,\"Error has occured\")\n",
        "\n",
        "except FileNotFoundError as f:                #Exception Handler3\n",
        "  print(\"\\n\",f,\"Error has Occured\")\n",
        "\n",
        "except Exception:                             #Exception Handler4\n",
        "  print(\"\\nAn Unkown Error has Occured!\")"
      ],
      "metadata": {
        "colab": {
          "base_uri": "https://localhost:8080/"
        },
        "id": "ix5Xs7-lP9Qf",
        "outputId": "5f50c7e3-5608-4465-a796-af90c25c782c"
      },
      "execution_count": 3,
      "outputs": [
        {
          "output_type": "stream",
          "name": "stdout",
          "text": [
            "\n",
            "Division by Error isn't finite!\n"
          ]
        }
      ]
    },
    {
      "cell_type": "code",
      "source": [
        "def my_function(x,y):\n",
        "  print(\"\\nEntering my function...\")\n",
        "  result=x/y\n",
        "  print(\"\\nExiting my_function...\")\n",
        "  return result"
      ],
      "metadata": {
        "id": "uEPZJcHFSuTv"
      },
      "execution_count": 4,
      "outputs": []
    },
    {
      "cell_type": "code",
      "source": [
        "print(\"\\nstarting...\")\n",
        "try:\n",
        "  print(\"\\nBefore Function Call...\")\n",
        "  res=my_function(6,2)\n",
        "  print(\"\\nThe Result is: \",res)\n",
        "  print(\"\\nAfter the function call\")\n",
        "\n",
        "except ZeroDivisionError as exp:\n",
        "  print(exp,\"Error has risen.\")\n",
        "\n",
        "print(\"\\nEND\")"
      ],
      "metadata": {
        "colab": {
          "base_uri": "https://localhost:8080/"
        },
        "id": "yy0GidorVqpx",
        "outputId": "c2e8f789-bb6e-4667-fd03-19601d6db3d3"
      },
      "execution_count": 5,
      "outputs": [
        {
          "output_type": "stream",
          "name": "stdout",
          "text": [
            "\n",
            "starting...\n",
            "\n",
            "Before Function Call...\n",
            "\n",
            "Entering my function...\n",
            "\n",
            "Exiting my_function...\n",
            "\n",
            "The Result is:  3.0\n",
            "\n",
            "After the function call\n",
            "\n",
            "END\n"
          ]
        }
      ]
    },
    {
      "cell_type": "code",
      "source": [
        "print(\"\\nstarting...\")\n",
        "try:\n",
        "  print(\"\\nBefore Function Call...\")\n",
        "  res=my_function(6,0)\n",
        "  print(\"\\nThe Result is: \",res)\n",
        "  print(\"\\nAfter the function call\")\n",
        "\n",
        "except ZeroDivisionError as exp:\n",
        "  print(exp,\"Error has risen.\")\n",
        "\n",
        "print(\"\\nEND\")"
      ],
      "metadata": {
        "colab": {
          "base_uri": "https://localhost:8080/"
        },
        "id": "9dyV_F3qWf_f",
        "outputId": "fd3c7df8-3d99-46aa-8fd9-541bfae52814"
      },
      "execution_count": 6,
      "outputs": [
        {
          "output_type": "stream",
          "name": "stdout",
          "text": [
            "\n",
            "starting...\n",
            "\n",
            "Before Function Call...\n",
            "\n",
            "Entering my function...\n",
            "division by zero Error has risen.\n",
            "\n",
            "END\n"
          ]
        }
      ]
    },
    {
      "cell_type": "code",
      "source": [
        "try:\n",
        "  my_function(6,0)\n",
        "\n",
        "except IndexError as e:\n",
        "  print(e)\n",
        "\n",
        "except:\n",
        "  print(\"\\nSomething went wrong!\")"
      ],
      "metadata": {
        "colab": {
          "base_uri": "https://localhost:8080/"
        },
        "id": "dPKsILIoW5fD",
        "outputId": "26690c4c-a7b9-4b20-f2da-01257e0ba697"
      },
      "execution_count": 7,
      "outputs": [
        {
          "output_type": "stream",
          "name": "stdout",
          "text": [
            "\n",
            "Entering my function...\n",
            "\n",
            "Something went wrong!\n"
          ]
        }
      ]
    },
    {
      "cell_type": "code",
      "source": [],
      "metadata": {
        "id": "QPsQLUk_XjRy"
      },
      "execution_count": null,
      "outputs": []
    }
  ]
}