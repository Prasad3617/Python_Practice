{
  "nbformat": 4,
  "nbformat_minor": 0,
  "metadata": {
    "colab": {
      "provenance": [],
      "authorship_tag": "ABX9TyMRVYqY0dIrGVqXUISXmrCV",
      "include_colab_link": true
    },
    "kernelspec": {
      "name": "python3",
      "display_name": "Python 3"
    },
    "language_info": {
      "name": "python"
    }
  },
  "cells": [
    {
      "cell_type": "markdown",
      "metadata": {
        "id": "view-in-github",
        "colab_type": "text"
      },
      "source": [
        "<a href=\"https://colab.research.google.com/github/Prasad3617/Python_Practice/blob/main/Concepts_in_python.ipynb\" target=\"_parent\"><img src=\"https://colab.research.google.com/assets/colab-badge.svg\" alt=\"Open In Colab\"/></a>"
      ]
    },
    {
      "cell_type": "markdown",
      "source": [
        "# Console Input"
      ],
      "metadata": {
        "id": "IzpqiDkdxYm4"
      }
    },
    {
      "cell_type": "code",
      "source": [
        "a,b,c=input(\"Enter the values for 'a','b' & 'c': \").split()                  #using a single 'console input' statement with the inclusion of 'split()' function to collect values for all the 3 variables.\n",
        "print(\"\\n\")\n",
        "print(\"The values you entered are, for a: \",a, \",for b: \",b,\"& for c:\",c,)   #displaying the input values to the user before proceeding\n",
        "print(\"\\n\")\n",
        "ans=input(\"Do you wish to proceed: 'Y' or 'n': \")                              #inquiring from the user whether to proceed with the programme...\n",
        "\n",
        "if ans in [\"y\", \"Y\"]:                                                        #condition to check for further implementation: whether to contnue with operations or to terminate the programme...\n",
        "  print(\"Thanks for responding!\\n\")\n",
        "  o=input(\"Enter the alphabet whose binary equivalent you wish to calculate: \")\n",
        "  \n",
        "  if o==str(a):\n",
        "    o=int(a)\n",
        "  elif o==str(b):\n",
        "    o=int(b)\n",
        "  elif o==str(c):\n",
        "    o=int(c)    \n",
        "  else:\n",
        "    print(\"Please Enter a Valid choice!\")  \n",
        "\n",
        "  r1=int(o, base=16)                                                                  #declaring a variable to perform iterations\n",
        "  result = ''                                                                  #declaring a variale for the result as the 'binary equivalent'\n",
        "  r2=r1                                                                           #steps to calculate the binary equivalent of an integer.\n",
        "  while r1!=0:\n",
        "   p=r1%2                                                                     #collecting the 'remainder' for the 'binary equivalent' calculation\n",
        "   result+=str(p)                                                             #adding the remainder to the result\n",
        "   r2//=2                                                                     #finally again deviding by '2'\n",
        "\n",
        "   result=result[::-1]                                                          #taking the string in reverse order as the result, as is done while binary equivalent calculaion.\n",
        "   print(\"The binary equivalent of \" +str(r1)+\" is:\",result)\n",
        "   break\n",
        "\n",
        "elif ans in [\"n\",\"N\"]:\n",
        "  print(\"Thanks for responding! BYE\")\n",
        "    \n",
        "\n",
        "else:\n",
        "  print(\"Enter valid input, either of: 'y' or 'n'.\")"
      ],
      "metadata": {
        "colab": {
          "base_uri": "https://localhost:8080/"
        },
        "id": "mYW17UYnxczX",
        "outputId": "159b74db-e15d-437e-ad95-56dcec2e7961"
      },
      "execution_count": 2,
      "outputs": [
        {
          "output_type": "stream",
          "name": "stdout",
          "text": [
            "Enter the values for 'a','b' & 'c': 10 11 12\n",
            "\n",
            "\n",
            "The values you entered are, for a:  10 ,for b:  11 & for c: 12\n",
            "\n",
            "\n",
            "Do you wish to proceed: 'Y' or 'n': y\n",
            "Thanks for responding!\n",
            "\n",
            "Enter the alphabet whose binary equivalent you wish to calculate: a\n",
            "Please Enter a Valid choice!\n",
            "The binary equivalent of 10 is: 0\n"
          ]
        }
      ]
    },
    {
      "cell_type": "markdown",
      "source": [
        "### Formatted Output\n"
      ],
      "metadata": {
        "id": "q_hYBc0016is"
      }
    },
    {
      "cell_type": "code",
      "source": [
        "r,l,b,name=1.5678,10.5,12.66,'PRASAD BHONDE'\n",
        "print(f'Radius={r},\\nLength={l},\\nBreadth={b},\\nName={name}\\n')\n",
        "\n",
        "for i in name.split():\n",
        "  print(f'{i:7}')"
      ],
      "metadata": {
        "id": "8GkW3MG_9SGG",
        "colab": {
          "base_uri": "https://localhost:8080/"
        },
        "outputId": "ee4d2c4b-c893-4732-a7a5-90ab8ad597ca"
      },
      "execution_count": 7,
      "outputs": [
        {
          "output_type": "stream",
          "name": "stdout",
          "text": [
            "Radius=1.5678,\n",
            "Length=10.5,\n",
            "Breadth=12.66,\n",
            "Name=PRASAD BHONDE\n",
            "\n",
            "PRASAD \n",
            "BHONDE \n"
          ]
        }
      ]
    },
    {
      "cell_type": "markdown",
      "source": [
        "### Formatted Output using \"Format\" function.\n",
        "#### for example: print(\"breadth={},length={}\".format=10,25)\n",
        "\n",
        "---\n",
        "\n"
      ],
      "metadata": {
        "id": "FIq_glvyMezI"
      }
    },
    {
      "cell_type": "code",
      "source": [
        "#Above function can be used using format function\n",
        "\n",
        "r,l,b,name=1.5678,10.5,12.66,'PRASAD BHONDE'\n",
        "print(\"Radius={},\\nLength={},\\nBreadth={},\\nName={}\".format(r,l,b,name))"
      ],
      "metadata": {
        "id": "GwtvDLmh92E7",
        "colab": {
          "base_uri": "https://localhost:8080/"
        },
        "outputId": "1ebaa04b-ef82-4a15-e86e-abb36865a203"
      },
      "execution_count": 3,
      "outputs": [
        {
          "output_type": "stream",
          "name": "stdout",
          "text": [
            "Radius=1.5678,\n",
            "Length=10.5,\n",
            "Breadth=12.66,\n",
            "Name=PRASAD BHONDE\n"
          ]
        }
      ]
    },
    {
      "cell_type": "code",
      "source": [
        "#\"format\" statement can be used to print in any desired order.\n",
        "name,age,salary=\"ramesh\",25,90000\n",
        "\n",
        "print('radius={2},length={1},breadth={0}'.format(b,l,r))\n",
        "print('age={1},salary={2},name={0}'.format(name,age,salary))\n",
        "\n",
        "#print name in '15' columns and salary in '10' columns\n",
        "print('name={0:7},salary={1:6}'.format(name,salary))\n",
        "\n",
        "#printing a float type variable in a particular number of floating point values, say 2 points after the decimal.\n",
        "print('radius={0:3.2f})'.format(r))"
      ],
      "metadata": {
        "colab": {
          "base_uri": "https://localhost:8080/"
        },
        "id": "jo-OHaya7qsL",
        "outputId": "90708d13-0f84-488e-e2ea-7c36172cfb4b"
      },
      "execution_count": 6,
      "outputs": [
        {
          "output_type": "stream",
          "name": "stdout",
          "text": [
            "radius=1.5678,length=10.5,breadth=12.66\n",
            "age=25,salary=90000,name=ramesh\n",
            "name=ramesh ,salary= 90000\n",
            "radius=1.57)\n"
          ]
        }
      ]
    }
  ]
}