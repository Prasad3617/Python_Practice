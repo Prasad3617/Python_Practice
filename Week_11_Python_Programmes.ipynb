{
  "cells": [
    {
      "cell_type": "markdown",
      "metadata": {
        "id": "view-in-github",
        "colab_type": "text"
      },
      "source": [
        "<a href=\"https://colab.research.google.com/github/Prasad3617/Python_Practice/blob/main/Week_11_Python_Programmes.ipynb\" target=\"_parent\"><img src=\"https://colab.research.google.com/assets/colab-badge.svg\" alt=\"Open In Colab\"/></a>"
      ]
    },
    {
      "cell_type": "markdown",
      "id": "4117f3e9",
      "metadata": {
        "id": "4117f3e9"
      },
      "source": [
        "# Tkinter GUI Applications"
      ]
    },
    {
      "cell_type": "code",
      "execution_count": null,
      "id": "5114f123",
      "metadata": {
        "id": "5114f123"
      },
      "outputs": [],
      "source": [
        "from tkinter import *"
      ]
    },
    {
      "cell_type": "code",
      "execution_count": null,
      "id": "5500cee2",
      "metadata": {
        "id": "5500cee2"
      },
      "outputs": [],
      "source": [
        "window=Tk()\n",
        "\n",
        "b1=Button(window,text=\"Execute\")\n",
        "b1.grid(row=0,column=0)\n",
        "\n",
        "e1=Entry(window)\n",
        "e1.grid(row=0,column=1)\n",
        "\n",
        "t1=Text(window,height=1,width=20)\n",
        "t1.grid(row=0,column=2)\n",
        "\n",
        "window.mainloop()"
      ]
    },
    {
      "cell_type": "code",
      "execution_count": null,
      "id": "a8ee5689",
      "metadata": {
        "id": "a8ee5689"
      },
      "outputs": [],
      "source": [
        "# A gui to convert and obtain km to miles\n",
        "\n",
        "window=Tk()\n",
        "\n",
        "def km_to_miles():\n",
        "    miles=float(e1_val.get())*1.6\n",
        "    t1.delete(\"1.0\",END)\n",
        "    t1.insert(END,miles)\n",
        "    print(\"Successfully Converted!\")\n",
        "\n",
        "l1=Label(window,text=\"Enter Kilometers: \")\n",
        "l1.grid(row=0,column=0)\n",
        "\n",
        "e1_val=StringVar()\n",
        "e1=Enter(window,textvariable=e1_val)\n",
        "e1.grid(row=0,column=1)\n",
        "\n",
        "l2=Label(window,text=\"Kilometers in Miles is:\")\n",
        "l2.grid(rows=1,column=0)\n",
        "\n",
        "t1=Text(window,height=1,width=20)\n",
        "t1.grid(row=1,column=1)\n",
        "\n",
        "b1=Button(window,text=\"Convert\",command=\"km_to_miles\")\n",
        "b1.grid(row=2,column=1)\n",
        "\n",
        "window.mainloop()"
      ]
    },
    {
      "cell_type": "code",
      "execution_count": null,
      "id": "450af472",
      "metadata": {
        "id": "450af472"
      },
      "outputs": [],
      "source": [
        "# A gui to return time left in seconds, on input of time left in hours\n",
        "\n",
        "from tkinter import *\n",
        "\n",
        "window=Tk()\n",
        "\n",
        "def hr_to_secs():\n",
        "    sec=float(e2_val.get())*3600\n",
        "    t1.delete(\"1.0\",END)\n",
        "    t1.insert(END,sec)\n",
        "\n",
        "l3=Label(window,text=\"\")\n",
        "l3.grid(row=0,column=0)\n",
        "\n",
        "e2_val=StrinVar()\n",
        "e2=Entry(window,textvariable=e2_val)\n",
        "e2.grid(row=0,column=1)\n",
        "\n",
        "l4=Label(window,text=\"Time Left in Seconds is:\")\n",
        "l4.grid(rows=1,column=0)\n",
        "\n",
        "t2=Text(window,height=1,width=20)\n",
        "t2.grid(row=1,column=1)\n",
        "\n",
        "b2=Button(window,text=\"Convert\",command=km_to_miles)\n",
        "b2.grid(row=2,column=1)\n",
        "\n",
        "window.mainloop()"
      ]
    },
    {
      "cell_type": "markdown",
      "id": "1b0a2702",
      "metadata": {
        "id": "1b0a2702"
      },
      "source": [
        "## Creating Menus"
      ]
    },
    {
      "cell_type": "code",
      "execution_count": null,
      "id": "ac521ee3",
      "metadata": {
        "id": "ac521ee3"
      },
      "outputs": [],
      "source": [
        "from tkinter import *"
      ]
    },
    {
      "cell_type": "code",
      "execution_count": null,
      "id": "19fa656a",
      "metadata": {
        "id": "19fa656a"
      },
      "outputs": [],
      "source": [
        "window1=Tk()\n",
        "\n",
        "def hello():\n",
        "    print(\"\\nHello\")\n",
        "\n",
        "#create a top level menu in the main window\n",
        "menubar = Menu(window1)\n",
        "\n",
        "#reate a pulldown menu and add it to the menu bar\n",
        "filemenu = Menu(menubar)\n",
        "\n",
        "filemenu.add_command(label = \"Open\", command = hello)\n",
        "\n",
        "filemenu.add_separator()\n",
        "\n",
        "filemenu.add_command(label = \"Exit\", command = window1.destroy)\n",
        "\n",
        "filemenu.add_separator()\n",
        "\n",
        "menubar.add_cascade(label = \"File\", menu = filemenu)\n",
        "\n",
        "window1.config(menu = menubar)\n",
        "\n",
        "window1.mainloop()"
      ]
    },
    {
      "cell_type": "markdown",
      "id": "a9b64d38",
      "metadata": {
        "id": "a9b64d38"
      },
      "source": [
        "## Radio Buttons"
      ]
    },
    {
      "cell_type": "code",
      "execution_count": null,
      "id": "e5a98c87",
      "metadata": {
        "id": "e5a98c87"
      },
      "outputs": [],
      "source": [
        "# Example - 1"
      ]
    },
    {
      "cell_type": "code",
      "execution_count": null,
      "id": "fec222d3",
      "metadata": {
        "id": "fec222d3"
      },
      "outputs": [],
      "source": [
        "from tkinter import *"
      ]
    },
    {
      "cell_type": "code",
      "execution_count": null,
      "id": "e11ebe64",
      "metadata": {
        "id": "e11ebe64"
      },
      "outputs": [],
      "source": [
        "window2 = Tk()\n",
        "\n",
        "def sel():\n",
        "    selection = \"You Selected  the Option - \" + str(var.get())\n",
        "    label.config(text = selection)\n",
        "\n",
        "var = IntVar()\n",
        "\n",
        "R1 = Radiobutton(window2, text = \"Option - 1\", variable = var, value = 1, command = sel)\n",
        "R1.pack()   #use the packer geometry management\n",
        "\n",
        "R2 = Radiobutton(window2, text = \"Option - 2\", variable = var, value = 2, command = sel)\n",
        "R2.pack()\n",
        "\n",
        "R3= Radiobutton(window2, text = \"Option - 3\", variable = var, value = 3, command = sel)\n",
        "R3.pack()\n",
        "\n",
        "label=Label(window2)\n",
        "label.pack()\n",
        "window2.mainloop()"
      ]
    },
    {
      "cell_type": "code",
      "execution_count": null,
      "id": "a4da6ca3",
      "metadata": {
        "id": "a4da6ca3"
      },
      "outputs": [],
      "source": [
        "# Example - 2"
      ]
    },
    {
      "cell_type": "code",
      "execution_count": null,
      "id": "01cb0a1d",
      "metadata": {
        "id": "01cb0a1d"
      },
      "outputs": [],
      "source": [
        "from tkinter import *"
      ]
    },
    {
      "cell_type": "code",
      "execution_count": null,
      "id": "f6c2e404",
      "metadata": {
        "id": "f6c2e404"
      },
      "outputs": [],
      "source": [
        "window2 = Tk()\n",
        "\n",
        "def sel():\n",
        "    selection = \"Your Gender is - \" + var.get()\n",
        "    label.config(text = selection)\n",
        "\n",
        "var = StringVar()\n",
        "\n",
        "R1 = Radiobutton(window2, text = \"Male\", variable = var, value = \"Male\", command = sel)\n",
        "R1.pack()   #use the packer geometry management\n",
        "\n",
        "R2 = Radiobutton(window2, text = \"Female\", variable = var, value = \"Female\", command = sel)\n",
        "R2.pack()\n",
        "\n",
        "R3= Radiobutton(window2, text = \"Prefer Not to Say\", variable = var, value = \"Prefer Not to Say\", command = sel)\n",
        "R3.pack()\n",
        "\n",
        "label=Label(window2)\n",
        "label.pack()\n",
        "window2.mainloop()"
      ]
    },
    {
      "cell_type": "markdown",
      "id": "df4e43fa",
      "metadata": {
        "id": "df4e43fa"
      },
      "source": [
        "## CheckBoxes"
      ]
    },
    {
      "cell_type": "code",
      "execution_count": null,
      "id": "a2855941",
      "metadata": {
        "id": "a2855941"
      },
      "outputs": [],
      "source": [
        "from tkinter import *"
      ]
    },
    {
      "cell_type": "code",
      "execution_count": null,
      "id": "9fcf5cfd",
      "metadata": {
        "id": "9fcf5cfd"
      },
      "outputs": [],
      "source": [
        "def sel1():\n",
        "    if(Checkvar1.get()==1):\n",
        "        selection=\"You selected the Python Programming option.\"\n",
        "    else:\n",
        "        selection=\"You deselected the Python Programming option.\"\n",
        "\n",
        "    label.config(text=selection)\n",
        "\n",
        "def sel2():\n",
        "    if(Checkvar2.get==1):\n",
        "        selection=\"You selected the tkinter option.\"\n",
        "\n",
        "    else:\n",
        "        selection=\"You deselected the tkinter option.\"\n",
        "\n",
        "    label.config(text=selection)"
      ]
    },
    {
      "cell_type": "code",
      "execution_count": null,
      "id": "1088b35d",
      "metadata": {
        "id": "1088b35d",
        "outputId": "a81b753c-301b-4958-ee95-c7f6c8539a6a"
      },
      "outputs": [
        {
          "name": "stderr",
          "output_type": "stream",
          "text": [
            "Exception in Tkinter callback\n",
            "Traceback (most recent call last):\n",
            "  File \"/Users/prasadbhonde/Documents/anaconda3/envs/Env_1/lib/python3.11/tkinter/__init__.py\", line 1948, in __call__\n",
            "    return self.func(*args)\n",
            "           ^^^^^^^^^^^^^^^^\n",
            "  File \"/var/folders/bj/1khh1pvn7ll8451vj5j93kqw0000gn/T/ipykernel_1612/864102016.py\", line 2, in sel1\n",
            "    if(Checkvar1.get()==1):\n",
            "       ^^^^^^^^^\n",
            "NameError: name 'Checkvar1' is not defined\n",
            "Exception in Tkinter callback\n",
            "Traceback (most recent call last):\n",
            "  File \"/Users/prasadbhonde/Documents/anaconda3/envs/Env_1/lib/python3.11/tkinter/__init__.py\", line 1948, in __call__\n",
            "    return self.func(*args)\n",
            "           ^^^^^^^^^^^^^^^^\n",
            "  File \"/var/folders/bj/1khh1pvn7ll8451vj5j93kqw0000gn/T/ipykernel_1612/864102016.py\", line 2, in sel1\n",
            "    if(Checkvar1.get()==1):\n",
            "       ^^^^^^^^^\n",
            "NameError: name 'Checkvar1' is not defined\n",
            "Exception in Tkinter callback\n",
            "Traceback (most recent call last):\n",
            "  File \"/Users/prasadbhonde/Documents/anaconda3/envs/Env_1/lib/python3.11/tkinter/__init__.py\", line 1948, in __call__\n",
            "    return self.func(*args)\n",
            "           ^^^^^^^^^^^^^^^^\n",
            "  File \"/var/folders/bj/1khh1pvn7ll8451vj5j93kqw0000gn/T/ipykernel_1612/864102016.py\", line 2, in sel1\n",
            "    if(Checkvar1.get()==1):\n",
            "       ^^^^^^^^^\n",
            "NameError: name 'Checkvar1' is not defined\n",
            "Exception in Tkinter callback\n",
            "Traceback (most recent call last):\n",
            "  File \"/Users/prasadbhonde/Documents/anaconda3/envs/Env_1/lib/python3.11/tkinter/__init__.py\", line 1948, in __call__\n",
            "    return self.func(*args)\n",
            "           ^^^^^^^^^^^^^^^^\n",
            "  File \"/var/folders/bj/1khh1pvn7ll8451vj5j93kqw0000gn/T/ipykernel_1612/864102016.py\", line 10, in sel2\n",
            "    if(Checkvar2.get==1):\n",
            "       ^^^^^^^^^\n",
            "NameError: name 'Checkvar2' is not defined\n",
            "Exception in Tkinter callback\n",
            "Traceback (most recent call last):\n",
            "  File \"/Users/prasadbhonde/Documents/anaconda3/envs/Env_1/lib/python3.11/tkinter/__init__.py\", line 1948, in __call__\n",
            "    return self.func(*args)\n",
            "           ^^^^^^^^^^^^^^^^\n",
            "  File \"/var/folders/bj/1khh1pvn7ll8451vj5j93kqw0000gn/T/ipykernel_1612/864102016.py\", line 10, in sel2\n",
            "    if(Checkvar2.get==1):\n",
            "       ^^^^^^^^^\n",
            "NameError: name 'Checkvar2' is not defined\n",
            "Exception in Tkinter callback\n",
            "Traceback (most recent call last):\n",
            "  File \"/Users/prasadbhonde/Documents/anaconda3/envs/Env_1/lib/python3.11/tkinter/__init__.py\", line 1948, in __call__\n",
            "    return self.func(*args)\n",
            "           ^^^^^^^^^^^^^^^^\n",
            "  File \"/var/folders/bj/1khh1pvn7ll8451vj5j93kqw0000gn/T/ipykernel_1612/864102016.py\", line 10, in sel2\n",
            "    if(Checkvar2.get==1):\n",
            "       ^^^^^^^^^\n",
            "NameError: name 'Checkvar2' is not defined\n",
            "Exception in Tkinter callback\n",
            "Traceback (most recent call last):\n",
            "  File \"/Users/prasadbhonde/Documents/anaconda3/envs/Env_1/lib/python3.11/tkinter/__init__.py\", line 1948, in __call__\n",
            "    return self.func(*args)\n",
            "           ^^^^^^^^^^^^^^^^\n",
            "  File \"/var/folders/bj/1khh1pvn7ll8451vj5j93kqw0000gn/T/ipykernel_1612/864102016.py\", line 10, in sel2\n",
            "    if(Checkvar2.get==1):\n",
            "       ^^^^^^^^^\n",
            "NameError: name 'Checkvar2' is not defined\n",
            "Exception in Tkinter callback\n",
            "Traceback (most recent call last):\n",
            "  File \"/Users/prasadbhonde/Documents/anaconda3/envs/Env_1/lib/python3.11/tkinter/__init__.py\", line 1948, in __call__\n",
            "    return self.func(*args)\n",
            "           ^^^^^^^^^^^^^^^^\n",
            "  File \"/var/folders/bj/1khh1pvn7ll8451vj5j93kqw0000gn/T/ipykernel_1612/864102016.py\", line 2, in sel1\n",
            "    if(Checkvar1.get()==1):\n",
            "       ^^^^^^^^^\n",
            "NameError: name 'Checkvar1' is not defined\n",
            "Exception in Tkinter callback\n",
            "Traceback (most recent call last):\n",
            "  File \"/Users/prasadbhonde/Documents/anaconda3/envs/Env_1/lib/python3.11/tkinter/__init__.py\", line 1948, in __call__\n",
            "    return self.func(*args)\n",
            "           ^^^^^^^^^^^^^^^^\n",
            "  File \"/var/folders/bj/1khh1pvn7ll8451vj5j93kqw0000gn/T/ipykernel_1612/864102016.py\", line 2, in sel1\n",
            "    if(Checkvar1.get()==1):\n",
            "       ^^^^^^^^^\n",
            "NameError: name 'Checkvar1' is not defined\n",
            "Exception in Tkinter callback\n",
            "Traceback (most recent call last):\n",
            "  File \"/Users/prasadbhonde/Documents/anaconda3/envs/Env_1/lib/python3.11/tkinter/__init__.py\", line 1948, in __call__\n",
            "    return self.func(*args)\n",
            "           ^^^^^^^^^^^^^^^^\n",
            "  File \"/var/folders/bj/1khh1pvn7ll8451vj5j93kqw0000gn/T/ipykernel_1612/864102016.py\", line 2, in sel1\n",
            "    if(Checkvar1.get()==1):\n",
            "       ^^^^^^^^^\n",
            "NameError: name 'Checkvar1' is not defined\n"
          ]
        }
      ],
      "source": [
        "window=Tk()\n",
        "\n",
        "CheckVar1=IntVar()\n",
        "CheckVar2=IntVar()\n",
        "\n",
        "C1 = Checkbutton(window, text=\"Python Programming\", variable = CheckVar1, onvalue=1, offvalue=0, height=5, width=20, command=sel1)\n",
        "C2 = Checkbutton(window, text=\"Tkinter\", variable = CheckVar2, onvalue=1, offvalue=0, height=5, width=20, command=sel2)\n",
        "\n",
        "C1.pack()\n",
        "C2.pack()\n",
        "\n",
        "label=Label(window)\n",
        "label.pack()\n",
        "\n",
        "window.mainloop()"
      ]
    },
    {
      "cell_type": "markdown",
      "id": "6e95d837",
      "metadata": {
        "id": "6e95d837"
      },
      "source": [
        "## ListBoxes"
      ]
    },
    {
      "cell_type": "code",
      "execution_count": null,
      "id": "e265062a",
      "metadata": {
        "id": "e265062a"
      },
      "outputs": [],
      "source": [
        "from tkinter import *"
      ]
    },
    {
      "cell_type": "code",
      "execution_count": null,
      "id": "271ae937",
      "metadata": {
        "id": "271ae937",
        "outputId": "5107ee66-4c15-417a-e70f-89e653219ac3"
      },
      "outputs": [
        {
          "name": "stdout",
          "output_type": "stream",
          "text": [
            "SQLite\n"
          ]
        }
      ],
      "source": [
        "window=Tk()\n",
        "\n",
        "def my_upd():\n",
        "    print(l1.get(ACTIVE))   #get the active or selected element\n",
        "\n",
        "l1 = Listbox(window,height=4)\n",
        "l1.grid(row=1,column=1)\n",
        "\n",
        "my_list=[\"Tkinter\",\"Python\",\"Numpy\",\"Pandas\",\"SQLite\"]\n",
        "\n",
        "for element in my_list:\n",
        "    l1.insert(END,element)\n",
        "\n",
        "b1 = Button(window,text=\"Show\",width=10,bg=\"Yellow\",command=my_upd)\n",
        "b1.grid(row=1,column=2)\n",
        "\n",
        "window.mainloop()"
      ]
    },
    {
      "cell_type": "code",
      "execution_count": null,
      "id": "ad4b3602",
      "metadata": {
        "id": "ad4b3602"
      },
      "outputs": [],
      "source": []
    },
    {
      "cell_type": "code",
      "execution_count": null,
      "id": "e31de933",
      "metadata": {
        "id": "e31de933"
      },
      "outputs": [],
      "source": []
    },
    {
      "cell_type": "code",
      "execution_count": null,
      "id": "9d4e3bce",
      "metadata": {
        "id": "9d4e3bce"
      },
      "outputs": [],
      "source": []
    }
  ],
  "metadata": {
    "kernelspec": {
      "display_name": "Python 3 (ipykernel)",
      "language": "python",
      "name": "python3"
    },
    "language_info": {
      "codemirror_mode": {
        "name": "ipython",
        "version": 3
      },
      "file_extension": ".py",
      "mimetype": "text/x-python",
      "name": "python",
      "nbconvert_exporter": "python",
      "pygments_lexer": "ipython3",
      "version": "3.11.5"
    },
    "colab": {
      "provenance": [],
      "include_colab_link": true
    }
  },
  "nbformat": 4,
  "nbformat_minor": 5
}