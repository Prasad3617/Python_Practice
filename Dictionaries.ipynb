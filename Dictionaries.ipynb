{
  "nbformat": 4,
  "nbformat_minor": 0,
  "metadata": {
    "colab": {
      "provenance": [],
      "authorship_tag": "ABX9TyPJsRn3p1UWGAtJHzhV8pzi",
      "include_colab_link": true
    },
    "kernelspec": {
      "name": "python3",
      "display_name": "Python 3"
    },
    "language_info": {
      "name": "python"
    }
  },
  "cells": [
    {
      "cell_type": "markdown",
      "metadata": {
        "id": "view-in-github",
        "colab_type": "text"
      },
      "source": [
        "<a href=\"https://colab.research.google.com/github/Prasad3617/Python_Practice/blob/main/Dictionaries.ipynb\" target=\"_parent\"><img src=\"https://colab.research.google.com/assets/colab-badge.svg\" alt=\"Open In Colab\"/></a>"
      ]
    },
    {
      "cell_type": "markdown",
      "source": [
        "# Creating a Dictionary"
      ],
      "metadata": {
        "id": "n07rx_igKiqN"
      }
    },
    {
      "cell_type": "code",
      "source": [
        "capitals={'Telangana':'Hyderabad','TamilNadu':'Chennai','Karnataka':'Bengaluru','AndhraPradesh':'Hyderabad','Maharashtra':'Mumbai'}\n",
        "\n",
        "print('Capitals: ',capitals)"
      ],
      "metadata": {
        "colab": {
          "base_uri": "https://localhost:8080/",
          "height": 0
        },
        "id": "t5h3f2N3Knaj",
        "outputId": "31bab858-4b29-4b75-ef21-f30966f8093d"
      },
      "execution_count": 1,
      "outputs": [
        {
          "output_type": "stream",
          "name": "stdout",
          "text": [
            "Capitals:  {'Telangana': 'Hyderabad', 'TamilNadu': 'Chennai', 'Karnataka': 'Bengaluru', 'AndhraPradesh': 'Hyderabad', 'Maharashtra': 'Mumbai'}\n"
          ]
        }
      ]
    },
    {
      "cell_type": "markdown",
      "source": [
        "### Creating a 'Dictionary' from other collection datatypes: 'lists', 'tuples' etc."
      ],
      "metadata": {
        "id": "VYNPsQHlLSRu"
      }
    },
    {
      "cell_type": "markdown",
      "source": [
        "#### #from strings"
      ],
      "metadata": {
        "id": "6Ic7qGTrMDMk"
      }
    },
    {
      "cell_type": "code",
      "source": [
        "dict1=dict(Uk=\"london\", Ireland=\"Dublin\", France=\"Paris\")\n",
        "print(\"dict1:\",dict1)"
      ],
      "metadata": {
        "colab": {
          "base_uri": "https://localhost:8080/",
          "height": 0
        },
        "id": "-woIqIIeLXwk",
        "outputId": "0d0360df-921c-4b28-e059-295b7cd9411e"
      },
      "execution_count": 2,
      "outputs": [
        {
          "output_type": "stream",
          "name": "stdout",
          "text": [
            "dict1: {'Uk': 'london', 'Ireland': 'Dublin', 'France': 'Paris'}\n"
          ]
        }
      ]
    },
    {
      "cell_type": "markdown",
      "source": [
        "#### #from list of tuples"
      ],
      "metadata": {
        "id": "nDul-kAHMVk0"
      }
    },
    {
      "cell_type": "code",
      "source": [
        "dict2=dict([('Uk','London'),('Ireland','Dublin'),('France','Paris')])\n",
        "print(\"dict2:\",dict2)"
      ],
      "metadata": {
        "colab": {
          "base_uri": "https://localhost:8080/",
          "height": 0
        },
        "id": "YW7EHqLKMaCP",
        "outputId": "3e6578dd-12a7-4c15-e0c0-6ab3493354ce"
      },
      "execution_count": 3,
      "outputs": [
        {
          "output_type": "stream",
          "name": "stdout",
          "text": [
            "dict2: {'Uk': 'London', 'Ireland': 'Dublin', 'France': 'Paris'}\n"
          ]
        }
      ]
    },
    {
      "cell_type": "markdown",
      "source": [
        "#### #from tuple of lists"
      ],
      "metadata": {
        "id": "7KFN70JOM_ig"
      }
    },
    {
      "cell_type": "code",
      "source": [
        "dict3=dict((['Uk','London'],['Ireland','Dublin'],['France','Paris']))\n",
        "print(dict3)"
      ],
      "metadata": {
        "colab": {
          "base_uri": "https://localhost:8080/",
          "height": 0
        },
        "id": "cWiKjlWhNJuQ",
        "outputId": "e30954e7-4d61-4cd5-a4eb-91813464f8c1"
      },
      "execution_count": 4,
      "outputs": [
        {
          "output_type": "stream",
          "name": "stdout",
          "text": [
            "{'Uk': 'London', 'Ireland': 'Dublin', 'France': 'Paris'}\n"
          ]
        }
      ]
    },
    {
      "cell_type": "markdown",
      "source": [
        "#### #Working with dictionaries"
      ],
      "metadata": {
        "id": "SDNRgELTa2tr"
      }
    },
    {
      "cell_type": "code",
      "source": [
        "print(\"The capitals dictionary is:\",capitals)\n",
        "\n",
        "print(\"\\nThe capital city of 'Telangana' is:\",capitals['Telangana'])\n",
        "\n",
        "#Adding a new key-value pair to 'Capitals'\n",
        "capitals['Kerala']='Thiruvananthapuram'\n",
        "print(\"\\nThe modified dictionary capitals is:\",capitals)\n",
        "\n",
        "#Modifying the 'Value' of a Key in the dictionary\n",
        "capitals['AndhraPradesh']='Amravati'\n",
        "print(\"\\nYet, the modified dictionary capitals is:\",capitals)\n",
        "\n",
        "#'in' & 'not in' operators\n",
        "print('\\nAssam is in capitals, True or False:','Assam' in capitals)\n",
        "print('\\nOdisha is not in capitals, True or False:','Odisha' not in capitals)\n",
        "\n",
        "#printing the length of capitals\n",
        "print(\"\\nThe length of capitals is:\",len(capitals))"
      ],
      "metadata": {
        "colab": {
          "base_uri": "https://localhost:8080/",
          "height": 0
        },
        "id": "ir0b2kc0a6ng",
        "outputId": "5dd0c228-e894-4e8a-898d-7c5cf6d0fbf7"
      },
      "execution_count": 5,
      "outputs": [
        {
          "output_type": "stream",
          "name": "stdout",
          "text": [
            "The capitals dictionary is: {'Telangana': 'Hyderabad', 'TamilNadu': 'Chennai', 'Karnataka': 'Bengaluru', 'AndhraPradesh': 'Hyderabad', 'Maharashtra': 'Mumbai'}\n",
            "\n",
            "The capital city of 'Telangana' is: Hyderabad\n",
            "\n",
            "The modified dictionary capitals is: {'Telangana': 'Hyderabad', 'TamilNadu': 'Chennai', 'Karnataka': 'Bengaluru', 'AndhraPradesh': 'Hyderabad', 'Maharashtra': 'Mumbai', 'Kerala': 'Thiruvananthapuram'}\n",
            "\n",
            "Yet, the modified dictionary capitals is: {'Telangana': 'Hyderabad', 'TamilNadu': 'Chennai', 'Karnataka': 'Bengaluru', 'AndhraPradesh': 'Amravati', 'Maharashtra': 'Mumbai', 'Kerala': 'Thiruvananthapuram'}\n",
            "\n",
            "Assam is in capitals, True or False: False\n",
            "\n",
            "Odisha is not in capitals, True or False: True\n",
            "\n",
            "The length of capitals is: 6\n"
          ]
        }
      ]
    },
    {
      "cell_type": "markdown",
      "source": [
        "#### #Removing item(s) from a dictionary"
      ],
      "metadata": {
        "id": "XS4EPdMFeRKf"
      }
    },
    {
      "cell_type": "code",
      "source": [
        "print(capitals)\n",
        "print(\"\\nThe value of last item deleted is:\",capitals.popitem())\n",
        "print(\"\\nThe capital of Telangana is:\",capitals.pop(\"Telangana\"))\n",
        "del capitals['Karnataka']\n",
        "print(\"\\nThe capitals dictionary after the above deletions is:\",capitals)\n",
        "print(\"\\nClearing the dictionary!\")\n",
        "capitals.clear()\n",
        "print(\"\\nThe dictionary capitals after clearing is:\",capitals, \",i.e. an empty dictionary.\")"
      ],
      "metadata": {
        "colab": {
          "base_uri": "https://localhost:8080/",
          "height": 0
        },
        "id": "clycpOLeeXWt",
        "outputId": "6a0dcf7d-15b7-4173-d8be-e8038841c7ec"
      },
      "execution_count": 6,
      "outputs": [
        {
          "output_type": "stream",
          "name": "stdout",
          "text": [
            "{'Telangana': 'Hyderabad', 'TamilNadu': 'Chennai', 'Karnataka': 'Bengaluru', 'AndhraPradesh': 'Amravati', 'Maharashtra': 'Mumbai', 'Kerala': 'Thiruvananthapuram'}\n",
            "\n",
            "The value of last item deleted is: ('Kerala', 'Thiruvananthapuram')\n",
            "\n",
            "The capital of Telangana is: Hyderabad\n",
            "\n",
            "The capitals dictionary after the above deletions is: {'TamilNadu': 'Chennai', 'AndhraPradesh': 'Amravati', 'Maharashtra': 'Mumbai'}\n",
            "\n",
            "Clearing the dictionary!\n",
            "\n",
            "The dictionary capitals after clearing is: {} i.e. an empty dictionary.\n"
          ]
        }
      ]
    },
    {
      "cell_type": "markdown",
      "source": [
        "#### #Iterate over Keys and Values"
      ],
      "metadata": {
        "id": "WmZHFklxlfHW"
      }
    },
    {
      "cell_type": "code",
      "source": [
        "capitals={'Telangana':'Hyderabad','TamilNadu':'Chennai','Karnataka':'Bengaluru','AndhraPradesh':'Hyderabad','Maharashtra':'Mumbai'}\n",
        "\n",
        "for state in capitals:\n",
        "  print(state,end=',')\n",
        "  print(capitals[state])\n",
        "\n",
        "for cap in capitals.values():\n",
        "  print(\"\\n\",cap)\n",
        "\n",
        "print(\"\\n\",capitals.values())\n",
        "print(\"\\n\",capitals.keys())\n",
        "print(\"\\n\",capitals.items())"
      ],
      "metadata": {
        "colab": {
          "base_uri": "https://localhost:8080/",
          "height": 0
        },
        "id": "AYVuD0y9lmPt",
        "outputId": "c60cd6a6-d439-41a5-e1ba-4d8b71fb8d0e"
      },
      "execution_count": 11,
      "outputs": [
        {
          "output_type": "stream",
          "name": "stdout",
          "text": [
            "Telangana,Hyderabad\n",
            "TamilNadu,Chennai\n",
            "Karnataka,Bengaluru\n",
            "AndhraPradesh,Hyderabad\n",
            "Maharashtra,Mumbai\n",
            "\n",
            " Hyderabad\n",
            "\n",
            " Chennai\n",
            "\n",
            " Bengaluru\n",
            "\n",
            " Hyderabad\n",
            "\n",
            " Mumbai\n",
            "\n",
            " dict_values(['Hyderabad', 'Chennai', 'Bengaluru', 'Hyderabad', 'Mumbai'])\n",
            "\n",
            " dict_keys(['Telangana', 'TamilNadu', 'Karnataka', 'AndhraPradesh', 'Maharashtra'])\n",
            "\n",
            " dict_items([('Telangana', 'Hyderabad'), ('TamilNadu', 'Chennai'), ('Karnataka', 'Bengaluru'), ('AndhraPradesh', 'Hyderabad'), ('Maharashtra', 'Mumbai')])\n"
          ]
        }
      ]
    },
    {
      "cell_type": "markdown",
      "source": [
        "#### #Nested Dictionaries"
      ],
      "metadata": {
        "id": "QRVTppnVm-Z7"
      }
    },
    {
      "cell_type": "code",
      "source": [
        "Seasons={'Spring':('Mar','April','May'),\n",
        "         'Summer':('June','July','August'),\n",
        "         'Autumn':('Sep','Oct','Nov'),\n",
        "         'Winter':('Dec','Jan','Feb')}\n",
        "print(Seasons['Spring'])  \n",
        "print(\"\\n\",Seasons['Spring'][1])       "
      ],
      "metadata": {
        "colab": {
          "base_uri": "https://localhost:8080/",
          "height": 0
        },
        "id": "wX6CIZGanBp8",
        "outputId": "69c85394-a61b-4617-c47a-ba5cd3dff2fc"
      },
      "execution_count": 12,
      "outputs": [
        {
          "output_type": "stream",
          "name": "stdout",
          "text": [
            "('Mar', 'April', 'May')\n",
            "\n",
            " April\n"
          ]
        }
      ]
    },
    {
      "cell_type": "markdown",
      "source": [
        "#### #Implementing a 'histogram' to count the number of letters in sentence"
      ],
      "metadata": {
        "id": "P7qJk-_3pkrK"
      }
    },
    {
      "cell_type": "code",
      "source": [
        "sentence=input(\"Enter a sentence: \")\n",
        "d=dict()\n",
        "\n",
        "for c in sentence:\n",
        "  if c not in d:\n",
        "    d[c]=1\n",
        "  else:\n",
        "    d[c]+=1  \n",
        "print(\"\\nThe frequency of letter in the given sentence is:\",d)    "
      ],
      "metadata": {
        "colab": {
          "base_uri": "https://localhost:8080/",
          "height": 0
        },
        "id": "EHaIeyCwptPq",
        "outputId": "5f802a49-bd75-4a18-ec8f-8725bccf2027"
      },
      "execution_count": 15,
      "outputs": [
        {
          "output_type": "stream",
          "name": "stdout",
          "text": [
            "Enter a sentence: The collection data types in pythion are: 'Lists', 'Tuples', 'Sets' and 'Dictionaries'.\n",
            "\n",
            "The frequency of letter in the given sentence is: {'T': 2, 'h': 2, 'e': 7, ' ': 11, 'c': 3, 'o': 4, 'l': 3, 't': 7, 'i': 7, 'n': 5, 'd': 2, 'a': 5, 'y': 2, 'p': 3, 's': 6, 'r': 2, ':': 1, \"'\": 8, 'L': 1, ',': 2, 'u': 1, 'S': 1, 'D': 1, '.': 1}\n"
          ]
        }
      ]
    }
  ]
}