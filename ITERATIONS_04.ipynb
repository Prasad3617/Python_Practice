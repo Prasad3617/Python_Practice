{
  "nbformat": 4,
  "nbformat_minor": 0,
  "metadata": {
    "colab": {
      "provenance": [],
      "authorship_tag": "ABX9TyMk5BSqzmKUhUEeQVTNjUj3",
      "include_colab_link": true
    },
    "kernelspec": {
      "name": "python3",
      "display_name": "Python 3"
    },
    "language_info": {
      "name": "python"
    }
  },
  "cells": [
    {
      "cell_type": "markdown",
      "metadata": {
        "id": "view-in-github",
        "colab_type": "text"
      },
      "source": [
        "<a href=\"https://colab.research.google.com/github/Prasad3617/Python_Practice/blob/main/ITERATIONS_04.ipynb\" target=\"_parent\"><img src=\"https://colab.research.google.com/assets/colab-badge.svg\" alt=\"Open In Colab\"/></a>"
      ]
    },
    {
      "cell_type": "markdown",
      "source": [
        "# ITERATIVE STATEMENTS\n",
        "\n",
        "#### \"CONTINUE\" STATEMENT"
      ],
      "metadata": {
        "id": "Aa7X1Cf8aHWq"
      }
    },
    {
      "cell_type": "markdown",
      "source": [
        "**\"CONTINUE\"** statement also affects the flow of loops: **\"for\"** and **\"while\"** without terminating the entire loop.\n",
        "\n",
        "*This statement allows us to **skip** over part of a loop's iteration for a **particular value**, but then to **continue with the remaining values** in the sequence.*"
      ],
      "metadata": {
        "id": "ynHQznvQaR_E"
      }
    },
    {
      "cell_type": "code",
      "source": [
        "# Example-1: \n",
        "  \n",
        "for i in range(0,10):                #using \"for\" loop\n",
        "  if (i==7):\n",
        "    continue                         #using \"continue\" statement\n",
        "  print(i)  \n",
        "\n",
        "print(\"\\n\")\n",
        "print(\"*********************************************************\")\n",
        "print(\"\\n\")\n",
        "\n",
        "i=0\n",
        "while i<10:                          #using \"while\" loop\n",
        "  print(i)\n",
        "  i+=1    \n",
        "  if(i==7):                          # the position is very crucial here for the \"continue\" statement, making sure that we allow incrementation/decrementation before the use of \"continue\" statement.\n",
        "    continue                         #using \"continue\" statement"
      ],
      "metadata": {
        "colab": {
          "base_uri": "https://localhost:8080/"
        },
        "id": "evMOAlKTavyE",
        "outputId": "a0b7ca56-9ad5-46d1-b86f-47c41f441c7c"
      },
      "execution_count": 4,
      "outputs": [
        {
          "output_type": "stream",
          "name": "stdout",
          "text": [
            "0\n",
            "1\n",
            "2\n",
            "3\n",
            "4\n",
            "5\n",
            "6\n",
            "8\n",
            "9\n",
            "\n",
            "\n",
            "*********************************************************\n",
            "\n",
            "\n",
            "0\n",
            "1\n",
            "2\n",
            "3\n",
            "4\n",
            "5\n",
            "6\n",
            "7\n",
            "8\n",
            "9\n"
          ]
        }
      ]
    },
    {
      "cell_type": "markdown",
      "source": [
        "### \"Pass\" statement\n",
        "\n",
        "#### this statement acts as a placeholder text for a logic we are yet to write.\n",
        "#### This does nothing operational as is evident from the code below:"
      ],
      "metadata": {
        "id": "NsFNUGtgfKox"
      }
    },
    {
      "cell_type": "markdown",
      "source": [
        "Consider attempt_1"
      ],
      "metadata": {
        "id": "Za4ekzpLgBEc"
      }
    },
    {
      "cell_type": "code",
      "source": [
        "i=int(input(\"Enter an integer: \"))\n",
        "\n",
        "if i==18:\n",
        "  pass"
      ],
      "metadata": {
        "colab": {
          "base_uri": "https://localhost:8080/"
        },
        "id": "HBzrdlCtffY4",
        "outputId": "273bca1b-5383-41a1-8082-88cb91e4bf04"
      },
      "execution_count": 5,
      "outputs": [
        {
          "name": "stdout",
          "output_type": "stream",
          "text": [
            "Enter an integer: 10\n"
          ]
        }
      ]
    },
    {
      "cell_type": "markdown",
      "source": [
        "Consider attempt_2"
      ],
      "metadata": {
        "id": "-YN-DqzcgGoP"
      }
    },
    {
      "cell_type": "code",
      "source": [
        "i=int(input(\"Enter an integer: \"))\n",
        "\n",
        "if i==10:\n",
        "  pass\n",
        "\n",
        "else:\n",
        "  print(\"You didn't return '10' as input.\")"
      ],
      "metadata": {
        "colab": {
          "base_uri": "https://localhost:8080/"
        },
        "id": "aGZ8VgZjf1mT",
        "outputId": "2840433a-f619-4e06-c04b-cb9727d108a8"
      },
      "execution_count": 7,
      "outputs": [
        {
          "output_type": "stream",
          "name": "stdout",
          "text": [
            "Enter an integer: 11\n",
            "You didn't return '10' as input.\n"
          ]
        }
      ]
    },
    {
      "cell_type": "markdown",
      "source": [
        "### Notice the \"differencce\" in outputs of the above mentioned two considerations.\n",
        "\n",
        "#### \"pass\" statement does nothing"
      ],
      "metadata": {
        "id": "PKIild8MgJaj"
      }
    },
    {
      "cell_type": "markdown",
      "source": [
        "### #\"else-statement\" with loops\n"
      ],
      "metadata": {
        "id": "XMZ77ipqiMbd"
      }
    },
    {
      "cell_type": "code",
      "source": [
        "for j in range(0,10):\n",
        "  print(j)\n",
        "  if j==7:\n",
        "    break\n",
        "else:\n",
        "  print(\"All statements are excuted.\")\n",
        "\n",
        "print(\"Outside of 'for' loop\")"
      ],
      "metadata": {
        "colab": {
          "base_uri": "https://localhost:8080/"
        },
        "id": "gSMe5in1ixW7",
        "outputId": "329d23eb-aaa4-4e17-d5c6-4d1218d392a4"
      },
      "execution_count": 9,
      "outputs": [
        {
          "output_type": "stream",
          "name": "stdout",
          "text": [
            "0\n",
            "1\n",
            "2\n",
            "3\n",
            "4\n",
            "5\n",
            "6\n",
            "7\n",
            "Outside of 'for' loop\n"
          ]
        }
      ]
    },
    {
      "cell_type": "markdown",
      "source": [
        "Note here that due to the lop terminating before all statements were executed, \"else-statement\" didn't execute.\n"
      ],
      "metadata": {
        "id": "-ScsH_fNjN2I"
      }
    }
  ]
}