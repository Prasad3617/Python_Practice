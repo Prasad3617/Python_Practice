{
  "cells": [
    {
      "cell_type": "markdown",
      "metadata": {
        "id": "view-in-github",
        "colab_type": "text"
      },
      "source": [
        "<a href=\"https://colab.research.google.com/github/Prasad3617/Python_Practice/blob/main/WEEK_9_PYTHON_CHALLENGES.ipynb\" target=\"_parent\"><img src=\"https://colab.research.google.com/assets/colab-badge.svg\" alt=\"Open In Colab\"/></a>"
      ]
    },
    {
      "cell_type": "markdown",
      "id": "a1712db4",
      "metadata": {
        "id": "a1712db4"
      },
      "source": [
        "### Create a data frame called DataFrame1. It should contain data about five employees. Each employee data consists of employee number, name, salary, department number and designation."
      ]
    },
    {
      "cell_type": "code",
      "execution_count": null,
      "id": "d6cbdf46",
      "metadata": {
        "id": "d6cbdf46"
      },
      "outputs": [],
      "source": [
        "import pandas as pd\n",
        "\n",
        "employeedata={\n",
        "    \"employeeno\" :( 1,2,3,4,5),\n",
        "    \"name\" : (\"Robbin\",\"Shawn\",\"Tom\",\"Peter\",\"Mike\"),\n",
        "    \"salary\" : (100000,150000,100000,175000,2000000),\n",
        "    \"deptno\" : (\"101\",\"102\",\"101\",\"102\",\"101\"),\n",
        "    \"designation\" : (\"Emp01\",\"Manager01\",\"Emp03\",\"Manager02\",\"CEO\")\n",
        "}"
      ]
    },
    {
      "cell_type": "code",
      "execution_count": null,
      "id": "405c4d9d",
      "metadata": {
        "id": "405c4d9d"
      },
      "outputs": [],
      "source": [
        "DataFrame1=pd.DataFrame(employeedata)    #creating a dataframe from the dictionary \"employeedata\", being given as a parameter"
      ]
    },
    {
      "cell_type": "code",
      "execution_count": null,
      "id": "a6b95391",
      "metadata": {
        "id": "a6b95391",
        "outputId": "c198d3fd-1f88-4b6d-951e-a884add0db4c"
      },
      "outputs": [
        {
          "data": {
            "text/html": [
              "<div>\n",
              "<style scoped>\n",
              "    .dataframe tbody tr th:only-of-type {\n",
              "        vertical-align: middle;\n",
              "    }\n",
              "\n",
              "    .dataframe tbody tr th {\n",
              "        vertical-align: top;\n",
              "    }\n",
              "\n",
              "    .dataframe thead th {\n",
              "        text-align: right;\n",
              "    }\n",
              "</style>\n",
              "<table border=\"1\" class=\"dataframe\">\n",
              "  <thead>\n",
              "    <tr style=\"text-align: right;\">\n",
              "      <th></th>\n",
              "      <th>employeeno</th>\n",
              "      <th>name</th>\n",
              "      <th>salary</th>\n",
              "      <th>deptno</th>\n",
              "      <th>designation</th>\n",
              "    </tr>\n",
              "  </thead>\n",
              "  <tbody>\n",
              "    <tr>\n",
              "      <th>0</th>\n",
              "      <td>1</td>\n",
              "      <td>Robbin</td>\n",
              "      <td>100000</td>\n",
              "      <td>101</td>\n",
              "      <td>Emp01</td>\n",
              "    </tr>\n",
              "    <tr>\n",
              "      <th>1</th>\n",
              "      <td>2</td>\n",
              "      <td>Shawn</td>\n",
              "      <td>150000</td>\n",
              "      <td>102</td>\n",
              "      <td>Manager01</td>\n",
              "    </tr>\n",
              "    <tr>\n",
              "      <th>2</th>\n",
              "      <td>3</td>\n",
              "      <td>Tom</td>\n",
              "      <td>100000</td>\n",
              "      <td>101</td>\n",
              "      <td>Emp03</td>\n",
              "    </tr>\n",
              "    <tr>\n",
              "      <th>3</th>\n",
              "      <td>4</td>\n",
              "      <td>Peter</td>\n",
              "      <td>175000</td>\n",
              "      <td>102</td>\n",
              "      <td>Manager02</td>\n",
              "    </tr>\n",
              "    <tr>\n",
              "      <th>4</th>\n",
              "      <td>5</td>\n",
              "      <td>Mike</td>\n",
              "      <td>2000000</td>\n",
              "      <td>101</td>\n",
              "      <td>CEO</td>\n",
              "    </tr>\n",
              "  </tbody>\n",
              "</table>\n",
              "</div>"
            ],
            "text/plain": [
              "   employeeno    name   salary deptno designation\n",
              "0           1  Robbin   100000    101       Emp01\n",
              "1           2   Shawn   150000    102   Manager01\n",
              "2           3     Tom   100000    101       Emp03\n",
              "3           4   Peter   175000    102   Manager02\n",
              "4           5    Mike  2000000    101         CEO"
            ]
          },
          "execution_count": 3,
          "metadata": {},
          "output_type": "execute_result"
        }
      ],
      "source": [
        "DataFrame1  #displaying the DataFrame1"
      ]
    },
    {
      "cell_type": "markdown",
      "id": "20dd8980",
      "metadata": {
        "id": "20dd8980"
      },
      "source": [
        "### In the DataFrame1 defined in Q.No. 1, add appropriate column names to the columns. Find the mean of the salary in the DataFrame1."
      ]
    },
    {
      "cell_type": "code",
      "execution_count": null,
      "id": "3db43bbf",
      "metadata": {
        "id": "3db43bbf",
        "outputId": "87a36fca-d5b4-44f0-bd1d-54cba2e2277f"
      },
      "outputs": [
        {
          "name": "stdout",
          "output_type": "stream",
          "text": [
            "Mean of the salary in the DataFrame is:  505000.0\n"
          ]
        }
      ],
      "source": [
        "print(\"Mean of the salary in the DataFrame is: \",DataFrame1[\"salary\"].mean())    #calculating and printing the mean of the said values"
      ]
    },
    {
      "cell_type": "markdown",
      "id": "36848f0d",
      "metadata": {
        "id": "36848f0d"
      },
      "source": [
        "### Create a dictionary called dept. In this dictionary, the columns are deptno, deptname and location. Create a data frame called DataFrame2 from the dictionary dept."
      ]
    },
    {
      "cell_type": "code",
      "execution_count": null,
      "id": "002732c7",
      "metadata": {
        "id": "002732c7"
      },
      "outputs": [],
      "source": [
        "dept={\n",
        "    \"deptno\":(\"101\",\"102\",\"103\",\"104\",\"105\"),\n",
        "    \"deptname\":(\"Mechanical Engineering\",\"Civil Engineering\",\"Computer Science Engineering\",\"Electrical Engineering\",\"Electronics Engineering\"),\n",
        "    \"location\":(\"01\",\"01\",\"02\",\"02\",\"02\")\n",
        "}"
      ]
    },
    {
      "cell_type": "code",
      "execution_count": null,
      "id": "ef9acf5c",
      "metadata": {
        "id": "ef9acf5c"
      },
      "outputs": [],
      "source": [
        "DataFrame2=pd.DataFrame(dept)  #creating a dataframe from the dictionary \"dept\""
      ]
    },
    {
      "cell_type": "code",
      "execution_count": null,
      "id": "896fa315",
      "metadata": {
        "id": "896fa315",
        "outputId": "562ea17b-9ed9-469b-9bcc-ac2b51850da7"
      },
      "outputs": [
        {
          "data": {
            "text/html": [
              "<div>\n",
              "<style scoped>\n",
              "    .dataframe tbody tr th:only-of-type {\n",
              "        vertical-align: middle;\n",
              "    }\n",
              "\n",
              "    .dataframe tbody tr th {\n",
              "        vertical-align: top;\n",
              "    }\n",
              "\n",
              "    .dataframe thead th {\n",
              "        text-align: right;\n",
              "    }\n",
              "</style>\n",
              "<table border=\"1\" class=\"dataframe\">\n",
              "  <thead>\n",
              "    <tr style=\"text-align: right;\">\n",
              "      <th></th>\n",
              "      <th>deptno</th>\n",
              "      <th>deptname</th>\n",
              "      <th>location</th>\n",
              "    </tr>\n",
              "  </thead>\n",
              "  <tbody>\n",
              "    <tr>\n",
              "      <th>0</th>\n",
              "      <td>101</td>\n",
              "      <td>Mechanical Engineering</td>\n",
              "      <td>01</td>\n",
              "    </tr>\n",
              "    <tr>\n",
              "      <th>1</th>\n",
              "      <td>102</td>\n",
              "      <td>Civil Engineering</td>\n",
              "      <td>01</td>\n",
              "    </tr>\n",
              "    <tr>\n",
              "      <th>2</th>\n",
              "      <td>103</td>\n",
              "      <td>Computer Science Engineering</td>\n",
              "      <td>02</td>\n",
              "    </tr>\n",
              "    <tr>\n",
              "      <th>3</th>\n",
              "      <td>104</td>\n",
              "      <td>Electrical Engineering</td>\n",
              "      <td>02</td>\n",
              "    </tr>\n",
              "    <tr>\n",
              "      <th>4</th>\n",
              "      <td>105</td>\n",
              "      <td>Electronics Engineering</td>\n",
              "      <td>02</td>\n",
              "    </tr>\n",
              "  </tbody>\n",
              "</table>\n",
              "</div>"
            ],
            "text/plain": [
              "  deptno                      deptname location\n",
              "0    101        Mechanical Engineering       01\n",
              "1    102             Civil Engineering       01\n",
              "2    103  Computer Science Engineering       02\n",
              "3    104        Electrical Engineering       02\n",
              "4    105       Electronics Engineering       02"
            ]
          },
          "execution_count": 7,
          "metadata": {},
          "output_type": "execute_result"
        }
      ],
      "source": [
        "DataFrame2 #displaying the DataFrame2"
      ]
    },
    {
      "cell_type": "markdown",
      "id": "a1ad0cde",
      "metadata": {
        "id": "a1ad0cde"
      },
      "source": [
        "### Consider a sales.csv file with the following data:\n",
        "\n",
        "Dinesh 7800, 6500, 4590\n",
        "\n",
        "Mahesh 8900,, 3790\n",
        "\n",
        "Ramesh 10800,, 2300\n",
        "\n",
        "Suresh 5600, 6790, 2300\n",
        "\n",
        "Basha 7600, 2300, 2400\n",
        "\n",
        "### The data represents salesman name and sales in three regions: region1, region2 and region3. Load sles.csv into a data frame called DataFrame3. Give appropriate column names to the columns in DataFrame3. Display the contents of DataFrame3.\n",
        "\n",
        "LINK TO ACCESS THE (.csv) FILE: https://drive.google.com/file/d/1d6qNkiISJb6a4q0QRx_wvFrK33vuIAd0/view?usp=sharing"
      ]
    },
    {
      "cell_type": "code",
      "execution_count": null,
      "id": "bddd3fd3",
      "metadata": {
        "id": "bddd3fd3"
      },
      "outputs": [],
      "source": [
        "DataFrame3=pd.read_csv(\"./sales.csv\",header=None)"
      ]
    },
    {
      "cell_type": "code",
      "execution_count": null,
      "id": "3d155672",
      "metadata": {
        "id": "3d155672",
        "outputId": "3c626fd6-b85b-4e9c-e4cd-2c03f1ca18ef"
      },
      "outputs": [
        {
          "data": {
            "text/html": [
              "<div>\n",
              "<style scoped>\n",
              "    .dataframe tbody tr th:only-of-type {\n",
              "        vertical-align: middle;\n",
              "    }\n",
              "\n",
              "    .dataframe tbody tr th {\n",
              "        vertical-align: top;\n",
              "    }\n",
              "\n",
              "    .dataframe thead th {\n",
              "        text-align: right;\n",
              "    }\n",
              "</style>\n",
              "<table border=\"1\" class=\"dataframe\">\n",
              "  <thead>\n",
              "    <tr style=\"text-align: right;\">\n",
              "      <th></th>\n",
              "      <th>0</th>\n",
              "      <th>1</th>\n",
              "      <th>2</th>\n",
              "      <th>3</th>\n",
              "    </tr>\n",
              "  </thead>\n",
              "  <tbody>\n",
              "    <tr>\n",
              "      <th>0</th>\n",
              "      <td>Dinesh</td>\n",
              "      <td>7800</td>\n",
              "      <td>6500.0</td>\n",
              "      <td>4590</td>\n",
              "    </tr>\n",
              "    <tr>\n",
              "      <th>1</th>\n",
              "      <td>Mahesh</td>\n",
              "      <td>8900</td>\n",
              "      <td>NaN</td>\n",
              "      <td>3790</td>\n",
              "    </tr>\n",
              "    <tr>\n",
              "      <th>2</th>\n",
              "      <td>Ramesh</td>\n",
              "      <td>10800</td>\n",
              "      <td>NaN</td>\n",
              "      <td>2300</td>\n",
              "    </tr>\n",
              "    <tr>\n",
              "      <th>3</th>\n",
              "      <td>Suresh</td>\n",
              "      <td>5600</td>\n",
              "      <td>6790.0</td>\n",
              "      <td>2300</td>\n",
              "    </tr>\n",
              "    <tr>\n",
              "      <th>4</th>\n",
              "      <td>Basha</td>\n",
              "      <td>7600</td>\n",
              "      <td>2300.0</td>\n",
              "      <td>2400</td>\n",
              "    </tr>\n",
              "  </tbody>\n",
              "</table>\n",
              "</div>"
            ],
            "text/plain": [
              "        0      1       2     3\n",
              "0  Dinesh   7800  6500.0  4590\n",
              "1  Mahesh   8900     NaN  3790\n",
              "2  Ramesh  10800     NaN  2300\n",
              "3  Suresh   5600  6790.0  2300\n",
              "4   Basha   7600  2300.0  2400"
            ]
          },
          "execution_count": 9,
          "metadata": {},
          "output_type": "execute_result"
        }
      ],
      "source": [
        "DataFrame3     #displaying the DataFrame3"
      ]
    },
    {
      "cell_type": "code",
      "execution_count": null,
      "id": "85f4cbae",
      "metadata": {
        "id": "85f4cbae"
      },
      "outputs": [],
      "source": [
        "DataFrame3.columns=[\"Name\",\"Region_01\",\"Region_02\",\"Region_03\"]"
      ]
    },
    {
      "cell_type": "code",
      "execution_count": null,
      "id": "d7d145ab",
      "metadata": {
        "id": "d7d145ab",
        "outputId": "c2a4248c-df59-45dd-8931-6269bad12225"
      },
      "outputs": [
        {
          "data": {
            "text/html": [
              "<div>\n",
              "<style scoped>\n",
              "    .dataframe tbody tr th:only-of-type {\n",
              "        vertical-align: middle;\n",
              "    }\n",
              "\n",
              "    .dataframe tbody tr th {\n",
              "        vertical-align: top;\n",
              "    }\n",
              "\n",
              "    .dataframe thead th {\n",
              "        text-align: right;\n",
              "    }\n",
              "</style>\n",
              "<table border=\"1\" class=\"dataframe\">\n",
              "  <thead>\n",
              "    <tr style=\"text-align: right;\">\n",
              "      <th></th>\n",
              "      <th>Name</th>\n",
              "      <th>Region_01</th>\n",
              "      <th>Region_02</th>\n",
              "      <th>Region_03</th>\n",
              "    </tr>\n",
              "  </thead>\n",
              "  <tbody>\n",
              "    <tr>\n",
              "      <th>0</th>\n",
              "      <td>Dinesh</td>\n",
              "      <td>7800</td>\n",
              "      <td>6500.0</td>\n",
              "      <td>4590</td>\n",
              "    </tr>\n",
              "    <tr>\n",
              "      <th>1</th>\n",
              "      <td>Mahesh</td>\n",
              "      <td>8900</td>\n",
              "      <td>NaN</td>\n",
              "      <td>3790</td>\n",
              "    </tr>\n",
              "    <tr>\n",
              "      <th>2</th>\n",
              "      <td>Ramesh</td>\n",
              "      <td>10800</td>\n",
              "      <td>NaN</td>\n",
              "      <td>2300</td>\n",
              "    </tr>\n",
              "    <tr>\n",
              "      <th>3</th>\n",
              "      <td>Suresh</td>\n",
              "      <td>5600</td>\n",
              "      <td>6790.0</td>\n",
              "      <td>2300</td>\n",
              "    </tr>\n",
              "    <tr>\n",
              "      <th>4</th>\n",
              "      <td>Basha</td>\n",
              "      <td>7600</td>\n",
              "      <td>2300.0</td>\n",
              "      <td>2400</td>\n",
              "    </tr>\n",
              "  </tbody>\n",
              "</table>\n",
              "</div>"
            ],
            "text/plain": [
              "     Name  Region_01  Region_02  Region_03\n",
              "0  Dinesh       7800     6500.0       4590\n",
              "1  Mahesh       8900        NaN       3790\n",
              "2  Ramesh      10800        NaN       2300\n",
              "3  Suresh       5600     6790.0       2300\n",
              "4   Basha       7600     2300.0       2400"
            ]
          },
          "execution_count": 11,
          "metadata": {},
          "output_type": "execute_result"
        }
      ],
      "source": [
        "DataFrame3  #displaying the DataFrame3"
      ]
    },
    {
      "cell_type": "markdown",
      "id": "ae38b066",
      "metadata": {
        "id": "ae38b066"
      },
      "source": [
        "### In this exercise, demonstrate different methods of handling missing data in data frames. For reference, consider the DataFrame3 created in Q.No. 4. In DataFrame3, do the following: fill missing values with zeroes, fill missing values with the mean of their respective column, drop the rows containing missing values, drop the columns containing missing values."
      ]
    },
    {
      "cell_type": "code",
      "execution_count": null,
      "id": "90372043",
      "metadata": {
        "id": "90372043",
        "outputId": "98b97ad8-ed88-43d1-9bcf-2ab32b73df8d"
      },
      "outputs": [
        {
          "data": {
            "text/html": [
              "<div>\n",
              "<style scoped>\n",
              "    .dataframe tbody tr th:only-of-type {\n",
              "        vertical-align: middle;\n",
              "    }\n",
              "\n",
              "    .dataframe tbody tr th {\n",
              "        vertical-align: top;\n",
              "    }\n",
              "\n",
              "    .dataframe thead th {\n",
              "        text-align: right;\n",
              "    }\n",
              "</style>\n",
              "<table border=\"1\" class=\"dataframe\">\n",
              "  <thead>\n",
              "    <tr style=\"text-align: right;\">\n",
              "      <th></th>\n",
              "      <th>Name</th>\n",
              "      <th>Region_01</th>\n",
              "      <th>Region_02</th>\n",
              "      <th>Region_03</th>\n",
              "    </tr>\n",
              "  </thead>\n",
              "  <tbody>\n",
              "    <tr>\n",
              "      <th>0</th>\n",
              "      <td>Dinesh</td>\n",
              "      <td>7800</td>\n",
              "      <td>6500.0</td>\n",
              "      <td>4590</td>\n",
              "    </tr>\n",
              "    <tr>\n",
              "      <th>1</th>\n",
              "      <td>Mahesh</td>\n",
              "      <td>8900</td>\n",
              "      <td>NaN</td>\n",
              "      <td>3790</td>\n",
              "    </tr>\n",
              "    <tr>\n",
              "      <th>2</th>\n",
              "      <td>Ramesh</td>\n",
              "      <td>10800</td>\n",
              "      <td>NaN</td>\n",
              "      <td>2300</td>\n",
              "    </tr>\n",
              "    <tr>\n",
              "      <th>3</th>\n",
              "      <td>Suresh</td>\n",
              "      <td>5600</td>\n",
              "      <td>6790.0</td>\n",
              "      <td>2300</td>\n",
              "    </tr>\n",
              "    <tr>\n",
              "      <th>4</th>\n",
              "      <td>Basha</td>\n",
              "      <td>7600</td>\n",
              "      <td>2300.0</td>\n",
              "      <td>2400</td>\n",
              "    </tr>\n",
              "  </tbody>\n",
              "</table>\n",
              "</div>"
            ],
            "text/plain": [
              "     Name  Region_01  Region_02  Region_03\n",
              "0  Dinesh       7800     6500.0       4590\n",
              "1  Mahesh       8900        NaN       3790\n",
              "2  Ramesh      10800        NaN       2300\n",
              "3  Suresh       5600     6790.0       2300\n",
              "4   Basha       7600     2300.0       2400"
            ]
          },
          "execution_count": 12,
          "metadata": {},
          "output_type": "execute_result"
        }
      ],
      "source": [
        "DataFrame3  #displaying the DataFrame3"
      ]
    },
    {
      "cell_type": "code",
      "execution_count": null,
      "id": "e97fde0b",
      "metadata": {
        "id": "e97fde0b",
        "outputId": "106025a7-ce6b-4936-8158-491d0e1cc66b"
      },
      "outputs": [
        {
          "data": {
            "text/html": [
              "<div>\n",
              "<style scoped>\n",
              "    .dataframe tbody tr th:only-of-type {\n",
              "        vertical-align: middle;\n",
              "    }\n",
              "\n",
              "    .dataframe tbody tr th {\n",
              "        vertical-align: top;\n",
              "    }\n",
              "\n",
              "    .dataframe thead th {\n",
              "        text-align: right;\n",
              "    }\n",
              "</style>\n",
              "<table border=\"1\" class=\"dataframe\">\n",
              "  <thead>\n",
              "    <tr style=\"text-align: right;\">\n",
              "      <th></th>\n",
              "      <th>Name</th>\n",
              "      <th>Region_01</th>\n",
              "      <th>Region_02</th>\n",
              "      <th>Region_03</th>\n",
              "    </tr>\n",
              "  </thead>\n",
              "  <tbody>\n",
              "    <tr>\n",
              "      <th>0</th>\n",
              "      <td>Dinesh</td>\n",
              "      <td>7800</td>\n",
              "      <td>6500.0</td>\n",
              "      <td>4590</td>\n",
              "    </tr>\n",
              "    <tr>\n",
              "      <th>1</th>\n",
              "      <td>Mahesh</td>\n",
              "      <td>8900</td>\n",
              "      <td>0</td>\n",
              "      <td>3790</td>\n",
              "    </tr>\n",
              "    <tr>\n",
              "      <th>2</th>\n",
              "      <td>Ramesh</td>\n",
              "      <td>10800</td>\n",
              "      <td>0</td>\n",
              "      <td>2300</td>\n",
              "    </tr>\n",
              "    <tr>\n",
              "      <th>3</th>\n",
              "      <td>Suresh</td>\n",
              "      <td>5600</td>\n",
              "      <td>6790.0</td>\n",
              "      <td>2300</td>\n",
              "    </tr>\n",
              "    <tr>\n",
              "      <th>4</th>\n",
              "      <td>Basha</td>\n",
              "      <td>7600</td>\n",
              "      <td>2300.0</td>\n",
              "      <td>2400</td>\n",
              "    </tr>\n",
              "  </tbody>\n",
              "</table>\n",
              "</div>"
            ],
            "text/plain": [
              "     Name  Region_01 Region_02  Region_03\n",
              "0  Dinesh       7800    6500.0       4590\n",
              "1  Mahesh       8900         0       3790\n",
              "2  Ramesh      10800         0       2300\n",
              "3  Suresh       5600    6790.0       2300\n",
              "4   Basha       7600    2300.0       2400"
            ]
          },
          "execution_count": 13,
          "metadata": {},
          "output_type": "execute_result"
        }
      ],
      "source": [
        "#Filling missing values in the DataFrame3\n",
        "\n",
        "DataFrame3.fillna(\"0\")"
      ]
    },
    {
      "cell_type": "code",
      "execution_count": null,
      "id": "b258dd36",
      "metadata": {
        "id": "b258dd36",
        "outputId": "63f085c2-92c3-4f23-f7cb-613ce834fa98"
      },
      "outputs": [
        {
          "name": "stderr",
          "output_type": "stream",
          "text": [
            "/var/folders/l4/6y_sy_9n1s7cbdl1qtp0sj240000gn/T/ipykernel_2172/1994544421.py:3: FutureWarning: The default value of numeric_only in DataFrame.mean is deprecated. In a future version, it will default to False. In addition, specifying 'numeric_only=None' is deprecated. Select only valid columns or specify the value of numeric_only to silence this warning.\n",
            "  DataFrame3.fillna(DataFrame3.mean())\n"
          ]
        },
        {
          "data": {
            "text/html": [
              "<div>\n",
              "<style scoped>\n",
              "    .dataframe tbody tr th:only-of-type {\n",
              "        vertical-align: middle;\n",
              "    }\n",
              "\n",
              "    .dataframe tbody tr th {\n",
              "        vertical-align: top;\n",
              "    }\n",
              "\n",
              "    .dataframe thead th {\n",
              "        text-align: right;\n",
              "    }\n",
              "</style>\n",
              "<table border=\"1\" class=\"dataframe\">\n",
              "  <thead>\n",
              "    <tr style=\"text-align: right;\">\n",
              "      <th></th>\n",
              "      <th>Name</th>\n",
              "      <th>Region_01</th>\n",
              "      <th>Region_02</th>\n",
              "      <th>Region_03</th>\n",
              "    </tr>\n",
              "  </thead>\n",
              "  <tbody>\n",
              "    <tr>\n",
              "      <th>0</th>\n",
              "      <td>Dinesh</td>\n",
              "      <td>7800</td>\n",
              "      <td>6500.000000</td>\n",
              "      <td>4590</td>\n",
              "    </tr>\n",
              "    <tr>\n",
              "      <th>1</th>\n",
              "      <td>Mahesh</td>\n",
              "      <td>8900</td>\n",
              "      <td>5196.666667</td>\n",
              "      <td>3790</td>\n",
              "    </tr>\n",
              "    <tr>\n",
              "      <th>2</th>\n",
              "      <td>Ramesh</td>\n",
              "      <td>10800</td>\n",
              "      <td>5196.666667</td>\n",
              "      <td>2300</td>\n",
              "    </tr>\n",
              "    <tr>\n",
              "      <th>3</th>\n",
              "      <td>Suresh</td>\n",
              "      <td>5600</td>\n",
              "      <td>6790.000000</td>\n",
              "      <td>2300</td>\n",
              "    </tr>\n",
              "    <tr>\n",
              "      <th>4</th>\n",
              "      <td>Basha</td>\n",
              "      <td>7600</td>\n",
              "      <td>2300.000000</td>\n",
              "      <td>2400</td>\n",
              "    </tr>\n",
              "  </tbody>\n",
              "</table>\n",
              "</div>"
            ],
            "text/plain": [
              "     Name  Region_01    Region_02  Region_03\n",
              "0  Dinesh       7800  6500.000000       4590\n",
              "1  Mahesh       8900  5196.666667       3790\n",
              "2  Ramesh      10800  5196.666667       2300\n",
              "3  Suresh       5600  6790.000000       2300\n",
              "4   Basha       7600  2300.000000       2400"
            ]
          },
          "execution_count": 14,
          "metadata": {},
          "output_type": "execute_result"
        }
      ],
      "source": [
        "#Filling missing values with \"mean\" of values in other rows in DataFrame3\n",
        "\n",
        "DataFrame3.fillna(DataFrame3.mean())"
      ]
    },
    {
      "cell_type": "code",
      "execution_count": null,
      "id": "d064a97f",
      "metadata": {
        "id": "d064a97f",
        "outputId": "732902e5-268f-410f-c71e-840e56514442"
      },
      "outputs": [
        {
          "data": {
            "text/html": [
              "<div>\n",
              "<style scoped>\n",
              "    .dataframe tbody tr th:only-of-type {\n",
              "        vertical-align: middle;\n",
              "    }\n",
              "\n",
              "    .dataframe tbody tr th {\n",
              "        vertical-align: top;\n",
              "    }\n",
              "\n",
              "    .dataframe thead th {\n",
              "        text-align: right;\n",
              "    }\n",
              "</style>\n",
              "<table border=\"1\" class=\"dataframe\">\n",
              "  <thead>\n",
              "    <tr style=\"text-align: right;\">\n",
              "      <th></th>\n",
              "      <th>Name</th>\n",
              "      <th>Region_01</th>\n",
              "      <th>Region_02</th>\n",
              "      <th>Region_03</th>\n",
              "    </tr>\n",
              "  </thead>\n",
              "  <tbody>\n",
              "    <tr>\n",
              "      <th>0</th>\n",
              "      <td>Dinesh</td>\n",
              "      <td>7800</td>\n",
              "      <td>6500.0</td>\n",
              "      <td>4590</td>\n",
              "    </tr>\n",
              "    <tr>\n",
              "      <th>3</th>\n",
              "      <td>Suresh</td>\n",
              "      <td>5600</td>\n",
              "      <td>6790.0</td>\n",
              "      <td>2300</td>\n",
              "    </tr>\n",
              "    <tr>\n",
              "      <th>4</th>\n",
              "      <td>Basha</td>\n",
              "      <td>7600</td>\n",
              "      <td>2300.0</td>\n",
              "      <td>2400</td>\n",
              "    </tr>\n",
              "  </tbody>\n",
              "</table>\n",
              "</div>"
            ],
            "text/plain": [
              "     Name  Region_01  Region_02  Region_03\n",
              "0  Dinesh       7800     6500.0       4590\n",
              "3  Suresh       5600     6790.0       2300\n",
              "4   Basha       7600     2300.0       2400"
            ]
          },
          "execution_count": 15,
          "metadata": {},
          "output_type": "execute_result"
        }
      ],
      "source": [
        "#drop the rows containing missing values\n",
        "\n",
        "DataFrame3.dropna()"
      ]
    },
    {
      "cell_type": "code",
      "execution_count": null,
      "id": "bf699686",
      "metadata": {
        "id": "bf699686",
        "outputId": "69366153-e3f2-4948-f48b-e7c8004d9dcb"
      },
      "outputs": [
        {
          "data": {
            "text/html": [
              "<div>\n",
              "<style scoped>\n",
              "    .dataframe tbody tr th:only-of-type {\n",
              "        vertical-align: middle;\n",
              "    }\n",
              "\n",
              "    .dataframe tbody tr th {\n",
              "        vertical-align: top;\n",
              "    }\n",
              "\n",
              "    .dataframe thead th {\n",
              "        text-align: right;\n",
              "    }\n",
              "</style>\n",
              "<table border=\"1\" class=\"dataframe\">\n",
              "  <thead>\n",
              "    <tr style=\"text-align: right;\">\n",
              "      <th></th>\n",
              "      <th>Name</th>\n",
              "      <th>Region_01</th>\n",
              "      <th>Region_03</th>\n",
              "    </tr>\n",
              "  </thead>\n",
              "  <tbody>\n",
              "    <tr>\n",
              "      <th>0</th>\n",
              "      <td>Dinesh</td>\n",
              "      <td>7800</td>\n",
              "      <td>4590</td>\n",
              "    </tr>\n",
              "    <tr>\n",
              "      <th>1</th>\n",
              "      <td>Mahesh</td>\n",
              "      <td>8900</td>\n",
              "      <td>3790</td>\n",
              "    </tr>\n",
              "    <tr>\n",
              "      <th>2</th>\n",
              "      <td>Ramesh</td>\n",
              "      <td>10800</td>\n",
              "      <td>2300</td>\n",
              "    </tr>\n",
              "    <tr>\n",
              "      <th>3</th>\n",
              "      <td>Suresh</td>\n",
              "      <td>5600</td>\n",
              "      <td>2300</td>\n",
              "    </tr>\n",
              "    <tr>\n",
              "      <th>4</th>\n",
              "      <td>Basha</td>\n",
              "      <td>7600</td>\n",
              "      <td>2400</td>\n",
              "    </tr>\n",
              "  </tbody>\n",
              "</table>\n",
              "</div>"
            ],
            "text/plain": [
              "     Name  Region_01  Region_03\n",
              "0  Dinesh       7800       4590\n",
              "1  Mahesh       8900       3790\n",
              "2  Ramesh      10800       2300\n",
              "3  Suresh       5600       2300\n",
              "4   Basha       7600       2400"
            ]
          },
          "execution_count": 16,
          "metadata": {},
          "output_type": "execute_result"
        }
      ],
      "source": [
        "#drop the columns containing missing values.¶\n",
        "\n",
        "DataFrame3.dropna(axis=1)"
      ]
    },
    {
      "cell_type": "markdown",
      "id": "d0c070d0",
      "metadata": {
        "id": "d0c070d0"
      },
      "source": [
        "### From DataFrame1 create a new data frame called DataFrame4. In DataFrame4, set the employee number as an in-place index. Display data from the 3rd row and 4th column using label-based and integer-based indexing."
      ]
    },
    {
      "cell_type": "code",
      "execution_count": null,
      "id": "854ac851",
      "metadata": {
        "id": "854ac851"
      },
      "outputs": [],
      "source": [
        "DataFrame4=DataFrame1  #creating a dataframe from previously created DataFrame \"DataFrame1\""
      ]
    },
    {
      "cell_type": "code",
      "execution_count": null,
      "id": "5f7757e8",
      "metadata": {
        "id": "5f7757e8"
      },
      "outputs": [],
      "source": [
        "DataFrame4.set_index(\"employeeno\",inplace=True)  #modifying the DataFrame4"
      ]
    },
    {
      "cell_type": "code",
      "execution_count": null,
      "id": "0dc13e1b",
      "metadata": {
        "id": "0dc13e1b",
        "outputId": "86b474c2-373d-4dc8-d771-7d82ff71a553"
      },
      "outputs": [
        {
          "data": {
            "text/html": [
              "<div>\n",
              "<style scoped>\n",
              "    .dataframe tbody tr th:only-of-type {\n",
              "        vertical-align: middle;\n",
              "    }\n",
              "\n",
              "    .dataframe tbody tr th {\n",
              "        vertical-align: top;\n",
              "    }\n",
              "\n",
              "    .dataframe thead th {\n",
              "        text-align: right;\n",
              "    }\n",
              "</style>\n",
              "<table border=\"1\" class=\"dataframe\">\n",
              "  <thead>\n",
              "    <tr style=\"text-align: right;\">\n",
              "      <th></th>\n",
              "      <th>name</th>\n",
              "      <th>salary</th>\n",
              "      <th>deptno</th>\n",
              "      <th>designation</th>\n",
              "    </tr>\n",
              "    <tr>\n",
              "      <th>employeeno</th>\n",
              "      <th></th>\n",
              "      <th></th>\n",
              "      <th></th>\n",
              "      <th></th>\n",
              "    </tr>\n",
              "  </thead>\n",
              "  <tbody>\n",
              "    <tr>\n",
              "      <th>1</th>\n",
              "      <td>Robbin</td>\n",
              "      <td>100000</td>\n",
              "      <td>101</td>\n",
              "      <td>Emp01</td>\n",
              "    </tr>\n",
              "    <tr>\n",
              "      <th>2</th>\n",
              "      <td>Shawn</td>\n",
              "      <td>150000</td>\n",
              "      <td>102</td>\n",
              "      <td>Manager01</td>\n",
              "    </tr>\n",
              "    <tr>\n",
              "      <th>3</th>\n",
              "      <td>Tom</td>\n",
              "      <td>100000</td>\n",
              "      <td>101</td>\n",
              "      <td>Emp03</td>\n",
              "    </tr>\n",
              "    <tr>\n",
              "      <th>4</th>\n",
              "      <td>Peter</td>\n",
              "      <td>175000</td>\n",
              "      <td>102</td>\n",
              "      <td>Manager02</td>\n",
              "    </tr>\n",
              "    <tr>\n",
              "      <th>5</th>\n",
              "      <td>Mike</td>\n",
              "      <td>2000000</td>\n",
              "      <td>101</td>\n",
              "      <td>CEO</td>\n",
              "    </tr>\n",
              "  </tbody>\n",
              "</table>\n",
              "</div>"
            ],
            "text/plain": [
              "              name   salary deptno designation\n",
              "employeeno                                    \n",
              "1           Robbin   100000    101       Emp01\n",
              "2            Shawn   150000    102   Manager01\n",
              "3              Tom   100000    101       Emp03\n",
              "4            Peter   175000    102   Manager02\n",
              "5             Mike  2000000    101         CEO"
            ]
          },
          "execution_count": 19,
          "metadata": {},
          "output_type": "execute_result"
        }
      ],
      "source": [
        "DataFrame4  #displaying the DataFrame4"
      ]
    },
    {
      "cell_type": "markdown",
      "id": "246d00cd",
      "metadata": {
        "id": "246d00cd"
      },
      "source": [
        "### In DataFrame3 created in Q.No. 5, find the salesmen whose sales are greater than 7000 in region1 but less than 3000 in region2"
      ]
    },
    {
      "cell_type": "code",
      "execution_count": null,
      "id": "2151a3f3",
      "metadata": {
        "id": "2151a3f3",
        "outputId": "38b912e2-76bb-42f3-d66d-4139bb73c720"
      },
      "outputs": [
        {
          "data": {
            "text/html": [
              "<div>\n",
              "<style scoped>\n",
              "    .dataframe tbody tr th:only-of-type {\n",
              "        vertical-align: middle;\n",
              "    }\n",
              "\n",
              "    .dataframe tbody tr th {\n",
              "        vertical-align: top;\n",
              "    }\n",
              "\n",
              "    .dataframe thead th {\n",
              "        text-align: right;\n",
              "    }\n",
              "</style>\n",
              "<table border=\"1\" class=\"dataframe\">\n",
              "  <thead>\n",
              "    <tr style=\"text-align: right;\">\n",
              "      <th></th>\n",
              "      <th>Name</th>\n",
              "      <th>Region_01</th>\n",
              "      <th>Region_02</th>\n",
              "      <th>Region_03</th>\n",
              "    </tr>\n",
              "  </thead>\n",
              "  <tbody>\n",
              "    <tr>\n",
              "      <th>0</th>\n",
              "      <td>Dinesh</td>\n",
              "      <td>7800</td>\n",
              "      <td>6500.0</td>\n",
              "      <td>4590</td>\n",
              "    </tr>\n",
              "    <tr>\n",
              "      <th>1</th>\n",
              "      <td>Mahesh</td>\n",
              "      <td>8900</td>\n",
              "      <td>NaN</td>\n",
              "      <td>3790</td>\n",
              "    </tr>\n",
              "    <tr>\n",
              "      <th>2</th>\n",
              "      <td>Ramesh</td>\n",
              "      <td>10800</td>\n",
              "      <td>NaN</td>\n",
              "      <td>2300</td>\n",
              "    </tr>\n",
              "    <tr>\n",
              "      <th>3</th>\n",
              "      <td>Suresh</td>\n",
              "      <td>5600</td>\n",
              "      <td>6790.0</td>\n",
              "      <td>2300</td>\n",
              "    </tr>\n",
              "    <tr>\n",
              "      <th>4</th>\n",
              "      <td>Basha</td>\n",
              "      <td>7600</td>\n",
              "      <td>2300.0</td>\n",
              "      <td>2400</td>\n",
              "    </tr>\n",
              "  </tbody>\n",
              "</table>\n",
              "</div>"
            ],
            "text/plain": [
              "     Name  Region_01  Region_02  Region_03\n",
              "0  Dinesh       7800     6500.0       4590\n",
              "1  Mahesh       8900        NaN       3790\n",
              "2  Ramesh      10800        NaN       2300\n",
              "3  Suresh       5600     6790.0       2300\n",
              "4   Basha       7600     2300.0       2400"
            ]
          },
          "execution_count": 20,
          "metadata": {},
          "output_type": "execute_result"
        }
      ],
      "source": [
        "DataFrame3  #displaying the DataFrame4"
      ]
    },
    {
      "cell_type": "code",
      "execution_count": null,
      "id": "c78b5fab",
      "metadata": {
        "id": "c78b5fab",
        "outputId": "8ea8fb47-1448-4cf3-dda8-7b4351f93001"
      },
      "outputs": [
        {
          "data": {
            "text/html": [
              "<div>\n",
              "<style scoped>\n",
              "    .dataframe tbody tr th:only-of-type {\n",
              "        vertical-align: middle;\n",
              "    }\n",
              "\n",
              "    .dataframe tbody tr th {\n",
              "        vertical-align: top;\n",
              "    }\n",
              "\n",
              "    .dataframe thead th {\n",
              "        text-align: right;\n",
              "    }\n",
              "</style>\n",
              "<table border=\"1\" class=\"dataframe\">\n",
              "  <thead>\n",
              "    <tr style=\"text-align: right;\">\n",
              "      <th></th>\n",
              "      <th>Name</th>\n",
              "      <th>Region_01</th>\n",
              "      <th>Region_02</th>\n",
              "      <th>Region_03</th>\n",
              "    </tr>\n",
              "  </thead>\n",
              "  <tbody>\n",
              "    <tr>\n",
              "      <th>4</th>\n",
              "      <td>Basha</td>\n",
              "      <td>7600</td>\n",
              "      <td>2300.0</td>\n",
              "      <td>2400</td>\n",
              "    </tr>\n",
              "  </tbody>\n",
              "</table>\n",
              "</div>"
            ],
            "text/plain": [
              "    Name  Region_01  Region_02  Region_03\n",
              "4  Basha       7600     2300.0       2400"
            ]
          },
          "execution_count": 21,
          "metadata": {},
          "output_type": "execute_result"
        }
      ],
      "source": [
        "DataFrame3[(DataFrame3[\"Region_01\"]>7000) & (DataFrame3[\"Region_02\"]<3000)]  #displaying the required values from the DataFrame4, which meet the given condition"
      ]
    },
    {
      "cell_type": "markdown",
      "id": "6c86d378",
      "metadata": {
        "id": "6c86d378"
      },
      "source": [
        "### In DataFrame1 created in Q. No. 1, find the employees with the highest salary in each department. Use the group by clause and the max() function. Similarly, in DataFrame3 created in Q. No. 5, find the salesman with the highest amount of sales for each region."
      ]
    },
    {
      "cell_type": "code",
      "execution_count": null,
      "id": "b2a9ea34",
      "metadata": {
        "id": "b2a9ea34",
        "outputId": "6939b595-5f5d-480b-d961-ecbf4fde3a51"
      },
      "outputs": [
        {
          "data": {
            "text/html": [
              "<div>\n",
              "<style scoped>\n",
              "    .dataframe tbody tr th:only-of-type {\n",
              "        vertical-align: middle;\n",
              "    }\n",
              "\n",
              "    .dataframe tbody tr th {\n",
              "        vertical-align: top;\n",
              "    }\n",
              "\n",
              "    .dataframe thead th {\n",
              "        text-align: right;\n",
              "    }\n",
              "</style>\n",
              "<table border=\"1\" class=\"dataframe\">\n",
              "  <thead>\n",
              "    <tr style=\"text-align: right;\">\n",
              "      <th></th>\n",
              "      <th>name</th>\n",
              "      <th>salary</th>\n",
              "      <th>deptno</th>\n",
              "      <th>designation</th>\n",
              "    </tr>\n",
              "    <tr>\n",
              "      <th>employeeno</th>\n",
              "      <th></th>\n",
              "      <th></th>\n",
              "      <th></th>\n",
              "      <th></th>\n",
              "    </tr>\n",
              "  </thead>\n",
              "  <tbody>\n",
              "    <tr>\n",
              "      <th>1</th>\n",
              "      <td>Robbin</td>\n",
              "      <td>100000</td>\n",
              "      <td>101</td>\n",
              "      <td>Emp01</td>\n",
              "    </tr>\n",
              "    <tr>\n",
              "      <th>2</th>\n",
              "      <td>Shawn</td>\n",
              "      <td>150000</td>\n",
              "      <td>102</td>\n",
              "      <td>Manager01</td>\n",
              "    </tr>\n",
              "    <tr>\n",
              "      <th>3</th>\n",
              "      <td>Tom</td>\n",
              "      <td>100000</td>\n",
              "      <td>101</td>\n",
              "      <td>Emp03</td>\n",
              "    </tr>\n",
              "    <tr>\n",
              "      <th>4</th>\n",
              "      <td>Peter</td>\n",
              "      <td>175000</td>\n",
              "      <td>102</td>\n",
              "      <td>Manager02</td>\n",
              "    </tr>\n",
              "    <tr>\n",
              "      <th>5</th>\n",
              "      <td>Mike</td>\n",
              "      <td>2000000</td>\n",
              "      <td>101</td>\n",
              "      <td>CEO</td>\n",
              "    </tr>\n",
              "  </tbody>\n",
              "</table>\n",
              "</div>"
            ],
            "text/plain": [
              "              name   salary deptno designation\n",
              "employeeno                                    \n",
              "1           Robbin   100000    101       Emp01\n",
              "2            Shawn   150000    102   Manager01\n",
              "3              Tom   100000    101       Emp03\n",
              "4            Peter   175000    102   Manager02\n",
              "5             Mike  2000000    101         CEO"
            ]
          },
          "execution_count": 22,
          "metadata": {},
          "output_type": "execute_result"
        }
      ],
      "source": [
        "DataFrame1  #displaying the DataFrame1"
      ]
    },
    {
      "cell_type": "code",
      "execution_count": null,
      "id": "a4658ec2",
      "metadata": {
        "id": "a4658ec2",
        "outputId": "c16f7435-5686-47a1-bd25-78644314ecea"
      },
      "outputs": [
        {
          "data": {
            "text/html": [
              "<div>\n",
              "<style scoped>\n",
              "    .dataframe tbody tr th:only-of-type {\n",
              "        vertical-align: middle;\n",
              "    }\n",
              "\n",
              "    .dataframe tbody tr th {\n",
              "        vertical-align: top;\n",
              "    }\n",
              "\n",
              "    .dataframe thead th {\n",
              "        text-align: right;\n",
              "    }\n",
              "</style>\n",
              "<table border=\"1\" class=\"dataframe\">\n",
              "  <thead>\n",
              "    <tr style=\"text-align: right;\">\n",
              "      <th></th>\n",
              "      <th>name</th>\n",
              "      <th>salary</th>\n",
              "      <th>designation</th>\n",
              "    </tr>\n",
              "    <tr>\n",
              "      <th>deptno</th>\n",
              "      <th></th>\n",
              "      <th></th>\n",
              "      <th></th>\n",
              "    </tr>\n",
              "  </thead>\n",
              "  <tbody>\n",
              "    <tr>\n",
              "      <th>101</th>\n",
              "      <td>Tom</td>\n",
              "      <td>2000000</td>\n",
              "      <td>Emp03</td>\n",
              "    </tr>\n",
              "    <tr>\n",
              "      <th>102</th>\n",
              "      <td>Shawn</td>\n",
              "      <td>175000</td>\n",
              "      <td>Manager02</td>\n",
              "    </tr>\n",
              "  </tbody>\n",
              "</table>\n",
              "</div>"
            ],
            "text/plain": [
              "         name   salary designation\n",
              "deptno                            \n",
              "101       Tom  2000000       Emp03\n",
              "102     Shawn   175000   Manager02"
            ]
          },
          "execution_count": 23,
          "metadata": {},
          "output_type": "execute_result"
        }
      ],
      "source": [
        "DataFrame1.groupby([\"deptno\"]).max()"
      ]
    },
    {
      "cell_type": "code",
      "execution_count": null,
      "id": "b6b4cc88",
      "metadata": {
        "id": "b6b4cc88",
        "outputId": "722e759d-649e-4c05-f94e-df4e2fb49598"
      },
      "outputs": [
        {
          "data": {
            "text/html": [
              "<div>\n",
              "<style scoped>\n",
              "    .dataframe tbody tr th:only-of-type {\n",
              "        vertical-align: middle;\n",
              "    }\n",
              "\n",
              "    .dataframe tbody tr th {\n",
              "        vertical-align: top;\n",
              "    }\n",
              "\n",
              "    .dataframe thead th {\n",
              "        text-align: right;\n",
              "    }\n",
              "</style>\n",
              "<table border=\"1\" class=\"dataframe\">\n",
              "  <thead>\n",
              "    <tr style=\"text-align: right;\">\n",
              "      <th></th>\n",
              "      <th>Name</th>\n",
              "      <th>Region_01</th>\n",
              "      <th>Region_02</th>\n",
              "      <th>Region_03</th>\n",
              "    </tr>\n",
              "  </thead>\n",
              "  <tbody>\n",
              "    <tr>\n",
              "      <th>0</th>\n",
              "      <td>Dinesh</td>\n",
              "      <td>7800</td>\n",
              "      <td>6500.0</td>\n",
              "      <td>4590</td>\n",
              "    </tr>\n",
              "    <tr>\n",
              "      <th>1</th>\n",
              "      <td>Mahesh</td>\n",
              "      <td>8900</td>\n",
              "      <td>NaN</td>\n",
              "      <td>3790</td>\n",
              "    </tr>\n",
              "    <tr>\n",
              "      <th>2</th>\n",
              "      <td>Ramesh</td>\n",
              "      <td>10800</td>\n",
              "      <td>NaN</td>\n",
              "      <td>2300</td>\n",
              "    </tr>\n",
              "    <tr>\n",
              "      <th>3</th>\n",
              "      <td>Suresh</td>\n",
              "      <td>5600</td>\n",
              "      <td>6790.0</td>\n",
              "      <td>2300</td>\n",
              "    </tr>\n",
              "    <tr>\n",
              "      <th>4</th>\n",
              "      <td>Basha</td>\n",
              "      <td>7600</td>\n",
              "      <td>2300.0</td>\n",
              "      <td>2400</td>\n",
              "    </tr>\n",
              "  </tbody>\n",
              "</table>\n",
              "</div>"
            ],
            "text/plain": [
              "     Name  Region_01  Region_02  Region_03\n",
              "0  Dinesh       7800     6500.0       4590\n",
              "1  Mahesh       8900        NaN       3790\n",
              "2  Ramesh      10800        NaN       2300\n",
              "3  Suresh       5600     6790.0       2300\n",
              "4   Basha       7600     2300.0       2400"
            ]
          },
          "execution_count": 24,
          "metadata": {},
          "output_type": "execute_result"
        }
      ],
      "source": [
        "DataFrame3  #displaying the DataFrame3"
      ]
    },
    {
      "cell_type": "code",
      "execution_count": null,
      "id": "321de88a",
      "metadata": {
        "id": "321de88a",
        "outputId": "a7b61f5a-f33d-4a3b-f6cb-aca7833f27a9"
      },
      "outputs": [
        {
          "data": {
            "text/plain": [
              "Region_01    10800.0\n",
              "Region_02     6790.0\n",
              "Region_03     4590.0\n",
              "dtype: float64"
            ]
          },
          "execution_count": 25,
          "metadata": {},
          "output_type": "execute_result"
        }
      ],
      "source": [
        "DataFrame3.groupby([\"Name\"]).sum().max()"
      ]
    },
    {
      "cell_type": "markdown",
      "id": "6af3f098",
      "metadata": {
        "id": "6af3f098"
      },
      "source": [
        "### In DataFrame1 created in Q. No. 1, add a new column called Address. In this new column, set the value as ‘Chennai’ for all the existing rows"
      ]
    },
    {
      "cell_type": "code",
      "execution_count": null,
      "id": "a7ffab05",
      "metadata": {
        "id": "a7ffab05",
        "outputId": "4cce4642-9e50-4acb-a7d9-39e73c6c725e"
      },
      "outputs": [
        {
          "data": {
            "text/html": [
              "<div>\n",
              "<style scoped>\n",
              "    .dataframe tbody tr th:only-of-type {\n",
              "        vertical-align: middle;\n",
              "    }\n",
              "\n",
              "    .dataframe tbody tr th {\n",
              "        vertical-align: top;\n",
              "    }\n",
              "\n",
              "    .dataframe thead th {\n",
              "        text-align: right;\n",
              "    }\n",
              "</style>\n",
              "<table border=\"1\" class=\"dataframe\">\n",
              "  <thead>\n",
              "    <tr style=\"text-align: right;\">\n",
              "      <th></th>\n",
              "      <th>name</th>\n",
              "      <th>salary</th>\n",
              "      <th>deptno</th>\n",
              "      <th>designation</th>\n",
              "    </tr>\n",
              "    <tr>\n",
              "      <th>employeeno</th>\n",
              "      <th></th>\n",
              "      <th></th>\n",
              "      <th></th>\n",
              "      <th></th>\n",
              "    </tr>\n",
              "  </thead>\n",
              "  <tbody>\n",
              "    <tr>\n",
              "      <th>1</th>\n",
              "      <td>Robbin</td>\n",
              "      <td>100000</td>\n",
              "      <td>101</td>\n",
              "      <td>Emp01</td>\n",
              "    </tr>\n",
              "    <tr>\n",
              "      <th>2</th>\n",
              "      <td>Shawn</td>\n",
              "      <td>150000</td>\n",
              "      <td>102</td>\n",
              "      <td>Manager01</td>\n",
              "    </tr>\n",
              "    <tr>\n",
              "      <th>3</th>\n",
              "      <td>Tom</td>\n",
              "      <td>100000</td>\n",
              "      <td>101</td>\n",
              "      <td>Emp03</td>\n",
              "    </tr>\n",
              "    <tr>\n",
              "      <th>4</th>\n",
              "      <td>Peter</td>\n",
              "      <td>175000</td>\n",
              "      <td>102</td>\n",
              "      <td>Manager02</td>\n",
              "    </tr>\n",
              "    <tr>\n",
              "      <th>5</th>\n",
              "      <td>Mike</td>\n",
              "      <td>2000000</td>\n",
              "      <td>101</td>\n",
              "      <td>CEO</td>\n",
              "    </tr>\n",
              "  </tbody>\n",
              "</table>\n",
              "</div>"
            ],
            "text/plain": [
              "              name   salary deptno designation\n",
              "employeeno                                    \n",
              "1           Robbin   100000    101       Emp01\n",
              "2            Shawn   150000    102   Manager01\n",
              "3              Tom   100000    101       Emp03\n",
              "4            Peter   175000    102   Manager02\n",
              "5             Mike  2000000    101         CEO"
            ]
          },
          "execution_count": 26,
          "metadata": {},
          "output_type": "execute_result"
        }
      ],
      "source": [
        "DataFrame1  #displaying the DataFrame1"
      ]
    },
    {
      "cell_type": "code",
      "execution_count": null,
      "id": "714875fd",
      "metadata": {
        "id": "714875fd"
      },
      "outputs": [],
      "source": [
        "DataFrame1[\"Address\"]=DataFrame1.shape[0]*[\"Chennai\"]  #modifying the DataFrame1 according to the condition"
      ]
    },
    {
      "cell_type": "code",
      "execution_count": null,
      "id": "494f77a2",
      "metadata": {
        "id": "494f77a2",
        "outputId": "e2fb658f-e468-480e-8bb5-ac69e553b788"
      },
      "outputs": [
        {
          "data": {
            "text/html": [
              "<div>\n",
              "<style scoped>\n",
              "    .dataframe tbody tr th:only-of-type {\n",
              "        vertical-align: middle;\n",
              "    }\n",
              "\n",
              "    .dataframe tbody tr th {\n",
              "        vertical-align: top;\n",
              "    }\n",
              "\n",
              "    .dataframe thead th {\n",
              "        text-align: right;\n",
              "    }\n",
              "</style>\n",
              "<table border=\"1\" class=\"dataframe\">\n",
              "  <thead>\n",
              "    <tr style=\"text-align: right;\">\n",
              "      <th></th>\n",
              "      <th>name</th>\n",
              "      <th>salary</th>\n",
              "      <th>deptno</th>\n",
              "      <th>designation</th>\n",
              "      <th>Address</th>\n",
              "    </tr>\n",
              "    <tr>\n",
              "      <th>employeeno</th>\n",
              "      <th></th>\n",
              "      <th></th>\n",
              "      <th></th>\n",
              "      <th></th>\n",
              "      <th></th>\n",
              "    </tr>\n",
              "  </thead>\n",
              "  <tbody>\n",
              "    <tr>\n",
              "      <th>1</th>\n",
              "      <td>Robbin</td>\n",
              "      <td>100000</td>\n",
              "      <td>101</td>\n",
              "      <td>Emp01</td>\n",
              "      <td>Chennai</td>\n",
              "    </tr>\n",
              "    <tr>\n",
              "      <th>2</th>\n",
              "      <td>Shawn</td>\n",
              "      <td>150000</td>\n",
              "      <td>102</td>\n",
              "      <td>Manager01</td>\n",
              "      <td>Chennai</td>\n",
              "    </tr>\n",
              "    <tr>\n",
              "      <th>3</th>\n",
              "      <td>Tom</td>\n",
              "      <td>100000</td>\n",
              "      <td>101</td>\n",
              "      <td>Emp03</td>\n",
              "      <td>Chennai</td>\n",
              "    </tr>\n",
              "    <tr>\n",
              "      <th>4</th>\n",
              "      <td>Peter</td>\n",
              "      <td>175000</td>\n",
              "      <td>102</td>\n",
              "      <td>Manager02</td>\n",
              "      <td>Chennai</td>\n",
              "    </tr>\n",
              "    <tr>\n",
              "      <th>5</th>\n",
              "      <td>Mike</td>\n",
              "      <td>2000000</td>\n",
              "      <td>101</td>\n",
              "      <td>CEO</td>\n",
              "      <td>Chennai</td>\n",
              "    </tr>\n",
              "  </tbody>\n",
              "</table>\n",
              "</div>"
            ],
            "text/plain": [
              "              name   salary deptno designation  Address\n",
              "employeeno                                             \n",
              "1           Robbin   100000    101       Emp01  Chennai\n",
              "2            Shawn   150000    102   Manager01  Chennai\n",
              "3              Tom   100000    101       Emp03  Chennai\n",
              "4            Peter   175000    102   Manager02  Chennai\n",
              "5             Mike  2000000    101         CEO  Chennai"
            ]
          },
          "execution_count": 50,
          "metadata": {},
          "output_type": "execute_result"
        }
      ],
      "source": [
        "DataFrame1  #displaying the modified DataFrame1"
      ]
    },
    {
      "cell_type": "markdown",
      "id": "227258fd",
      "metadata": {
        "id": "227258fd"
      },
      "source": [
        "### Create a line graph and bar chart to visualize the two data frames, DataFrame1 and DataFrame3."
      ]
    },
    {
      "cell_type": "code",
      "execution_count": null,
      "id": "d46346c9",
      "metadata": {
        "id": "d46346c9",
        "outputId": "b6cbea68-17a7-4357-857b-c4f0d2b1546f"
      },
      "outputs": [
        {
          "data": {
            "text/html": [
              "<div>\n",
              "<style scoped>\n",
              "    .dataframe tbody tr th:only-of-type {\n",
              "        vertical-align: middle;\n",
              "    }\n",
              "\n",
              "    .dataframe tbody tr th {\n",
              "        vertical-align: top;\n",
              "    }\n",
              "\n",
              "    .dataframe thead th {\n",
              "        text-align: right;\n",
              "    }\n",
              "</style>\n",
              "<table border=\"1\" class=\"dataframe\">\n",
              "  <thead>\n",
              "    <tr style=\"text-align: right;\">\n",
              "      <th></th>\n",
              "      <th>name</th>\n",
              "      <th>salary</th>\n",
              "      <th>deptno</th>\n",
              "      <th>designation</th>\n",
              "    </tr>\n",
              "    <tr>\n",
              "      <th>employeeno</th>\n",
              "      <th></th>\n",
              "      <th></th>\n",
              "      <th></th>\n",
              "      <th></th>\n",
              "    </tr>\n",
              "  </thead>\n",
              "  <tbody>\n",
              "    <tr>\n",
              "      <th>1</th>\n",
              "      <td>Robbin</td>\n",
              "      <td>100000</td>\n",
              "      <td>101</td>\n",
              "      <td>Emp01</td>\n",
              "    </tr>\n",
              "    <tr>\n",
              "      <th>2</th>\n",
              "      <td>Shawn</td>\n",
              "      <td>150000</td>\n",
              "      <td>102</td>\n",
              "      <td>Manager01</td>\n",
              "    </tr>\n",
              "    <tr>\n",
              "      <th>3</th>\n",
              "      <td>Tom</td>\n",
              "      <td>100000</td>\n",
              "      <td>101</td>\n",
              "      <td>Emp03</td>\n",
              "    </tr>\n",
              "    <tr>\n",
              "      <th>4</th>\n",
              "      <td>Peter</td>\n",
              "      <td>175000</td>\n",
              "      <td>102</td>\n",
              "      <td>Manager02</td>\n",
              "    </tr>\n",
              "    <tr>\n",
              "      <th>5</th>\n",
              "      <td>Mike</td>\n",
              "      <td>2000000</td>\n",
              "      <td>101</td>\n",
              "      <td>CEO</td>\n",
              "    </tr>\n",
              "  </tbody>\n",
              "</table>\n",
              "</div>"
            ],
            "text/plain": [
              "              name   salary deptno designation\n",
              "employeeno                                    \n",
              "1           Robbin   100000    101       Emp01\n",
              "2            Shawn   150000    102   Manager01\n",
              "3              Tom   100000    101       Emp03\n",
              "4            Peter   175000    102   Manager02\n",
              "5             Mike  2000000    101         CEO"
            ]
          },
          "execution_count": 34,
          "metadata": {},
          "output_type": "execute_result"
        }
      ],
      "source": [
        "DataFrame1 #displaying the DataFrame1"
      ]
    },
    {
      "cell_type": "code",
      "execution_count": null,
      "id": "35c84737",
      "metadata": {
        "id": "35c84737",
        "outputId": "e301d93b-c346-4289-eecd-db220aeffd30"
      },
      "outputs": [
        {
          "data": {
            "text/plain": [
              "<Axes: xlabel='employeeno', ylabel='salary in LPA'>"
            ]
          },
          "execution_count": 36,
          "metadata": {},
          "output_type": "execute_result"
        },
        {
          "data": {
            "image/png": "[encoded data removed]",
            "text/plain": [
              "<Figure size 640x480 with 1 Axes>"
            ]
          },
          "metadata": {},
          "output_type": "display_data"
        }
      ],
      "source": [
        "DataFrame1.plot.line(xlabel=\"employeeno\",ylabel=\"salary in LPA\")"
      ]
    },
    {
      "cell_type": "code",
      "execution_count": null,
      "id": "3e7f9010",
      "metadata": {
        "id": "3e7f9010",
        "outputId": "4209ddfd-d26d-4f4b-adee-ba3874c96255"
      },
      "outputs": [
        {
          "data": {
            "text/html": [
              "<div>\n",
              "<style scoped>\n",
              "    .dataframe tbody tr th:only-of-type {\n",
              "        vertical-align: middle;\n",
              "    }\n",
              "\n",
              "    .dataframe tbody tr th {\n",
              "        vertical-align: top;\n",
              "    }\n",
              "\n",
              "    .dataframe thead th {\n",
              "        text-align: right;\n",
              "    }\n",
              "</style>\n",
              "<table border=\"1\" class=\"dataframe\">\n",
              "  <thead>\n",
              "    <tr style=\"text-align: right;\">\n",
              "      <th></th>\n",
              "      <th>Name</th>\n",
              "      <th>Region_01</th>\n",
              "      <th>Region_02</th>\n",
              "      <th>Region_03</th>\n",
              "    </tr>\n",
              "  </thead>\n",
              "  <tbody>\n",
              "    <tr>\n",
              "      <th>0</th>\n",
              "      <td>Dinesh</td>\n",
              "      <td>7800</td>\n",
              "      <td>6500.0</td>\n",
              "      <td>4590</td>\n",
              "    </tr>\n",
              "    <tr>\n",
              "      <th>1</th>\n",
              "      <td>Mahesh</td>\n",
              "      <td>8900</td>\n",
              "      <td>NaN</td>\n",
              "      <td>3790</td>\n",
              "    </tr>\n",
              "    <tr>\n",
              "      <th>2</th>\n",
              "      <td>Ramesh</td>\n",
              "      <td>10800</td>\n",
              "      <td>NaN</td>\n",
              "      <td>2300</td>\n",
              "    </tr>\n",
              "    <tr>\n",
              "      <th>3</th>\n",
              "      <td>Suresh</td>\n",
              "      <td>5600</td>\n",
              "      <td>6790.0</td>\n",
              "      <td>2300</td>\n",
              "    </tr>\n",
              "    <tr>\n",
              "      <th>4</th>\n",
              "      <td>Basha</td>\n",
              "      <td>7600</td>\n",
              "      <td>2300.0</td>\n",
              "      <td>2400</td>\n",
              "    </tr>\n",
              "  </tbody>\n",
              "</table>\n",
              "</div>"
            ],
            "text/plain": [
              "     Name  Region_01  Region_02  Region_03\n",
              "0  Dinesh       7800     6500.0       4590\n",
              "1  Mahesh       8900        NaN       3790\n",
              "2  Ramesh      10800        NaN       2300\n",
              "3  Suresh       5600     6790.0       2300\n",
              "4   Basha       7600     2300.0       2400"
            ]
          },
          "execution_count": 29,
          "metadata": {},
          "output_type": "execute_result"
        }
      ],
      "source": [
        "DataFrame3  #displaying the DataFrame3"
      ]
    },
    {
      "cell_type": "code",
      "execution_count": null,
      "id": "51ffd545",
      "metadata": {
        "id": "51ffd545",
        "outputId": "768f8aa8-c5b2-4d75-a0fb-7e7804a4b40e"
      },
      "outputs": [
        {
          "data": {
            "text/plain": [
              "<Axes: >"
            ]
          },
          "execution_count": 30,
          "metadata": {},
          "output_type": "execute_result"
        },
        {
          "data": {
            "image/png": "[encoded data removed]",
            "text/plain": [
              "<Figure size 640x480 with 1 Axes>"
            ]
          },
          "metadata": {},
          "output_type": "display_data"
        }
      ],
      "source": [
        "DataFrame3.plot.bar()"
      ]
    },
    {
      "cell_type": "code",
      "execution_count": null,
      "id": "38d2e737",
      "metadata": {
        "id": "38d2e737"
      },
      "outputs": [],
      "source": []
    }
  ],
  "metadata": {
    "kernelspec": {
      "display_name": "Python 3 (ipykernel)",
      "language": "python",
      "name": "python3"
    },
    "language_info": {
      "codemirror_mode": {
        "name": "ipython",
        "version": 3
      },
      "file_extension": ".py",
      "mimetype": "text/x-python",
      "name": "python",
      "nbconvert_exporter": "python",
      "pygments_lexer": "ipython3",
      "version": "3.11.4"
    },
    "colab": {
      "provenance": [],
      "include_colab_link": true
    }
  },
  "nbformat": 4,
  "nbformat_minor": 5
}